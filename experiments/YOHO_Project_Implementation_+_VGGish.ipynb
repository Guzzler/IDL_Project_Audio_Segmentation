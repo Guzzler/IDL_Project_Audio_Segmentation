{
  "cells": [
    {
      "cell_type": "markdown",
      "metadata": {
        "id": "view-in-github",
        "colab_type": "text"
      },
      "source": [
        "<a href=\"https://colab.research.google.com/github/Guzzler/IDL_Project_Audio_Segmentation/blob/main/YOHO_Project_Implementation_%2B_VGGish.ipynb\" target=\"_parent\"><img src=\"https://colab.research.google.com/assets/colab-badge.svg\" alt=\"Open In Colab\"/></a>"
      ]
    },
    {
      "cell_type": "markdown",
      "metadata": {
        "id": "iB1i1GWBHMtA"
      },
      "source": [
        "# Initial Imports\n"
      ]
    },
    {
      "cell_type": "code",
      "source": [
        "from google.colab import drive\n",
        "drive.mount('/content/drive')"
      ],
      "metadata": {
        "colab": {
          "base_uri": "https://localhost:8080/",
          "height": 341
        },
        "id": "_CSqWPPeztGB",
        "outputId": "dd284b1e-55fd-4e46-d800-df4d5e6f485d"
      },
      "execution_count": null,
      "outputs": [
        {
          "output_type": "error",
          "ename": "MessageError",
          "evalue": "ignored",
          "traceback": [
            "\u001b[0;31m---------------------------------------------------------------------------\u001b[0m",
            "\u001b[0;31mMessageError\u001b[0m                              Traceback (most recent call last)",
            "\u001b[0;32m<ipython-input-2-d5df0069828e>\u001b[0m in \u001b[0;36m<cell line: 2>\u001b[0;34m()\u001b[0m\n\u001b[1;32m      1\u001b[0m \u001b[0;32mfrom\u001b[0m \u001b[0mgoogle\u001b[0m\u001b[0;34m.\u001b[0m\u001b[0mcolab\u001b[0m \u001b[0;32mimport\u001b[0m \u001b[0mdrive\u001b[0m\u001b[0;34m\u001b[0m\u001b[0;34m\u001b[0m\u001b[0m\n\u001b[0;32m----> 2\u001b[0;31m \u001b[0mdrive\u001b[0m\u001b[0;34m.\u001b[0m\u001b[0mmount\u001b[0m\u001b[0;34m(\u001b[0m\u001b[0;34m'/content/drive'\u001b[0m\u001b[0;34m)\u001b[0m\u001b[0;34m\u001b[0m\u001b[0;34m\u001b[0m\u001b[0m\n\u001b[0m",
            "\u001b[0;32m/usr/local/lib/python3.10/dist-packages/google/colab/drive.py\u001b[0m in \u001b[0;36mmount\u001b[0;34m(mountpoint, force_remount, timeout_ms, readonly)\u001b[0m\n\u001b[1;32m    101\u001b[0m \u001b[0;32mdef\u001b[0m \u001b[0mmount\u001b[0m\u001b[0;34m(\u001b[0m\u001b[0mmountpoint\u001b[0m\u001b[0;34m,\u001b[0m \u001b[0mforce_remount\u001b[0m\u001b[0;34m=\u001b[0m\u001b[0;32mFalse\u001b[0m\u001b[0;34m,\u001b[0m \u001b[0mtimeout_ms\u001b[0m\u001b[0;34m=\u001b[0m\u001b[0;36m120000\u001b[0m\u001b[0;34m,\u001b[0m \u001b[0mreadonly\u001b[0m\u001b[0;34m=\u001b[0m\u001b[0;32mFalse\u001b[0m\u001b[0;34m)\u001b[0m\u001b[0;34m:\u001b[0m\u001b[0;34m\u001b[0m\u001b[0;34m\u001b[0m\u001b[0m\n\u001b[1;32m    102\u001b[0m   \u001b[0;34m\"\"\"Mount your Google Drive at the specified mountpoint path.\"\"\"\u001b[0m\u001b[0;34m\u001b[0m\u001b[0;34m\u001b[0m\u001b[0m\n\u001b[0;32m--> 103\u001b[0;31m   return _mount(\n\u001b[0m\u001b[1;32m    104\u001b[0m       \u001b[0mmountpoint\u001b[0m\u001b[0;34m,\u001b[0m\u001b[0;34m\u001b[0m\u001b[0;34m\u001b[0m\u001b[0m\n\u001b[1;32m    105\u001b[0m       \u001b[0mforce_remount\u001b[0m\u001b[0;34m=\u001b[0m\u001b[0mforce_remount\u001b[0m\u001b[0;34m,\u001b[0m\u001b[0;34m\u001b[0m\u001b[0;34m\u001b[0m\u001b[0m\n",
            "\u001b[0;32m/usr/local/lib/python3.10/dist-packages/google/colab/drive.py\u001b[0m in \u001b[0;36m_mount\u001b[0;34m(mountpoint, force_remount, timeout_ms, ephemeral, readonly)\u001b[0m\n\u001b[1;32m    130\u001b[0m   )\n\u001b[1;32m    131\u001b[0m   \u001b[0;32mif\u001b[0m \u001b[0mephemeral\u001b[0m\u001b[0;34m:\u001b[0m\u001b[0;34m\u001b[0m\u001b[0;34m\u001b[0m\u001b[0m\n\u001b[0;32m--> 132\u001b[0;31m     _message.blocking_request(\n\u001b[0m\u001b[1;32m    133\u001b[0m         \u001b[0;34m'request_auth'\u001b[0m\u001b[0;34m,\u001b[0m \u001b[0mrequest\u001b[0m\u001b[0;34m=\u001b[0m\u001b[0;34m{\u001b[0m\u001b[0;34m'authType'\u001b[0m\u001b[0;34m:\u001b[0m \u001b[0;34m'dfs_ephemeral'\u001b[0m\u001b[0;34m}\u001b[0m\u001b[0;34m,\u001b[0m \u001b[0mtimeout_sec\u001b[0m\u001b[0;34m=\u001b[0m\u001b[0;32mNone\u001b[0m\u001b[0;34m\u001b[0m\u001b[0;34m\u001b[0m\u001b[0m\n\u001b[1;32m    134\u001b[0m     )\n",
            "\u001b[0;32m/usr/local/lib/python3.10/dist-packages/google/colab/_message.py\u001b[0m in \u001b[0;36mblocking_request\u001b[0;34m(request_type, request, timeout_sec, parent)\u001b[0m\n\u001b[1;32m    174\u001b[0m       \u001b[0mrequest_type\u001b[0m\u001b[0;34m,\u001b[0m \u001b[0mrequest\u001b[0m\u001b[0;34m,\u001b[0m \u001b[0mparent\u001b[0m\u001b[0;34m=\u001b[0m\u001b[0mparent\u001b[0m\u001b[0;34m,\u001b[0m \u001b[0mexpect_reply\u001b[0m\u001b[0;34m=\u001b[0m\u001b[0;32mTrue\u001b[0m\u001b[0;34m\u001b[0m\u001b[0;34m\u001b[0m\u001b[0m\n\u001b[1;32m    175\u001b[0m   )\n\u001b[0;32m--> 176\u001b[0;31m   \u001b[0;32mreturn\u001b[0m \u001b[0mread_reply_from_input\u001b[0m\u001b[0;34m(\u001b[0m\u001b[0mrequest_id\u001b[0m\u001b[0;34m,\u001b[0m \u001b[0mtimeout_sec\u001b[0m\u001b[0;34m)\u001b[0m\u001b[0;34m\u001b[0m\u001b[0;34m\u001b[0m\u001b[0m\n\u001b[0m",
            "\u001b[0;32m/usr/local/lib/python3.10/dist-packages/google/colab/_message.py\u001b[0m in \u001b[0;36mread_reply_from_input\u001b[0;34m(message_id, timeout_sec)\u001b[0m\n\u001b[1;32m    101\u001b[0m     ):\n\u001b[1;32m    102\u001b[0m       \u001b[0;32mif\u001b[0m \u001b[0;34m'error'\u001b[0m \u001b[0;32min\u001b[0m \u001b[0mreply\u001b[0m\u001b[0;34m:\u001b[0m\u001b[0;34m\u001b[0m\u001b[0;34m\u001b[0m\u001b[0m\n\u001b[0;32m--> 103\u001b[0;31m         \u001b[0;32mraise\u001b[0m \u001b[0mMessageError\u001b[0m\u001b[0;34m(\u001b[0m\u001b[0mreply\u001b[0m\u001b[0;34m[\u001b[0m\u001b[0;34m'error'\u001b[0m\u001b[0;34m]\u001b[0m\u001b[0;34m)\u001b[0m\u001b[0;34m\u001b[0m\u001b[0;34m\u001b[0m\u001b[0m\n\u001b[0m\u001b[1;32m    104\u001b[0m       \u001b[0;32mreturn\u001b[0m \u001b[0mreply\u001b[0m\u001b[0;34m.\u001b[0m\u001b[0mget\u001b[0m\u001b[0;34m(\u001b[0m\u001b[0;34m'data'\u001b[0m\u001b[0;34m,\u001b[0m \u001b[0;32mNone\u001b[0m\u001b[0;34m)\u001b[0m\u001b[0;34m\u001b[0m\u001b[0;34m\u001b[0m\u001b[0m\n\u001b[1;32m    105\u001b[0m \u001b[0;34m\u001b[0m\u001b[0m\n",
            "\u001b[0;31mMessageError\u001b[0m: Error: credential propagation was unsuccessful"
          ]
        }
      ]
    },
    {
      "cell_type": "code",
      "execution_count": null,
      "metadata": {
        "id": "HJjOWmynluge",
        "colab": {
          "base_uri": "https://localhost:8080/"
        },
        "outputId": "632b842d-d079-4419-8273-d7976260809a"
      },
      "outputs": [
        {
          "output_type": "stream",
          "name": "stdout",
          "text": [
            "Reading package lists... Done\n",
            "Building dependency tree       \n",
            "Reading state information... Done\n",
            "sox is already the newest version (14.4.2+git20190427-2+deb11u2build0.20.04.1).\n",
            "0 upgraded, 0 newly installed, 0 to remove and 24 not upgraded.\n",
            "fatal: destination path 'SpecAugment' already exists and is not an empty directory.\n",
            "  Preparing metadata (setup.py) ... \u001b[?25l\u001b[?25hdone\n",
            "  Building wheel for SpecAugment (setup.py) ... \u001b[?25l\u001b[?25hdone\n"
          ]
        },
        {
          "output_type": "stream",
          "name": "stderr",
          "text": [
            "/usr/local/lib/python3.10/dist-packages/tensorflow_addons/utils/tfa_eol_msg.py:23: UserWarning: \n",
            "\n",
            "TensorFlow Addons (TFA) has ended development and introduction of new features.\n",
            "TFA has entered a minimal maintenance and release mode until a planned end of life in May 2024.\n",
            "Please modify downstream libraries to take dependencies from other repositories in our TensorFlow community (e.g. Keras, Keras-CV, and Keras-NLP). \n",
            "\n",
            "For more information see: https://github.com/tensorflow/addons/issues/2807 \n",
            "\n",
            "  warnings.warn(\n",
            "/usr/local/lib/python3.10/dist-packages/tensorflow_addons/utils/ensure_tf_install.py:53: UserWarning: Tensorflow Addons supports using Python ops for all Tensorflow versions above or equal to 2.10.0 and strictly below 2.13.0 (nightly versions are not supported). \n",
            " The versions of TensorFlow you are currently using is 2.8.2 and is not supported. \n",
            "Some things might work, some things might not.\n",
            "If you were to encounter a bug, do not file an issue.\n",
            "If you want to make sure you're using a tested and supported configuration, either change the TensorFlow version or the TensorFlow Addons's version. \n",
            "You can find the compatibility matrix in TensorFlow Addon's readme:\n",
            "https://github.com/tensorflow/addons\n",
            "  warnings.warn(\n"
          ]
        }
      ],
      "source": [
        "from zipfile import ZipFile\n",
        "import glob\n",
        "import csv\n",
        "import random\n",
        "from subprocess import Popen, PIPE\n",
        "from keras import regularizers\n",
        "from os.path import dirname\n",
        "import os\n",
        "import soundfile as sf\n",
        "!sudo apt-get install sox\n",
        "import math\n",
        "import numpy as np\n",
        "import librosa\n",
        "import shutil\n",
        "import pickle\n",
        "import re\n",
        "import tensorflow as tf\n",
        "!git clone https://github.com/DemisEom/SpecAugment.git\n",
        "!pip install /content/SpecAugment/ --quiet\n",
        "!pip install tensorflow-addons --quiet\n",
        "!pip install sed_eval --quiet\n",
        "import keras\n",
        "from SpecAugment import spec_augment_tensorflow\n",
        "import sed_eval\n",
        "import dcase_util\n",
        "from keras import regularizers\n",
        "from keras.regularizers import l2"
      ]
    },
    {
      "cell_type": "code",
      "source": [
        "!pip install gdown\n",
        "import gdown\n",
        "\n",
        "output1 = \"/content/new-dataset/test_data1.zip\"\n",
        "gdown.download(id='17PvyXLEkpIgBLxRkuTIk25MGL3uM3kS1', output=output1, quiet=False)\n",
        "\n",
        "output2= \"/content/new-dataset/test_data2.zip\"\n",
        "gdown.download(id='14abMPBH3EVmcU-3jPD4jWEpa4pQ38OY9', output=output2, quiet=False)\n",
        "\n",
        "output3 = \"/content/new-dataset/test_data3.zip\"\n",
        "gdown.download(id='1TU4CoJuFy40-zJopo3R4U-YgZFKFrtxB', output=output3, quiet=False)\n",
        "\n",
        "output4 = \"/content/new-dataset/test_data4.zip\"\n",
        "gdown.download(id='1E5595RX2NwpuckXvl2o1V_dm9Ja58arF', output=output4, quiet=False)\n",
        "\n",
        "output5 = \"/content/new-dataset/test_data5.zip\"\n",
        "gdown.download(id='16VJhkCV2-ILcHxiF8a2ygEiHxXyF9RtM', output=output5, quiet=False)\n",
        "\n",
        "output6 = \"/content/new-dataset/test_data6.zip\"\n",
        "gdown.download(id='1kZyXyZVTHnSTg-gdrlf91V5ioYMr50Mp', output=output6, quiet=False)"
      ],
      "metadata": {
        "colab": {
          "base_uri": "https://localhost:8080/",
          "height": 714
        },
        "id": "NRQ9DlXiWdYi",
        "outputId": "b380a28c-e7a6-4db3-f6da-d1f297843252"
      },
      "execution_count": null,
      "outputs": [
        {
          "output_type": "stream",
          "name": "stdout",
          "text": [
            "Looking in indexes: https://pypi.org/simple, https://us-python.pkg.dev/colab-wheels/public/simple/\n",
            "Requirement already satisfied: gdown in /usr/local/lib/python3.10/dist-packages (4.6.6)\n",
            "Requirement already satisfied: six in /usr/local/lib/python3.10/dist-packages (from gdown) (1.16.0)\n",
            "Requirement already satisfied: beautifulsoup4 in /usr/local/lib/python3.10/dist-packages (from gdown) (4.11.2)\n",
            "Requirement already satisfied: filelock in /usr/local/lib/python3.10/dist-packages (from gdown) (3.12.0)\n",
            "Requirement already satisfied: tqdm in /usr/local/lib/python3.10/dist-packages (from gdown) (4.65.0)\n",
            "Requirement already satisfied: requests[socks] in /usr/local/lib/python3.10/dist-packages (from gdown) (2.27.1)\n",
            "Requirement already satisfied: soupsieve>1.2 in /usr/local/lib/python3.10/dist-packages (from beautifulsoup4->gdown) (2.4.1)\n",
            "Requirement already satisfied: idna<4,>=2.5 in /usr/local/lib/python3.10/dist-packages (from requests[socks]->gdown) (3.4)\n",
            "Requirement already satisfied: charset-normalizer~=2.0.0 in /usr/local/lib/python3.10/dist-packages (from requests[socks]->gdown) (2.0.12)\n",
            "Requirement already satisfied: certifi>=2017.4.17 in /usr/local/lib/python3.10/dist-packages (from requests[socks]->gdown) (2022.12.7)\n",
            "Requirement already satisfied: urllib3<1.27,>=1.21.1 in /usr/local/lib/python3.10/dist-packages (from requests[socks]->gdown) (1.26.15)\n",
            "Requirement already satisfied: PySocks!=1.5.7,>=1.5.6 in /usr/local/lib/python3.10/dist-packages (from requests[socks]->gdown) (1.7.1)\n"
          ]
        },
        {
          "output_type": "stream",
          "name": "stderr",
          "text": [
            "Downloading...\n",
            "From: https://drive.google.com/uc?id=17PvyXLEkpIgBLxRkuTIk25MGL3uM3kS1\n",
            "To: /content/new-dataset/test_data1.zip\n",
            "100%|██████████| 1.38G/1.38G [00:30<00:00, 44.5MB/s]\n",
            "Downloading...\n",
            "From: https://drive.google.com/uc?id=14abMPBH3EVmcU-3jPD4jWEpa4pQ38OY9\n",
            "To: /content/new-dataset/test_data2.zip\n",
            "100%|██████████| 1.38G/1.38G [00:27<00:00, 50.7MB/s]\n",
            "Downloading...\n",
            "From: https://drive.google.com/uc?id=1TU4CoJuFy40-zJopo3R4U-YgZFKFrtxB\n",
            "To: /content/new-dataset/test_data3.zip\n",
            "100%|██████████| 1.34G/1.34G [00:26<00:00, 51.3MB/s]\n",
            "Downloading...\n",
            "From: https://drive.google.com/uc?id=1E5595RX2NwpuckXvl2o1V_dm9Ja58arF\n",
            "To: /content/new-dataset/test_data4.zip\n",
            "100%|██████████| 1.32G/1.32G [00:24<00:00, 53.6MB/s]\n",
            "Downloading...\n",
            "From: https://drive.google.com/uc?id=16VJhkCV2-ILcHxiF8a2ygEiHxXyF9RtM\n",
            "To: /content/new-dataset/test_data5.zip\n",
            "100%|██████████| 1.29G/1.29G [00:30<00:00, 42.7MB/s]\n",
            "Downloading...\n",
            "From: https://drive.google.com/uc?id=1kZyXyZVTHnSTg-gdrlf91V5ioYMr50Mp\n",
            "To: /content/new-dataset/test_data6.zip\n",
            "100%|██████████| 792M/792M [00:14<00:00, 55.6MB/s]\n"
          ]
        },
        {
          "output_type": "execute_result",
          "data": {
            "text/plain": [
              "'/content/new-dataset/test_data6.zip'"
            ],
            "application/vnd.google.colaboratory.intrinsic+json": {
              "type": "string"
            }
          },
          "metadata": {},
          "execution_count": 4
        }
      ]
    },
    {
      "cell_type": "markdown",
      "source": [],
      "metadata": {
        "id": "Q6N--CwzWcRi"
      }
    },
    {
      "cell_type": "markdown",
      "metadata": {
        "id": "5mXIf6EgcMSx"
      },
      "source": [
        "# Download Development Dataset (Train/Val) "
      ]
    },
    {
      "cell_type": "code",
      "execution_count": null,
      "metadata": {
        "id": "jFHINytpE1cf"
      },
      "outputs": [],
      "source": [
        "def download_train_data():\n",
        "  download_path = \"/content/datasetZipped/\"\n",
        "  !mkdir $download_path\n",
        "  # get first both audio set zips\n",
        "  !wget https://zenodo.org/record/814831/files/TUT-sound-events-2017-development.audio.1.zip?download=1 -O {download_path}TUT-sound-events-2017-development.audio.1.zip\n",
        "  !wget https://zenodo.org/record/814831/files/TUT-sound-events-2017-development.audio.2.zip?download=1 -O {download_path}TUT-sound-events-2017-development.audio.2.zip\n",
        "  # download labels and related metadata\n",
        "  !wget https://zenodo.org/record/814831/files/TUT-sound-events-2017-development.doc.zip?download=1 -O {download_path}TUT-sound-events-2017-development.doc.zip\n",
        "  !wget https://zenodo.org/record/814831/files/TUT-sound-events-2017-development.meta.zip?download=1 -O {download_path}TUT-sound-events-2017-development.meta.zip\n"
      ]
    },
    {
      "cell_type": "code",
      "execution_count": null,
      "metadata": {
        "colab": {
          "base_uri": "https://localhost:8080/"
        },
        "id": "E3mBEERNe24G",
        "outputId": "25180d6f-dc37-41de-d6b1-675fc0fcaebc"
      },
      "outputs": [
        {
          "name": "stdout",
          "output_type": "stream",
          "text": [
            "--2023-03-31 22:56:21--  https://zenodo.org/record/814831/files/TUT-sound-events-2017-development.audio.1.zip?download=1\n",
            "Resolving zenodo.org (zenodo.org)... 188.185.124.72\n",
            "Connecting to zenodo.org (zenodo.org)|188.185.124.72|:443... connected.\n",
            "HTTP request sent, awaiting response... 200 OK\n",
            "Length: 1062653169 (1013M) [application/octet-stream]\n",
            "Saving to: ‘/content/datasetZipped/TUT-sound-events-2017-development.audio.1.zip’\n",
            "\n",
            "/content/datasetZip 100%[===================>]   1013M  29.0MB/s    in 36s     \n",
            "\n",
            "2023-03-31 22:56:59 (28.1 MB/s) - ‘/content/datasetZipped/TUT-sound-events-2017-development.audio.1.zip’ saved [1062653169/1062653169]\n",
            "\n",
            "--2023-03-31 22:56:59--  https://zenodo.org/record/814831/files/TUT-sound-events-2017-development.audio.2.zip?download=1\n",
            "Resolving zenodo.org (zenodo.org)... 188.185.124.72\n",
            "Connecting to zenodo.org (zenodo.org)|188.185.124.72|:443... connected.\n",
            "HTTP request sent, awaiting response... 200 OK\n",
            "Length: 213232458 (203M) [application/octet-stream]\n",
            "Saving to: ‘/content/datasetZipped/TUT-sound-events-2017-development.audio.2.zip’\n",
            "\n",
            "/content/datasetZip 100%[===================>] 203.35M  28.8MB/s    in 7.8s    \n",
            "\n",
            "2023-03-31 22:57:08 (26.1 MB/s) - ‘/content/datasetZipped/TUT-sound-events-2017-development.audio.2.zip’ saved [213232458/213232458]\n",
            "\n",
            "--2023-03-31 22:57:08--  https://zenodo.org/record/814831/files/TUT-sound-events-2017-development.doc.zip?download=1\n",
            "Resolving zenodo.org (zenodo.org)... 188.185.124.72\n",
            "Connecting to zenodo.org (zenodo.org)|188.185.124.72|:443... connected.\n",
            "HTTP request sent, awaiting response... 200 OK\n",
            "Length: 56150 (55K) [application/octet-stream]\n",
            "Saving to: ‘/content/datasetZipped/TUT-sound-events-2017-development.doc.zip’\n",
            "\n",
            "/content/datasetZip 100%[===================>]  54.83K  --.-KB/s    in 0.1s    \n",
            "\n",
            "2023-03-31 22:57:09 (547 KB/s) - ‘/content/datasetZipped/TUT-sound-events-2017-development.doc.zip’ saved [56150/56150]\n",
            "\n",
            "--2023-03-31 22:57:09--  https://zenodo.org/record/814831/files/TUT-sound-events-2017-development.meta.zip?download=1\n",
            "Resolving zenodo.org (zenodo.org)... 188.185.124.72\n",
            "Connecting to zenodo.org (zenodo.org)|188.185.124.72|:443... connected.\n",
            "HTTP request sent, awaiting response... 200 OK\n",
            "Length: 140684 (137K) [application/octet-stream]\n",
            "Saving to: ‘/content/datasetZipped/TUT-sound-events-2017-development.meta.zip’\n",
            "\n",
            "/content/datasetZip 100%[===================>] 137.39K   456KB/s    in 0.3s    \n",
            "\n",
            "2023-03-31 22:57:10 (456 KB/s) - ‘/content/datasetZipped/TUT-sound-events-2017-development.meta.zip’ saved [140684/140684]\n",
            "\n"
          ]
        }
      ],
      "source": [
        "# Download the actual data\n",
        "download_train_data()"
      ]
    },
    {
      "cell_type": "markdown",
      "metadata": {
        "id": "EIQ63r_RfkFj"
      },
      "source": [
        "# Download Test Dataset"
      ]
    },
    {
      "cell_type": "code",
      "execution_count": null,
      "metadata": {
        "id": "5Ow94fBufkFj"
      },
      "outputs": [],
      "source": [
        "def download_test_data():\n",
        "  download_path = \"/content/EvaluationZipped/\"\n",
        "  !mkdir $download_path\n",
        "  # get the audio set zip\n",
        "  !wget https://zenodo.org/record/1040179/files/TUT-sound-events-2017-evaluation.audio.zip?download=1 -O {download_path}TUT-sound-events-2017-evaluation.audio.zip  \n",
        "  # download labels and related metadata\n",
        "  !wget https://zenodo.org/record/1040179/files/TUT-sound-events-2017-evaluation.doc.zip?download=1 -O {download_path}TUT-sound-events-2017-evaluation.doc.zip\n",
        "  !wget https://zenodo.org/record/1040179/files/TUT-sound-events-2017-evaluation.meta.zip?download=1 -O {download_path}TUT-sound-events-2017-evaluation.meta.zip"
      ]
    },
    {
      "cell_type": "code",
      "execution_count": null,
      "metadata": {
        "colab": {
          "base_uri": "https://localhost:8080/"
        },
        "id": "rJ9L2HqAfkFj",
        "outputId": "cae40b95-7245-43f7-a3a6-94df63f00809"
      },
      "outputs": [
        {
          "output_type": "stream",
          "name": "stdout",
          "text": [
            "--2023-04-26 05:16:29--  https://zenodo.org/record/1040179/files/TUT-sound-events-2017-evaluation.audio.zip?download=1\n",
            "Resolving zenodo.org (zenodo.org)... 188.185.124.72\n",
            "Connecting to zenodo.org (zenodo.org)|188.185.124.72|:443... connected.\n",
            "HTTP request sent, awaiting response... 200 OK\n",
            "Length: 388173790 (370M) [application/octet-stream]\n",
            "Saving to: ‘/content/EvaluationZipped/TUT-sound-events-2017-evaluation.audio.zip’\n",
            "\n",
            "/content/Evaluation 100%[===================>] 370.19M  3.72MB/s    in 2m 40s  \n",
            "\n",
            "2023-04-26 05:19:11 (2.31 MB/s) - ‘/content/EvaluationZipped/TUT-sound-events-2017-evaluation.audio.zip’ saved [388173790/388173790]\n",
            "\n",
            "--2023-04-26 05:19:12--  https://zenodo.org/record/1040179/files/TUT-sound-events-2017-evaluation.doc.zip?download=1\n",
            "Resolving zenodo.org (zenodo.org)... 188.185.124.72\n",
            "Connecting to zenodo.org (zenodo.org)|188.185.124.72|:443... connected.\n",
            "HTTP request sent, awaiting response... 200 OK\n",
            "Length: 55462 (54K) [application/octet-stream]\n",
            "Saving to: ‘/content/EvaluationZipped/TUT-sound-events-2017-evaluation.doc.zip’\n",
            "\n",
            "/content/Evaluation 100%[===================>]  54.16K   339KB/s    in 0.2s    \n",
            "\n",
            "2023-04-26 05:19:14 (339 KB/s) - ‘/content/EvaluationZipped/TUT-sound-events-2017-evaluation.doc.zip’ saved [55462/55462]\n",
            "\n",
            "--2023-04-26 05:19:14--  https://zenodo.org/record/1040179/files/TUT-sound-events-2017-evaluation.meta.zip?download=1\n",
            "Resolving zenodo.org (zenodo.org)... 188.185.124.72\n",
            "Connecting to zenodo.org (zenodo.org)|188.185.124.72|:443... connected.\n",
            "HTTP request sent, awaiting response... 200 OK\n",
            "Length: 14147 (14K) [application/octet-stream]\n",
            "Saving to: ‘/content/EvaluationZipped/TUT-sound-events-2017-evaluation.meta.zip’\n",
            "\n",
            "/content/Evaluation 100%[===================>]  13.82K  --.-KB/s    in 0s      \n",
            "\n",
            "2023-04-26 05:19:15 (312 MB/s) - ‘/content/EvaluationZipped/TUT-sound-events-2017-evaluation.meta.zip’ saved [14147/14147]\n",
            "\n"
          ]
        }
      ],
      "source": [
        "download_test_data()"
      ]
    },
    {
      "cell_type": "markdown",
      "metadata": {
        "id": "A_p7z3-QHotX"
      },
      "source": [
        "#Unzip all The data\n"
      ]
    },
    {
      "cell_type": "code",
      "execution_count": null,
      "metadata": {
        "id": "4af7CjopKs0E"
      },
      "outputs": [],
      "source": [
        "def unzip_data(download_path, extract_path):\n",
        "\n",
        "  # create glob\n",
        "  final_glob = glob.glob(f\"{download_path}*.zip\")\n",
        "\n",
        "  for zip_name in final_glob:\n",
        "    with ZipFile(zip_name, 'r') as zip:\n",
        "      zip.extractall(extract_path)"
      ]
    },
    {
      "cell_type": "code",
      "execution_count": null,
      "metadata": {
        "id": "pLu4m-Q1Hnd0"
      },
      "outputs": [],
      "source": [
        "download_development_path = '/content/datasetZipped/'\n",
        "extract_development_path = '/content/development'\n",
        "download_test_path = '/content/new-dataset/'\n",
        "extract_test_path = '/content/extracted-data'\n",
        "\n",
        "\n",
        "# unzip_data(download_development_path, extract_development_path)\n",
        "unzip_data(download_test_path, extract_test_path)\n"
      ]
    },
    {
      "cell_type": "markdown",
      "metadata": {
        "id": "bkRc04QOHwA3"
      },
      "source": [
        "# Extract Annotations"
      ]
    },
    {
      "cell_type": "code",
      "execution_count": null,
      "metadata": {
        "id": "v36BZwiSDZg1"
      },
      "outputs": [],
      "source": [
        "def convert_annotations_to_events(filename): #read_annotations\n",
        "    events = []\n",
        "    with open(filename, 'r') as csvfile:\n",
        "        spamreader = csv.reader(csvfile, delimiter='\\t', quotechar='|')\n",
        "        for row in spamreader:\n",
        "            row.append(row[0])\n",
        "            row.pop(0)\n",
        "            row[1] = str((float(row[1])/1000))\n",
        "            row[0] = str((float(row[0])/1000))\n",
        "            events.append(row)\n",
        "    return events\n"
      ]
    },
    {
      "cell_type": "code",
      "execution_count": null,
      "metadata": {
        "id": "K6CZDBeoDaPy",
        "colab": {
          "base_uri": "https://localhost:8080/"
        },
        "outputId": "bc159b5a-646e-4e92-aa4f-ddfcae7c3cf0"
      },
      "outputs": [
        {
          "output_type": "stream",
          "name": "stdout",
          "text": [
            "[['0.0', '8.027', 'footsteps'], ['8.027', '10.922', 'rainforest'], ['10.922', '16.762', 'car'], ['16.762', '25.854', 'footsteps'], ['25.854', '34.946', 'footsteps'], ['34.946', '38.773', 'crowds'], ['38.773', '48.773', 'aircraft'], ['48.773', '58.633', 'car'], ['58.633', '68.084', 'rainforest'], ['68.084', '75.751', 'aircraft'], ['75.751', '80.37', 'clocks'], ['80.37', '83.271', 'car']]\n"
          ]
        }
      ],
      "source": [
        "events = convert_annotations_to_events(\"/content/extracted-data/outputs/0.txt\")\n",
        "print(events)"
      ]
    },
    {
      "cell_type": "code",
      "execution_count": null,
      "metadata": {
        "id": "xcjhqP6-Mbuj"
      },
      "outputs": [],
      "source": [
        "audio_files = glob.glob(\"/content/extracted-data/outputs/*.wav\")\n",
        "text_files = glob.glob(\"/content/extracted-data/outputs/*.txt\")"
      ]
    },
    {
      "cell_type": "code",
      "execution_count": null,
      "metadata": {
        "id": "SwG5VpfZUeeV",
        "colab": {
          "base_uri": "https://localhost:8080/",
          "height": 317
        },
        "outputId": "378502c5-3708-4a12-eb30-c5ddda9c70c5"
      },
      "outputs": [
        {
          "output_type": "error",
          "ename": "FileExistsError",
          "evalue": "ignored",
          "traceback": [
            "\u001b[0;31m---------------------------------------------------------------------------\u001b[0m",
            "\u001b[0;31mFileExistsError\u001b[0m                           Traceback (most recent call last)",
            "\u001b[0;32m<ipython-input-11-b8c8656ce981>\u001b[0m in \u001b[0;36m<cell line: 1>\u001b[0;34m()\u001b[0m\n\u001b[0;32m----> 1\u001b[0;31m \u001b[0mos\u001b[0m\u001b[0;34m.\u001b[0m\u001b[0mmakedirs\u001b[0m\u001b[0;34m(\u001b[0m\u001b[0mdirname\u001b[0m\u001b[0;34m(\u001b[0m\u001b[0maudio_files\u001b[0m\u001b[0;34m[\u001b[0m\u001b[0;36m0\u001b[0m\u001b[0;34m]\u001b[0m\u001b[0;34m)\u001b[0m\u001b[0;34m.\u001b[0m\u001b[0mreplace\u001b[0m\u001b[0;34m(\u001b[0m\u001b[0;34m\"outputs\"\u001b[0m\u001b[0;34m,\u001b[0m \u001b[0;34m\"outputs-mono\"\u001b[0m\u001b[0;34m)\u001b[0m\u001b[0;34m)\u001b[0m\u001b[0;34m\u001b[0m\u001b[0;34m\u001b[0m\u001b[0m\n\u001b[0m\u001b[1;32m      2\u001b[0m \u001b[0;31m# os.makedirs(dirname(text_files[0]).replace(\"outputs\", \"outputs-mono\"))\u001b[0m\u001b[0;34m\u001b[0m\u001b[0;34m\u001b[0m\u001b[0m\n",
            "\u001b[0;32m/usr/lib/python3.10/os.py\u001b[0m in \u001b[0;36mmakedirs\u001b[0;34m(name, mode, exist_ok)\u001b[0m\n\u001b[1;32m    223\u001b[0m             \u001b[0;32mreturn\u001b[0m\u001b[0;34m\u001b[0m\u001b[0;34m\u001b[0m\u001b[0m\n\u001b[1;32m    224\u001b[0m     \u001b[0;32mtry\u001b[0m\u001b[0;34m:\u001b[0m\u001b[0;34m\u001b[0m\u001b[0;34m\u001b[0m\u001b[0m\n\u001b[0;32m--> 225\u001b[0;31m         \u001b[0mmkdir\u001b[0m\u001b[0;34m(\u001b[0m\u001b[0mname\u001b[0m\u001b[0;34m,\u001b[0m \u001b[0mmode\u001b[0m\u001b[0;34m)\u001b[0m\u001b[0;34m\u001b[0m\u001b[0;34m\u001b[0m\u001b[0m\n\u001b[0m\u001b[1;32m    226\u001b[0m     \u001b[0;32mexcept\u001b[0m \u001b[0mOSError\u001b[0m\u001b[0;34m:\u001b[0m\u001b[0;34m\u001b[0m\u001b[0;34m\u001b[0m\u001b[0m\n\u001b[1;32m    227\u001b[0m         \u001b[0;31m# Cannot rely on checking for EEXIST, since the operating system\u001b[0m\u001b[0;34m\u001b[0m\u001b[0;34m\u001b[0m\u001b[0m\n",
            "\u001b[0;31mFileExistsError\u001b[0m: [Errno 17] File exists: '/content/extracted-data/outputs-mono'"
          ]
        }
      ],
      "source": [
        "os.makedirs(dirname(audio_files[0]).replace(\"outputs\", \"outputs-mono\"))\n",
        "# os.makedirs(dirname(text_files[0]).replace(\"outputs\", \"outputs-mono\"))"
      ]
    },
    {
      "cell_type": "code",
      "execution_count": null,
      "metadata": {
        "id": "Flli3LPbTAEK"
      },
      "outputs": [],
      "source": [
        "for sound in audio_files:\n",
        "  temp_file = sound.replace(\"outputs\", \"outputs-mono\")\n",
        "  command = command = \"sox \" + sound + \" \" + temp_file + \" channels 1\"\n",
        "  p = Popen(command, stdin=PIPE, stdout=PIPE, stderr=PIPE, shell=True)\n",
        "  output, err = p.communicate()"
      ]
    },
    {
      "cell_type": "code",
      "execution_count": null,
      "metadata": {
        "id": "2dY_Ri78WFR_"
      },
      "outputs": [],
      "source": [
        "audio_files_mono = glob.glob(\"/content/extracted-data/outputs-mono/*.wav\")\n",
        "random.shuffle(audio_files_mono)"
      ]
    },
    {
      "cell_type": "code",
      "source": [
        "print(audio_files_mono)"
      ],
      "metadata": {
        "colab": {
          "base_uri": "https://localhost:8080/"
        },
        "id": "wr5raFkej02O",
        "outputId": "5c291c4f-3ed9-4c64-ffae-5399d629760f"
      },
      "execution_count": null,
      "outputs": [
        {
          "output_type": "stream",
          "name": "stdout",
          "text": [
            "['/content/extracted-data/outputs-mono/44.wav', '/content/extracted-data/outputs-mono/84.wav', '/content/extracted-data/outputs-mono/349.wav', '/content/extracted-data/outputs-mono/753.wav', '/content/extracted-data/outputs-mono/964.wav', '/content/extracted-data/outputs-mono/216.wav', '/content/extracted-data/outputs-mono/82.wav', '/content/extracted-data/outputs-mono/324.wav', '/content/extracted-data/outputs-mono/924.wav', '/content/extracted-data/outputs-mono/670.wav', '/content/extracted-data/outputs-mono/920.wav', '/content/extracted-data/outputs-mono/431.wav', '/content/extracted-data/outputs-mono/788.wav', '/content/extracted-data/outputs-mono/70.wav', '/content/extracted-data/outputs-mono/826.wav', '/content/extracted-data/outputs-mono/320.wav', '/content/extracted-data/outputs-mono/668.wav', '/content/extracted-data/outputs-mono/420.wav', '/content/extracted-data/outputs-mono/554.wav', '/content/extracted-data/outputs-mono/403.wav', '/content/extracted-data/outputs-mono/235.wav', '/content/extracted-data/outputs-mono/57.wav', '/content/extracted-data/outputs-mono/866.wav', '/content/extracted-data/outputs-mono/743.wav', '/content/extracted-data/outputs-mono/882.wav', '/content/extracted-data/outputs-mono/509.wav', '/content/extracted-data/outputs-mono/118.wav', '/content/extracted-data/outputs-mono/772.wav', '/content/extracted-data/outputs-mono/170.wav', '/content/extracted-data/outputs-mono/281.wav', '/content/extracted-data/outputs-mono/640.wav', '/content/extracted-data/outputs-mono/108.wav', '/content/extracted-data/outputs-mono/729.wav', '/content/extracted-data/outputs-mono/85.wav', '/content/extracted-data/outputs-mono/603.wav', '/content/extracted-data/outputs-mono/686.wav', '/content/extracted-data/outputs-mono/377.wav', '/content/extracted-data/outputs-mono/332.wav', '/content/extracted-data/outputs-mono/95.wav', '/content/extracted-data/outputs-mono/606.wav', '/content/extracted-data/outputs-mono/231.wav', '/content/extracted-data/outputs-mono/819.wav', '/content/extracted-data/outputs-mono/545.wav', '/content/extracted-data/outputs-mono/326.wav', '/content/extracted-data/outputs-mono/88.wav', '/content/extracted-data/outputs-mono/269.wav', '/content/extracted-data/outputs-mono/128.wav', '/content/extracted-data/outputs-mono/102.wav', '/content/extracted-data/outputs-mono/476.wav', '/content/extracted-data/outputs-mono/792.wav', '/content/extracted-data/outputs-mono/364.wav', '/content/extracted-data/outputs-mono/109.wav', '/content/extracted-data/outputs-mono/592.wav', '/content/extracted-data/outputs-mono/179.wav', '/content/extracted-data/outputs-mono/741.wav', '/content/extracted-data/outputs-mono/683.wav', '/content/extracted-data/outputs-mono/311.wav', '/content/extracted-data/outputs-mono/183.wav', '/content/extracted-data/outputs-mono/602.wav', '/content/extracted-data/outputs-mono/78.wav', '/content/extracted-data/outputs-mono/666.wav', '/content/extracted-data/outputs-mono/915.wav', '/content/extracted-data/outputs-mono/318.wav', '/content/extracted-data/outputs-mono/284.wav', '/content/extracted-data/outputs-mono/335.wav', '/content/extracted-data/outputs-mono/467.wav', '/content/extracted-data/outputs-mono/570.wav', '/content/extracted-data/outputs-mono/616.wav', '/content/extracted-data/outputs-mono/115.wav', '/content/extracted-data/outputs-mono/994.wav', '/content/extracted-data/outputs-mono/211.wav', '/content/extracted-data/outputs-mono/558.wav', '/content/extracted-data/outputs-mono/808.wav', '/content/extracted-data/outputs-mono/528.wav', '/content/extracted-data/outputs-mono/734.wav', '/content/extracted-data/outputs-mono/776.wav', '/content/extracted-data/outputs-mono/90.wav', '/content/extracted-data/outputs-mono/535.wav', '/content/extracted-data/outputs-mono/145.wav', '/content/extracted-data/outputs-mono/451.wav', '/content/extracted-data/outputs-mono/856.wav', '/content/extracted-data/outputs-mono/292.wav', '/content/extracted-data/outputs-mono/367.wav', '/content/extracted-data/outputs-mono/293.wav', '/content/extracted-data/outputs-mono/3.wav', '/content/extracted-data/outputs-mono/195.wav', '/content/extracted-data/outputs-mono/330.wav', '/content/extracted-data/outputs-mono/156.wav', '/content/extracted-data/outputs-mono/5.wav', '/content/extracted-data/outputs-mono/416.wav', '/content/extracted-data/outputs-mono/836.wav', '/content/extracted-data/outputs-mono/789.wav', '/content/extracted-data/outputs-mono/91.wav', '/content/extracted-data/outputs-mono/868.wav', '/content/extracted-data/outputs-mono/781.wav', '/content/extracted-data/outputs-mono/937.wav', '/content/extracted-data/outputs-mono/410.wav', '/content/extracted-data/outputs-mono/764.wav', '/content/extracted-data/outputs-mono/445.wav', '/content/extracted-data/outputs-mono/561.wav', '/content/extracted-data/outputs-mono/438.wav', '/content/extracted-data/outputs-mono/245.wav', '/content/extracted-data/outputs-mono/435.wav', '/content/extracted-data/outputs-mono/858.wav', '/content/extracted-data/outputs-mono/499.wav', '/content/extracted-data/outputs-mono/610.wav', '/content/extracted-data/outputs-mono/921.wav', '/content/extracted-data/outputs-mono/464.wav', '/content/extracted-data/outputs-mono/787.wav', '/content/extracted-data/outputs-mono/291.wav', '/content/extracted-data/outputs-mono/637.wav', '/content/extracted-data/outputs-mono/837.wav', '/content/extracted-data/outputs-mono/426.wav', '/content/extracted-data/outputs-mono/398.wav', '/content/extracted-data/outputs-mono/270.wav', '/content/extracted-data/outputs-mono/404.wav', '/content/extracted-data/outputs-mono/391.wav', '/content/extracted-data/outputs-mono/975.wav', '/content/extracted-data/outputs-mono/833.wav', '/content/extracted-data/outputs-mono/329.wav', '/content/extracted-data/outputs-mono/358.wav', '/content/extracted-data/outputs-mono/778.wav', '/content/extracted-data/outputs-mono/684.wav', '/content/extracted-data/outputs-mono/190.wav', '/content/extracted-data/outputs-mono/817.wav', '/content/extracted-data/outputs-mono/689.wav', '/content/extracted-data/outputs-mono/673.wav', '/content/extracted-data/outputs-mono/232.wav', '/content/extracted-data/outputs-mono/478.wav', '/content/extracted-data/outputs-mono/370.wav', '/content/extracted-data/outputs-mono/40.wav', '/content/extracted-data/outputs-mono/373.wav', '/content/extracted-data/outputs-mono/347.wav', '/content/extracted-data/outputs-mono/383.wav', '/content/extracted-data/outputs-mono/257.wav', '/content/extracted-data/outputs-mono/725.wav', '/content/extracted-data/outputs-mono/933.wav', '/content/extracted-data/outputs-mono/300.wav', '/content/extracted-data/outputs-mono/55.wav', '/content/extracted-data/outputs-mono/442.wav', '/content/extracted-data/outputs-mono/229.wav', '/content/extracted-data/outputs-mono/213.wav', '/content/extracted-data/outputs-mono/698.wav', '/content/extracted-data/outputs-mono/218.wav', '/content/extracted-data/outputs-mono/470.wav', '/content/extracted-data/outputs-mono/838.wav', '/content/extracted-data/outputs-mono/429.wav', '/content/extracted-data/outputs-mono/507.wav', '/content/extracted-data/outputs-mono/612.wav', '/content/extracted-data/outputs-mono/352.wav', '/content/extracted-data/outputs-mono/9.wav', '/content/extracted-data/outputs-mono/632.wav', '/content/extracted-data/outputs-mono/241.wav', '/content/extracted-data/outputs-mono/258.wav', '/content/extracted-data/outputs-mono/943.wav', '/content/extracted-data/outputs-mono/708.wav', '/content/extracted-data/outputs-mono/635.wav', '/content/extracted-data/outputs-mono/474.wav', '/content/extracted-data/outputs-mono/192.wav', '/content/extracted-data/outputs-mono/107.wav', '/content/extracted-data/outputs-mono/430.wav', '/content/extracted-data/outputs-mono/228.wav', '/content/extracted-data/outputs-mono/295.wav', '/content/extracted-data/outputs-mono/497.wav', '/content/extracted-data/outputs-mono/504.wav', '/content/extracted-data/outputs-mono/204.wav', '/content/extracted-data/outputs-mono/472.wav', '/content/extracted-data/outputs-mono/704.wav', '/content/extracted-data/outputs-mono/618.wav', '/content/extracted-data/outputs-mono/372.wav', '/content/extracted-data/outputs-mono/42.wav', '/content/extracted-data/outputs-mono/484.wav', '/content/extracted-data/outputs-mono/857.wav', '/content/extracted-data/outputs-mono/434.wav', '/content/extracted-data/outputs-mono/31.wav', '/content/extracted-data/outputs-mono/395.wav', '/content/extracted-data/outputs-mono/614.wav', '/content/extracted-data/outputs-mono/967.wav', '/content/extracted-data/outputs-mono/987.wav', '/content/extracted-data/outputs-mono/297.wav', '/content/extracted-data/outputs-mono/849.wav', '/content/extracted-data/outputs-mono/255.wav', '/content/extracted-data/outputs-mono/148.wav', '/content/extracted-data/outputs-mono/386.wav', '/content/extracted-data/outputs-mono/531.wav', '/content/extracted-data/outputs-mono/835.wav', '/content/extracted-data/outputs-mono/277.wav', '/content/extracted-data/outputs-mono/389.wav', '/content/extracted-data/outputs-mono/641.wav', '/content/extracted-data/outputs-mono/199.wav', '/content/extracted-data/outputs-mono/428.wav', '/content/extracted-data/outputs-mono/471.wav', '/content/extracted-data/outputs-mono/623.wav', '/content/extracted-data/outputs-mono/136.wav', '/content/extracted-data/outputs-mono/861.wav', '/content/extracted-data/outputs-mono/898.wav', '/content/extracted-data/outputs-mono/263.wav', '/content/extracted-data/outputs-mono/896.wav', '/content/extracted-data/outputs-mono/444.wav', '/content/extracted-data/outputs-mono/27.wav', '/content/extracted-data/outputs-mono/538.wav', '/content/extracted-data/outputs-mono/63.wav', '/content/extracted-data/outputs-mono/784.wav', '/content/extracted-data/outputs-mono/92.wav', '/content/extracted-data/outputs-mono/125.wav', '/content/extracted-data/outputs-mono/1.wav', '/content/extracted-data/outputs-mono/913.wav', '/content/extracted-data/outputs-mono/188.wav', '/content/extracted-data/outputs-mono/243.wav', '/content/extracted-data/outputs-mono/376.wav', '/content/extracted-data/outputs-mono/914.wav', '/content/extracted-data/outputs-mono/495.wav', '/content/extracted-data/outputs-mono/658.wav', '/content/extracted-data/outputs-mono/264.wav', '/content/extracted-data/outputs-mono/677.wav', '/content/extracted-data/outputs-mono/427.wav', '/content/extracted-data/outputs-mono/8.wav', '/content/extracted-data/outputs-mono/494.wav', '/content/extracted-data/outputs-mono/122.wav', '/content/extracted-data/outputs-mono/626.wav', '/content/extracted-data/outputs-mono/962.wav', '/content/extracted-data/outputs-mono/2.wav', '/content/extracted-data/outputs-mono/951.wav', '/content/extracted-data/outputs-mono/116.wav', '/content/extracted-data/outputs-mono/569.wav', '/content/extracted-data/outputs-mono/73.wav', '/content/extracted-data/outputs-mono/763.wav', '/content/extracted-data/outputs-mono/536.wav', '/content/extracted-data/outputs-mono/304.wav', '/content/extracted-data/outputs-mono/862.wav', '/content/extracted-data/outputs-mono/357.wav', '/content/extracted-data/outputs-mono/650.wav', '/content/extracted-data/outputs-mono/225.wav', '/content/extracted-data/outputs-mono/923.wav', '/content/extracted-data/outputs-mono/456.wav', '/content/extracted-data/outputs-mono/696.wav', '/content/extracted-data/outputs-mono/613.wav', '/content/extracted-data/outputs-mono/187.wav', '/content/extracted-data/outputs-mono/418.wav', '/content/extracted-data/outputs-mono/599.wav', '/content/extracted-data/outputs-mono/895.wav', '/content/extracted-data/outputs-mono/274.wav', '/content/extracted-data/outputs-mono/680.wav', '/content/extracted-data/outputs-mono/505.wav', '/content/extracted-data/outputs-mono/851.wav', '/content/extracted-data/outputs-mono/317.wav', '/content/extracted-data/outputs-mono/301.wav', '/content/extracted-data/outputs-mono/955.wav', '/content/extracted-data/outputs-mono/466.wav', '/content/extracted-data/outputs-mono/75.wav', '/content/extracted-data/outputs-mono/172.wav', '/content/extracted-data/outputs-mono/460.wav', '/content/extracted-data/outputs-mono/869.wav', '/content/extracted-data/outputs-mono/249.wav', '/content/extracted-data/outputs-mono/302.wav', '/content/extracted-data/outputs-mono/273.wav', '/content/extracted-data/outputs-mono/411.wav', '/content/extracted-data/outputs-mono/406.wav', '/content/extracted-data/outputs-mono/294.wav', '/content/extracted-data/outputs-mono/830.wav', '/content/extracted-data/outputs-mono/723.wav', '/content/extracted-data/outputs-mono/452.wav', '/content/extracted-data/outputs-mono/568.wav', '/content/extracted-data/outputs-mono/695.wav', '/content/extracted-data/outputs-mono/877.wav', '/content/extracted-data/outputs-mono/390.wav', '/content/extracted-data/outputs-mono/343.wav', '/content/extracted-data/outputs-mono/13.wav', '/content/extracted-data/outputs-mono/93.wav', '/content/extracted-data/outputs-mono/529.wav', '/content/extracted-data/outputs-mono/219.wav', '/content/extracted-data/outputs-mono/874.wav', '/content/extracted-data/outputs-mono/369.wav', '/content/extracted-data/outputs-mono/713.wav', '/content/extracted-data/outputs-mono/999.wav', '/content/extracted-data/outputs-mono/441.wav', '/content/extracted-data/outputs-mono/515.wav', '/content/extracted-data/outputs-mono/645.wav', '/content/extracted-data/outputs-mono/81.wav', '/content/extracted-data/outputs-mono/844.wav', '/content/extracted-data/outputs-mono/71.wav', '/content/extracted-data/outputs-mono/600.wav', '/content/extracted-data/outputs-mono/315.wav', '/content/extracted-data/outputs-mono/278.wav', '/content/extracted-data/outputs-mono/549.wav', '/content/extracted-data/outputs-mono/652.wav', '/content/extracted-data/outputs-mono/67.wav', '/content/extracted-data/outputs-mono/198.wav', '/content/extracted-data/outputs-mono/757.wav', '/content/extracted-data/outputs-mono/171.wav', '/content/extracted-data/outputs-mono/945.wav', '/content/extracted-data/outputs-mono/552.wav', '/content/extracted-data/outputs-mono/153.wav', '/content/extracted-data/outputs-mono/925.wav', '/content/extracted-data/outputs-mono/991.wav', '/content/extracted-data/outputs-mono/825.wav', '/content/extracted-data/outputs-mono/863.wav', '/content/extracted-data/outputs-mono/831.wav', '/content/extracted-data/outputs-mono/977.wav', '/content/extracted-data/outputs-mono/462.wav', '/content/extracted-data/outputs-mono/827.wav', '/content/extracted-data/outputs-mono/375.wav', '/content/extracted-data/outputs-mono/267.wav', '/content/extracted-data/outputs-mono/762.wav', '/content/extracted-data/outputs-mono/879.wav', '/content/extracted-data/outputs-mono/151.wav', '/content/extracted-data/outputs-mono/58.wav', '/content/extracted-data/outputs-mono/963.wav', '/content/extracted-data/outputs-mono/39.wav', '/content/extracted-data/outputs-mono/130.wav', '/content/extracted-data/outputs-mono/408.wav', '/content/extracted-data/outputs-mono/922.wav', '/content/extracted-data/outputs-mono/643.wav', '/content/extracted-data/outputs-mono/222.wav', '/content/extracted-data/outputs-mono/217.wav', '/content/extracted-data/outputs-mono/202.wav', '/content/extracted-data/outputs-mono/669.wav', '/content/extracted-data/outputs-mono/182.wav', '/content/extracted-data/outputs-mono/653.wav', '/content/extracted-data/outputs-mono/334.wav', '/content/extracted-data/outputs-mono/842.wav', '/content/extracted-data/outputs-mono/786.wav', '/content/extracted-data/outputs-mono/770.wav', '/content/extracted-data/outputs-mono/259.wav', '/content/extracted-data/outputs-mono/519.wav', '/content/extracted-data/outputs-mono/555.wav', '/content/extracted-data/outputs-mono/595.wav', '/content/extracted-data/outputs-mono/449.wav', '/content/extracted-data/outputs-mono/540.wav', '/content/extracted-data/outputs-mono/655.wav', '/content/extracted-data/outputs-mono/233.wav', '/content/extracted-data/outputs-mono/648.wav', '/content/extracted-data/outputs-mono/489.wav', '/content/extracted-data/outputs-mono/607.wav', '/content/extracted-data/outputs-mono/374.wav', '/content/extracted-data/outputs-mono/20.wav', '/content/extracted-data/outputs-mono/790.wav', '/content/extracted-data/outputs-mono/891.wav', '/content/extracted-data/outputs-mono/728.wav', '/content/extracted-data/outputs-mono/930.wav', '/content/extracted-data/outputs-mono/191.wav', '/content/extracted-data/outputs-mono/201.wav', '/content/extracted-data/outputs-mono/533.wav', '/content/extracted-data/outputs-mono/544.wav', '/content/extracted-data/outputs-mono/972.wav', '/content/extracted-data/outputs-mono/473.wav', '/content/extracted-data/outputs-mono/809.wav', '/content/extracted-data/outputs-mono/337.wav', '/content/extracted-data/outputs-mono/111.wav', '/content/extracted-data/outputs-mono/165.wav', '/content/extracted-data/outputs-mono/129.wav', '/content/extracted-data/outputs-mono/750.wav', '/content/extracted-data/outputs-mono/354.wav', '/content/extracted-data/outputs-mono/0.wav', '/content/extracted-data/outputs-mono/745.wav', '/content/extracted-data/outputs-mono/247.wav', '/content/extracted-data/outputs-mono/327.wav', '/content/extracted-data/outputs-mono/694.wav', '/content/extracted-data/outputs-mono/573.wav', '/content/extracted-data/outputs-mono/805.wav', '/content/extracted-data/outputs-mono/112.wav', '/content/extracted-data/outputs-mono/54.wav', '/content/extracted-data/outputs-mono/760.wav', '/content/extracted-data/outputs-mono/387.wav', '/content/extracted-data/outputs-mono/368.wav', '/content/extracted-data/outputs-mono/993.wav', '/content/extracted-data/outputs-mono/457.wav', '/content/extracted-data/outputs-mono/946.wav', '/content/extracted-data/outputs-mono/542.wav', '/content/extracted-data/outputs-mono/940.wav', '/content/extracted-data/outputs-mono/523.wav', '/content/extracted-data/outputs-mono/941.wav', '/content/extracted-data/outputs-mono/965.wav', '/content/extracted-data/outputs-mono/280.wav', '/content/extracted-data/outputs-mono/62.wav', '/content/extracted-data/outputs-mono/829.wav', '/content/extracted-data/outputs-mono/547.wav', '/content/extracted-data/outputs-mono/224.wav', '/content/extracted-data/outputs-mono/724.wav', '/content/extracted-data/outputs-mono/155.wav', '/content/extracted-data/outputs-mono/841.wav', '/content/extracted-data/outputs-mono/905.wav', '/content/extracted-data/outputs-mono/41.wav', '/content/extracted-data/outputs-mono/873.wav', '/content/extracted-data/outputs-mono/674.wav', '/content/extracted-data/outputs-mono/791.wav', '/content/extracted-data/outputs-mono/443.wav', '/content/extracted-data/outputs-mono/744.wav', '/content/extracted-data/outputs-mono/716.wav', '/content/extracted-data/outputs-mono/551.wav', '/content/extracted-data/outputs-mono/139.wav', '/content/extracted-data/outputs-mono/309.wav', '/content/extracted-data/outputs-mono/659.wav', '/content/extracted-data/outputs-mono/864.wav', '/content/extracted-data/outputs-mono/378.wav', '/content/extracted-data/outputs-mono/146.wav', '/content/extracted-data/outputs-mono/676.wav', '/content/extracted-data/outputs-mono/537.wav', '/content/extracted-data/outputs-mono/226.wav', '/content/extracted-data/outputs-mono/912.wav', '/content/extracted-data/outputs-mono/703.wav', '/content/extracted-data/outputs-mono/453.wav', '/content/extracted-data/outputs-mono/114.wav', '/content/extracted-data/outputs-mono/634.wav', '/content/extracted-data/outputs-mono/566.wav', '/content/extracted-data/outputs-mono/890.wav', '/content/extracted-data/outputs-mono/737.wav', '/content/extracted-data/outputs-mono/779.wav', '/content/extracted-data/outputs-mono/447.wav', '/content/extracted-data/outputs-mono/394.wav', '/content/extracted-data/outputs-mono/133.wav', '/content/extracted-data/outputs-mono/996.wav', '/content/extracted-data/outputs-mono/141.wav', '/content/extracted-data/outputs-mono/662.wav', '/content/extracted-data/outputs-mono/517.wav', '/content/extracted-data/outputs-mono/719.wav', '/content/extracted-data/outputs-mono/525.wav', '/content/extracted-data/outputs-mono/287.wav', '/content/extracted-data/outputs-mono/867.wav', '/content/extracted-data/outputs-mono/585.wav', '/content/extracted-data/outputs-mono/412.wav', '/content/extracted-data/outputs-mono/564.wav', '/content/extracted-data/outputs-mono/254.wav', '/content/extracted-data/outputs-mono/512.wav', '/content/extracted-data/outputs-mono/777.wav', '/content/extracted-data/outputs-mono/598.wav', '/content/extracted-data/outputs-mono/959.wav', '/content/extracted-data/outputs-mono/534.wav', '/content/extracted-data/outputs-mono/939.wav', '/content/extracted-data/outputs-mono/503.wav', '/content/extracted-data/outputs-mono/974.wav', '/content/extracted-data/outputs-mono/32.wav', '/content/extracted-data/outputs-mono/885.wav', '/content/extracted-data/outputs-mono/379.wav', '/content/extracted-data/outputs-mono/649.wav', '/content/extracted-data/outputs-mono/101.wav', '/content/extracted-data/outputs-mono/718.wav', '/content/extracted-data/outputs-mono/735.wav', '/content/extracted-data/outputs-mono/997.wav', '/content/extracted-data/outputs-mono/450.wav', '/content/extracted-data/outputs-mono/926.wav', '/content/extracted-data/outputs-mono/803.wav', '/content/extracted-data/outputs-mono/970.wav', '/content/extracted-data/outputs-mono/167.wav', '/content/extracted-data/outputs-mono/644.wav', '/content/extracted-data/outputs-mono/871.wav', '/content/extracted-data/outputs-mono/405.wav', '/content/extracted-data/outputs-mono/749.wav', '/content/extracted-data/outputs-mono/636.wav', '/content/extracted-data/outputs-mono/333.wav', '/content/extracted-data/outputs-mono/541.wav', '/content/extracted-data/outputs-mono/220.wav', '/content/extracted-data/outputs-mono/620.wav', '/content/extracted-data/outputs-mono/173.wav', '/content/extracted-data/outputs-mono/619.wav', '/content/extracted-data/outputs-mono/206.wav', '/content/extracted-data/outputs-mono/446.wav', '/content/extracted-data/outputs-mono/625.wav', '/content/extracted-data/outputs-mono/900.wav', '/content/extracted-data/outputs-mono/98.wav', '/content/extracted-data/outputs-mono/984.wav', '/content/extracted-data/outputs-mono/142.wav', '/content/extracted-data/outputs-mono/577.wav', '/content/extracted-data/outputs-mono/908.wav', '/content/extracted-data/outputs-mono/712.wav', '/content/extracted-data/outputs-mono/881.wav', '/content/extracted-data/outputs-mono/816.wav', '/content/extracted-data/outputs-mono/214.wav', '/content/extracted-data/outputs-mono/149.wav', '/content/extracted-data/outputs-mono/463.wav', '/content/extracted-data/outputs-mono/919.wav', '/content/extracted-data/outputs-mono/806.wav', '/content/extracted-data/outputs-mono/104.wav', '/content/extracted-data/outputs-mono/437.wav', '/content/extracted-data/outputs-mono/80.wav', '/content/extracted-data/outputs-mono/119.wav', '/content/extracted-data/outputs-mono/973.wav', '/content/extracted-data/outputs-mono/793.wav', '/content/extracted-data/outputs-mono/325.wav', '/content/extracted-data/outputs-mono/911.wav', '/content/extracted-data/outputs-mono/178.wav', '/content/extracted-data/outputs-mono/550.wav', '/content/extracted-data/outputs-mono/511.wav', '/content/extracted-data/outputs-mono/252.wav', '/content/extracted-data/outputs-mono/196.wav', '/content/extracted-data/outputs-mono/591.wav', '/content/extracted-data/outputs-mono/208.wav', '/content/extracted-data/outputs-mono/514.wav', '/content/extracted-data/outputs-mono/981.wav', '/content/extracted-data/outputs-mono/931.wav', '/content/extracted-data/outputs-mono/60.wav', '/content/extracted-data/outputs-mono/189.wav', '/content/extracted-data/outputs-mono/64.wav', '/content/extracted-data/outputs-mono/22.wav', '/content/extracted-data/outputs-mono/681.wav', '/content/extracted-data/outputs-mono/917.wav', '/content/extracted-data/outputs-mono/950.wav', '/content/extracted-data/outputs-mono/768.wav', '/content/extracted-data/outputs-mono/99.wav', '/content/extracted-data/outputs-mono/237.wav', '/content/extracted-data/outputs-mono/342.wav', '/content/extracted-data/outputs-mono/989.wav', '/content/extracted-data/outputs-mono/845.wav', '/content/extracted-data/outputs-mono/12.wav', '/content/extracted-data/outputs-mono/363.wav', '/content/extracted-data/outputs-mono/903.wav', '/content/extracted-data/outputs-mono/840.wav', '/content/extracted-data/outputs-mono/174.wav', '/content/extracted-data/outputs-mono/893.wav', '/content/extracted-data/outputs-mono/138.wav', '/content/extracted-data/outputs-mono/901.wav', '/content/extracted-data/outputs-mono/382.wav', '/content/extracted-data/outputs-mono/906.wav', '/content/extracted-data/outputs-mono/707.wav', '/content/extracted-data/outputs-mono/260.wav', '/content/extracted-data/outputs-mono/117.wav', '/content/extracted-data/outputs-mono/611.wav', '/content/extracted-data/outputs-mono/594.wav', '/content/extracted-data/outputs-mono/701.wav', '/content/extracted-data/outputs-mono/740.wav', '/content/extracted-data/outputs-mono/795.wav', '/content/extracted-data/outputs-mono/559.wav', '/content/extracted-data/outputs-mono/271.wav', '/content/extracted-data/outputs-mono/730.wav', '/content/extracted-data/outputs-mono/823.wav', '/content/extracted-data/outputs-mono/120.wav', '/content/extracted-data/outputs-mono/194.wav', '/content/extracted-data/outputs-mono/230.wav', '/content/extracted-data/outputs-mono/761.wav', '/content/extracted-data/outputs-mono/388.wav', '/content/extracted-data/outputs-mono/736.wav', '/content/extracted-data/outputs-mono/758.wav', '/content/extracted-data/outputs-mono/500.wav', '/content/extracted-data/outputs-mono/631.wav', '/content/extracted-data/outputs-mono/299.wav', '/content/extracted-data/outputs-mono/556.wav', '/content/extracted-data/outputs-mono/985.wav', '/content/extracted-data/outputs-mono/205.wav', '/content/extracted-data/outputs-mono/359.wav', '/content/extracted-data/outputs-mono/938.wav', '/content/extracted-data/outputs-mono/135.wav', '/content/extracted-data/outputs-mono/814.wav', '/content/extracted-data/outputs-mono/186.wav', '/content/extracted-data/outputs-mono/539.wav', '/content/extracted-data/outputs-mono/651.wav', '/content/extracted-data/outputs-mono/796.wav', '/content/extracted-data/outputs-mono/283.wav', '/content/extracted-data/outputs-mono/184.wav', '/content/extracted-data/outputs-mono/516.wav', '/content/extracted-data/outputs-mono/711.wav', '/content/extracted-data/outputs-mono/152.wav', '/content/extracted-data/outputs-mono/692.wav', '/content/extracted-data/outputs-mono/853.wav', '/content/extracted-data/outputs-mono/163.wav', '/content/extracted-data/outputs-mono/328.wav', '/content/extracted-data/outputs-mono/339.wav', '/content/extracted-data/outputs-mono/679.wav', '/content/extracted-data/outputs-mono/883.wav', '/content/extracted-data/outputs-mono/17.wav', '/content/extracted-data/outputs-mono/94.wav', '/content/extracted-data/outputs-mono/780.wav', '/content/extracted-data/outputs-mono/371.wav', '/content/extracted-data/outputs-mono/884.wav', '/content/extracted-data/outputs-mono/765.wav', '/content/extracted-data/outputs-mono/586.wav', '/content/extracted-data/outputs-mono/103.wav', '/content/extracted-data/outputs-mono/629.wav', '/content/extracted-data/outputs-mono/59.wav', '/content/extracted-data/outputs-mono/248.wav', '/content/extracted-data/outputs-mono/400.wav', '/content/extracted-data/outputs-mono/608.wav', '/content/extracted-data/outputs-mono/642.wav', '/content/extracted-data/outputs-mono/852.wav', '/content/extracted-data/outputs-mono/353.wav', '/content/extracted-data/outputs-mono/672.wav', '/content/extracted-data/outputs-mono/617.wav', '/content/extracted-data/outputs-mono/200.wav', '/content/extracted-data/outputs-mono/969.wav', '/content/extracted-data/outputs-mono/180.wav', '/content/extracted-data/outputs-mono/615.wav', '/content/extracted-data/outputs-mono/168.wav', '/content/extracted-data/outputs-mono/978.wav', '/content/extracted-data/outputs-mono/384.wav', '/content/extracted-data/outputs-mono/904.wav', '/content/extracted-data/outputs-mono/331.wav', '/content/extracted-data/outputs-mono/261.wav', '/content/extracted-data/outputs-mono/28.wav', '/content/extracted-data/outputs-mono/810.wav', '/content/extracted-data/outputs-mono/928.wav', '/content/extracted-data/outputs-mono/433.wav', '/content/extracted-data/outputs-mono/76.wav', '/content/extracted-data/outputs-mono/164.wav', '/content/extracted-data/outputs-mono/957.wav', '/content/extracted-data/outputs-mono/197.wav', '/content/extracted-data/outputs-mono/37.wav', '/content/extracted-data/outputs-mono/244.wav', '/content/extracted-data/outputs-mono/185.wav', '/content/extracted-data/outputs-mono/839.wav', '/content/extracted-data/outputs-mono/240.wav', '/content/extracted-data/outputs-mono/448.wav', '/content/extracted-data/outputs-mono/475.wav', '/content/extracted-data/outputs-mono/15.wav', '/content/extracted-data/outputs-mono/685.wav', '/content/extracted-data/outputs-mono/253.wav', '/content/extracted-data/outputs-mono/61.wav', '/content/extracted-data/outputs-mono/477.wav', '/content/extracted-data/outputs-mono/307.wav', '/content/extracted-data/outputs-mono/571.wav', '/content/extracted-data/outputs-mono/72.wav', '/content/extracted-data/outputs-mono/193.wav', '/content/extracted-data/outputs-mono/958.wav', '/content/extracted-data/outputs-mono/553.wav', '/content/extracted-data/outputs-mono/954.wav', '/content/extracted-data/outputs-mono/52.wav', '/content/extracted-data/outputs-mono/417.wav', '/content/extracted-data/outputs-mono/579.wav', '/content/extracted-data/outputs-mono/588.wav', '/content/extracted-data/outputs-mono/19.wav', '/content/extracted-data/outputs-mono/627.wav', '/content/extracted-data/outputs-mono/344.wav', '/content/extracted-data/outputs-mono/717.wav', '/content/extracted-data/outputs-mono/797.wav', '/content/extracted-data/outputs-mono/498.wav', '/content/extracted-data/outputs-mono/581.wav', '/content/extracted-data/outputs-mono/298.wav', '/content/extracted-data/outputs-mono/682.wav', '/content/extracted-data/outputs-mono/290.wav', '/content/extracted-data/outputs-mono/83.wav', '/content/extracted-data/outputs-mono/902.wav', '/content/extracted-data/outputs-mono/909.wav', '/content/extracted-data/outputs-mono/469.wav', '/content/extracted-data/outputs-mono/949.wav', '/content/extracted-data/outputs-mono/892.wav', '/content/extracted-data/outputs-mono/548.wav', '/content/extracted-data/outputs-mono/262.wav', '/content/extracted-data/outputs-mono/14.wav', '/content/extracted-data/outputs-mono/622.wav', '/content/extracted-data/outputs-mono/126.wav', '/content/extracted-data/outputs-mono/966.wav', '/content/extracted-data/outputs-mono/726.wav', '/content/extracted-data/outputs-mono/29.wav', '/content/extracted-data/outputs-mono/876.wav', '/content/extracted-data/outputs-mono/203.wav', '/content/extracted-data/outputs-mono/748.wav', '/content/extracted-data/outputs-mono/583.wav', '/content/extracted-data/outputs-mono/546.wav', '/content/extracted-data/outputs-mono/818.wav', '/content/extracted-data/outputs-mono/990.wav', '/content/extracted-data/outputs-mono/110.wav', '/content/extracted-data/outputs-mono/131.wav', '/content/extracted-data/outputs-mono/775.wav', '/content/extracted-data/outputs-mono/68.wav', '/content/extracted-data/outputs-mono/733.wav', '/content/extracted-data/outputs-mono/242.wav', '/content/extracted-data/outputs-mono/7.wav', '/content/extracted-data/outputs-mono/491.wav', '/content/extracted-data/outputs-mono/256.wav', '/content/extracted-data/outputs-mono/587.wav', '/content/extracted-data/outputs-mono/16.wav', '/content/extracted-data/outputs-mono/596.wav', '/content/extracted-data/outputs-mono/580.wav', '/content/extracted-data/outputs-mono/562.wav', '/content/extracted-data/outputs-mono/312.wav', '/content/extracted-data/outputs-mono/986.wav', '/content/extracted-data/outputs-mono/100.wav', '/content/extracted-data/outputs-mono/667.wav', '/content/extracted-data/outputs-mono/341.wav', '/content/extracted-data/outputs-mono/771.wav', '/content/extracted-data/outputs-mono/314.wav', '/content/extracted-data/outputs-mono/799.wav', '/content/extracted-data/outputs-mono/747.wav', '/content/extracted-data/outputs-mono/821.wav', '/content/extracted-data/outputs-mono/26.wav', '/content/extracted-data/outputs-mono/265.wav', '/content/extracted-data/outputs-mono/121.wav', '/content/extracted-data/outputs-mono/907.wav', '/content/extracted-data/outputs-mono/769.wav', '/content/extracted-data/outputs-mono/414.wav', '/content/extracted-data/outputs-mono/158.wav', '/content/extracted-data/outputs-mono/813.wav', '/content/extracted-data/outputs-mono/485.wav', '/content/extracted-data/outputs-mono/481.wav', '/content/extracted-data/outputs-mono/455.wav', '/content/extracted-data/outputs-mono/860.wav', '/content/extracted-data/outputs-mono/968.wav', '/content/extracted-data/outputs-mono/140.wav', '/content/extracted-data/outputs-mono/697.wav', '/content/extracted-data/outputs-mono/176.wav', '/content/extracted-data/outputs-mono/166.wav', '/content/extracted-data/outputs-mono/870.wav', '/content/extracted-data/outputs-mono/800.wav', '/content/extracted-data/outputs-mono/802.wav', '/content/extracted-data/outputs-mono/936.wav', '/content/extracted-data/outputs-mono/286.wav', '/content/extracted-data/outputs-mono/175.wav', '/content/extracted-data/outputs-mono/236.wav', '/content/extracted-data/outputs-mono/366.wav', '/content/extracted-data/outputs-mono/979.wav', '/content/extracted-data/outputs-mono/755.wav', '/content/extracted-data/outputs-mono/313.wav', '/content/extracted-data/outputs-mono/275.wav', '/content/extracted-data/outputs-mono/798.wav', '/content/extracted-data/outputs-mono/850.wav', '/content/extracted-data/outputs-mono/209.wav', '/content/extracted-data/outputs-mono/4.wav', '/content/extracted-data/outputs-mono/340.wav', '/content/extracted-data/outputs-mono/30.wav', '/content/extracted-data/outputs-mono/46.wav', '/content/extracted-data/outputs-mono/932.wav', '/content/extracted-data/outputs-mono/671.wav', '/content/extracted-data/outputs-mono/310.wav', '/content/extracted-data/outputs-mono/590.wav', '/content/extracted-data/outputs-mono/756.wav', '/content/extracted-data/outputs-mono/843.wav', '/content/extracted-data/outputs-mono/160.wav', '/content/extracted-data/outputs-mono/794.wav', '/content/extracted-data/outputs-mono/488.wav', '/content/extracted-data/outputs-mono/628.wav', '/content/extracted-data/outputs-mono/486.wav', '/content/extracted-data/outputs-mono/483.wav', '/content/extracted-data/outputs-mono/582.wav', '/content/extracted-data/outputs-mono/212.wav', '/content/extracted-data/outputs-mono/663.wav', '/content/extracted-data/outputs-mono/43.wav', '/content/extracted-data/outputs-mono/532.wav', '/content/extracted-data/outputs-mono/38.wav', '/content/extracted-data/outputs-mono/656.wav', '/content/extracted-data/outputs-mono/727.wav', '/content/extracted-data/outputs-mono/348.wav', '/content/extracted-data/outputs-mono/521.wav', '/content/extracted-data/outputs-mono/207.wav', '/content/extracted-data/outputs-mono/700.wav', '/content/extracted-data/outputs-mono/402.wav', '/content/extracted-data/outputs-mono/459.wav', '/content/extracted-data/outputs-mono/543.wav', '/content/extracted-data/outputs-mono/754.wav', '/content/extracted-data/outputs-mono/396.wav', '/content/extracted-data/outputs-mono/432.wav', '/content/extracted-data/outputs-mono/992.wav', '/content/extracted-data/outputs-mono/526.wav', '/content/extracted-data/outputs-mono/492.wav', '/content/extracted-data/outputs-mono/33.wav', '/content/extracted-data/outputs-mono/929.wav', '/content/extracted-data/outputs-mono/34.wav', '/content/extracted-data/outputs-mono/288.wav', '/content/extracted-data/outputs-mono/436.wav', '/content/extracted-data/outputs-mono/399.wav', '/content/extracted-data/outputs-mono/702.wav', '/content/extracted-data/outputs-mono/144.wav', '/content/extracted-data/outputs-mono/316.wav', '/content/extracted-data/outputs-mono/953.wav', '/content/extracted-data/outputs-mono/578.wav', '/content/extracted-data/outputs-mono/413.wav', '/content/extracted-data/outputs-mono/935.wav', '/content/extracted-data/outputs-mono/221.wav', '/content/extracted-data/outputs-mono/560.wav', '/content/extracted-data/outputs-mono/706.wav', '/content/extracted-data/outputs-mono/688.wav', '/content/extracted-data/outputs-mono/306.wav', '/content/extracted-data/outputs-mono/422.wav', '/content/extracted-data/outputs-mono/51.wav', '/content/extracted-data/outputs-mono/419.wav', '/content/extracted-data/outputs-mono/210.wav', '/content/extracted-data/outputs-mono/709.wav', '/content/extracted-data/outputs-mono/872.wav', '/content/extracted-data/outputs-mono/952.wav', '/content/extracted-data/outputs-mono/409.wav', '/content/extracted-data/outputs-mono/604.wav', '/content/extracted-data/outputs-mono/360.wav', '/content/extracted-data/outputs-mono/89.wav', '/content/extracted-data/outputs-mono/731.wav', '/content/extracted-data/outputs-mono/575.wav', '/content/extracted-data/outputs-mono/56.wav', '/content/extracted-data/outputs-mono/630.wav', '/content/extracted-data/outputs-mono/36.wav', '/content/extracted-data/outputs-mono/638.wav', '/content/extracted-data/outputs-mono/584.wav', '/content/extracted-data/outputs-mono/321.wav', '/content/extracted-data/outputs-mono/10.wav', '/content/extracted-data/outputs-mono/563.wav', '/content/extracted-data/outputs-mono/303.wav', '/content/extracted-data/outputs-mono/161.wav', '/content/extracted-data/outputs-mono/74.wav', '/content/extracted-data/outputs-mono/482.wav', '/content/extracted-data/outputs-mono/282.wav', '/content/extracted-data/outputs-mono/322.wav', '/content/extracted-data/outputs-mono/947.wav', '/content/extracted-data/outputs-mono/407.wav', '/content/extracted-data/outputs-mono/250.wav', '/content/extracted-data/outputs-mono/739.wav', '/content/extracted-data/outputs-mono/738.wav', '/content/extracted-data/outputs-mono/557.wav', '/content/extracted-data/outputs-mono/461.wav', '/content/extracted-data/outputs-mono/45.wav', '/content/extracted-data/outputs-mono/854.wav', '/content/extracted-data/outputs-mono/468.wav', '/content/extracted-data/outputs-mono/910.wav', '/content/extracted-data/outputs-mono/927.wav', '/content/extracted-data/outputs-mono/565.wav', '/content/extracted-data/outputs-mono/23.wav', '/content/extracted-data/outputs-mono/423.wav', '/content/extracted-data/outputs-mono/355.wav', '/content/extracted-data/outputs-mono/350.wav', '/content/extracted-data/outputs-mono/690.wav', '/content/extracted-data/outputs-mono/524.wav', '/content/extracted-data/outputs-mono/493.wav', '/content/extracted-data/outputs-mono/401.wav', '/content/extracted-data/outputs-mono/886.wav', '/content/extracted-data/outputs-mono/589.wav', '/content/extracted-data/outputs-mono/752.wav', '/content/extracted-data/outputs-mono/621.wav', '/content/extracted-data/outputs-mono/18.wav', '/content/extracted-data/outputs-mono/458.wav', '/content/extracted-data/outputs-mono/597.wav', '/content/extracted-data/outputs-mono/123.wav', '/content/extracted-data/outputs-mono/675.wav', '/content/extracted-data/outputs-mono/865.wav', '/content/extracted-data/outputs-mono/774.wav', '/content/extracted-data/outputs-mono/501.wav', '/content/extracted-data/outputs-mono/785.wav', '/content/extracted-data/outputs-mono/181.wav', '/content/extracted-data/outputs-mono/147.wav', '/content/extracted-data/outputs-mono/601.wav', '/content/extracted-data/outputs-mono/285.wav', '/content/extracted-data/outputs-mono/105.wav', '/content/extracted-data/outputs-mono/646.wav', '/content/extracted-data/outputs-mono/889.wav', '/content/extracted-data/outputs-mono/859.wav', '/content/extracted-data/outputs-mono/699.wav', '/content/extracted-data/outputs-mono/454.wav', '/content/extracted-data/outputs-mono/113.wav', '/content/extracted-data/outputs-mono/50.wav', '/content/extracted-data/outputs-mono/215.wav', '/content/extracted-data/outputs-mono/518.wav', '/content/extracted-data/outputs-mono/980.wav', '/content/extracted-data/outputs-mono/530.wav', '/content/extracted-data/outputs-mono/246.wav', '/content/extracted-data/outputs-mono/47.wav', '/content/extracted-data/outputs-mono/276.wav', '/content/extracted-data/outputs-mono/346.wav', '/content/extracted-data/outputs-mono/710.wav', '/content/extracted-data/outputs-mono/998.wav', '/content/extracted-data/outputs-mono/665.wav', '/content/extracted-data/outputs-mono/942.wav', '/content/extracted-data/outputs-mono/609.wav', '/content/extracted-data/outputs-mono/143.wav', '/content/extracted-data/outputs-mono/995.wav', '/content/extracted-data/outputs-mono/855.wav', '/content/extracted-data/outputs-mono/393.wav', '/content/extracted-data/outputs-mono/812.wav', '/content/extracted-data/outputs-mono/624.wav', '/content/extracted-data/outputs-mono/356.wav', '/content/extracted-data/outputs-mono/664.wav', '/content/extracted-data/outputs-mono/693.wav', '/content/extracted-data/outputs-mono/976.wav', '/content/extracted-data/outputs-mono/572.wav', '/content/extracted-data/outputs-mono/899.wav', '/content/extracted-data/outputs-mono/157.wav', '/content/extracted-data/outputs-mono/66.wav', '/content/extracted-data/outputs-mono/266.wav', '/content/extracted-data/outputs-mono/944.wav', '/content/extracted-data/outputs-mono/381.wav', '/content/extracted-data/outputs-mono/878.wav', '/content/extracted-data/outputs-mono/783.wav', '/content/extracted-data/outputs-mono/567.wav', '/content/extracted-data/outputs-mono/639.wav', '/content/extracted-data/outputs-mono/691.wav', '/content/extracted-data/outputs-mono/916.wav', '/content/extracted-data/outputs-mono/392.wav', '/content/extracted-data/outputs-mono/162.wav', '/content/extracted-data/outputs-mono/918.wav', '/content/extracted-data/outputs-mono/35.wav', '/content/extracted-data/outputs-mono/834.wav', '/content/extracted-data/outputs-mono/759.wav', '/content/extracted-data/outputs-mono/86.wav', '/content/extracted-data/outputs-mono/268.wav', '/content/extracted-data/outputs-mono/934.wav', '/content/extracted-data/outputs-mono/465.wav', '/content/extracted-data/outputs-mono/513.wav', '/content/extracted-data/outputs-mono/380.wav', '/content/extracted-data/outputs-mono/722.wav', '/content/extracted-data/outputs-mono/490.wav', '/content/extracted-data/outputs-mono/574.wav', '/content/extracted-data/outputs-mono/527.wav', '/content/extracted-data/outputs-mono/742.wav', '/content/extracted-data/outputs-mono/847.wav', '/content/extracted-data/outputs-mono/24.wav', '/content/extracted-data/outputs-mono/159.wav', '/content/extracted-data/outputs-mono/721.wav', '/content/extracted-data/outputs-mono/425.wav', '/content/extracted-data/outputs-mono/11.wav', '/content/extracted-data/outputs-mono/657.wav', '/content/extracted-data/outputs-mono/177.wav', '/content/extracted-data/outputs-mono/487.wav', '/content/extracted-data/outputs-mono/705.wav', '/content/extracted-data/outputs-mono/983.wav', '/content/extracted-data/outputs-mono/522.wav', '/content/extracted-data/outputs-mono/69.wav', '/content/extracted-data/outputs-mono/782.wav', '/content/extracted-data/outputs-mono/48.wav', '/content/extracted-data/outputs-mono/593.wav', '/content/extracted-data/outputs-mono/79.wav', '/content/extracted-data/outputs-mono/678.wav', '/content/extracted-data/outputs-mono/767.wav', '/content/extracted-data/outputs-mono/811.wav', '/content/extracted-data/outputs-mono/77.wav', '/content/extracted-data/outputs-mono/848.wav', '/content/extracted-data/outputs-mono/773.wav', '/content/extracted-data/outputs-mono/479.wav', '/content/extracted-data/outputs-mono/49.wav', '/content/extracted-data/outputs-mono/832.wav', '/content/extracted-data/outputs-mono/822.wav', '/content/extracted-data/outputs-mono/687.wav', '/content/extracted-data/outputs-mono/633.wav', '/content/extracted-data/outputs-mono/766.wav', '/content/extracted-data/outputs-mono/127.wav', '/content/extracted-data/outputs-mono/828.wav', '/content/extracted-data/outputs-mono/956.wav', '/content/extracted-data/outputs-mono/365.wav', '/content/extracted-data/outputs-mono/894.wav', '/content/extracted-data/outputs-mono/660.wav', '/content/extracted-data/outputs-mono/169.wav', '/content/extracted-data/outputs-mono/21.wav', '/content/extracted-data/outputs-mono/238.wav', '/content/extracted-data/outputs-mono/988.wav', '/content/extracted-data/outputs-mono/576.wav', '/content/extracted-data/outputs-mono/887.wav', '/content/extracted-data/outputs-mono/223.wav', '/content/extracted-data/outputs-mono/421.wav', '/content/extracted-data/outputs-mono/807.wav', '/content/extracted-data/outputs-mono/880.wav', '/content/extracted-data/outputs-mono/87.wav', '/content/extracted-data/outputs-mono/227.wav', '/content/extracted-data/outputs-mono/106.wav', '/content/extracted-data/outputs-mono/888.wav', '/content/extracted-data/outputs-mono/25.wav', '/content/extracted-data/outputs-mono/605.wav', '/content/extracted-data/outputs-mono/65.wav', '/content/extracted-data/outputs-mono/732.wav', '/content/extracted-data/outputs-mono/714.wav', '/content/extracted-data/outputs-mono/846.wav', '/content/extracted-data/outputs-mono/424.wav', '/content/extracted-data/outputs-mono/804.wav', '/content/extracted-data/outputs-mono/824.wav', '/content/extracted-data/outputs-mono/137.wav', '/content/extracted-data/outputs-mono/336.wav', '/content/extracted-data/outputs-mono/150.wav', '/content/extracted-data/outputs-mono/6.wav', '/content/extracted-data/outputs-mono/319.wav', '/content/extracted-data/outputs-mono/385.wav', '/content/extracted-data/outputs-mono/508.wav', '/content/extracted-data/outputs-mono/439.wav', '/content/extracted-data/outputs-mono/97.wav', '/content/extracted-data/outputs-mono/239.wav', '/content/extracted-data/outputs-mono/820.wav', '/content/extracted-data/outputs-mono/982.wav', '/content/extracted-data/outputs-mono/53.wav', '/content/extracted-data/outputs-mono/506.wav', '/content/extracted-data/outputs-mono/305.wav', '/content/extracted-data/outputs-mono/234.wav', '/content/extracted-data/outputs-mono/279.wav', '/content/extracted-data/outputs-mono/251.wav', '/content/extracted-data/outputs-mono/296.wav', '/content/extracted-data/outputs-mono/520.wav', '/content/extracted-data/outputs-mono/440.wav', '/content/extracted-data/outputs-mono/480.wav', '/content/extracted-data/outputs-mono/948.wav', '/content/extracted-data/outputs-mono/154.wav', '/content/extracted-data/outputs-mono/338.wav', '/content/extracted-data/outputs-mono/897.wav', '/content/extracted-data/outputs-mono/654.wav', '/content/extracted-data/outputs-mono/960.wav', '/content/extracted-data/outputs-mono/124.wav', '/content/extracted-data/outputs-mono/308.wav', '/content/extracted-data/outputs-mono/971.wav', '/content/extracted-data/outputs-mono/661.wav', '/content/extracted-data/outputs-mono/751.wav', '/content/extracted-data/outputs-mono/801.wav', '/content/extracted-data/outputs-mono/647.wav', '/content/extracted-data/outputs-mono/720.wav', '/content/extracted-data/outputs-mono/510.wav', '/content/extracted-data/outputs-mono/502.wav', '/content/extracted-data/outputs-mono/815.wav', '/content/extracted-data/outputs-mono/96.wav', '/content/extracted-data/outputs-mono/351.wav', '/content/extracted-data/outputs-mono/746.wav', '/content/extracted-data/outputs-mono/132.wav', '/content/extracted-data/outputs-mono/715.wav', '/content/extracted-data/outputs-mono/397.wav', '/content/extracted-data/outputs-mono/961.wav', '/content/extracted-data/outputs-mono/496.wav', '/content/extracted-data/outputs-mono/323.wav', '/content/extracted-data/outputs-mono/289.wav', '/content/extracted-data/outputs-mono/345.wav', '/content/extracted-data/outputs-mono/415.wav', '/content/extracted-data/outputs-mono/361.wav', '/content/extracted-data/outputs-mono/362.wav', '/content/extracted-data/outputs-mono/875.wav', '/content/extracted-data/outputs-mono/134.wav', '/content/extracted-data/outputs-mono/272.wav']\n"
          ]
        }
      ]
    },
    {
      "cell_type": "markdown",
      "metadata": {
        "id": "VElzHF_ss3T1"
      },
      "source": [
        "# Split into folds"
      ]
    },
    {
      "cell_type": "code",
      "execution_count": null,
      "metadata": {
        "id": "ewneX_OJs7e9"
      },
      "outputs": [],
      "source": [
        "# fold1_train_events = convert_annotations_to_events(\"/content/development/TUT-sound-events-2017-development/evaluation_setup/street_fold1_train.txt\")\n",
        "# fold1_val_events = convert_annotations_to_events(\"/content/development/TUT-sound-events-2017-development/evaluation_setup/street_fold1_evaluate.txt\")\n",
        "# # using fold2 evaluate as test set\n",
        "# fold1_test_events = convert_annotations_to_events(\"/content/development/TUT-sound-events-2017-development/evaluation_setup/street_fold2_evaluate.txt\")\n",
        "# # use only half of it\n",
        "# fold1_test_events = fold1_test_events[:len(fold1_test_events) // 4]"
      ]
    },
    {
      "cell_type": "code",
      "execution_count": null,
      "metadata": {
        "colab": {
          "base_uri": "https://localhost:8080/"
        },
        "id": "gk-V6K0SCNt4",
        "outputId": "346b2a7e-a3bd-49e0-df72-f05865a83007"
      },
      "outputs": [
        {
          "output_type": "stream",
          "name": "stdout",
          "text": [
            "1000\n"
          ]
        }
      ],
      "source": [
        "# print('fold1_train_events:', len(fold1_train_events))\n",
        "# print('fold1_val_events:', len(fold1_val_events))\n",
        "# print('fold1_test_events:', len(fold1_test_events))\n",
        "\n",
        "fold1_train_files = []\n",
        "fold1_val_files = []\n",
        "fold1_test_files = []\n",
        "print(len(audio_files_mono))\n",
        "audio_files_mono = audio_files_mono[:100]\n",
        "i = 0\n",
        "for f in audio_files_mono:\n",
        "  if i < 70:\n",
        "    fold1_train_files.append(f)\n",
        "  elif i < 90:\n",
        "    fold1_val_files.append(f)\n",
        "  else:\n",
        "    fold1_test_files.append(f)\n",
        "  i+=1"
      ]
    },
    {
      "cell_type": "code",
      "execution_count": null,
      "metadata": {
        "id": "T4dQSO-6tXzT"
      },
      "outputs": [],
      "source": [
        "# fold1_train_files = set([f[0].replace(\"audio\", \"/content/development/TUT-sound-events-2017-development/audio-mono\") for f in fold1_train_events])\n",
        "# fold1_val_files = set([f[0].replace(\"audio\", \"/content/development/TUT-sound-events-2017-development/audio-mono\") for f in fold1_val_events])\n",
        "# fold1_test_files = set([f[0].replace(\"audio\", \"/content/development/TUT-sound-events-2017-development/audio-mono\") for f in fold1_test_events])"
      ]
    },
    {
      "cell_type": "code",
      "execution_count": null,
      "metadata": {
        "id": "rUElUf__xD3M"
      },
      "outputs": [],
      "source": [
        "def construct_examples(audio_path, win_len = 2.56, hop_len = 1.0, sr = 44100.0):\n",
        "  # here win_len is the window_length and hop_len is the hop_length between the examples.\n",
        "  # sr is the sampling rate\n",
        "\n",
        "  window_length_t = win_len\n",
        "  hop_length_t = hop_len\n",
        "\n",
        "  window_length = int(sr*window_length_t)\n",
        "  hop_length = int(sr*hop_length_t)\n",
        "\n",
        "  audio, sr = sf.read(audio_path)\n",
        "\n",
        "  # handle padding\n",
        "  if audio.shape[0] < window_length:\n",
        "    audio_padded = np.zeros((window_length, ))\n",
        "    audio_padded[0:audio.shape[0]] = audio \n",
        "\n",
        "  else:\n",
        "    no_of_hops = math.ceil((audio.shape[0] - window_length) / hop_length)\n",
        "    audio_padded = np.zeros((int(window_length + hop_length*no_of_hops), ))\n",
        "    audio_padded[0:audio.shape[0]] = audio  \n",
        "\n",
        "  audio_example = [audio_padded[i - window_length : i] for i in range(window_length, audio_padded.shape[0]+1, hop_length)]\n",
        "  win_ranges = [((i - window_length)/sr, i/sr) for i in range(window_length, audio_padded.shape[0]+1, hop_length)]\n",
        "\n",
        "  return audio_example, win_ranges"
      ]
    },
    {
      "cell_type": "code",
      "execution_count": null,
      "metadata": {
        "id": "5LScHoJOTkc6"
      },
      "outputs": [],
      "source": [
        "def construct_labels(annotation_path, win_start, win_end, win_len):\n",
        "  # takes the annotation_path, window_start, window_end and window_length\n",
        "  events = convert_annotations_to_events(annotation_path)\n",
        "\n",
        "  annotation_vals = [[float(e[0]), float(e[1]), e[2]] for e in events]\n",
        "\n",
        "  curr_annotation = []\n",
        "\n",
        "  for annotation in annotation_vals:\n",
        "    if annotation[1] > win_start and annotation[0] <= win_end: \n",
        "      curr_start = max(annotation[0] - win_start, 0.0)\n",
        "      curr_end = min(annotation[1] - win_start, win_len)\n",
        "      curr_annotation.append([curr_start, curr_end, annotation[2]])    \n",
        "\n",
        "  # get current class set from annotations\n",
        "  class_set = set([c[2] for c in curr_annotation])\n",
        "  class_wise_events = {}\n",
        "\n",
        "  for c in list(class_set):\n",
        "    class_wise_events[c] = []\n",
        "\n",
        "\n",
        "  for c in curr_annotation:\n",
        "    class_wise_events[c[2]].append(c)\n",
        "    \n",
        "  max_event_silence = 0.0\n",
        "  all_events = []\n",
        "\n",
        "  for k in list(class_wise_events.keys()):\n",
        "    curr_events = class_wise_events[k]\n",
        "    count = 0\n",
        "\n",
        "    while count < len(curr_events) - 1:\n",
        "      if (curr_events[count][1] >= curr_events[count + 1][0]) or (curr_events[count + 1][0] - curr_events[count][1] <= max_event_silence):\n",
        "        curr_events[count][1] = max(curr_events[count + 1][1], curr_events[count][1])\n",
        "        del curr_events[count + 1]\n",
        "      else:\n",
        "        count += 1\n",
        "\n",
        "    all_events += curr_events\n",
        "\n",
        "  for i in range(len(all_events)):\n",
        "    # round all the values so that they are not arbitarily long\n",
        "    all_events[i][0] = round(all_events[i][0], 3)\n",
        "    all_events[i][1] = round(all_events[i][1], 3)\n",
        "\n",
        "  all_events.sort(key=lambda x: x[0])\n",
        "\n",
        "  return all_events"
      ]
    },
    {
      "cell_type": "code",
      "execution_count": null,
      "metadata": {
        "id": "OWUk471lfTlv"
      },
      "outputs": [],
      "source": [
        "# def labels_by_class(events, class_dict, hop_len = 441, n_frames = 257, sr=44100): #seg...\n",
        "#   labels = np.zeros((n_frames, len(class_dict)), dtype=np.float32)\n",
        "\n",
        "#   for e in events:\n",
        "#     t1 = float(e[0])\n",
        "#     t1 = int(t1 / hop_len * sr)\n",
        "#     t2 = float(e[1])\n",
        "#     t2 = int(t2 / hop_len * sr)\n",
        "\n",
        "#     labels[t1:t2, class_dict[e[2]]] = 1    \n",
        "  \n",
        "#   return labels "
      ]
    },
    {
      "cell_type": "code",
      "execution_count": null,
      "metadata": {
        "id": "b32KeTkwsLEk"
      },
      "outputs": [],
      "source": [
        "def get_universal_labels(events, class_dict, ex_length = 10.0, no_of_div = 32):\n",
        "  # returns all labels from events\n",
        "  win_length = ex_length/no_of_div\n",
        "  labels = np.zeros((no_of_div, len(class_dict.keys()) * 3))\n",
        "  \n",
        "  for e in events:\n",
        "\n",
        "    start_time = float(e[0])\n",
        "    stop_time = float(e[1])\n",
        "    if (float(e[0]) == 2.56):\n",
        "      start_time = float(e[0] - 0.00001)\n",
        "    if (float(e[1] == 2.56)):\n",
        "      stop_time = float(e[1]- 0.000001)\n",
        "     \n",
        "\n",
        "    start_bin = int(start_time // win_length)\n",
        "    stop_bin = int(stop_time // win_length)\n",
        "\n",
        "    start_time_2 = start_time - start_bin * win_length\n",
        "    stop_time_2 = stop_time - stop_bin * win_length\n",
        "\n",
        "    n_bins = stop_bin - start_bin\n",
        "\n",
        "    if n_bins == 0:\n",
        "      labels[start_bin, class_dict[e[2]] * 3:class_dict[e[2]] * 3 + 3] = [1, start_time_2, stop_time_2]    \n",
        "\n",
        "    elif n_bins == 1:\n",
        "      labels[start_bin, class_dict[e[2]] * 3:class_dict[e[2]] * 3 + 3] = [1, start_time_2, win_length]\n",
        "\n",
        "      if stop_time_2 > 0.0:\n",
        "        labels[stop_bin, class_dict[e[2]] * 3:class_dict[e[2]] * 3 + 3] = [1, 0.0, stop_time_2]\n",
        "\n",
        "    elif n_bins > 1:\n",
        "      labels[start_bin, class_dict[e[2]] * 3:class_dict[e[2]] * 3 + 3] = [1, start_time_2, win_length]\n",
        "\n",
        "      for i in range(1, n_bins):\n",
        "        labels[start_bin + i, class_dict[e[2]] * 3:class_dict[e[2]] * 3 + 3] = [1, 0.0, win_length]\n",
        "\n",
        "      if stop_time_2 > 0.0:\n",
        "        labels[stop_bin, class_dict[e[2]] * 3:class_dict[e[2]] * 3 + 3] = [1, 0.0, stop_time_2]\n",
        "\n",
        "  # divide all time values by window_length\n",
        "  for labelIndex in range(len(labels)):\n",
        "    for valIndex in range(len(labels[labelIndex])):\n",
        "      if valIndex % 3 != 0:\n",
        "        labels[labelIndex][valIndex] /= win_length\n",
        "\n",
        "  return labels"
      ]
    },
    {
      "cell_type": "code",
      "execution_count": null,
      "metadata": {
        "id": "eh8YoqFVNhVf"
      },
      "outputs": [],
      "source": [
        "CLASS_ENCODING = {\"car\": 0, \"aircraft\": 1, \"crowds\":2, \"footsteps\":3, \"clocks\":4, \"rainforest\": 5}"
      ]
    },
    {
      "cell_type": "markdown",
      "metadata": {
        "id": "FWXK4awdQmx8"
      },
      "source": [
        "# Construct Datasets"
      ]
    },
    {
      "cell_type": "code",
      "execution_count": null,
      "metadata": {
        "id": "5mLnGwjXvm_P"
      },
      "outputs": [],
      "source": [
        "def construct_data_set(fold_files, path):\n",
        "  shutil.rmtree(path, ignore_errors=True)\n",
        "  os.mkdir(path)\n",
        "\n",
        "  window_length = 2.56\n",
        "  hop_length = 1.0\n",
        "  a_examples_train = []\n",
        "  a_labels_train = []\n",
        "\n",
        "\n",
        "  for i, audio in enumerate(fold_files):\n",
        "    a, window_ranges = construct_examples(audio,win_len=window_length, hop_len=hop_length)\n",
        "    a_examples_train += a\n",
        "\n",
        "    for w in window_ranges:\n",
        "      labels_t = construct_labels(audio.replace(\".wav\", \".txt\").replace('outputs-mono', 'outputs'), w[0], w[1], win_len=window_length)\n",
        "      ll = get_universal_labels(labels_t, CLASS_ENCODING, ex_length=window_length, no_of_div = 9)\n",
        "      a_labels_train.append(ll)\n",
        "  return a_examples_train, a_labels_train"
      ]
    },
    {
      "cell_type": "code",
      "execution_count": null,
      "metadata": {
        "id": "iUBSH4RDQ6_G"
      },
      "outputs": [],
      "source": [
        "examples_train, labels_train = construct_data_set(fold1_train_files, '/content/train-data')\n",
        "examples_val, labels_val = construct_data_set(fold1_val_files, '/content/val-data')\n",
        "examples_test, labels_test = construct_data_set(fold1_test_files, '/content/test-data')"
      ]
    },
    {
      "cell_type": "code",
      "execution_count": null,
      "metadata": {
        "id": "L0KpWtiP7asm",
        "colab": {
          "base_uri": "https://localhost:8080/"
        },
        "outputId": "db4c6233-4626-4a58-f8c9-1ca726af29a3"
      },
      "outputs": [
        {
          "output_type": "stream",
          "name": "stdout",
          "text": [
            "['/content/extracted-data/outputs-mono/211.wav', '/content/extracted-data/outputs-mono/558.wav', '/content/extracted-data/outputs-mono/808.wav', '/content/extracted-data/outputs-mono/528.wav', '/content/extracted-data/outputs-mono/734.wav', '/content/extracted-data/outputs-mono/776.wav', '/content/extracted-data/outputs-mono/90.wav', '/content/extracted-data/outputs-mono/535.wav', '/content/extracted-data/outputs-mono/145.wav', '/content/extracted-data/outputs-mono/451.wav', '/content/extracted-data/outputs-mono/856.wav', '/content/extracted-data/outputs-mono/292.wav', '/content/extracted-data/outputs-mono/367.wav', '/content/extracted-data/outputs-mono/293.wav', '/content/extracted-data/outputs-mono/3.wav', '/content/extracted-data/outputs-mono/195.wav', '/content/extracted-data/outputs-mono/330.wav', '/content/extracted-data/outputs-mono/156.wav', '/content/extracted-data/outputs-mono/5.wav', '/content/extracted-data/outputs-mono/416.wav']\n"
          ]
        }
      ],
      "source": [
        "print(fold1_val_files)"
      ]
    },
    {
      "cell_type": "markdown",
      "metadata": {
        "id": "6Ru11Of8RMzq"
      },
      "source": [
        "# Extract MelSpectrogram"
      ]
    },
    {
      "cell_type": "code",
      "execution_count": null,
      "metadata": {
        "id": "Tz6t6EslAhsJ"
      },
      "outputs": [],
      "source": [
        "def get_log_melspectrogram(audio, sr = 44100, hop_length = 441, win_length = 1764, n_fft = 2048, n_mels = 40, fmin = 0, fmax = 22050):\n",
        "    \"\"\"Return the log-scaled Mel bands of an audio signal.\"\"\"\n",
        "    audio_2 = librosa.util.normalize(audio)\n",
        "    bands = librosa.feature.melspectrogram(\n",
        "        y=audio_2, sr=sr, hop_length=hop_length, win_length = win_length, n_fft=n_fft, n_mels=n_mels)\n",
        "    return librosa.core.power_to_db(bands)"
      ]
    },
    {
      "cell_type": "code",
      "execution_count": null,
      "metadata": {
        "id": "-mSPzyS1-Q9-"
      },
      "outputs": [],
      "source": [
        "# save melspectrograms for entire set\n",
        "def save_example_mel(example_set, save_path):\n",
        "  for i, audio in enumerate(example_set):\n",
        "    M = get_log_melspectrogram(audio).T\n",
        "    # print(M.shape)\n",
        "    np.save(save_path + str(i) + \".npy\", M)\n",
        "\n",
        "# save labels in numpy format\n",
        "def save_labels_np(label_set, save_path):\n",
        "  for i, audio in enumerate(label_set):\n",
        "    np.save(save_path + str(i) + \".npy\", audio)\n"
      ]
    },
    {
      "cell_type": "code",
      "source": [],
      "metadata": {
        "id": "CHH32oZps3zl"
      },
      "execution_count": null,
      "outputs": []
    },
    {
      "cell_type": "code",
      "source": [],
      "metadata": {
        "id": "lQmmjY2Ms3rK"
      },
      "execution_count": null,
      "outputs": []
    },
    {
      "cell_type": "code",
      "execution_count": null,
      "metadata": {
        "id": "9R7pthk1-jjJ"
      },
      "outputs": [],
      "source": [
        "# save labels for entire train set\n",
        "train_path_ex = '/content/train-data/ex-'\n",
        "train_path_labels = '/content/train-data/label-'\n",
        "val_path_ex = '/content/val-data/ex-'\n",
        "val_path_labels = '/content/val-data/label-'\n",
        "test_path_ex = '/content/test-data/ex-'\n",
        "test_path_labels = '/content/test-data/label-'\n",
        "\n",
        "\n",
        "\n",
        "save_example_mel(examples_train, train_path_ex)\n",
        "save_labels_np(labels_train, train_path_labels)\n",
        "save_example_mel(examples_val, val_path_ex)\n",
        "save_labels_np(labels_val, val_path_labels)\n",
        "save_example_mel(examples_test, test_path_ex)\n",
        "save_labels_np(labels_test, test_path_labels)\n"
      ]
    },
    {
      "cell_type": "markdown",
      "metadata": {
        "id": "RvOuMznFRd09"
      },
      "source": [
        "# Sort and Partition Datasets\n"
      ]
    },
    {
      "cell_type": "code",
      "execution_count": null,
      "metadata": {
        "id": "uvMbxJLj9x5n"
      },
      "outputs": [],
      "source": [
        "def intOrVal(s):\n",
        "    try:\n",
        "        return int(s)\n",
        "    except ValueError:\n",
        "        return s\n",
        "    \n",
        "def alphanum_key(init_string):\n",
        "    \"\"\" Turn a string into a list of string and number chunks.\n",
        "        \"z23a\" -> [\"z\", 23, \"a\"]\n",
        "    \"\"\"\n",
        "    return [intOrVal(c) for c in re.split('([0-9]+)', init_string)]\n",
        "\n",
        "def sort_nicely(l):\n",
        "    \"\"\" Sort the given list in the way that humans expect.\n",
        "    \"\"\"\n",
        "    l.sort(key=alphanum_key)"
      ]
    },
    {
      "cell_type": "code",
      "execution_count": null,
      "metadata": {
        "id": "fjtncXqB91qu"
      },
      "outputs": [],
      "source": [
        "def get_sorted_data(regex_path):\n",
        "  data = glob.glob(regex_path) \n",
        "  sort_nicely(data)\n",
        "  return data\n",
        "\n",
        "\n",
        "\"\"\"\n",
        "Load the individual numpy arrays into partition\n",
        "\"\"\"\n",
        "train_data_examples_regex_path = \"/content/train-data/ex-*.npy\"\n",
        "train_data_labels_regex_path = \"/content/train-data/label-*.npy\"\n",
        "val_data_examples_regex_path = \"/content/val-data/ex-*.npy\"\n",
        "val_data_labels_regex_path = \"/content/val-data/label-*.npy\"\n",
        "test_data_examples_regex_path = \"/content/test-data/ex-*.npy\"\n",
        "test_data_labels_regex_path = \"/content/test-data/label-*.npy\"\n",
        "\n",
        "train_data = get_sorted_data(train_data_examples_regex_path)\n",
        "train_labels = get_sorted_data(train_data_labels_regex_path)\n",
        "\n",
        "val_data = get_sorted_data(val_data_examples_regex_path)\n",
        "val_labels = get_sorted_data(val_data_labels_regex_path)\n",
        "\n",
        "test_data = get_sorted_data(test_data_examples_regex_path)\n",
        "test_labels = get_sorted_data(test_data_labels_regex_path)\n",
        "\n",
        "training_examples = [(train_data[i], train_labels[i]) for i in range(len(train_data))]\n",
        "validation_examples = [(val_data[i], val_labels[i]) for i in range(len(val_data))]\n",
        "test_examples = [(test_data[i], test_labels[i]) for i in range(len(test_data))]\n",
        "\n",
        "# shuffle all training examples\n",
        "random.seed(7)\n",
        "random.shuffle(training_examples)\n",
        "random.shuffle(validation_examples)\n",
        "random.shuffle(test_examples)\n",
        "partition = {}\n",
        "partition['train'] = training_examples\n",
        "partition['validation'] = validation_examples\n",
        "partition['test'] = test_examples"
      ]
    },
    {
      "cell_type": "markdown",
      "metadata": {
        "id": "jJfMrLr0Tuxg"
      },
      "source": [
        "# Setup Data Generators"
      ]
    },
    {
      "cell_type": "code",
      "execution_count": null,
      "metadata": {
        "id": "-I5anQDD4b9b"
      },
      "outputs": [],
      "source": [
        "class DataGenerator(tf.keras.utils.Sequence):\n",
        "    'Generates data for Keras'\n",
        "    def __init__(self, list_examples, batch_size=128, shuffle=True):\n",
        "        # dim\n",
        "        # self.dim = (1,)\n",
        "        self.batch_size = batch_size\n",
        "        self.list_examples = list_examples\n",
        "        self.shuffle = shuffle\n",
        "\n",
        "        # initial shuffle\n",
        "        self.on_epoch_end()\n",
        "\n",
        "    def __len__(self):\n",
        "        'Denotes the number of batches per epoch'\n",
        "        return int(np.floor(len(self.list_examples) / self.batch_size))\n",
        "\n",
        "    def __getitem__(self, index):\n",
        "        'Generate one batch of data'\n",
        "        indexes = self.indexes[index*self.batch_size:(index+1)*self.batch_size]\n",
        "\n",
        "        # Find list of IDs\n",
        "        list_IDs_temp = [self.list_examples[k] for k in indexes]\n",
        "\n",
        "        # Generate data\n",
        "        X, Y = self.generate_data(list_IDs_temp)\n",
        "\n",
        "        return X, Y\n",
        "        \n",
        "    def on_epoch_end(self):\n",
        "      self.indexes = np.arange(len(self.list_examples))\n",
        "\n",
        "      # shuffle indexes at end of epoch\n",
        "      if self.shuffle == True:\n",
        "          np.random.shuffle(self.indexes)\n",
        "\n",
        "    def generate_data(self, list_IDs_temp):\n",
        "        # 'Generates data containing batch_size samples' # X : (n_samples, *dim, n_channels)\n",
        "        X = np.empty([self.batch_size, 257, 40, 1], dtype=np.float64)\n",
        "        Y = np.empty([self.batch_size, 9, 18], dtype=np.float64)\n",
        "\n",
        "        # Generate data\n",
        "        for i, ID in enumerate(list_IDs_temp):\n",
        "          # Store sample\n",
        "          # load npy array\n",
        "          np_x = np.load(ID[0])\n",
        "\n",
        "          X[i, :, :, 0] = np_x\n",
        "\n",
        "          # load class label\n",
        "          np_y = np.load(ID[1])\n",
        "          Y[i, :, :] = np_y\n",
        "\n",
        "        tau = X.shape[1]          \n",
        "        v = X.shape[2]\n",
        "\n",
        "        # frequency and time masking of X values\n",
        "        warped_frequency_spectrogram = spec_augment_tensorflow.frequency_masking(X, v=v,  frequency_masking_para=8, frequency_mask_num=1)\n",
        "        warped_frequency_time_spectrogram = spec_augment_tensorflow.time_masking(warped_frequency_spectrogram, tau=tau, time_masking_para=25, time_mask_num=2)\n",
        "\n",
        "        X = warped_frequency_time_spectrogram\n",
        "\n",
        "        return X, Y"
      ]
    },
    {
      "cell_type": "code",
      "execution_count": null,
      "metadata": {
        "id": "ylXiTH1Q_0vY"
      },
      "outputs": [],
      "source": [
        "# Parametersa\n",
        "params = {'batch_size': 32, 'shuffle': True}\n",
        "\n",
        "training_generator = DataGenerator(partition['train'], **params)\n",
        "validation_generator = DataGenerator(partition['validation'], **params)\n",
        "test_generator = DataGenerator(partition['test'], **params)"
      ]
    },
    {
      "cell_type": "markdown",
      "metadata": {
        "id": "Wp6_rpxJ-5FA"
      },
      "source": [
        "# Define the YOHO network"
      ]
    },
    {
      "cell_type": "code",
      "execution_count": null,
      "metadata": {
        "id": "kAHsOD5v-6no"
      },
      "outputs": [],
      "source": [
        "def square_difference_loss(y_true, y_pred):\n",
        "  squared_difference = tf.square(y_true - y_pred)\n",
        "\n",
        "  ss_True = squared_difference[:, :, 0] * 0 + 1 \n",
        "  # ss_True is batchsize, window_len of 1s\n",
        "\n",
        "  # get every 3 value of y_true\n",
        "  ss_0 = y_true[:, :, 0]\n",
        "  ss_1 = y_true[:, :, 3]\n",
        "  ss_2 = y_true[:, :, 6]\n",
        "  ss_3 = y_true[:, :, 9]\n",
        "  ss_4 = y_true[:, :, 12]\n",
        "  ss_5 = y_true[:, :, 15]\n",
        "  # labels across all batch sizes\n",
        "\n",
        "  # stack values\n",
        "  stacked_ss = tf.stack((ss_True, ss_0, ss_0,\n",
        "                         ss_True, ss_1, ss_1,\n",
        "                         ss_True, ss_2, ss_2,\n",
        "                         ss_True, ss_3, ss_3,\n",
        "                         ss_True, ss_4, ss_4,\n",
        "                         ss_True, ss_5, ss_5), axis = 2)\n",
        "  \n",
        "  squared_difference =  tf.multiply(squared_difference, stacked_ss)\n",
        "\n",
        "  return tf.reduce_sum(squared_difference, axis=[-1, -2])"
      ]
    },
    {
      "cell_type": "code",
      "execution_count": null,
      "metadata": {
        "id": "c6sEYWpa2zKd"
      },
      "outputs": [],
      "source": [
        "# Creates mel spctrograms for validation fold for training\n",
        "def create_val_melspectrograms():\n",
        "  win_length = 2.56\n",
        "  hop_size = 1.96\n",
        "  mss_ins = []\n",
        "  win_ranges_list = []\n",
        "\n",
        "\n",
        "  for ii, audio in enumerate(fold1_val_files): # why val?\n",
        "    a, win_ranges = construct_examples(audio, win_len=win_length,hop_len=hop_size)\n",
        "\n",
        "    mss_in = np.zeros((len(a), 257, 40))\n",
        "\n",
        "    preds = np.zeros((len(a), 9, 18))\n",
        "\n",
        "    for i in range(len(a)):\n",
        "      M = get_log_melspectrogram(a[i])\n",
        "      mss_in[i, :, :] = M.T\n",
        "    mss_ins.append(mss_in)\n",
        "    win_ranges_list.append(win_ranges)\n",
        "  return mss_ins,win_ranges_list\n",
        "\n",
        "\n",
        "BASE_MSS_INS, BASE_WIN_RANGE = create_val_melspectrograms()\n",
        "\n",
        "def mk_preds_YOHO_mel(model, ind, window_range_list=BASE_WIN_RANGE, mss_ins=BASE_MSS_INS, no_of_div = 9, hop_size = 1.96, discard = 0.3, win_length = 2.56, max_event_silence = 0.3, sampling_rate = 44100):\n",
        "  preds = model.predict(mss_ins[ind])\n",
        "  events = []\n",
        "\n",
        "  for i in range(len(preds)):\n",
        "    p = preds[i, :, :]\n",
        "    events_curr = []\n",
        "    win_width = win_length / no_of_div\n",
        "    for j in range(len(p)):\n",
        "      for jjj in range(0, 6):\n",
        "        if p[j][jjj*3] >= 0.5:\n",
        "          start = win_width * j + win_width * p[j][jjj*3+1] + window_range_list[ind][i][0]\n",
        "          end = p[j][jjj*3+2] * win_width + start\n",
        "          events_curr.append([start, end, rev_class_list[jjj]])\n",
        "\n",
        "    events += events_curr\n",
        "\n",
        "\n",
        "  class_set = set([c[2] for c in events])\n",
        "  class_wise_events = {}\n",
        "\n",
        "  for c in list(class_set):\n",
        "    class_wise_events[c] = []\n",
        "\n",
        "\n",
        "  for c in events:\n",
        "    class_wise_events[c[2]].append(c)\n",
        "    \n",
        "  \n",
        "  all_events = []\n",
        "\n",
        "  for k in list(class_wise_events.keys()):\n",
        "    curr_events = class_wise_events[k]\n",
        "    count = 0\n",
        "\n",
        "    while count < len(curr_events) - 1:\n",
        "      if (curr_events[count][1] >= curr_events[count + 1][0]) or (curr_events[count + 1][0] - curr_events[count][1] <= max_event_silence):\n",
        "        curr_events[count][1] = max(curr_events[count + 1][1], curr_events[count][1])\n",
        "        del curr_events[count + 1]\n",
        "      else:\n",
        "        count += 1\n",
        "\n",
        "    all_events += curr_events\n",
        "\n",
        "  for i in range(len(all_events)):\n",
        "    all_events[i][0] = round(all_events[i][0], 3)\n",
        "    all_events[i][1] = round(all_events[i][1], 3)\n",
        "\n",
        "  all_events.sort(key=lambda x: x[0])\n",
        "\n",
        "  return all_events\n",
        "\n"
      ]
    },
    {
      "cell_type": "code",
      "execution_count": null,
      "metadata": {
        "id": "RF3BfLy9Rt0Q",
        "colab": {
          "base_uri": "https://localhost:8080/"
        },
        "outputId": "dd861661-81f1-418d-f072-eb3c78de4df8"
      },
      "outputs": [
        {
          "output_type": "stream",
          "name": "stdout",
          "text": [
            "['car', 'aircraft', 'crowds', 'footsteps', 'clocks', 'rainforest']\n"
          ]
        }
      ],
      "source": [
        "rev_class_list = list(CLASS_ENCODING.keys())\n",
        "print(rev_class_list)"
      ]
    },
    {
      "cell_type": "code",
      "execution_count": null,
      "metadata": {
        "id": "xteY8W6XlaR_"
      },
      "outputs": [],
      "source": [
        "def frames_to_time(f, sr = 44100.0, hop_size = 441):\n",
        "  return f * hop_size / sr\n",
        "\n",
        "def preds_to_se(p, win_start, audio_clip_length = 2.56):\n",
        "  start_dicts = [-100, -100, -100, -100, -100, -100]\n",
        "  stop_dicts = [-100, -100, -100, -100, -100, -100]\n",
        "\n",
        "\n",
        "  start_speech = -100\n",
        "  start_music = -100\n",
        "  stop_speech = -100\n",
        "  stop_music = -100\n",
        "\n",
        "  audio_events = []\n",
        "\n",
        "  n_frames = p.shape[0]\n",
        "\n",
        "  for j in range(p.shape[1]):\n",
        "    if p[0, j] >= 0.5:\n",
        "      start_dicts[j] = 0\n",
        "\n",
        "  for j in range(p.shape[1]):\n",
        "    for i in range(n_frames - 1):\n",
        "      if p[i, j] < 0.5 and p[i+1, j] >= 0.5:\n",
        "        start_dicts[j] = i+1\n",
        "\n",
        "      elif p[i, j] >= 0.5 and p[i + 1, j] < 0.5:\n",
        "        stop_dicts[j] = i\n",
        "        start_time = frames_to_time(start_dicts[j])\n",
        "        stop_time = frames_to_time(stop_dicts[j])\n",
        "\n",
        "        audio_events.append([start_time+win_start, stop_time+win_start, rev_class_list[j]])\n",
        "        start_dicts[j] = -100\n",
        "        stop_dicts[j] = -100\n",
        "\n",
        "    if start_dicts[j] != -100:\n",
        "      start_time = frames_to_time(start_dicts[j])\n",
        "      stop_time = audio_clip_length\n",
        "      audio_events.append([start_time+win_start, stop_time+win_start, rev_class_list[j]])\n",
        "      start_dicts[j] = -100\n",
        "      stop_dicts[j] = -100\n",
        "\n",
        "  audio_events.sort(key = lambda x: x[0]) \n",
        "  return audio_events"
      ]
    },
    {
      "cell_type": "code",
      "execution_count": null,
      "metadata": {
        "id": "-lhO-or3cxJm"
      },
      "outputs": [],
      "source": [
        "def extract_eval_labels_2(annotation_path):\n",
        "  events = convert_annotations_to_events(annotation_path)\n",
        "\n",
        "  ann = [[float(e[0]), float(e[1]), e[2]] for e in events]\n",
        "  \n",
        "  n_label = \"/content/eval-files-2/\" + os.path.basename(annotation_path)\n",
        "\n",
        "  with open(n_label, 'w') as fp:\n",
        "    fp.write('\\n'.join('{},{},{}'.format(round(x[0], 5), round(x[1], 5), x[2]) for x in ann))"
      ]
    },
    {
      "cell_type": "code",
      "execution_count": null,
      "metadata": {
        "id": "i2pIA6vCcxJm"
      },
      "outputs": [],
      "source": [
        "shutil.rmtree('/content/eval-files-2/', ignore_errors=True)\n",
        "os.mkdir(\"/content/eval-files-2/\")"
      ]
    },
    {
      "cell_type": "code",
      "execution_count": null,
      "metadata": {
        "id": "HTXX7tItcxJn"
      },
      "outputs": [],
      "source": [
        "for audio in fold1_val_files:\n",
        "  extract_eval_labels_2(audio.replace(\".wav\", \".txt\").replace(\"outputs-mono\", \"outputs\"))"
      ]
    },
    {
      "cell_type": "code",
      "source": [
        "run.finish()"
      ],
      "metadata": {
        "colab": {
          "base_uri": "https://localhost:8080/",
          "height": 257
        },
        "id": "_ZR0lqgRUq7K",
        "outputId": "75dbc9aa-a88e-4fbe-dc4f-d4700c368fae"
      },
      "execution_count": null,
      "outputs": [
        {
          "output_type": "display_data",
          "data": {
            "text/plain": [
              "<IPython.core.display.HTML object>"
            ],
            "text/html": [
              "Waiting for W&B process to finish... <strong style=\"color:green\">(success).</strong>"
            ]
          },
          "metadata": {}
        },
        {
          "output_type": "display_data",
          "data": {
            "text/plain": [
              "<IPython.core.display.HTML object>"
            ],
            "text/html": [
              "<style>\n",
              "    table.wandb td:nth-child(1) { padding: 0 10px; text-align: left ; width: auto;} td:nth-child(2) {text-align: left ; width: 100%}\n",
              "    .wandb-row { display: flex; flex-direction: row; flex-wrap: wrap; justify-content: flex-start; width: 100% }\n",
              "    .wandb-col { display: flex; flex-direction: column; flex-basis: 100%; flex: 1; padding: 10px; }\n",
              "    </style>\n",
              "<div class=\"wandb-row\"><div class=\"wandb-col\"><h3>Run history:</h3><br/><table class=\"wandb\"><tr><td>curr_error</td><td>▁▁▁▁▁▁▁▁▁▁▁▁▁▁▂███████▇▇▇▇▇▇▇▇▇▇▇▇▇▇████</td></tr><tr><td>epoch</td><td>▁▁▁▁▂▂▂▂▂▃▃▃▃▃▃▄▄▄▄▄▅▅▅▅▅▅▆▆▆▆▆▆▇▇▇▇▇███</td></tr><tr><td>f_measure</td><td>▂▂▁▁▁▁▁▁▁▄▄▂▂▂▆▇▇▇▇▇▇▇██████████████▇▇▇▇</td></tr><tr><td>training_loss</td><td>▁▁▁▁▁▁▁▁▁▂▂▂▂▂▂▃████████████████████████</td></tr><tr><td>validation_loss</td><td>▁▁▁▁▁▁▁▁▁▂▂▂▂▂▂█████████████████████▇▇▇▇</td></tr></table><br/></div><div class=\"wandb-col\"><h3>Run summary:</h3><br/><table class=\"wandb\"><tr><td>curr_error</td><td>2.92017</td></tr><tr><td>epoch</td><td>52</td></tr><tr><td>f_measure</td><td>0.27486</td></tr><tr><td>training_loss</td><td>30.80531</td></tr><tr><td>validation_loss</td><td>30.04128</td></tr></table><br/></div></div>"
            ]
          },
          "metadata": {}
        },
        {
          "output_type": "display_data",
          "data": {
            "text/plain": [
              "<IPython.core.display.HTML object>"
            ],
            "text/html": [
              " View run <strong style=\"color:#cdcd00\">VGGish</strong> at: <a href='https://wandb.ai/eshetty-11785/idl-project/runs/lyhjpybw' target=\"_blank\">https://wandb.ai/eshetty-11785/idl-project/runs/lyhjpybw</a><br/>Synced 5 W&B file(s), 0 media file(s), 0 artifact file(s) and 2 other file(s)"
            ]
          },
          "metadata": {}
        },
        {
          "output_type": "display_data",
          "data": {
            "text/plain": [
              "<IPython.core.display.HTML object>"
            ],
            "text/html": [
              "Find logs at: <code>./wandb/run-20230427_202319-lyhjpybw/logs</code>"
            ]
          },
          "metadata": {}
        }
      ]
    },
    {
      "cell_type": "code",
      "source": [],
      "metadata": {
        "id": "G9KJrIkEdci8"
      },
      "execution_count": null,
      "outputs": []
    },
    {
      "cell_type": "code",
      "source": [
        "# !pip install wandb\n",
        "\n",
        "import wandb\n",
        "wandb.login(key=\"81a76bf7b4c360aaed690ff2b0d01f019725e53f\")\n",
        "run = wandb.init(\n",
        "    name = \"VGGish 3\", ## Wandb creates random run names if you skip this field\n",
        "    reinit = True, ### Allows reinitalizing runs when you re-run this cell\n",
        "    # run_id = ### Insert specific run id here if you want to resume a previous run\n",
        "    # resume = \"must\" ### You need this to resume previous runs, but comment out reinit = True when using this\n",
        "    project = \"idl-project\", ### Project should be created in your wandb account \n",
        "    config = {\n",
        "        'lr': 1e-3,\n",
        "        'architecture': 'VGG',\n",
        "        \n",
        "    } ### Wandb Config for your run\n",
        ")"
      ],
      "metadata": {
        "colab": {
          "base_uri": "https://localhost:8080/",
          "height": 398
        },
        "id": "tC2A9LCHVZHf",
        "outputId": "1635f35f-43ea-4acf-9a7e-62bd03a724e2"
      },
      "execution_count": null,
      "outputs": [
        {
          "output_type": "stream",
          "name": "stderr",
          "text": [
            "\u001b[34m\u001b[1mwandb\u001b[0m: \u001b[33mWARNING\u001b[0m Calling wandb.login() after wandb.init() has no effect.\n"
          ]
        },
        {
          "output_type": "display_data",
          "data": {
            "text/plain": [
              "<IPython.core.display.HTML object>"
            ],
            "text/html": [
              "Finishing last run (ID:o5rykrsx) before initializing another..."
            ]
          },
          "metadata": {}
        },
        {
          "output_type": "display_data",
          "data": {
            "text/plain": [
              "<IPython.core.display.HTML object>"
            ],
            "text/html": [
              "Waiting for W&B process to finish... <strong style=\"color:green\">(success).</strong>"
            ]
          },
          "metadata": {}
        },
        {
          "output_type": "display_data",
          "data": {
            "text/plain": [
              "<IPython.core.display.HTML object>"
            ],
            "text/html": [
              "<style>\n",
              "    table.wandb td:nth-child(1) { padding: 0 10px; text-align: left ; width: auto;} td:nth-child(2) {text-align: left ; width: 100%}\n",
              "    .wandb-row { display: flex; flex-direction: row; flex-wrap: wrap; justify-content: flex-start; width: 100% }\n",
              "    .wandb-col { display: flex; flex-direction: column; flex-basis: 100%; flex: 1; padding: 10px; }\n",
              "    </style>\n",
              "<div class=\"wandb-row\"><div class=\"wandb-col\"><h3>Run history:</h3><br/><table class=\"wandb\"><tr><td>curr_error</td><td>█▇▆▅▅▅▄▅▄▄▃▃▂▄▃▂▂▅▃▃▁▂▁▁▄▃▂▃▂▂▃▃▂▁▂▂▂▂▃▃</td></tr><tr><td>epoch</td><td>▁▁▁▂▂▂▂▂▂▃▃▃▃▃▃▄▄▄▄▄▅▅▅▅▅▅▆▆▆▆▆▇▇▇▇▇▇███</td></tr><tr><td>f_measure</td><td>▁▂▃▃▄▄▅▅▅▆▇▇▇▆▆▇▇▆▇▇█▇██▆▇▇▆▇█▇▇▇████▇▇▇</td></tr><tr><td>training_loss</td><td>█▇▆▅▅▅▅▄▄▄▄▃▃▃▃▃▃▃▃▂▂▂▂▂▂▂▂▂▂▂▂▂▂▁▁▁▁▁▁▁</td></tr><tr><td>validation_loss</td><td>▆█▆▇▆▅▆▆▅▅▅▄▅▃▄▄▃▂▄▃▃▄▄▃▃▄▂▃▂▃▁▃▁▂▁▂▃▂▂▂</td></tr></table><br/></div><div class=\"wandb-col\"><h3>Run summary:</h3><br/><table class=\"wandb\"><tr><td>curr_error</td><td>0.48391</td></tr><tr><td>epoch</td><td>99</td></tr><tr><td>f_measure</td><td>0.6942</td></tr><tr><td>training_loss</td><td>3.91661</td></tr><tr><td>validation_loss</td><td>5.34204</td></tr></table><br/></div></div>"
            ]
          },
          "metadata": {}
        },
        {
          "output_type": "display_data",
          "data": {
            "text/plain": [
              "<IPython.core.display.HTML object>"
            ],
            "text/html": [
              " View run <strong style=\"color:#cdcd00\">VGGish 2</strong> at: <a href='https://wandb.ai/eshetty-11785/idl-project/runs/o5rykrsx' target=\"_blank\">https://wandb.ai/eshetty-11785/idl-project/runs/o5rykrsx</a><br/>Synced 5 W&B file(s), 0 media file(s), 0 artifact file(s) and 2 other file(s)"
            ]
          },
          "metadata": {}
        },
        {
          "output_type": "display_data",
          "data": {
            "text/plain": [
              "<IPython.core.display.HTML object>"
            ],
            "text/html": [
              "Find logs at: <code>./wandb/run-20230427_204436-o5rykrsx/logs</code>"
            ]
          },
          "metadata": {}
        },
        {
          "output_type": "display_data",
          "data": {
            "text/plain": [
              "<IPython.core.display.HTML object>"
            ],
            "text/html": [
              "Successfully finished last run (ID:o5rykrsx). Initializing new run:<br/>"
            ]
          },
          "metadata": {}
        },
        {
          "output_type": "display_data",
          "data": {
            "text/plain": [
              "<IPython.core.display.HTML object>"
            ],
            "text/html": [
              "Tracking run with wandb version 0.15.0"
            ]
          },
          "metadata": {}
        },
        {
          "output_type": "display_data",
          "data": {
            "text/plain": [
              "<IPython.core.display.HTML object>"
            ],
            "text/html": [
              "Run data is saved locally in <code>/content/wandb/run-20230427_213616-lr3qjja0</code>"
            ]
          },
          "metadata": {}
        },
        {
          "output_type": "display_data",
          "data": {
            "text/plain": [
              "<IPython.core.display.HTML object>"
            ],
            "text/html": [
              "Syncing run <strong><a href='https://wandb.ai/eshetty-11785/idl-project/runs/lr3qjja0' target=\"_blank\">VGGish 3</a></strong> to <a href='https://wandb.ai/eshetty-11785/idl-project' target=\"_blank\">Weights & Biases</a> (<a href='https://wandb.me/run' target=\"_blank\">docs</a>)<br/>"
            ]
          },
          "metadata": {}
        },
        {
          "output_type": "display_data",
          "data": {
            "text/plain": [
              "<IPython.core.display.HTML object>"
            ],
            "text/html": [
              " View project at <a href='https://wandb.ai/eshetty-11785/idl-project' target=\"_blank\">https://wandb.ai/eshetty-11785/idl-project</a>"
            ]
          },
          "metadata": {}
        },
        {
          "output_type": "display_data",
          "data": {
            "text/plain": [
              "<IPython.core.display.HTML object>"
            ],
            "text/html": [
              " View run at <a href='https://wandb.ai/eshetty-11785/idl-project/runs/lr3qjja0' target=\"_blank\">https://wandb.ai/eshetty-11785/idl-project/runs/lr3qjja0</a>"
            ]
          },
          "metadata": {}
        }
      ]
    },
    {
      "cell_type": "markdown",
      "source": [],
      "metadata": {
        "id": "5xYUUItOV3At"
      }
    },
    {
      "cell_type": "markdown",
      "metadata": {
        "id": "b7xQxmcmNUi6"
      },
      "source": [
        "# Train Network"
      ]
    },
    {
      "cell_type": "markdown",
      "source": [
        "## VGGish"
      ],
      "metadata": {
        "id": "fpFGz4LV4564"
      }
    },
    {
      "cell_type": "code",
      "source": [
        "# Requirements\n",
        "!pip install numpy==1.21.6 resampy==0.2.2 tensorflow==2.8.2 tf_slim==1.1.0 six soundfile"
      ],
      "metadata": {
        "id": "RU04Dj3J49te"
      },
      "execution_count": null,
      "outputs": []
    },
    {
      "cell_type": "code",
      "source": [
        "!wget https://storage.googleapis.com/audioset/vggish_model.ckpt\n",
        "!wget https://storage.googleapis.com/audioset/vggish_pca_params.npz"
      ],
      "metadata": {
        "colab": {
          "base_uri": "https://localhost:8080/"
        },
        "id": "6cq4iUmV499X",
        "outputId": "baeab330-9ff5-435f-fc88-ca7274e12865"
      },
      "execution_count": null,
      "outputs": [
        {
          "output_type": "stream",
          "name": "stdout",
          "text": [
            "--2023-04-27 18:06:10--  https://storage.googleapis.com/audioset/vggish_model.ckpt\n",
            "Resolving storage.googleapis.com (storage.googleapis.com)... 74.125.68.128, 74.125.24.128, 142.250.4.128, ...\n",
            "Connecting to storage.googleapis.com (storage.googleapis.com)|74.125.68.128|:443... connected.\n",
            "HTTP request sent, awaiting response... 200 OK\n",
            "Length: 291108469 (278M) [application/octet-stream]\n",
            "Saving to: ‘vggish_model.ckpt’\n",
            "\n",
            "vggish_model.ckpt   100%[===================>] 277.62M  24.3MB/s    in 13s     \n",
            "\n",
            "2023-04-27 18:06:23 (21.3 MB/s) - ‘vggish_model.ckpt’ saved [291108469/291108469]\n",
            "\n",
            "--2023-04-27 18:06:23--  https://storage.googleapis.com/audioset/vggish_pca_params.npz\n",
            "Resolving storage.googleapis.com (storage.googleapis.com)... 74.125.68.128, 74.125.24.128, 142.250.4.128, ...\n",
            "Connecting to storage.googleapis.com (storage.googleapis.com)|74.125.68.128|:443... connected.\n",
            "HTTP request sent, awaiting response... 200 OK\n",
            "Length: 73020 (71K) [application/octet-stream]\n",
            "Saving to: ‘vggish_pca_params.npz’\n",
            "\n",
            "vggish_pca_params.n 100%[===================>]  71.31K   337KB/s    in 0.2s    \n",
            "\n",
            "2023-04-27 18:06:24 (337 KB/s) - ‘vggish_pca_params.npz’ saved [73020/73020]\n",
            "\n"
          ]
        }
      ]
    },
    {
      "cell_type": "code",
      "source": [
        "!git clone https://github.com/tensorflow/models.git"
      ],
      "metadata": {
        "id": "Ibmj5nSq5gTB"
      },
      "execution_count": null,
      "outputs": []
    },
    {
      "cell_type": "code",
      "source": [
        "import sys\n",
        "sys.path.append(\"/content/models/research/audioset/vggish\")\n",
        "import vggish_slim\n",
        "import vggish_params as params"
      ],
      "metadata": {
        "id": "q9eBJZmK5kXl"
      },
      "execution_count": null,
      "outputs": []
    },
    {
      "cell_type": "code",
      "source": [
        "params.EMBEDDING_SIZE"
      ],
      "metadata": {
        "colab": {
          "base_uri": "https://localhost:8080/"
        },
        "id": "CTJGba7v9UaF",
        "outputId": "5a380ca6-248e-43d0-d27d-023890576ac8"
      },
      "execution_count": null,
      "outputs": [
        {
          "output_type": "execute_result",
          "data": {
            "text/plain": [
              "128"
            ]
          },
          "metadata": {},
          "execution_count": 33
        }
      ]
    },
    {
      "cell_type": "markdown",
      "source": [],
      "metadata": {
        "id": "ZSTNF0H147iL"
      }
    },
    {
      "cell_type": "code",
      "execution_count": null,
      "metadata": {
        "id": "i9RIHH_49zOE"
      },
      "outputs": [],
      "source": [
        "class KerasFinalCallback(tf.keras.callbacks.Callback):\n",
        "  def __init__(self):\n",
        "    super(KerasFinalCallback, self).__init__()\n",
        "    self.best_f1 = 0.0\n",
        "    self.best_error = np.inf\n",
        "    \n",
        "  def on_train_begin(self, logs=None):\n",
        "    pass\n",
        "\n",
        "  def on_train_end(self, logs=None):\n",
        "    pass\n",
        "\n",
        "  def on_epoch_end(self, epoch, logs=None):\n",
        "    if epoch > 1:\n",
        "      for ii, audio in enumerate(fold1_val_files):\n",
        "        audio_file_path = audio\n",
        "        see = mk_preds_YOHO_mel(self.model, ii)\n",
        "        n_label = \"/content/eval-files-2/\" + os.path.basename(audio_file_path).replace(\".wav\" ,\"\") + \"-se-prediction.txt\"\n",
        "\n",
        "        with open(n_label, 'w') as fp:\n",
        "          fp.write('\\n'.join('{},{},{}'.format(round(x[0], 5), round(x[1], 5), x[2]) for x in see))\n",
        "\n",
        "      destination = \"/content/eval-files-2/\"\n",
        "      test_set = glob.glob(destination + \"*[0-9].txt\")\n",
        "\n",
        "      eval_path = \"/content/\"\n",
        "\n",
        "\n",
        "      file_list = [\n",
        "          {\n",
        "          'reference_file': tt,\n",
        "          'estimated_file': tt.replace(\".txt\",\"-se-prediction.txt\")\n",
        "          }\n",
        "          for tt in test_set\n",
        "      ]\n",
        "\n",
        "      data = []\n",
        "\n",
        "      # Get used event labels\n",
        "      all_data = dcase_util.containers.MetaDataContainer()\n",
        "      for file_pair in file_list:\n",
        "          reference_event_list = sed_eval.io.load_event_list(\n",
        "              filename=file_pair['reference_file']\n",
        "          )\n",
        "          estimated_event_list = sed_eval.io.load_event_list(\n",
        "              filename=file_pair['estimated_file']\n",
        "          )\n",
        "\n",
        "          data.append({'reference_event_list': reference_event_list,\n",
        "                      'estimated_event_list': estimated_event_list})\n",
        "\n",
        "          all_data += reference_event_list\n",
        "\n",
        "      event_labels = all_data.unique_event_labels\n",
        "\n",
        "      # Start evaluating\n",
        "\n",
        "      # Create metrics classes, define parameters\n",
        "      segment_based_metrics = sed_eval.sound_event.SegmentBasedMetrics(\n",
        "          event_label_list=event_labels,\n",
        "          time_resolution=1.0\n",
        "      )\n",
        "\n",
        "      event_based_metrics = sed_eval.sound_event.EventBasedMetrics(\n",
        "          event_label_list=event_labels,\n",
        "          t_collar=1.0\n",
        "      )\n",
        "\n",
        "      # Go through files\n",
        "      for file_pair in data:\n",
        "          segment_based_metrics.evaluate(\n",
        "              reference_event_list=file_pair['reference_event_list'],\n",
        "              estimated_event_list=file_pair['estimated_event_list']\n",
        "          )\n",
        "\n",
        "          event_based_metrics.evaluate(\n",
        "              reference_event_list=file_pair['reference_event_list'],\n",
        "              estimated_event_list=file_pair['estimated_event_list']\n",
        "          )\n",
        "\n",
        "      # Get only certain metrics\n",
        "      overall_segment_based_metrics = segment_based_metrics.results_overall_metrics()\n",
        "      curr_f1 = overall_segment_based_metrics['f_measure']['f_measure']\n",
        "      curr_error = overall_segment_based_metrics['error_rate']['error_rate']\n",
        "\n",
        "      wandb.log({\"f_measure\":curr_f1, 'curr_error': curr_error, 'validation_loss':logs['val_loss'], \n",
        "               'training_loss': logs['loss'], 'epoch': epoch})\n",
        "      print(logs)\n",
        "      if curr_f1 > self.best_f1:\n",
        "        self.best_f1 = curr_f1\n",
        "        self.model.save_weights(\"/content/model-best-f1.h5\")\n",
        "        wandb.save('/content/model-best-f1.h5')\n",
        "\n",
        "\n",
        "      if curr_error < self.best_error:\n",
        "        self.best_error = curr_error\n",
        "        self.model.save_weights(\"/content/model-best-error.h5\")\n",
        "        wandb.save('/content/model-best-error.h5')\n",
        "\n",
        "\n",
        "      print(\"F-measure: {:.3f} vs {:.3f}\".format(curr_f1, self.best_f1))\n",
        "      print(\"Error rate: {:.3f} vs {:.3f}\".format(curr_error, self.best_error))\n"
      ]
    },
    {
      "cell_type": "code",
      "execution_count": null,
      "metadata": {
        "id": "ujnpubM3Blr-"
      },
      "outputs": [],
      "source": [
        "class YOHOBlock:\n",
        "  def __init__(self, stride, num_filters, index, input):\n",
        "      X = tf.keras.layers.DepthwiseConv2D(kernel_size=[3,3], strides = stride, depth_multiplier=1, padding='same', use_bias=False,\n",
        "                                      activation=None, name=\"layer\"+ str(index + 2)+\"/depthwise_conv\")(input)\n",
        "      X = tf.keras.layers.BatchNormalization(center=True, scale=False, epsilon=1e-4, name = \"layer\"+ str(index + 2)+\"/depthwise_conv/bn\")(X)\n",
        "      X = tf.keras.layers.ReLU(name=\"layer\"+ str(index + 2)+\"/depthwise_conv/relu\")(X)\n",
        "      X = tf.keras.layers.Conv2D(filters =num_filters, kernel_size=[1, 1], strides=1, padding='same', use_bias=False, activation=None,\n",
        "                                name = \"layer\"+ str(index + 2)+\"/pointwise_conv\",\n",
        "                                kernel_regularizer=l2(0.01), bias_regularizer=l2(0.01))(X)\n",
        "      X = tf.keras.layers.BatchNormalization(center=True, scale=False, epsilon=1e-4, name = \"layer\"+ str(index + 2)+\"/pointwise_conv/bn\")(X)\n",
        "      self.output = tf.keras.layers.ReLU(name=\"layer\"+ str(index + 2)+\"/pointwise_conv/relu\")(X)\n",
        "\n",
        "class VGG:\n",
        "  def __init__(self, input):\n",
        "\n",
        "    # VGG Stack - inspired from https://github.com/tensorflow/models/blob/master/research/audioset/vggish/vggish_slim.py\n",
        "    X = tf.keras.layers.Conv2D(filters = 64, kernel_size = [3,3], strides = 1, padding = \"SAME\")(input) # conv1\n",
        "    X = tf.keras.layers.Conv2D(filters = 64, kernel_size = [3,3], strides = 2, padding = \"SAME\")(input) # conv1\n",
        "    # X = tf.keras.layers.MaxPool2D(pool_size = [2,2], strides = 2)(X) \n",
        "   \n",
        "    X = tf.keras.layers.Conv2D(filters = 128, kernel_size = [3,3], strides = 1, padding = \"SAME\")(X) # conv2\n",
        "    X = tf.keras.layers.Conv2D(filters = 128, kernel_size = [3,3], strides = 2, padding = \"SAME\")(X) # conv2\n",
        "    # X = tf.keras.layers.MaxPool2D(pool_size = [2,2], strides = 2)(X)\n",
        "    \n",
        "    X = tf.keras.layers.Conv2D(filters = 256, kernel_size = [3,3], strides = 1, padding = \"SAME\")(X) # conv3\n",
        "    X = tf.keras.layers.Conv2D(filters = 256, kernel_size = [3,3], strides = 1, padding = \"SAME\")(X) # conv3\n",
        "    X = tf.keras.layers.Conv2D(filters = 256, kernel_size = [3,3], strides = 2, padding = \"SAME\")(X) # conv3\n",
        "    # X = tf.keras.layers.MaxPool2D(pool_size = [2,2], strides = 2)(X)\n",
        "    \n",
        "    X = tf.keras.layers.Conv2D(filters = 512, kernel_size = [3,3], strides = 1, padding = \"SAME\")(X) # conv5\n",
        "    X = tf.keras.layers.Conv2D(filters = 512, kernel_size = [3,3], strides = 1, padding = \"SAME\")(X) # conv5\n",
        "    X = tf.keras.layers.Conv2D(filters = 512, kernel_size = [3,3], strides = 2, padding = \"SAME\")(X) # conv5\n",
        "    # X = tf.keras.layers.MaxPool2D(pool_size = [2,2], strides = 2)(X)\n",
        "    \n",
        "    X = tf.keras.layers.Conv2D(filters = 512, kernel_size = [3,3], strides = 1, padding = \"SAME\")(X) # conv5\n",
        "    X = tf.keras.layers.Conv2D(filters = 512, kernel_size = [3,3], strides = 1, padding = \"SAME\")(X) # conv5\n",
        "    X = tf.keras.layers.Conv2D(filters = 512, kernel_size = [3,3], strides = 2, padding = \"SAME\")(X) # conv5\n",
        "\n",
        "    X = tf.keras.layers.Conv2D(filters = params.EMBEDDING_SIZE, kernel_size = [3,3], strides = 1, padding = \"SAME\")(X) # conv5\n",
        "    # X = tf.keras.layers.MaxPool2D(pool_size = [2,2], strides = 2)(X)\n",
        "    \n",
        "    # # Flatten before entering FC layers\n",
        "    # print(\"Before Flatten: \", X.shape)\n",
        "    # X = tf.keras.layers.Flatten()(X)\n",
        "    # print(\"After Flatten: \", X.shape)\n",
        "    # X = tf.keras.layers.Dense(4096)(X) # fc1\n",
        "    # # embedding layer\n",
        "    # X = tf.keras.layers.Dense(params.EMBEDDING_SIZE)(X) # fc2\n",
        "\n",
        "    self.output = tf.keras.layers.ReLU()(X)\n",
        "\n",
        "\n",
        "\n",
        "class Network:\n",
        "  def __init__(self) -> None:\n",
        "    # self.NETWORK_BLOCK_LAYERS = [\n",
        "    #   # (stride, num_filters)\n",
        "    #   (1,   64),\n",
        "    #   (2,  128),\n",
        "    #   (1,  128),\n",
        "    #   (2,  256),\n",
        "    #   (1,  256),\n",
        "    #   (2,  512),\n",
        "    #   (1,  512),\n",
        "    #   (1,  512),\n",
        "    #   (1,  512),\n",
        "    #   (1,  512),\n",
        "    #   (1,  512),\n",
        "    #   (2, 1024),\n",
        "    #   (1, 1024),\n",
        "    #   (1, 512),\n",
        "    #   (1, 256),\n",
        "    #   (1, 128),\n",
        "    # ]\n",
        "    self.m_features = tf.keras.Input(shape=(257, 40), name=\"mel_input\")\n",
        "    X = self.m_features\n",
        "    X = tf.keras.layers.Reshape((257, 40, 1))(X)\n",
        "    X = VGG(X).output\n",
        "\n",
        "    # X = tf.keras.layers.Conv2D(filters = 32, kernel_size=[3, 3], strides=2, padding='same', use_bias=False,\n",
        "    #                           activation=None, name = \"layer1/conv\",\n",
        "    #                             kernel_regularizer=l2(1e-3), bias_regularizer=l2(1e-3))(X)\n",
        "    X = tf.keras.layers.BatchNormalization(center=True, scale=False, epsilon=1e-4, name = \"layer1/bn\")(X)\n",
        "    # X = tf.keras.layers.ReLU(name=\"layer1/relu\")(X)\n",
        "\n",
        "    X = tf.keras.layers.SpatialDropout2D(0.1)(X)\n",
        "    \n",
        "    # for index in range(len(self.NETWORK_BLOCK_LAYERS)):\n",
        "    #   X = YOHOBlock(stride=self.NETWORK_BLOCK_LAYERS[index][0], num_filters=self.NETWORK_BLOCK_LAYERS[index][1], index=index, input=X).output\n",
        "    # print(X.shape)\n",
        "    _, _, sx, sy = X.shape\n",
        "    X = tf.keras.layers.Reshape((-1, int(sx * sy)))(X)\n",
        "    # print(\"expected shape =\", X.shape)\n",
        "    self.pred = tf.keras.layers.Conv1D(18, kernel_size=1, activation=\"sigmoid\")(X)\n",
        "\n",
        "\n",
        "model_arch = Network()\n",
        "model = tf.keras.Model(\n",
        "      name='VGGish', inputs=model_arch.m_features,outputs=[model_arch.pred])"
      ]
    },
    {
      "cell_type": "code",
      "source": [
        "model.summary()"
      ],
      "metadata": {
        "colab": {
          "base_uri": "https://localhost:8080/"
        },
        "id": "7XO0RcGeS_uH",
        "outputId": "eda19ddf-c1d2-44ea-f5ea-dd040d936a1c"
      },
      "execution_count": null,
      "outputs": [
        {
          "output_type": "stream",
          "name": "stdout",
          "text": [
            "Model: \"VGGish\"\n",
            "_________________________________________________________________\n",
            " Layer (type)                Output Shape              Param #   \n",
            "=================================================================\n",
            " mel_input (InputLayer)      [(None, 257, 40)]         0         \n",
            "                                                                 \n",
            " reshape_6 (Reshape)         (None, 257, 40, 1)        0         \n",
            "                                                                 \n",
            " conv2d_43 (Conv2D)          (None, 129, 20, 64)       640       \n",
            "                                                                 \n",
            " conv2d_44 (Conv2D)          (None, 129, 20, 128)      73856     \n",
            "                                                                 \n",
            " conv2d_45 (Conv2D)          (None, 65, 10, 128)       147584    \n",
            "                                                                 \n",
            " conv2d_46 (Conv2D)          (None, 65, 10, 256)       295168    \n",
            "                                                                 \n",
            " conv2d_47 (Conv2D)          (None, 65, 10, 256)       590080    \n",
            "                                                                 \n",
            " conv2d_48 (Conv2D)          (None, 33, 5, 256)        590080    \n",
            "                                                                 \n",
            " conv2d_49 (Conv2D)          (None, 33, 5, 512)        1180160   \n",
            "                                                                 \n",
            " conv2d_50 (Conv2D)          (None, 33, 5, 512)        2359808   \n",
            "                                                                 \n",
            " conv2d_51 (Conv2D)          (None, 17, 3, 512)        2359808   \n",
            "                                                                 \n",
            " conv2d_52 (Conv2D)          (None, 17, 3, 512)        2359808   \n",
            "                                                                 \n",
            " conv2d_53 (Conv2D)          (None, 17, 3, 512)        2359808   \n",
            "                                                                 \n",
            " conv2d_54 (Conv2D)          (None, 9, 2, 512)         2359808   \n",
            "                                                                 \n",
            " conv2d_55 (Conv2D)          (None, 9, 2, 128)         589952    \n",
            "                                                                 \n",
            " re_lu_3 (ReLU)              (None, 9, 2, 128)         0         \n",
            "                                                                 \n",
            " layer1/bn (BatchNormalizati  (None, 9, 2, 128)        384       \n",
            " on)                                                             \n",
            "                                                                 \n",
            " spatial_dropout2d_2 (Spatia  (None, 9, 2, 128)        0         \n",
            " lDropout2D)                                                     \n",
            "                                                                 \n",
            " reshape_7 (Reshape)         (None, 9, 256)            0         \n",
            "                                                                 \n",
            " conv1d_3 (Conv1D)           (None, 9, 18)             4626      \n",
            "                                                                 \n",
            "=================================================================\n",
            "Total params: 15,271,570\n",
            "Trainable params: 15,271,314\n",
            "Non-trainable params: 256\n",
            "_________________________________________________________________\n"
          ]
        }
      ]
    },
    {
      "cell_type": "code",
      "execution_count": null,
      "metadata": {
        "id": "hSJFYjO4BqBQ"
      },
      "outputs": [],
      "source": [
        "learning_rate = params.LEARNING_RATE\n",
        "model.compile(optimizer=tf.keras.optimizers.Adam(learning_rate=learning_rate, epsilon = params.ADAM_EPSILON),\n",
        "              loss=square_difference_loss)"
      ]
    },
    {
      "cell_type": "code",
      "execution_count": null,
      "metadata": {
        "colab": {
          "base_uri": "https://localhost:8080/",
          "height": 1000
        },
        "id": "6FQFJ5yiB1OY",
        "outputId": "5d062338-a1ad-495b-f62d-aa5bc7bbd67d"
      },
      "outputs": [
        {
          "output_type": "stream",
          "name": "stdout",
          "text": [
            "Epoch 1/100\n"
          ]
        },
        {
          "output_type": "stream",
          "name": "stderr",
          "text": [
            "WARNING:tensorflow:Model was constructed with shape (None, 257, 40) for input KerasTensor(type_spec=TensorSpec(shape=(None, 257, 40), dtype=tf.float32, name='mel_input'), name='mel_input', description=\"created by layer 'mel_input'\"), but it was called on an input with incompatible shape (None, None, None, None).\n",
            "WARNING:tensorflow:Model was constructed with shape (None, 257, 40) for input KerasTensor(type_spec=TensorSpec(shape=(None, 257, 40), dtype=tf.float32, name='mel_input'), name='mel_input', description=\"created by layer 'mel_input'\"), but it was called on an input with incompatible shape (None, None, None, None).\n"
          ]
        },
        {
          "output_type": "stream",
          "name": "stdout",
          "text": [
            "  6/156 [>.............................] - ETA: 16s - loss: 13.3652"
          ]
        },
        {
          "output_type": "stream",
          "name": "stderr",
          "text": [
            "WARNING:tensorflow:Callback method `on_train_batch_end` is slow compared to the batch time (batch time: 0.0382s vs `on_train_batch_end` time: 0.0710s). Check your callbacks.\n"
          ]
        },
        {
          "output_type": "stream",
          "name": "stdout",
          "text": [
            "156/156 [==============================] - ETA: 0s - loss: 8.0950"
          ]
        },
        {
          "output_type": "stream",
          "name": "stderr",
          "text": [
            "WARNING:tensorflow:Model was constructed with shape (None, 257, 40) for input KerasTensor(type_spec=TensorSpec(shape=(None, 257, 40), dtype=tf.float32, name='mel_input'), name='mel_input', description=\"created by layer 'mel_input'\"), but it was called on an input with incompatible shape (None, None, None, None).\n"
          ]
        },
        {
          "output_type": "stream",
          "name": "stdout",
          "text": [
            "\b\b\b\b\b\b\b\b\b\b\b\b\b\b\b\b\b\b\b\b\b\b\b\b\b\b\b\b\b\b\b\b\b\b\b\b\b\b\b\b\b\b\b\b\b\b\b\b\b\b\b\b\b\b\b\b\b\b\b\b\b\b\b\b\b\r156/156 [==============================] - 19s 116ms/step - loss: 8.0950 - val_loss: 8.4209\n",
            "Epoch 2/100\n",
            "156/156 [==============================] - 18s 115ms/step - loss: 6.8811 - val_loss: 8.0677\n",
            "Epoch 3/100\n",
            "156/156 [==============================] - ETA: 0s - loss: 6.6071{'loss': 6.60706090927124, 'val_loss': 7.5403947830200195}\n",
            "F-measure: 0.489 vs 0.489\n",
            "Error rate: 0.709 vs 0.709\n",
            "156/156 [==============================] - 21s 133ms/step - loss: 6.6071 - val_loss: 7.5404\n",
            "Epoch 4/100\n",
            "156/156 [==============================] - ETA: 0s - loss: 6.4170{'loss': 6.416980743408203, 'val_loss': 7.565963268280029}\n",
            "F-measure: 0.442 vs 0.489\n",
            "Error rate: 0.722 vs 0.709\n",
            "156/156 [==============================] - 20s 126ms/step - loss: 6.4170 - val_loss: 7.5660\n",
            "Epoch 5/100\n",
            "156/156 [==============================] - ETA: 0s - loss: 6.3594{'loss': 6.359383583068848, 'val_loss': 7.229014873504639}\n",
            "F-measure: 0.475 vs 0.489\n",
            "Error rate: 0.720 vs 0.709\n",
            "156/156 [==============================] - 19s 125ms/step - loss: 6.3594 - val_loss: 7.2290\n",
            "Epoch 6/100\n",
            "156/156 [==============================] - ETA: 0s - loss: 6.1696{'loss': 6.169578552246094, 'val_loss': 6.703526020050049}\n",
            "F-measure: 0.536 vs 0.536\n",
            "Error rate: 0.598 vs 0.598\n",
            "156/156 [==============================] - 20s 129ms/step - loss: 6.1696 - val_loss: 6.7035\n",
            "Epoch 7/100\n",
            "156/156 [==============================] - ETA: 0s - loss: 6.1239{'loss': 6.1239166259765625, 'val_loss': 7.227231979370117}\n",
            "F-measure: 0.490 vs 0.536\n",
            "Error rate: 0.784 vs 0.598\n",
            "156/156 [==============================] - 20s 127ms/step - loss: 6.1239 - val_loss: 7.2272\n",
            "Epoch 8/100\n",
            "156/156 [==============================] - ETA: 0s - loss: 5.9407{'loss': 5.940733909606934, 'val_loss': 6.689907550811768}\n",
            "F-measure: 0.581 vs 0.581\n",
            "Error rate: 0.586 vs 0.586\n",
            "156/156 [==============================] - 21s 138ms/step - loss: 5.9407 - val_loss: 6.6899\n",
            "Epoch 9/100\n",
            "156/156 [==============================] - ETA: 0s - loss: 5.9541{'loss': 5.954064846038818, 'val_loss': 7.166424751281738}\n",
            "F-measure: 0.523 vs 0.581\n",
            "Error rate: 0.679 vs 0.586\n",
            "156/156 [==============================] - 21s 131ms/step - loss: 5.9541 - val_loss: 7.1664\n",
            "Epoch 10/100\n",
            "156/156 [==============================] - ETA: 0s - loss: 5.8881{'loss': 5.888145923614502, 'val_loss': 7.343267917633057}\n",
            "F-measure: 0.504 vs 0.581\n",
            "Error rate: 0.790 vs 0.586\n",
            "156/156 [==============================] - 20s 128ms/step - loss: 5.8881 - val_loss: 7.3433\n",
            "Epoch 11/100\n",
            "156/156 [==============================] - ETA: 0s - loss: 5.7048{'loss': 5.704844951629639, 'val_loss': 6.611232280731201}\n",
            "F-measure: 0.518 vs 0.581\n",
            "Error rate: 0.722 vs 0.586\n",
            "156/156 [==============================] - 20s 129ms/step - loss: 5.7048 - val_loss: 6.6112\n",
            "Epoch 12/100\n",
            "156/156 [==============================] - ETA: 0s - loss: 5.6270{'loss': 5.626971244812012, 'val_loss': 7.217721462249756}\n",
            "F-measure: 0.526 vs 0.581\n",
            "Error rate: 0.606 vs 0.586\n",
            "156/156 [==============================] - 20s 126ms/step - loss: 5.6270 - val_loss: 7.2177\n",
            "Epoch 13/100\n",
            "156/156 [==============================] - ETA: 0s - loss: 5.6200{'loss': 5.619996070861816, 'val_loss': 6.738542079925537}\n",
            "F-measure: 0.538 vs 0.581\n",
            "Error rate: 0.675 vs 0.586\n",
            "156/156 [==============================] - 20s 125ms/step - loss: 5.6200 - val_loss: 6.7385\n",
            "Epoch 14/100\n",
            "156/156 [==============================] - ETA: 0s - loss: 5.5426{'loss': 5.542619705200195, 'val_loss': 7.162017822265625}\n",
            "F-measure: 0.573 vs 0.581\n",
            "Error rate: 0.666 vs 0.586\n",
            "156/156 [==============================] - 20s 126ms/step - loss: 5.5426 - val_loss: 7.1620\n",
            "Epoch 15/100\n",
            "156/156 [==============================] - ETA: 0s - loss: 5.5568{'loss': 5.556816101074219, 'val_loss': 6.193136215209961}\n",
            "F-measure: 0.597 vs 0.597\n",
            "Error rate: 0.588 vs 0.586\n",
            "156/156 [==============================] - 20s 128ms/step - loss: 5.5568 - val_loss: 6.1931\n",
            "Epoch 16/100\n",
            "156/156 [==============================] - ETA: 0s - loss: 5.4277{'loss': 5.427728652954102, 'val_loss': 6.245667934417725}\n",
            "F-measure: 0.556 vs 0.597\n",
            "Error rate: 0.623 vs 0.586\n",
            "156/156 [==============================] - 20s 126ms/step - loss: 5.4277 - val_loss: 6.2457\n",
            "Epoch 17/100\n",
            "156/156 [==============================] - ETA: 0s - loss: 5.5124{'loss': 5.512357234954834, 'val_loss': 6.343452453613281}\n",
            "F-measure: 0.599 vs 0.599\n",
            "Error rate: 0.514 vs 0.514\n",
            "156/156 [==============================] - 21s 137ms/step - loss: 5.5124 - val_loss: 6.3435\n",
            "Epoch 18/100\n",
            "156/156 [==============================] - ETA: 0s - loss: 5.5162{'loss': 5.516247272491455, 'val_loss': 6.368086338043213}\n",
            "F-measure: 0.604 vs 0.604\n",
            "Error rate: 0.553 vs 0.514\n",
            "156/156 [==============================] - 20s 130ms/step - loss: 5.5162 - val_loss: 6.3681\n",
            "Epoch 19/100\n",
            "156/156 [==============================] - ETA: 0s - loss: 5.3756{'loss': 5.375582218170166, 'val_loss': 6.195723056793213}\n",
            "F-measure: 0.570 vs 0.604\n",
            "Error rate: 0.564 vs 0.514\n",
            "156/156 [==============================] - 20s 130ms/step - loss: 5.3756 - val_loss: 6.1957\n",
            "Epoch 20/100\n",
            "156/156 [==============================] - ETA: 0s - loss: 5.3613{'loss': 5.361300945281982, 'val_loss': 6.363234996795654}\n",
            "F-measure: 0.594 vs 0.604\n",
            "Error rate: 0.587 vs 0.514\n",
            "156/156 [==============================] - 22s 139ms/step - loss: 5.3613 - val_loss: 6.3632\n",
            "Epoch 21/100\n",
            "156/156 [==============================] - ETA: 0s - loss: 5.2858{'loss': 5.285778522491455, 'val_loss': 6.04826545715332}\n",
            "F-measure: 0.592 vs 0.604\n",
            "Error rate: 0.569 vs 0.514\n",
            "156/156 [==============================] - 20s 130ms/step - loss: 5.2858 - val_loss: 6.0483\n",
            "Epoch 22/100\n",
            "156/156 [==============================] - ETA: 0s - loss: 5.2933{'loss': 5.29334831237793, 'val_loss': 6.383370876312256}\n",
            "F-measure: 0.601 vs 0.604\n",
            "Error rate: 0.561 vs 0.514\n",
            "156/156 [==============================] - 20s 130ms/step - loss: 5.2933 - val_loss: 6.3834\n",
            "Epoch 23/100\n",
            "156/156 [==============================] - ETA: 0s - loss: 5.2394{'loss': 5.23938512802124, 'val_loss': 6.235538005828857}\n",
            "F-measure: 0.582 vs 0.604\n",
            "Error rate: 0.703 vs 0.514\n",
            "156/156 [==============================] - 20s 129ms/step - loss: 5.2394 - val_loss: 6.2355\n",
            "Epoch 24/100\n",
            " 34/156 [=====>........................] - ETA: 12s - loss: 5.1989"
          ]
        },
        {
          "output_type": "error",
          "ename": "KeyboardInterrupt",
          "evalue": "ignored",
          "traceback": [
            "\u001b[0;31m---------------------------------------------------------------------------\u001b[0m",
            "\u001b[0;31mKeyboardInterrupt\u001b[0m                         Traceback (most recent call last)",
            "\u001b[0;32m<ipython-input-57-f07c2f915129>\u001b[0m in \u001b[0;36m<cell line: 1>\u001b[0;34m()\u001b[0m\n\u001b[0;32m----> 1\u001b[0;31m \u001b[0mmodel\u001b[0m\u001b[0;34m.\u001b[0m\u001b[0mfit\u001b[0m\u001b[0;34m(\u001b[0m\u001b[0mtraining_generator\u001b[0m\u001b[0;34m,\u001b[0m \u001b[0mvalidation_data\u001b[0m\u001b[0;34m=\u001b[0m\u001b[0mvalidation_generator\u001b[0m\u001b[0;34m,\u001b[0m \u001b[0mepochs\u001b[0m\u001b[0;34m=\u001b[0m\u001b[0;36m100\u001b[0m\u001b[0;34m,\u001b[0m \u001b[0mcallbacks\u001b[0m\u001b[0;34m=\u001b[0m\u001b[0;34m[\u001b[0m\u001b[0mKerasFinalCallback\u001b[0m\u001b[0;34m(\u001b[0m\u001b[0;34m)\u001b[0m\u001b[0;34m]\u001b[0m\u001b[0;34m,\u001b[0m \u001b[0mverbose\u001b[0m\u001b[0;34m=\u001b[0m\u001b[0;36m1\u001b[0m\u001b[0;34m)\u001b[0m\u001b[0;34m\u001b[0m\u001b[0;34m\u001b[0m\u001b[0m\n\u001b[0m",
            "\u001b[0;32m/usr/local/lib/python3.10/dist-packages/keras/utils/traceback_utils.py\u001b[0m in \u001b[0;36merror_handler\u001b[0;34m(*args, **kwargs)\u001b[0m\n\u001b[1;32m     62\u001b[0m     \u001b[0mfiltered_tb\u001b[0m \u001b[0;34m=\u001b[0m \u001b[0;32mNone\u001b[0m\u001b[0;34m\u001b[0m\u001b[0;34m\u001b[0m\u001b[0m\n\u001b[1;32m     63\u001b[0m     \u001b[0;32mtry\u001b[0m\u001b[0;34m:\u001b[0m\u001b[0;34m\u001b[0m\u001b[0;34m\u001b[0m\u001b[0m\n\u001b[0;32m---> 64\u001b[0;31m       \u001b[0;32mreturn\u001b[0m \u001b[0mfn\u001b[0m\u001b[0;34m(\u001b[0m\u001b[0;34m*\u001b[0m\u001b[0margs\u001b[0m\u001b[0;34m,\u001b[0m \u001b[0;34m**\u001b[0m\u001b[0mkwargs\u001b[0m\u001b[0;34m)\u001b[0m\u001b[0;34m\u001b[0m\u001b[0;34m\u001b[0m\u001b[0m\n\u001b[0m\u001b[1;32m     65\u001b[0m     \u001b[0;32mexcept\u001b[0m \u001b[0mException\u001b[0m \u001b[0;32mas\u001b[0m \u001b[0me\u001b[0m\u001b[0;34m:\u001b[0m  \u001b[0;31m# pylint: disable=broad-except\u001b[0m\u001b[0;34m\u001b[0m\u001b[0;34m\u001b[0m\u001b[0m\n\u001b[1;32m     66\u001b[0m       \u001b[0mfiltered_tb\u001b[0m \u001b[0;34m=\u001b[0m \u001b[0m_process_traceback_frames\u001b[0m\u001b[0;34m(\u001b[0m\u001b[0me\u001b[0m\u001b[0;34m.\u001b[0m\u001b[0m__traceback__\u001b[0m\u001b[0;34m)\u001b[0m\u001b[0;34m\u001b[0m\u001b[0;34m\u001b[0m\u001b[0m\n",
            "\u001b[0;32m/usr/local/lib/python3.10/dist-packages/keras/engine/training.py\u001b[0m in \u001b[0;36mfit\u001b[0;34m(self, x, y, batch_size, epochs, verbose, callbacks, validation_split, validation_data, shuffle, class_weight, sample_weight, initial_epoch, steps_per_epoch, validation_steps, validation_batch_size, validation_freq, max_queue_size, workers, use_multiprocessing)\u001b[0m\n\u001b[1;32m   1387\u001b[0m               \u001b[0mlogs\u001b[0m \u001b[0;34m=\u001b[0m \u001b[0mtmp_logs\u001b[0m  \u001b[0;31m# No error, now safe to assign to logs.\u001b[0m\u001b[0;34m\u001b[0m\u001b[0;34m\u001b[0m\u001b[0m\n\u001b[1;32m   1388\u001b[0m               \u001b[0mend_step\u001b[0m \u001b[0;34m=\u001b[0m \u001b[0mstep\u001b[0m \u001b[0;34m+\u001b[0m \u001b[0mdata_handler\u001b[0m\u001b[0;34m.\u001b[0m\u001b[0mstep_increment\u001b[0m\u001b[0;34m\u001b[0m\u001b[0;34m\u001b[0m\u001b[0m\n\u001b[0;32m-> 1389\u001b[0;31m               \u001b[0mcallbacks\u001b[0m\u001b[0;34m.\u001b[0m\u001b[0mon_train_batch_end\u001b[0m\u001b[0;34m(\u001b[0m\u001b[0mend_step\u001b[0m\u001b[0;34m,\u001b[0m \u001b[0mlogs\u001b[0m\u001b[0;34m)\u001b[0m\u001b[0;34m\u001b[0m\u001b[0;34m\u001b[0m\u001b[0m\n\u001b[0m\u001b[1;32m   1390\u001b[0m               \u001b[0;32mif\u001b[0m \u001b[0mself\u001b[0m\u001b[0;34m.\u001b[0m\u001b[0mstop_training\u001b[0m\u001b[0;34m:\u001b[0m\u001b[0;34m\u001b[0m\u001b[0;34m\u001b[0m\u001b[0m\n\u001b[1;32m   1391\u001b[0m                 \u001b[0;32mbreak\u001b[0m\u001b[0;34m\u001b[0m\u001b[0;34m\u001b[0m\u001b[0m\n",
            "\u001b[0;32m/usr/local/lib/python3.10/dist-packages/keras/callbacks.py\u001b[0m in \u001b[0;36mon_train_batch_end\u001b[0;34m(self, batch, logs)\u001b[0m\n\u001b[1;32m    436\u001b[0m     \"\"\"\n\u001b[1;32m    437\u001b[0m     \u001b[0;32mif\u001b[0m \u001b[0mself\u001b[0m\u001b[0;34m.\u001b[0m\u001b[0m_should_call_train_batch_hooks\u001b[0m\u001b[0;34m:\u001b[0m\u001b[0;34m\u001b[0m\u001b[0;34m\u001b[0m\u001b[0m\n\u001b[0;32m--> 438\u001b[0;31m       \u001b[0mself\u001b[0m\u001b[0;34m.\u001b[0m\u001b[0m_call_batch_hook\u001b[0m\u001b[0;34m(\u001b[0m\u001b[0mModeKeys\u001b[0m\u001b[0;34m.\u001b[0m\u001b[0mTRAIN\u001b[0m\u001b[0;34m,\u001b[0m \u001b[0;34m'end'\u001b[0m\u001b[0;34m,\u001b[0m \u001b[0mbatch\u001b[0m\u001b[0;34m,\u001b[0m \u001b[0mlogs\u001b[0m\u001b[0;34m=\u001b[0m\u001b[0mlogs\u001b[0m\u001b[0;34m)\u001b[0m\u001b[0;34m\u001b[0m\u001b[0;34m\u001b[0m\u001b[0m\n\u001b[0m\u001b[1;32m    439\u001b[0m \u001b[0;34m\u001b[0m\u001b[0m\n\u001b[1;32m    440\u001b[0m   \u001b[0;32mdef\u001b[0m \u001b[0mon_test_batch_begin\u001b[0m\u001b[0;34m(\u001b[0m\u001b[0mself\u001b[0m\u001b[0;34m,\u001b[0m \u001b[0mbatch\u001b[0m\u001b[0;34m,\u001b[0m \u001b[0mlogs\u001b[0m\u001b[0;34m=\u001b[0m\u001b[0;32mNone\u001b[0m\u001b[0;34m)\u001b[0m\u001b[0;34m:\u001b[0m\u001b[0;34m\u001b[0m\u001b[0;34m\u001b[0m\u001b[0m\n",
            "\u001b[0;32m/usr/local/lib/python3.10/dist-packages/keras/callbacks.py\u001b[0m in \u001b[0;36m_call_batch_hook\u001b[0;34m(self, mode, hook, batch, logs)\u001b[0m\n\u001b[1;32m    295\u001b[0m       \u001b[0mself\u001b[0m\u001b[0;34m.\u001b[0m\u001b[0m_call_batch_begin_hook\u001b[0m\u001b[0;34m(\u001b[0m\u001b[0mmode\u001b[0m\u001b[0;34m,\u001b[0m \u001b[0mbatch\u001b[0m\u001b[0;34m,\u001b[0m \u001b[0mlogs\u001b[0m\u001b[0;34m)\u001b[0m\u001b[0;34m\u001b[0m\u001b[0;34m\u001b[0m\u001b[0m\n\u001b[1;32m    296\u001b[0m     \u001b[0;32melif\u001b[0m \u001b[0mhook\u001b[0m \u001b[0;34m==\u001b[0m \u001b[0;34m'end'\u001b[0m\u001b[0;34m:\u001b[0m\u001b[0;34m\u001b[0m\u001b[0;34m\u001b[0m\u001b[0m\n\u001b[0;32m--> 297\u001b[0;31m       \u001b[0mself\u001b[0m\u001b[0;34m.\u001b[0m\u001b[0m_call_batch_end_hook\u001b[0m\u001b[0;34m(\u001b[0m\u001b[0mmode\u001b[0m\u001b[0;34m,\u001b[0m \u001b[0mbatch\u001b[0m\u001b[0;34m,\u001b[0m \u001b[0mlogs\u001b[0m\u001b[0;34m)\u001b[0m\u001b[0;34m\u001b[0m\u001b[0;34m\u001b[0m\u001b[0m\n\u001b[0m\u001b[1;32m    298\u001b[0m     \u001b[0;32melse\u001b[0m\u001b[0;34m:\u001b[0m\u001b[0;34m\u001b[0m\u001b[0;34m\u001b[0m\u001b[0m\n\u001b[1;32m    299\u001b[0m       raise ValueError(\n",
            "\u001b[0;32m/usr/local/lib/python3.10/dist-packages/keras/callbacks.py\u001b[0m in \u001b[0;36m_call_batch_end_hook\u001b[0;34m(self, mode, batch, logs)\u001b[0m\n\u001b[1;32m    316\u001b[0m       \u001b[0mself\u001b[0m\u001b[0;34m.\u001b[0m\u001b[0m_batch_times\u001b[0m\u001b[0;34m.\u001b[0m\u001b[0mappend\u001b[0m\u001b[0;34m(\u001b[0m\u001b[0mbatch_time\u001b[0m\u001b[0;34m)\u001b[0m\u001b[0;34m\u001b[0m\u001b[0;34m\u001b[0m\u001b[0m\n\u001b[1;32m    317\u001b[0m \u001b[0;34m\u001b[0m\u001b[0m\n\u001b[0;32m--> 318\u001b[0;31m     \u001b[0mself\u001b[0m\u001b[0;34m.\u001b[0m\u001b[0m_call_batch_hook_helper\u001b[0m\u001b[0;34m(\u001b[0m\u001b[0mhook_name\u001b[0m\u001b[0;34m,\u001b[0m \u001b[0mbatch\u001b[0m\u001b[0;34m,\u001b[0m \u001b[0mlogs\u001b[0m\u001b[0;34m)\u001b[0m\u001b[0;34m\u001b[0m\u001b[0;34m\u001b[0m\u001b[0m\n\u001b[0m\u001b[1;32m    319\u001b[0m \u001b[0;34m\u001b[0m\u001b[0m\n\u001b[1;32m    320\u001b[0m     \u001b[0;32mif\u001b[0m \u001b[0mlen\u001b[0m\u001b[0;34m(\u001b[0m\u001b[0mself\u001b[0m\u001b[0;34m.\u001b[0m\u001b[0m_batch_times\u001b[0m\u001b[0;34m)\u001b[0m \u001b[0;34m>=\u001b[0m \u001b[0mself\u001b[0m\u001b[0;34m.\u001b[0m\u001b[0m_num_batches_for_timing_check\u001b[0m\u001b[0;34m:\u001b[0m\u001b[0;34m\u001b[0m\u001b[0;34m\u001b[0m\u001b[0m\n",
            "\u001b[0;32m/usr/local/lib/python3.10/dist-packages/keras/callbacks.py\u001b[0m in \u001b[0;36m_call_batch_hook_helper\u001b[0;34m(self, hook_name, batch, logs)\u001b[0m\n\u001b[1;32m    354\u001b[0m     \u001b[0;32mfor\u001b[0m \u001b[0mcallback\u001b[0m \u001b[0;32min\u001b[0m \u001b[0mself\u001b[0m\u001b[0;34m.\u001b[0m\u001b[0mcallbacks\u001b[0m\u001b[0;34m:\u001b[0m\u001b[0;34m\u001b[0m\u001b[0;34m\u001b[0m\u001b[0m\n\u001b[1;32m    355\u001b[0m       \u001b[0mhook\u001b[0m \u001b[0;34m=\u001b[0m \u001b[0mgetattr\u001b[0m\u001b[0;34m(\u001b[0m\u001b[0mcallback\u001b[0m\u001b[0;34m,\u001b[0m \u001b[0mhook_name\u001b[0m\u001b[0;34m)\u001b[0m\u001b[0;34m\u001b[0m\u001b[0;34m\u001b[0m\u001b[0m\n\u001b[0;32m--> 356\u001b[0;31m       \u001b[0mhook\u001b[0m\u001b[0;34m(\u001b[0m\u001b[0mbatch\u001b[0m\u001b[0;34m,\u001b[0m \u001b[0mlogs\u001b[0m\u001b[0;34m)\u001b[0m\u001b[0;34m\u001b[0m\u001b[0;34m\u001b[0m\u001b[0m\n\u001b[0m\u001b[1;32m    357\u001b[0m \u001b[0;34m\u001b[0m\u001b[0m\n\u001b[1;32m    358\u001b[0m     \u001b[0;32mif\u001b[0m \u001b[0mself\u001b[0m\u001b[0;34m.\u001b[0m\u001b[0m_check_timing\u001b[0m\u001b[0;34m:\u001b[0m\u001b[0;34m\u001b[0m\u001b[0;34m\u001b[0m\u001b[0m\n",
            "\u001b[0;32m/usr/local/lib/python3.10/dist-packages/keras/callbacks.py\u001b[0m in \u001b[0;36mon_train_batch_end\u001b[0;34m(self, batch, logs)\u001b[0m\n\u001b[1;32m   1032\u001b[0m \u001b[0;34m\u001b[0m\u001b[0m\n\u001b[1;32m   1033\u001b[0m   \u001b[0;32mdef\u001b[0m \u001b[0mon_train_batch_end\u001b[0m\u001b[0;34m(\u001b[0m\u001b[0mself\u001b[0m\u001b[0;34m,\u001b[0m \u001b[0mbatch\u001b[0m\u001b[0;34m,\u001b[0m \u001b[0mlogs\u001b[0m\u001b[0;34m=\u001b[0m\u001b[0;32mNone\u001b[0m\u001b[0;34m)\u001b[0m\u001b[0;34m:\u001b[0m\u001b[0;34m\u001b[0m\u001b[0;34m\u001b[0m\u001b[0m\n\u001b[0;32m-> 1034\u001b[0;31m     \u001b[0mself\u001b[0m\u001b[0;34m.\u001b[0m\u001b[0m_batch_update_progbar\u001b[0m\u001b[0;34m(\u001b[0m\u001b[0mbatch\u001b[0m\u001b[0;34m,\u001b[0m \u001b[0mlogs\u001b[0m\u001b[0;34m)\u001b[0m\u001b[0;34m\u001b[0m\u001b[0;34m\u001b[0m\u001b[0m\n\u001b[0m\u001b[1;32m   1035\u001b[0m \u001b[0;34m\u001b[0m\u001b[0m\n\u001b[1;32m   1036\u001b[0m   \u001b[0;32mdef\u001b[0m \u001b[0mon_test_batch_end\u001b[0m\u001b[0;34m(\u001b[0m\u001b[0mself\u001b[0m\u001b[0;34m,\u001b[0m \u001b[0mbatch\u001b[0m\u001b[0;34m,\u001b[0m \u001b[0mlogs\u001b[0m\u001b[0;34m=\u001b[0m\u001b[0;32mNone\u001b[0m\u001b[0;34m)\u001b[0m\u001b[0;34m:\u001b[0m\u001b[0;34m\u001b[0m\u001b[0;34m\u001b[0m\u001b[0m\n",
            "\u001b[0;32m/usr/local/lib/python3.10/dist-packages/keras/callbacks.py\u001b[0m in \u001b[0;36m_batch_update_progbar\u001b[0;34m(self, batch, logs)\u001b[0m\n\u001b[1;32m   1104\u001b[0m     \u001b[0;32mif\u001b[0m \u001b[0mself\u001b[0m\u001b[0;34m.\u001b[0m\u001b[0mverbose\u001b[0m \u001b[0;34m==\u001b[0m \u001b[0;36m1\u001b[0m\u001b[0;34m:\u001b[0m\u001b[0;34m\u001b[0m\u001b[0;34m\u001b[0m\u001b[0m\n\u001b[1;32m   1105\u001b[0m       \u001b[0;31m# Only block async when verbose = 1.\u001b[0m\u001b[0;34m\u001b[0m\u001b[0;34m\u001b[0m\u001b[0m\n\u001b[0;32m-> 1106\u001b[0;31m       \u001b[0mlogs\u001b[0m \u001b[0;34m=\u001b[0m \u001b[0mtf_utils\u001b[0m\u001b[0;34m.\u001b[0m\u001b[0msync_to_numpy_or_python_type\u001b[0m\u001b[0;34m(\u001b[0m\u001b[0mlogs\u001b[0m\u001b[0;34m)\u001b[0m\u001b[0;34m\u001b[0m\u001b[0;34m\u001b[0m\u001b[0m\n\u001b[0m\u001b[1;32m   1107\u001b[0m       \u001b[0mself\u001b[0m\u001b[0;34m.\u001b[0m\u001b[0mprogbar\u001b[0m\u001b[0;34m.\u001b[0m\u001b[0mupdate\u001b[0m\u001b[0;34m(\u001b[0m\u001b[0mself\u001b[0m\u001b[0;34m.\u001b[0m\u001b[0mseen\u001b[0m\u001b[0;34m,\u001b[0m \u001b[0mlist\u001b[0m\u001b[0;34m(\u001b[0m\u001b[0mlogs\u001b[0m\u001b[0;34m.\u001b[0m\u001b[0mitems\u001b[0m\u001b[0;34m(\u001b[0m\u001b[0;34m)\u001b[0m\u001b[0;34m)\u001b[0m\u001b[0;34m,\u001b[0m \u001b[0mfinalize\u001b[0m\u001b[0;34m=\u001b[0m\u001b[0;32mFalse\u001b[0m\u001b[0;34m)\u001b[0m\u001b[0;34m\u001b[0m\u001b[0;34m\u001b[0m\u001b[0m\n\u001b[1;32m   1108\u001b[0m \u001b[0;34m\u001b[0m\u001b[0m\n",
            "\u001b[0;32m/usr/local/lib/python3.10/dist-packages/keras/utils/tf_utils.py\u001b[0m in \u001b[0;36msync_to_numpy_or_python_type\u001b[0;34m(tensors)\u001b[0m\n\u001b[1;32m    561\u001b[0m     \u001b[0;32mreturn\u001b[0m \u001b[0mt\u001b[0m\u001b[0;34m.\u001b[0m\u001b[0mitem\u001b[0m\u001b[0;34m(\u001b[0m\u001b[0;34m)\u001b[0m \u001b[0;32mif\u001b[0m \u001b[0mnp\u001b[0m\u001b[0;34m.\u001b[0m\u001b[0mndim\u001b[0m\u001b[0;34m(\u001b[0m\u001b[0mt\u001b[0m\u001b[0;34m)\u001b[0m \u001b[0;34m==\u001b[0m \u001b[0;36m0\u001b[0m \u001b[0;32melse\u001b[0m \u001b[0mt\u001b[0m\u001b[0;34m\u001b[0m\u001b[0;34m\u001b[0m\u001b[0m\n\u001b[1;32m    562\u001b[0m \u001b[0;34m\u001b[0m\u001b[0m\n\u001b[0;32m--> 563\u001b[0;31m   \u001b[0;32mreturn\u001b[0m \u001b[0mtf\u001b[0m\u001b[0;34m.\u001b[0m\u001b[0mnest\u001b[0m\u001b[0;34m.\u001b[0m\u001b[0mmap_structure\u001b[0m\u001b[0;34m(\u001b[0m\u001b[0m_to_single_numpy_or_python_type\u001b[0m\u001b[0;34m,\u001b[0m \u001b[0mtensors\u001b[0m\u001b[0;34m)\u001b[0m\u001b[0;34m\u001b[0m\u001b[0;34m\u001b[0m\u001b[0m\n\u001b[0m\u001b[1;32m    564\u001b[0m \u001b[0;34m\u001b[0m\u001b[0m\n\u001b[1;32m    565\u001b[0m \u001b[0;34m\u001b[0m\u001b[0m\n",
            "\u001b[0;32m/usr/local/lib/python3.10/dist-packages/tensorflow/python/util/nest.py\u001b[0m in \u001b[0;36mmap_structure\u001b[0;34m(func, *structure, **kwargs)\u001b[0m\n\u001b[1;32m    912\u001b[0m \u001b[0;34m\u001b[0m\u001b[0m\n\u001b[1;32m    913\u001b[0m   return pack_sequence_as(\n\u001b[0;32m--> 914\u001b[0;31m       \u001b[0mstructure\u001b[0m\u001b[0;34m[\u001b[0m\u001b[0;36m0\u001b[0m\u001b[0;34m]\u001b[0m\u001b[0;34m,\u001b[0m \u001b[0;34m[\u001b[0m\u001b[0mfunc\u001b[0m\u001b[0;34m(\u001b[0m\u001b[0;34m*\u001b[0m\u001b[0mx\u001b[0m\u001b[0;34m)\u001b[0m \u001b[0;32mfor\u001b[0m \u001b[0mx\u001b[0m \u001b[0;32min\u001b[0m \u001b[0mentries\u001b[0m\u001b[0;34m]\u001b[0m\u001b[0;34m,\u001b[0m\u001b[0;34m\u001b[0m\u001b[0;34m\u001b[0m\u001b[0m\n\u001b[0m\u001b[1;32m    915\u001b[0m       expand_composites=expand_composites)\n\u001b[1;32m    916\u001b[0m \u001b[0;34m\u001b[0m\u001b[0m\n",
            "\u001b[0;32m/usr/local/lib/python3.10/dist-packages/tensorflow/python/util/nest.py\u001b[0m in \u001b[0;36m<listcomp>\u001b[0;34m(.0)\u001b[0m\n\u001b[1;32m    912\u001b[0m \u001b[0;34m\u001b[0m\u001b[0m\n\u001b[1;32m    913\u001b[0m   return pack_sequence_as(\n\u001b[0;32m--> 914\u001b[0;31m       \u001b[0mstructure\u001b[0m\u001b[0;34m[\u001b[0m\u001b[0;36m0\u001b[0m\u001b[0;34m]\u001b[0m\u001b[0;34m,\u001b[0m \u001b[0;34m[\u001b[0m\u001b[0mfunc\u001b[0m\u001b[0;34m(\u001b[0m\u001b[0;34m*\u001b[0m\u001b[0mx\u001b[0m\u001b[0;34m)\u001b[0m \u001b[0;32mfor\u001b[0m \u001b[0mx\u001b[0m \u001b[0;32min\u001b[0m \u001b[0mentries\u001b[0m\u001b[0;34m]\u001b[0m\u001b[0;34m,\u001b[0m\u001b[0;34m\u001b[0m\u001b[0;34m\u001b[0m\u001b[0m\n\u001b[0m\u001b[1;32m    915\u001b[0m       expand_composites=expand_composites)\n\u001b[1;32m    916\u001b[0m \u001b[0;34m\u001b[0m\u001b[0m\n",
            "\u001b[0;32m/usr/local/lib/python3.10/dist-packages/keras/utils/tf_utils.py\u001b[0m in \u001b[0;36m_to_single_numpy_or_python_type\u001b[0;34m(t)\u001b[0m\n\u001b[1;32m    555\u001b[0m     \u001b[0;31m# Don't turn ragged or sparse tensors to NumPy.\u001b[0m\u001b[0;34m\u001b[0m\u001b[0;34m\u001b[0m\u001b[0m\n\u001b[1;32m    556\u001b[0m     \u001b[0;32mif\u001b[0m \u001b[0misinstance\u001b[0m\u001b[0;34m(\u001b[0m\u001b[0mt\u001b[0m\u001b[0;34m,\u001b[0m \u001b[0mtf\u001b[0m\u001b[0;34m.\u001b[0m\u001b[0mTensor\u001b[0m\u001b[0;34m)\u001b[0m\u001b[0;34m:\u001b[0m\u001b[0;34m\u001b[0m\u001b[0;34m\u001b[0m\u001b[0m\n\u001b[0;32m--> 557\u001b[0;31m       \u001b[0mt\u001b[0m \u001b[0;34m=\u001b[0m \u001b[0mt\u001b[0m\u001b[0;34m.\u001b[0m\u001b[0mnumpy\u001b[0m\u001b[0;34m(\u001b[0m\u001b[0;34m)\u001b[0m\u001b[0;34m\u001b[0m\u001b[0;34m\u001b[0m\u001b[0m\n\u001b[0m\u001b[1;32m    558\u001b[0m     \u001b[0;31m# Strings, ragged and sparse tensors don't have .item(). Return them as-is.\u001b[0m\u001b[0;34m\u001b[0m\u001b[0;34m\u001b[0m\u001b[0m\n\u001b[1;32m    559\u001b[0m     \u001b[0;32mif\u001b[0m \u001b[0;32mnot\u001b[0m \u001b[0misinstance\u001b[0m\u001b[0;34m(\u001b[0m\u001b[0mt\u001b[0m\u001b[0;34m,\u001b[0m \u001b[0;34m(\u001b[0m\u001b[0mnp\u001b[0m\u001b[0;34m.\u001b[0m\u001b[0mndarray\u001b[0m\u001b[0;34m,\u001b[0m \u001b[0mnp\u001b[0m\u001b[0;34m.\u001b[0m\u001b[0mgeneric\u001b[0m\u001b[0;34m)\u001b[0m\u001b[0;34m)\u001b[0m\u001b[0;34m:\u001b[0m\u001b[0;34m\u001b[0m\u001b[0;34m\u001b[0m\u001b[0m\n",
            "\u001b[0;32m/usr/local/lib/python3.10/dist-packages/tensorflow/python/framework/ops.py\u001b[0m in \u001b[0;36mnumpy\u001b[0;34m(self)\u001b[0m\n\u001b[1;32m   1221\u001b[0m     \"\"\"\n\u001b[1;32m   1222\u001b[0m     \u001b[0;31m# TODO(slebedev): Consider avoiding a copy for non-CPU or remote tensors.\u001b[0m\u001b[0;34m\u001b[0m\u001b[0;34m\u001b[0m\u001b[0m\n\u001b[0;32m-> 1223\u001b[0;31m     \u001b[0mmaybe_arr\u001b[0m \u001b[0;34m=\u001b[0m \u001b[0mself\u001b[0m\u001b[0;34m.\u001b[0m\u001b[0m_numpy\u001b[0m\u001b[0;34m(\u001b[0m\u001b[0;34m)\u001b[0m  \u001b[0;31m# pylint: disable=protected-access\u001b[0m\u001b[0;34m\u001b[0m\u001b[0;34m\u001b[0m\u001b[0m\n\u001b[0m\u001b[1;32m   1224\u001b[0m     \u001b[0;32mreturn\u001b[0m \u001b[0mmaybe_arr\u001b[0m\u001b[0;34m.\u001b[0m\u001b[0mcopy\u001b[0m\u001b[0;34m(\u001b[0m\u001b[0;34m)\u001b[0m \u001b[0;32mif\u001b[0m \u001b[0misinstance\u001b[0m\u001b[0;34m(\u001b[0m\u001b[0mmaybe_arr\u001b[0m\u001b[0;34m,\u001b[0m \u001b[0mnp\u001b[0m\u001b[0;34m.\u001b[0m\u001b[0mndarray\u001b[0m\u001b[0;34m)\u001b[0m \u001b[0;32melse\u001b[0m \u001b[0mmaybe_arr\u001b[0m\u001b[0;34m\u001b[0m\u001b[0;34m\u001b[0m\u001b[0m\n\u001b[1;32m   1225\u001b[0m \u001b[0;34m\u001b[0m\u001b[0m\n",
            "\u001b[0;32m/usr/local/lib/python3.10/dist-packages/tensorflow/python/framework/ops.py\u001b[0m in \u001b[0;36m_numpy\u001b[0;34m(self)\u001b[0m\n\u001b[1;32m   1187\u001b[0m   \u001b[0;32mdef\u001b[0m \u001b[0m_numpy\u001b[0m\u001b[0;34m(\u001b[0m\u001b[0mself\u001b[0m\u001b[0;34m)\u001b[0m\u001b[0;34m:\u001b[0m\u001b[0;34m\u001b[0m\u001b[0;34m\u001b[0m\u001b[0m\n\u001b[1;32m   1188\u001b[0m     \u001b[0;32mtry\u001b[0m\u001b[0;34m:\u001b[0m\u001b[0;34m\u001b[0m\u001b[0;34m\u001b[0m\u001b[0m\n\u001b[0;32m-> 1189\u001b[0;31m       \u001b[0;32mreturn\u001b[0m \u001b[0mself\u001b[0m\u001b[0;34m.\u001b[0m\u001b[0m_numpy_internal\u001b[0m\u001b[0;34m(\u001b[0m\u001b[0;34m)\u001b[0m\u001b[0;34m\u001b[0m\u001b[0;34m\u001b[0m\u001b[0m\n\u001b[0m\u001b[1;32m   1190\u001b[0m     \u001b[0;32mexcept\u001b[0m \u001b[0mcore\u001b[0m\u001b[0;34m.\u001b[0m\u001b[0m_NotOkStatusException\u001b[0m \u001b[0;32mas\u001b[0m \u001b[0me\u001b[0m\u001b[0;34m:\u001b[0m  \u001b[0;31m# pylint: disable=protected-access\u001b[0m\u001b[0;34m\u001b[0m\u001b[0;34m\u001b[0m\u001b[0m\n\u001b[1;32m   1191\u001b[0m       \u001b[0;32mraise\u001b[0m \u001b[0mcore\u001b[0m\u001b[0;34m.\u001b[0m\u001b[0m_status_to_exception\u001b[0m\u001b[0;34m(\u001b[0m\u001b[0me\u001b[0m\u001b[0;34m)\u001b[0m \u001b[0;32mfrom\u001b[0m \u001b[0;32mNone\u001b[0m  \u001b[0;31m# pylint: disable=protected-access\u001b[0m\u001b[0;34m\u001b[0m\u001b[0;34m\u001b[0m\u001b[0m\n",
            "\u001b[0;31mKeyboardInterrupt\u001b[0m: "
          ]
        }
      ],
      "source": [
        "model.fit(training_generator, validation_data=validation_generator, epochs=100, callbacks=[KerasFinalCallback()], verbose=1)"
      ]
    },
    {
      "cell_type": "markdown",
      "source": [
        "## Inference\n"
      ],
      "metadata": {
        "id": "Tj0i6hmMvhjw"
      }
    },
    {
      "cell_type": "code",
      "source": [
        "def create_mel_spectrograms(audio_file):\n",
        "  win_length = 2.56\n",
        "  hop_size = 1.96\n",
        "\n",
        "  a, win_ranges = construct_examples(audio, win_len=win_length,hop_len=hop_size)\n",
        "\n",
        "  mss_in = np.zeros((len(a), 257, 40))\n",
        "\n",
        "  preds = np.zeros((len(a), 9, 18))\n",
        "\n",
        "  for i in range(len(a)):\n",
        "    M = get_log_melspectrogram(a[i])\n",
        "    mss_in[i, :, :] = M.T\n",
        "\n",
        "  return mss_in,win_ranges\n",
        "\n",
        "\n",
        "def run_inference(model, win_ranges, mss_in, no_of_div = 9, hop_size = 1.96, discard = 0.3, win_length = 2.56, max_event_silence = 0.3, sampling_rate = 44100):\n",
        "  preds = model.predict(mss_in)\n",
        "  events = []\n",
        "\n",
        "  for i in range(len(preds)):\n",
        "    p = preds[i, :, :]\n",
        "    events_curr = []\n",
        "    win_width = win_length / no_of_div\n",
        "    for j in range(len(p)):\n",
        "      for jjj in range(0, 6):\n",
        "        if p[j][jjj*3] >= 0.5:\n",
        "          start = win_width * j + win_width * p[j][jjj*3+1] + win_ranges[i][0]\n",
        "          end = p[j][jjj*3+2] * win_width + start\n",
        "          events_curr.append([start, end, rev_class_list[jjj]])\n",
        "\n",
        "    events += events_curr\n",
        "\n",
        "\n",
        "  class_set = set([c[2] for c in events])\n",
        "  class_wise_events = {}\n",
        "\n",
        "  for c in list(class_set):\n",
        "    class_wise_events[c] = []\n",
        "\n",
        "\n",
        "  for c in events:\n",
        "    class_wise_events[c[2]].append(c)\n",
        "    \n",
        "  \n",
        "  all_events = []\n",
        "\n",
        "  for k in list(class_wise_events.keys()):\n",
        "    curr_events = class_wise_events[k]\n",
        "    count = 0\n",
        "\n",
        "    while count < len(curr_events) - 1:\n",
        "      if (curr_events[count][1] >= curr_events[count + 1][0]) or (curr_events[count + 1][0] - curr_events[count][1] <= max_event_silence):\n",
        "        curr_events[count][1] = max(curr_events[count + 1][1], curr_events[count][1])\n",
        "        del curr_events[count + 1]\n",
        "      else:\n",
        "        count += 1\n",
        "\n",
        "    all_events += curr_events\n",
        "\n",
        "  for i in range(len(all_events)):\n",
        "    all_events[i][0] = round(all_events[i][0], 3)\n",
        "    all_events[i][1] = round(all_events[i][1], 3)\n",
        "\n",
        "  all_events.sort(key=lambda x: x[0])\n",
        "\n",
        "  return all_events\n"
      ],
      "metadata": {
        "id": "j6CN3GsuvkTS"
      },
      "execution_count": null,
      "outputs": []
    },
    {
      "cell_type": "code",
      "source": [
        "def infer_events(model, audio_file):\n",
        "  mss_in, win_ranges = create_mel_spectrograms(audio_file)\n",
        "  see = run_inference(model, mss_in, win_ranges)\n",
        "  n_label = \"test-rainforest.txt\"\n",
        "\n",
        "  with open(n_label, 'w') as fp:\n",
        "    fp.write('\\n'.join('{},{},{}'.format(round(x[0], 5), round(x[1], 5), x[2]) for x in see))\n",
        "\n",
        "infer_events(model, '/content/test-rainforest.wav')"
      ],
      "metadata": {
        "colab": {
          "base_uri": "https://localhost:8080/",
          "height": 657
        },
        "id": "CkP-EWfSwsFO",
        "outputId": "0897bb93-943e-4828-d113-b2251dea063c"
      },
      "execution_count": null,
      "outputs": [
        {
          "output_type": "error",
          "ename": "ValueError",
          "evalue": "ignored",
          "traceback": [
            "\u001b[0;31m---------------------------------------------------------------------------\u001b[0m",
            "\u001b[0;31mValueError\u001b[0m                                Traceback (most recent call last)",
            "\u001b[0;32m<ipython-input-216-45a64f8365c3>\u001b[0m in \u001b[0;36m<cell line: 9>\u001b[0;34m()\u001b[0m\n\u001b[1;32m      7\u001b[0m     \u001b[0mfp\u001b[0m\u001b[0;34m.\u001b[0m\u001b[0mwrite\u001b[0m\u001b[0;34m(\u001b[0m\u001b[0;34m'\\n'\u001b[0m\u001b[0;34m.\u001b[0m\u001b[0mjoin\u001b[0m\u001b[0;34m(\u001b[0m\u001b[0;34m'{},{},{}'\u001b[0m\u001b[0;34m.\u001b[0m\u001b[0mformat\u001b[0m\u001b[0;34m(\u001b[0m\u001b[0mround\u001b[0m\u001b[0;34m(\u001b[0m\u001b[0mx\u001b[0m\u001b[0;34m[\u001b[0m\u001b[0;36m0\u001b[0m\u001b[0;34m]\u001b[0m\u001b[0;34m,\u001b[0m \u001b[0;36m5\u001b[0m\u001b[0;34m)\u001b[0m\u001b[0;34m,\u001b[0m \u001b[0mround\u001b[0m\u001b[0;34m(\u001b[0m\u001b[0mx\u001b[0m\u001b[0;34m[\u001b[0m\u001b[0;36m1\u001b[0m\u001b[0;34m]\u001b[0m\u001b[0;34m,\u001b[0m \u001b[0;36m5\u001b[0m\u001b[0;34m)\u001b[0m\u001b[0;34m,\u001b[0m \u001b[0mx\u001b[0m\u001b[0;34m[\u001b[0m\u001b[0;36m2\u001b[0m\u001b[0;34m]\u001b[0m\u001b[0;34m)\u001b[0m \u001b[0;32mfor\u001b[0m \u001b[0mx\u001b[0m \u001b[0;32min\u001b[0m \u001b[0msee\u001b[0m\u001b[0;34m)\u001b[0m\u001b[0;34m)\u001b[0m\u001b[0;34m\u001b[0m\u001b[0;34m\u001b[0m\u001b[0m\n\u001b[1;32m      8\u001b[0m \u001b[0;34m\u001b[0m\u001b[0m\n\u001b[0;32m----> 9\u001b[0;31m \u001b[0minfer_events\u001b[0m\u001b[0;34m(\u001b[0m\u001b[0mmodel\u001b[0m\u001b[0;34m,\u001b[0m \u001b[0;34m'/content/test-rainforest.wav'\u001b[0m\u001b[0;34m)\u001b[0m\u001b[0;34m\u001b[0m\u001b[0;34m\u001b[0m\u001b[0m\n\u001b[0m",
            "\u001b[0;32m<ipython-input-216-45a64f8365c3>\u001b[0m in \u001b[0;36minfer_events\u001b[0;34m(model, audio_file)\u001b[0m\n\u001b[1;32m      1\u001b[0m \u001b[0;32mdef\u001b[0m \u001b[0minfer_events\u001b[0m\u001b[0;34m(\u001b[0m\u001b[0mmodel\u001b[0m\u001b[0;34m,\u001b[0m \u001b[0maudio_file\u001b[0m\u001b[0;34m)\u001b[0m\u001b[0;34m:\u001b[0m\u001b[0;34m\u001b[0m\u001b[0;34m\u001b[0m\u001b[0m\n\u001b[1;32m      2\u001b[0m   \u001b[0mmss_in\u001b[0m\u001b[0;34m,\u001b[0m \u001b[0mwin_ranges\u001b[0m \u001b[0;34m=\u001b[0m \u001b[0mcreate_mel_spectrograms\u001b[0m\u001b[0;34m(\u001b[0m\u001b[0maudio_file\u001b[0m\u001b[0;34m)\u001b[0m\u001b[0;34m\u001b[0m\u001b[0;34m\u001b[0m\u001b[0m\n\u001b[0;32m----> 3\u001b[0;31m   \u001b[0msee\u001b[0m \u001b[0;34m=\u001b[0m \u001b[0mrun_inference\u001b[0m\u001b[0;34m(\u001b[0m\u001b[0mmodel\u001b[0m\u001b[0;34m,\u001b[0m \u001b[0mmss_in\u001b[0m\u001b[0;34m,\u001b[0m \u001b[0mwin_ranges\u001b[0m\u001b[0;34m)\u001b[0m\u001b[0;34m\u001b[0m\u001b[0;34m\u001b[0m\u001b[0m\n\u001b[0m\u001b[1;32m      4\u001b[0m   \u001b[0mn_label\u001b[0m \u001b[0;34m=\u001b[0m \u001b[0;34m\"test-rainforest.txt\"\u001b[0m\u001b[0;34m\u001b[0m\u001b[0;34m\u001b[0m\u001b[0m\n\u001b[1;32m      5\u001b[0m \u001b[0;34m\u001b[0m\u001b[0m\n",
            "\u001b[0;32m<ipython-input-214-62e4a43d49fa>\u001b[0m in \u001b[0;36mrun_inference\u001b[0;34m(model, win_ranges, mss_in, no_of_div, hop_size, discard, win_length, max_event_silence, sampling_rate)\u001b[0m\n\u001b[1;32m     17\u001b[0m \u001b[0;34m\u001b[0m\u001b[0m\n\u001b[1;32m     18\u001b[0m \u001b[0;32mdef\u001b[0m \u001b[0mrun_inference\u001b[0m\u001b[0;34m(\u001b[0m\u001b[0mmodel\u001b[0m\u001b[0;34m,\u001b[0m \u001b[0mwin_ranges\u001b[0m\u001b[0;34m,\u001b[0m \u001b[0mmss_in\u001b[0m\u001b[0;34m,\u001b[0m \u001b[0mno_of_div\u001b[0m \u001b[0;34m=\u001b[0m \u001b[0;36m9\u001b[0m\u001b[0;34m,\u001b[0m \u001b[0mhop_size\u001b[0m \u001b[0;34m=\u001b[0m \u001b[0;36m1.96\u001b[0m\u001b[0;34m,\u001b[0m \u001b[0mdiscard\u001b[0m \u001b[0;34m=\u001b[0m \u001b[0;36m0.3\u001b[0m\u001b[0;34m,\u001b[0m \u001b[0mwin_length\u001b[0m \u001b[0;34m=\u001b[0m \u001b[0;36m2.56\u001b[0m\u001b[0;34m,\u001b[0m \u001b[0mmax_event_silence\u001b[0m \u001b[0;34m=\u001b[0m \u001b[0;36m0.3\u001b[0m\u001b[0;34m,\u001b[0m \u001b[0msampling_rate\u001b[0m \u001b[0;34m=\u001b[0m \u001b[0;36m44100\u001b[0m\u001b[0;34m)\u001b[0m\u001b[0;34m:\u001b[0m\u001b[0;34m\u001b[0m\u001b[0;34m\u001b[0m\u001b[0m\n\u001b[0;32m---> 19\u001b[0;31m   \u001b[0mpreds\u001b[0m \u001b[0;34m=\u001b[0m \u001b[0mmodel\u001b[0m\u001b[0;34m.\u001b[0m\u001b[0mpredict\u001b[0m\u001b[0;34m(\u001b[0m\u001b[0mmss_in\u001b[0m\u001b[0;34m)\u001b[0m\u001b[0;34m\u001b[0m\u001b[0;34m\u001b[0m\u001b[0m\n\u001b[0m\u001b[1;32m     20\u001b[0m   \u001b[0mevents\u001b[0m \u001b[0;34m=\u001b[0m \u001b[0;34m[\u001b[0m\u001b[0;34m]\u001b[0m\u001b[0;34m\u001b[0m\u001b[0;34m\u001b[0m\u001b[0m\n\u001b[1;32m     21\u001b[0m \u001b[0;34m\u001b[0m\u001b[0m\n",
            "\u001b[0;32m/usr/local/lib/python3.9/dist-packages/keras/utils/traceback_utils.py\u001b[0m in \u001b[0;36merror_handler\u001b[0;34m(*args, **kwargs)\u001b[0m\n\u001b[1;32m     68\u001b[0m             \u001b[0;31m# To get the full stack trace, call:\u001b[0m\u001b[0;34m\u001b[0m\u001b[0;34m\u001b[0m\u001b[0m\n\u001b[1;32m     69\u001b[0m             \u001b[0;31m# `tf.debugging.disable_traceback_filtering()`\u001b[0m\u001b[0;34m\u001b[0m\u001b[0;34m\u001b[0m\u001b[0m\n\u001b[0;32m---> 70\u001b[0;31m             \u001b[0;32mraise\u001b[0m \u001b[0me\u001b[0m\u001b[0;34m.\u001b[0m\u001b[0mwith_traceback\u001b[0m\u001b[0;34m(\u001b[0m\u001b[0mfiltered_tb\u001b[0m\u001b[0;34m)\u001b[0m \u001b[0;32mfrom\u001b[0m \u001b[0;32mNone\u001b[0m\u001b[0;34m\u001b[0m\u001b[0;34m\u001b[0m\u001b[0m\n\u001b[0m\u001b[1;32m     71\u001b[0m         \u001b[0;32mfinally\u001b[0m\u001b[0;34m:\u001b[0m\u001b[0;34m\u001b[0m\u001b[0;34m\u001b[0m\u001b[0m\n\u001b[1;32m     72\u001b[0m             \u001b[0;32mdel\u001b[0m \u001b[0mfiltered_tb\u001b[0m\u001b[0;34m\u001b[0m\u001b[0;34m\u001b[0m\u001b[0m\n",
            "\u001b[0;32m/usr/local/lib/python3.9/dist-packages/keras/engine/training.py\u001b[0m in \u001b[0;36mtf__predict_function\u001b[0;34m(iterator)\u001b[0m\n\u001b[1;32m     13\u001b[0m                 \u001b[0;32mtry\u001b[0m\u001b[0;34m:\u001b[0m\u001b[0;34m\u001b[0m\u001b[0;34m\u001b[0m\u001b[0m\n\u001b[1;32m     14\u001b[0m                     \u001b[0mdo_return\u001b[0m \u001b[0;34m=\u001b[0m \u001b[0;32mTrue\u001b[0m\u001b[0;34m\u001b[0m\u001b[0;34m\u001b[0m\u001b[0m\n\u001b[0;32m---> 15\u001b[0;31m                     \u001b[0mretval_\u001b[0m \u001b[0;34m=\u001b[0m \u001b[0mag__\u001b[0m\u001b[0;34m.\u001b[0m\u001b[0mconverted_call\u001b[0m\u001b[0;34m(\u001b[0m\u001b[0mag__\u001b[0m\u001b[0;34m.\u001b[0m\u001b[0mld\u001b[0m\u001b[0;34m(\u001b[0m\u001b[0mstep_function\u001b[0m\u001b[0;34m)\u001b[0m\u001b[0;34m,\u001b[0m \u001b[0;34m(\u001b[0m\u001b[0mag__\u001b[0m\u001b[0;34m.\u001b[0m\u001b[0mld\u001b[0m\u001b[0;34m(\u001b[0m\u001b[0mself\u001b[0m\u001b[0;34m)\u001b[0m\u001b[0;34m,\u001b[0m \u001b[0mag__\u001b[0m\u001b[0;34m.\u001b[0m\u001b[0mld\u001b[0m\u001b[0;34m(\u001b[0m\u001b[0miterator\u001b[0m\u001b[0;34m)\u001b[0m\u001b[0;34m)\u001b[0m\u001b[0;34m,\u001b[0m \u001b[0;32mNone\u001b[0m\u001b[0;34m,\u001b[0m \u001b[0mfscope\u001b[0m\u001b[0;34m)\u001b[0m\u001b[0;34m\u001b[0m\u001b[0;34m\u001b[0m\u001b[0m\n\u001b[0m\u001b[1;32m     16\u001b[0m                 \u001b[0;32mexcept\u001b[0m\u001b[0;34m:\u001b[0m\u001b[0;34m\u001b[0m\u001b[0;34m\u001b[0m\u001b[0m\n\u001b[1;32m     17\u001b[0m                     \u001b[0mdo_return\u001b[0m \u001b[0;34m=\u001b[0m \u001b[0;32mFalse\u001b[0m\u001b[0;34m\u001b[0m\u001b[0;34m\u001b[0m\u001b[0m\n",
            "\u001b[0;31mValueError\u001b[0m: in user code:\n\n    File \"/usr/local/lib/python3.9/dist-packages/keras/engine/training.py\", line 2169, in predict_function  *\n        return step_function(self, iterator)\n    File \"/usr/local/lib/python3.9/dist-packages/keras/engine/training.py\", line 2155, in step_function  **\n        outputs = model.distribute_strategy.run(run_step, args=(data,))\n    File \"/usr/local/lib/python3.9/dist-packages/keras/engine/training.py\", line 2143, in run_step  **\n        outputs = model.predict_step(data)\n    File \"/usr/local/lib/python3.9/dist-packages/keras/engine/training.py\", line 2111, in predict_step\n        return self(x, training=False)\n    File \"/usr/local/lib/python3.9/dist-packages/keras/utils/traceback_utils.py\", line 70, in error_handler\n        raise e.with_traceback(filtered_tb) from None\n    File \"/usr/local/lib/python3.9/dist-packages/keras/engine/input_spec.py\", line 298, in assert_input_compatibility\n        raise ValueError(\n\n    ValueError: Input 0 of layer \"YOHO\" is incompatible with the layer: expected shape=(None, 257, 40), found shape=(None, 2)\n"
          ]
        }
      ]
    },
    {
      "cell_type": "code",
      "execution_count": null,
      "metadata": {
        "id": "DW9yg4UgEqP5"
      },
      "outputs": [],
      "source": [
        "run.finish()\n",
        "loss = model.evaluate(# callbacks=[KerasFinalCallback()])\n",
        "print('loss:', loss)\n",
        "# print('accuracy:', accuracy)"
      ]
    }
  ],
  "metadata": {
    "colab": {
      "provenance": [],
      "include_colab_link": true
    },
    "gpuClass": "standard",
    "kernelspec": {
      "display_name": "Python 3 (ipykernel)",
      "language": "python",
      "name": "python3"
    },
    "language_info": {
      "codemirror_mode": {
        "name": "ipython",
        "version": 3
      },
      "file_extension": ".py",
      "mimetype": "text/x-python",
      "name": "python",
      "nbconvert_exporter": "python",
      "pygments_lexer": "ipython3",
      "version": "3.9.12"
    },
    "accelerator": "GPU"
  },
  "nbformat": 4,
  "nbformat_minor": 0
}