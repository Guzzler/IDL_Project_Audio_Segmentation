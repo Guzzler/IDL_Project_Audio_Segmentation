{
  "cells": [
    {
      "cell_type": "markdown",
      "source": [
        "# Setup"
      ],
      "metadata": {
        "id": "b8dBkj4jWHET"
      }
    },
    {
      "cell_type": "markdown",
      "source": [
        "## Installs"
      ],
      "metadata": {
        "id": "Brz0EadJPB3x"
      }
    },
    {
      "cell_type": "code",
      "source": [
        "!pip install gdown"
      ],
      "metadata": {
        "colab": {
          "base_uri": "https://localhost:8080/"
        },
        "id": "GDBkZADAPD9I",
        "outputId": "36fef52d-c356-4696-c6ab-76be89e7e644"
      },
      "execution_count": 2,
      "outputs": [
        {
          "output_type": "stream",
          "name": "stdout",
          "text": [
            "Looking in indexes: https://pypi.org/simple, https://us-python.pkg.dev/colab-wheels/public/simple/\n",
            "Requirement already satisfied: gdown in /usr/local/lib/python3.9/dist-packages (4.6.6)\n",
            "Requirement already satisfied: beautifulsoup4 in /usr/local/lib/python3.9/dist-packages (from gdown) (4.11.2)\n",
            "Requirement already satisfied: filelock in /usr/local/lib/python3.9/dist-packages (from gdown) (3.10.7)\n",
            "Requirement already satisfied: six in /usr/local/lib/python3.9/dist-packages (from gdown) (1.16.0)\n",
            "Requirement already satisfied: requests[socks] in /usr/local/lib/python3.9/dist-packages (from gdown) (2.27.1)\n",
            "Requirement already satisfied: tqdm in /usr/local/lib/python3.9/dist-packages (from gdown) (4.65.0)\n",
            "Requirement already satisfied: soupsieve>1.2 in /usr/local/lib/python3.9/dist-packages (from beautifulsoup4->gdown) (2.4)\n",
            "Requirement already satisfied: idna<4,>=2.5 in /usr/local/lib/python3.9/dist-packages (from requests[socks]->gdown) (3.4)\n",
            "Requirement already satisfied: urllib3<1.27,>=1.21.1 in /usr/local/lib/python3.9/dist-packages (from requests[socks]->gdown) (1.26.15)\n",
            "Requirement already satisfied: charset-normalizer~=2.0.0 in /usr/local/lib/python3.9/dist-packages (from requests[socks]->gdown) (2.0.12)\n",
            "Requirement already satisfied: certifi>=2017.4.17 in /usr/local/lib/python3.9/dist-packages (from requests[socks]->gdown) (2022.12.7)\n",
            "Requirement already satisfied: PySocks!=1.5.7,>=1.5.6 in /usr/local/lib/python3.9/dist-packages (from requests[socks]->gdown) (1.7.1)\n"
          ]
        }
      ]
    },
    {
      "cell_type": "markdown",
      "source": [
        "## Imports"
      ],
      "metadata": {
        "id": "KVrvXRvyPFMT"
      }
    },
    {
      "cell_type": "code",
      "execution_count": 20,
      "metadata": {
        "id": "HJjOWmynluge"
      },
      "outputs": [],
      "source": [
        "import gdown\n",
        "import glob\n",
        "import csv\n",
        "import os\n",
        "import re\n",
        "import wandb\n",
        "import random\n",
        "import math\n",
        "import librosa\n",
        "import shutil\n",
        "import sed_eval\n",
        "import dcase_util\n",
        "import tensorflow as tf\n",
        "import numpy as np\n",
        "import soundfile as sf\n",
        "from subprocess import Popen, PIPE\n",
        "from tqdm import tqdm\n",
        "from zipfile import ZipFile\n",
        "from keras.regularizers import l2\n",
        "from SpecAugment import spec_augment_tensorflow"
      ]
    },
    {
      "cell_type": "markdown",
      "source": [
        "## Download"
      ],
      "metadata": {
        "id": "FifsHloPPIAw"
      }
    },
    {
      "cell_type": "code",
      "source": [
        "output1 = \"/content/new-dataset/test_data1.zip\"\n",
        "gdown.download(id='17PvyXLEkpIgBLxRkuTIk25MGL3uM3kS1', output=output1, quiet=False)\n",
        "\n",
        "output2= \"/content/new-dataset/test_data2.zip\"\n",
        "gdown.download(id='14abMPBH3EVmcU-3jPD4jWEpa4pQ38OY9', output=output2, quiet=False)\n",
        "\n",
        "output3 = \"/content/new-dataset/test_data3.zip\"\n",
        "gdown.download(id='1TU4CoJuFy40-zJopo3R4U-YgZFKFrtxB', output=output3, quiet=False)\n",
        "\n",
        "output4 = \"/content/new-dataset/test_data4.zip\"\n",
        "gdown.download(id='1E5595RX2NwpuckXvl2o1V_dm9Ja58arF', output=output4, quiet=False)\n",
        "\n",
        "output5 = \"/content/new-dataset/test_data5.zip\"\n",
        "gdown.download(id='16VJhkCV2-ILcHxiF8a2ygEiHxXyF9RtM', output=output5, quiet=False)\n",
        "\n",
        "output6 = \"/content/new-dataset/test_data6.zip\"\n",
        "gdown.download(id='1kZyXyZVTHnSTg-gdrlf91V5ioYMr50Mp', output=output6, quiet=False)"
      ],
      "metadata": {
        "colab": {
          "base_uri": "https://localhost:8080/",
          "height": 464
        },
        "id": "NRQ9DlXiWdYi",
        "outputId": "008a7876-2a93-4c37-8c9e-f9d9c466e816"
      },
      "execution_count": 4,
      "outputs": [
        {
          "output_type": "stream",
          "name": "stderr",
          "text": [
            "Downloading...\n",
            "From: https://drive.google.com/uc?id=17PvyXLEkpIgBLxRkuTIk25MGL3uM3kS1\n",
            "To: /content/new-dataset/test_data1.zip\n",
            "100%|██████████| 1.38G/1.38G [00:16<00:00, 84.7MB/s]\n",
            "Downloading...\n",
            "From: https://drive.google.com/uc?id=14abMPBH3EVmcU-3jPD4jWEpa4pQ38OY9\n",
            "To: /content/new-dataset/test_data2.zip\n",
            "100%|██████████| 1.38G/1.38G [00:10<00:00, 133MB/s]\n",
            "Downloading...\n",
            "From: https://drive.google.com/uc?id=1TU4CoJuFy40-zJopo3R4U-YgZFKFrtxB\n",
            "To: /content/new-dataset/test_data3.zip\n",
            "100%|██████████| 1.34G/1.34G [00:10<00:00, 126MB/s]\n",
            "Downloading...\n",
            "From: https://drive.google.com/uc?id=1E5595RX2NwpuckXvl2o1V_dm9Ja58arF\n",
            "To: /content/new-dataset/test_data4.zip\n",
            "100%|██████████| 1.32G/1.32G [00:10<00:00, 124MB/s] \n",
            "Downloading...\n",
            "From: https://drive.google.com/uc?id=16VJhkCV2-ILcHxiF8a2ygEiHxXyF9RtM\n",
            "To: /content/new-dataset/test_data5.zip\n",
            "100%|██████████| 1.29G/1.29G [00:11<00:00, 112MB/s]\n",
            "Downloading...\n",
            "From: https://drive.google.com/uc?id=1kZyXyZVTHnSTg-gdrlf91V5ioYMr50Mp\n",
            "To: /content/new-dataset/test_data6.zip\n",
            "100%|██████████| 792M/792M [00:05<00:00, 148MB/s]\n"
          ]
        },
        {
          "output_type": "execute_result",
          "data": {
            "text/plain": [
              "'/content/new-dataset/test_data6.zip'"
            ],
            "application/vnd.google.colaboratory.intrinsic+json": {
              "type": "string"
            }
          },
          "metadata": {},
          "execution_count": 4
        }
      ]
    },
    {
      "cell_type": "code",
      "execution_count": 5,
      "metadata": {
        "id": "4af7CjopKs0E"
      },
      "outputs": [],
      "source": [
        "def unzip_data(download_path, extract_path):\n",
        "\n",
        "  # create glob\n",
        "  final_glob = glob.glob(f\"{download_path}*.zip\")\n",
        "\n",
        "  for zip_name in final_glob:\n",
        "    with ZipFile(zip_name, 'r') as zip:\n",
        "      zip.extractall(extract_path)"
      ]
    },
    {
      "cell_type": "code",
      "execution_count": 6,
      "metadata": {
        "id": "pLu4m-Q1Hnd0"
      },
      "outputs": [],
      "source": [
        "download_test_path = '/content/new-dataset/'\n",
        "extract_test_path = '/content/extracted-data'\n",
        "\n",
        "unzip_data(download_test_path, extract_test_path)"
      ]
    },
    {
      "cell_type": "markdown",
      "source": [
        "# Preprocessing"
      ],
      "metadata": {
        "id": "W-2JESpaWal8"
      }
    },
    {
      "cell_type": "markdown",
      "metadata": {
        "id": "bkRc04QOHwA3"
      },
      "source": [
        "## Parse files"
      ]
    },
    {
      "cell_type": "code",
      "execution_count": 21,
      "metadata": {
        "id": "v36BZwiSDZg1"
      },
      "outputs": [],
      "source": [
        "def convert_annotations_to_events(filename):\n",
        "    events = []\n",
        "    with open(filename, 'r') as csvfile:\n",
        "        spamreader = csv.reader(csvfile, delimiter='\\t', quotechar='|')\n",
        "        for row in spamreader:\n",
        "            row.append(row[0])\n",
        "            row.pop(0)\n",
        "            row[1] = str((float(row[1])/1000))\n",
        "            row[0] = str((float(row[0])/1000))\n",
        "            events.append(row)\n",
        "    return events"
      ]
    },
    {
      "cell_type": "code",
      "execution_count": 22,
      "metadata": {
        "id": "K6CZDBeoDaPy",
        "colab": {
          "base_uri": "https://localhost:8080/"
        },
        "outputId": "13a49fa1-857b-470b-da17-0b8902f3a742"
      },
      "outputs": [
        {
          "output_type": "stream",
          "name": "stdout",
          "text": [
            "[['0.0', '8.027', 'footsteps'], ['8.027', '10.922', 'rainforest'], ['10.922', '16.762', 'car'], ['16.762', '25.854', 'footsteps'], ['25.854', '34.946', 'footsteps'], ['34.946', '38.773', 'crowds'], ['38.773', '48.773', 'aircraft'], ['48.773', '58.633', 'car'], ['58.633', '68.084', 'rainforest'], ['68.084', '75.751', 'aircraft'], ['75.751', '80.37', 'clocks'], ['80.37', '83.271', 'car']]\n"
          ]
        }
      ],
      "source": [
        "events = convert_annotations_to_events(\"/content/extracted-data/outputs/0.txt\")\n",
        "print(events)"
      ]
    },
    {
      "cell_type": "code",
      "execution_count": 23,
      "metadata": {
        "id": "xcjhqP6-Mbuj"
      },
      "outputs": [],
      "source": [
        "audio_files = glob.glob(\"/content/extracted-data/outputs/*.wav\")\n",
        "text_files = glob.glob(\"/content/extracted-data/outputs/*.txt\")"
      ]
    },
    {
      "cell_type": "code",
      "execution_count": 24,
      "metadata": {
        "id": "SwG5VpfZUeeV"
      },
      "outputs": [],
      "source": [
        "target_dir = os.path.dirname(audio_files[0]).replace(\"outputs\", \"outputs-mono\")\n",
        "\n",
        "if not os.path.exists(target_dir):\n",
        "    os.makedirs(target_dir)"
      ]
    },
    {
      "cell_type": "code",
      "execution_count": 25,
      "metadata": {
        "id": "Flli3LPbTAEK",
        "colab": {
          "base_uri": "https://localhost:8080/"
        },
        "outputId": "8a0a73f1-7d5b-4296-fc04-870734b8eba1"
      },
      "outputs": [
        {
          "output_type": "stream",
          "name": "stderr",
          "text": [
            "100%|██████████| 1000/1000 [02:16<00:00,  7.33it/s]\n"
          ]
        }
      ],
      "source": [
        "for sound in tqdm(audio_files):\n",
        "  temp_file = sound.replace(\"outputs\", \"outputs-mono\")\n",
        "  command = command = \"sox \" + sound + \" \" + temp_file + \" channels 1\"\n",
        "  p = Popen(command, stdin=PIPE, stdout=PIPE, stderr=PIPE, shell=True)\n",
        "  output, err = p.communicate()"
      ]
    },
    {
      "cell_type": "code",
      "execution_count": 26,
      "metadata": {
        "id": "2dY_Ri78WFR_"
      },
      "outputs": [],
      "source": [
        "audio_files_mono = glob.glob(\"/content/extracted-data/outputs-mono/*.wav\")\n",
        "random.shuffle(audio_files_mono)"
      ]
    },
    {
      "cell_type": "code",
      "source": [
        "print(audio_files_mono)"
      ],
      "metadata": {
        "colab": {
          "base_uri": "https://localhost:8080/"
        },
        "id": "wr5raFkej02O",
        "outputId": "96dcdf00-9a40-4c3d-ef2c-d9638a67d9e5"
      },
      "execution_count": 27,
      "outputs": [
        {
          "output_type": "stream",
          "name": "stdout",
          "text": [
            "['/content/extracted-data/outputs-mono/789.wav', '/content/extracted-data/outputs-mono/718.wav', '/content/extracted-data/outputs-mono/197.wav', '/content/extracted-data/outputs-mono/26.wav', '/content/extracted-data/outputs-mono/522.wav', '/content/extracted-data/outputs-mono/923.wav', '/content/extracted-data/outputs-mono/44.wav', '/content/extracted-data/outputs-mono/178.wav', '/content/extracted-data/outputs-mono/124.wav', '/content/extracted-data/outputs-mono/232.wav', '/content/extracted-data/outputs-mono/458.wav', '/content/extracted-data/outputs-mono/800.wav', '/content/extracted-data/outputs-mono/640.wav', '/content/extracted-data/outputs-mono/710.wav', '/content/extracted-data/outputs-mono/422.wav', '/content/extracted-data/outputs-mono/659.wav', '/content/extracted-data/outputs-mono/772.wav', '/content/extracted-data/outputs-mono/102.wav', '/content/extracted-data/outputs-mono/223.wav', '/content/extracted-data/outputs-mono/464.wav', '/content/extracted-data/outputs-mono/109.wav', '/content/extracted-data/outputs-mono/64.wav', '/content/extracted-data/outputs-mono/994.wav', '/content/extracted-data/outputs-mono/671.wav', '/content/extracted-data/outputs-mono/784.wav', '/content/extracted-data/outputs-mono/865.wav', '/content/extracted-data/outputs-mono/564.wav', '/content/extracted-data/outputs-mono/488.wav', '/content/extracted-data/outputs-mono/328.wav', '/content/extracted-data/outputs-mono/278.wav', '/content/extracted-data/outputs-mono/301.wav', '/content/extracted-data/outputs-mono/216.wav', '/content/extracted-data/outputs-mono/471.wav', '/content/extracted-data/outputs-mono/34.wav', '/content/extracted-data/outputs-mono/598.wav', '/content/extracted-data/outputs-mono/658.wav', '/content/extracted-data/outputs-mono/36.wav', '/content/extracted-data/outputs-mono/873.wav', '/content/extracted-data/outputs-mono/455.wav', '/content/extracted-data/outputs-mono/405.wav', '/content/extracted-data/outputs-mono/384.wav', '/content/extracted-data/outputs-mono/294.wav', '/content/extracted-data/outputs-mono/534.wav', '/content/extracted-data/outputs-mono/535.wav', '/content/extracted-data/outputs-mono/367.wav', '/content/extracted-data/outputs-mono/938.wav', '/content/extracted-data/outputs-mono/288.wav', '/content/extracted-data/outputs-mono/526.wav', '/content/extracted-data/outputs-mono/657.wav', '/content/extracted-data/outputs-mono/164.wav', '/content/extracted-data/outputs-mono/817.wav', '/content/extracted-data/outputs-mono/734.wav', '/content/extracted-data/outputs-mono/828.wav', '/content/extracted-data/outputs-mono/532.wav', '/content/extracted-data/outputs-mono/944.wav', '/content/extracted-data/outputs-mono/728.wav', '/content/extracted-data/outputs-mono/385.wav', '/content/extracted-data/outputs-mono/741.wav', '/content/extracted-data/outputs-mono/618.wav', '/content/extracted-data/outputs-mono/694.wav', '/content/extracted-data/outputs-mono/928.wav', '/content/extracted-data/outputs-mono/172.wav', '/content/extracted-data/outputs-mono/700.wav', '/content/extracted-data/outputs-mono/911.wav', '/content/extracted-data/outputs-mono/359.wav', '/content/extracted-data/outputs-mono/272.wav', '/content/extracted-data/outputs-mono/720.wav', '/content/extracted-data/outputs-mono/597.wav', '/content/extracted-data/outputs-mono/627.wav', '/content/extracted-data/outputs-mono/470.wav', '/content/extracted-data/outputs-mono/883.wav', '/content/extracted-data/outputs-mono/299.wav', '/content/extracted-data/outputs-mono/687.wav', '/content/extracted-data/outputs-mono/505.wav', '/content/extracted-data/outputs-mono/963.wav', '/content/extracted-data/outputs-mono/136.wav', '/content/extracted-data/outputs-mono/70.wav', '/content/extracted-data/outputs-mono/884.wav', '/content/extracted-data/outputs-mono/184.wav', '/content/extracted-data/outputs-mono/878.wav', '/content/extracted-data/outputs-mono/283.wav', '/content/extracted-data/outputs-mono/550.wav', '/content/extracted-data/outputs-mono/639.wav', '/content/extracted-data/outputs-mono/352.wav', '/content/extracted-data/outputs-mono/408.wav', '/content/extracted-data/outputs-mono/739.wav', '/content/extracted-data/outputs-mono/421.wav', '/content/extracted-data/outputs-mono/614.wav', '/content/extracted-data/outputs-mono/543.wav', '/content/extracted-data/outputs-mono/877.wav', '/content/extracted-data/outputs-mono/842.wav', '/content/extracted-data/outputs-mono/753.wav', '/content/extracted-data/outputs-mono/981.wav', '/content/extracted-data/outputs-mono/948.wav', '/content/extracted-data/outputs-mono/972.wav', '/content/extracted-data/outputs-mono/743.wav', '/content/extracted-data/outputs-mono/74.wav', '/content/extracted-data/outputs-mono/689.wav', '/content/extracted-data/outputs-mono/35.wav', '/content/extracted-data/outputs-mono/402.wav', '/content/extracted-data/outputs-mono/681.wav', '/content/extracted-data/outputs-mono/621.wav', '/content/extracted-data/outputs-mono/115.wav', '/content/extracted-data/outputs-mono/977.wav', '/content/extracted-data/outputs-mono/763.wav', '/content/extracted-data/outputs-mono/698.wav', '/content/extracted-data/outputs-mono/2.wav', '/content/extracted-data/outputs-mono/770.wav', '/content/extracted-data/outputs-mono/327.wav', '/content/extracted-data/outputs-mono/862.wav', '/content/extracted-data/outputs-mono/355.wav', '/content/extracted-data/outputs-mono/761.wav', '/content/extracted-data/outputs-mono/840.wav', '/content/extracted-data/outputs-mono/53.wav', '/content/extracted-data/outputs-mono/692.wav', '/content/extracted-data/outputs-mono/973.wav', '/content/extracted-data/outputs-mono/975.wav', '/content/extracted-data/outputs-mono/324.wav', '/content/extracted-data/outputs-mono/145.wav', '/content/extracted-data/outputs-mono/548.wav', '/content/extracted-data/outputs-mono/354.wav', '/content/extracted-data/outputs-mono/776.wav', '/content/extracted-data/outputs-mono/261.wav', '/content/extracted-data/outputs-mono/396.wav', '/content/extracted-data/outputs-mono/461.wav', '/content/extracted-data/outputs-mono/253.wav', '/content/extracted-data/outputs-mono/308.wav', '/content/extracted-data/outputs-mono/947.wav', '/content/extracted-data/outputs-mono/167.wav', '/content/extracted-data/outputs-mono/394.wav', '/content/extracted-data/outputs-mono/383.wav', '/content/extracted-data/outputs-mono/138.wav', '/content/extracted-data/outputs-mono/174.wav', '/content/extracted-data/outputs-mono/325.wav', '/content/extracted-data/outputs-mono/684.wav', '/content/extracted-data/outputs-mono/382.wav', '/content/extracted-data/outputs-mono/496.wav', '/content/extracted-data/outputs-mono/245.wav', '/content/extracted-data/outputs-mono/713.wav', '/content/extracted-data/outputs-mono/961.wav', '/content/extracted-data/outputs-mono/306.wav', '/content/extracted-data/outputs-mono/974.wav', '/content/extracted-data/outputs-mono/149.wav', '/content/extracted-data/outputs-mono/820.wav', '/content/extracted-data/outputs-mono/569.wav', '/content/extracted-data/outputs-mono/863.wav', '/content/extracted-data/outputs-mono/19.wav', '/content/extracted-data/outputs-mono/15.wav', '/content/extracted-data/outputs-mono/56.wav', '/content/extracted-data/outputs-mono/211.wav', '/content/extracted-data/outputs-mono/267.wav', '/content/extracted-data/outputs-mono/955.wav', '/content/extracted-data/outputs-mono/850.wav', '/content/extracted-data/outputs-mono/147.wav', '/content/extracted-data/outputs-mono/92.wav', '/content/extracted-data/outputs-mono/249.wav', '/content/extracted-data/outputs-mono/386.wav', '/content/extracted-data/outputs-mono/706.wav', '/content/extracted-data/outputs-mono/695.wav', '/content/extracted-data/outputs-mono/669.wav', '/content/extracted-data/outputs-mono/220.wav', '/content/extracted-data/outputs-mono/398.wav', '/content/extracted-data/outputs-mono/403.wav', '/content/extracted-data/outputs-mono/538.wav', '/content/extracted-data/outputs-mono/874.wav', '/content/extracted-data/outputs-mono/953.wav', '/content/extracted-data/outputs-mono/892.wav', '/content/extracted-data/outputs-mono/310.wav', '/content/extracted-data/outputs-mono/746.wav', '/content/extracted-data/outputs-mono/192.wav', '/content/extracted-data/outputs-mono/427.wav', '/content/extracted-data/outputs-mono/495.wav', '/content/extracted-data/outputs-mono/674.wav', '/content/extracted-data/outputs-mono/835.wav', '/content/extracted-data/outputs-mono/57.wav', '/content/extracted-data/outputs-mono/979.wav', '/content/extracted-data/outputs-mono/90.wav', '/content/extracted-data/outputs-mono/443.wav', '/content/extracted-data/outputs-mono/6.wav', '/content/extracted-data/outputs-mono/691.wav', '/content/extracted-data/outputs-mono/335.wav', '/content/extracted-data/outputs-mono/419.wav', '/content/extracted-data/outputs-mono/268.wav', '/content/extracted-data/outputs-mono/744.wav', '/content/extracted-data/outputs-mono/116.wav', '/content/extracted-data/outputs-mono/370.wav', '/content/extracted-data/outputs-mono/518.wav', '/content/extracted-data/outputs-mono/420.wav', '/content/extracted-data/outputs-mono/84.wav', '/content/extracted-data/outputs-mono/644.wav', '/content/extracted-data/outputs-mono/202.wav', '/content/extracted-data/outputs-mono/890.wav', '/content/extracted-data/outputs-mono/872.wav', '/content/extracted-data/outputs-mono/900.wav', '/content/extracted-data/outputs-mono/604.wav', '/content/extracted-data/outputs-mono/655.wav', '/content/extracted-data/outputs-mono/60.wav', '/content/extracted-data/outputs-mono/956.wav', '/content/extracted-data/outputs-mono/340.wav', '/content/extracted-data/outputs-mono/652.wav', '/content/extracted-data/outputs-mono/168.wav', '/content/extracted-data/outputs-mono/369.wav', '/content/extracted-data/outputs-mono/954.wav', '/content/extracted-data/outputs-mono/984.wav', '/content/extracted-data/outputs-mono/229.wav', '/content/extracted-data/outputs-mono/480.wav', '/content/extracted-data/outputs-mono/964.wav', '/content/extracted-data/outputs-mono/114.wav', '/content/extracted-data/outputs-mono/523.wav', '/content/extracted-data/outputs-mono/148.wav', '/content/extracted-data/outputs-mono/752.wav', '/content/extracted-data/outputs-mono/486.wav', '/content/extracted-data/outputs-mono/120.wav', '/content/extracted-data/outputs-mono/982.wav', '/content/extracted-data/outputs-mono/110.wav', '/content/extracted-data/outputs-mono/838.wav', '/content/extracted-data/outputs-mono/553.wav', '/content/extracted-data/outputs-mono/634.wav', '/content/extracted-data/outputs-mono/816.wav', '/content/extracted-data/outputs-mono/21.wav', '/content/extracted-data/outputs-mono/17.wav', '/content/extracted-data/outputs-mono/983.wav', '/content/extracted-data/outputs-mono/547.wav', '/content/extracted-data/outputs-mono/169.wav', '/content/extracted-data/outputs-mono/612.wav', '/content/extracted-data/outputs-mono/577.wav', '/content/extracted-data/outputs-mono/490.wav', '/content/extracted-data/outputs-mono/424.wav', '/content/extracted-data/outputs-mono/482.wav', '/content/extracted-data/outputs-mono/849.wav', '/content/extracted-data/outputs-mono/935.wav', '/content/extracted-data/outputs-mono/549.wav', '/content/extracted-data/outputs-mono/426.wav', '/content/extracted-data/outputs-mono/284.wav', '/content/extracted-data/outputs-mono/509.wav', '/content/extracted-data/outputs-mono/502.wav', '/content/extracted-data/outputs-mono/248.wav', '/content/extracted-data/outputs-mono/181.wav', '/content/extracted-data/outputs-mono/733.wav', '/content/extracted-data/outputs-mono/154.wav', '/content/extracted-data/outputs-mono/830.wav', '/content/extracted-data/outputs-mono/200.wav', '/content/extracted-data/outputs-mono/809.wav', '/content/extracted-data/outputs-mono/958.wav', '/content/extracted-data/outputs-mono/193.wav', '/content/extracted-data/outputs-mono/936.wav', '/content/extracted-data/outputs-mono/206.wav', '/content/extracted-data/outputs-mono/453.wav', '/content/extracted-data/outputs-mono/158.wav', '/content/extracted-data/outputs-mono/203.wav', '/content/extracted-data/outputs-mono/338.wav', '/content/extracted-data/outputs-mono/726.wav', '/content/extracted-data/outputs-mono/391.wav', '/content/extracted-data/outputs-mono/363.wav', '/content/extracted-data/outputs-mono/529.wav', '/content/extracted-data/outputs-mono/437.wav', '/content/extracted-data/outputs-mono/319.wav', '/content/extracted-data/outputs-mono/77.wav', '/content/extracted-data/outputs-mono/388.wav', '/content/extracted-data/outputs-mono/364.wav', '/content/extracted-data/outputs-mono/318.wav', '/content/extracted-data/outputs-mono/103.wav', '/content/extracted-data/outputs-mono/303.wav', '/content/extracted-data/outputs-mono/240.wav', '/content/extracted-data/outputs-mono/814.wav', '/content/extracted-data/outputs-mono/467.wav', '/content/extracted-data/outputs-mono/514.wav', '/content/extracted-data/outputs-mono/677.wav', '/content/extracted-data/outputs-mono/723.wav', '/content/extracted-data/outputs-mono/376.wav', '/content/extracted-data/outputs-mono/902.wav', '/content/extracted-data/outputs-mono/479.wav', '/content/extracted-data/outputs-mono/760.wav', '/content/extracted-data/outputs-mono/506.wav', '/content/extracted-data/outputs-mono/793.wav', '/content/extracted-data/outputs-mono/409.wav', '/content/extracted-data/outputs-mono/83.wav', '/content/extracted-data/outputs-mono/59.wav', '/content/extracted-data/outputs-mono/886.wav', '/content/extracted-data/outputs-mono/918.wav', '/content/extracted-data/outputs-mono/653.wav', '/content/extracted-data/outputs-mono/452.wav', '/content/extracted-data/outputs-mono/778.wav', '/content/extracted-data/outputs-mono/309.wav', '/content/extracted-data/outputs-mono/321.wav', '/content/extracted-data/outputs-mono/137.wav', '/content/extracted-data/outputs-mono/716.wav', '/content/extracted-data/outputs-mono/566.wav', '/content/extracted-data/outputs-mono/357.wav', '/content/extracted-data/outputs-mono/757.wav', '/content/extracted-data/outputs-mono/418.wav', '/content/extracted-data/outputs-mono/690.wav', '/content/extracted-data/outputs-mono/724.wav', '/content/extracted-data/outputs-mono/524.wav', '/content/extracted-data/outputs-mono/170.wav', '/content/extracted-data/outputs-mono/992.wav', '/content/extracted-data/outputs-mono/144.wav', '/content/extracted-data/outputs-mono/96.wav', '/content/extracted-data/outputs-mono/263.wav', '/content/extracted-data/outputs-mono/611.wav', '/content/extracted-data/outputs-mono/7.wav', '/content/extracted-data/outputs-mono/866.wav', '/content/extracted-data/outputs-mono/378.wav', '/content/extracted-data/outputs-mono/14.wav', '/content/extracted-data/outputs-mono/711.wav', '/content/extracted-data/outputs-mono/645.wav', '/content/extracted-data/outputs-mono/389.wav', '/content/extracted-data/outputs-mono/432.wav', '/content/extracted-data/outputs-mono/578.wav', '/content/extracted-data/outputs-mono/94.wav', '/content/extracted-data/outputs-mono/554.wav', '/content/extracted-data/outputs-mono/118.wav', '/content/extracted-data/outputs-mono/848.wav', '/content/extracted-data/outputs-mono/879.wav', '/content/extracted-data/outputs-mono/875.wav', '/content/extracted-data/outputs-mono/927.wav', '/content/extracted-data/outputs-mono/131.wav', '/content/extracted-data/outputs-mono/610.wav', '/content/extracted-data/outputs-mono/664.wav', '/content/extracted-data/outputs-mono/99.wav', '/content/extracted-data/outputs-mono/88.wav', '/content/extracted-data/outputs-mono/717.wav', '/content/extracted-data/outputs-mono/831.wav', '/content/extracted-data/outputs-mono/350.wav', '/content/extracted-data/outputs-mono/622.wav', '/content/extracted-data/outputs-mono/286.wav', '/content/extracted-data/outputs-mono/334.wav', '/content/extracted-data/outputs-mono/937.wav', '/content/extracted-data/outputs-mono/591.wav', '/content/extracted-data/outputs-mono/55.wav', '/content/extracted-data/outputs-mono/242.wav', '/content/extracted-data/outputs-mono/122.wav', '/content/extracted-data/outputs-mono/859.wav', '/content/extracted-data/outputs-mono/667.wav', '/content/extracted-data/outputs-mono/339.wav', '/content/extracted-data/outputs-mono/507.wav', '/content/extracted-data/outputs-mono/638.wav', '/content/extracted-data/outputs-mono/252.wav', '/content/extracted-data/outputs-mono/561.wav', '/content/extracted-data/outputs-mono/257.wav', '/content/extracted-data/outputs-mono/195.wav', '/content/extracted-data/outputs-mono/86.wav', '/content/extracted-data/outputs-mono/462.wav', '/content/extracted-data/outputs-mono/62.wav', '/content/extracted-data/outputs-mono/152.wav', '/content/extracted-data/outputs-mono/600.wav', '/content/extracted-data/outputs-mono/377.wav', '/content/extracted-data/outputs-mono/670.wav', '/content/extracted-data/outputs-mono/836.wav', '/content/extracted-data/outputs-mono/214.wav', '/content/extracted-data/outputs-mono/913.wav', '/content/extracted-data/outputs-mono/675.wav', '/content/extracted-data/outputs-mono/701.wav', '/content/extracted-data/outputs-mono/93.wav', '/content/extracted-data/outputs-mono/173.wav', '/content/extracted-data/outputs-mono/69.wav', '/content/extracted-data/outputs-mono/579.wav', '/content/extracted-data/outputs-mono/725.wav', '/content/extracted-data/outputs-mono/533.wav', '/content/extracted-data/outputs-mono/738.wav', '/content/extracted-data/outputs-mono/469.wav', '/content/extracted-data/outputs-mono/199.wav', '/content/extracted-data/outputs-mono/714.wav', '/content/extracted-data/outputs-mono/876.wav', '/content/extracted-data/outputs-mono/12.wav', '/content/extracted-data/outputs-mono/171.wav', '/content/extracted-data/outputs-mono/4.wav', '/content/extracted-data/outputs-mono/33.wav', '/content/extracted-data/outputs-mono/606.wav', '/content/extracted-data/outputs-mono/89.wav', '/content/extracted-data/outputs-mono/870.wav', '/content/extracted-data/outputs-mono/401.wav', '/content/extracted-data/outputs-mono/351.wav', '/content/extracted-data/outputs-mono/699.wav', '/content/extracted-data/outputs-mono/635.wav', '/content/extracted-data/outputs-mono/273.wav', '/content/extracted-data/outputs-mono/904.wav', '/content/extracted-data/outputs-mono/81.wav', '/content/extracted-data/outputs-mono/668.wav', '/content/extracted-data/outputs-mono/615.wav', '/content/extracted-data/outputs-mono/436.wav', '/content/extracted-data/outputs-mono/952.wav', '/content/extracted-data/outputs-mono/891.wav', '/content/extracted-data/outputs-mono/852.wav', '/content/extracted-data/outputs-mono/922.wav', '/content/extracted-data/outputs-mono/13.wav', '/content/extracted-data/outputs-mono/730.wav', '/content/extracted-data/outputs-mono/966.wav', '/content/extracted-data/outputs-mono/729.wav', '/content/extracted-data/outputs-mono/349.wav', '/content/extracted-data/outputs-mono/666.wav', '/content/extracted-data/outputs-mono/516.wav', '/content/extracted-data/outputs-mono/51.wav', '/content/extracted-data/outputs-mono/108.wav', '/content/extracted-data/outputs-mono/854.wav', '/content/extracted-data/outputs-mono/295.wav', '/content/extracted-data/outputs-mono/32.wav', '/content/extracted-data/outputs-mono/531.wav', '/content/extracted-data/outputs-mono/3.wav', '/content/extracted-data/outputs-mono/839.wav', '/content/extracted-data/outputs-mono/399.wav', '/content/extracted-data/outputs-mono/602.wav', '/content/extracted-data/outputs-mono/544.wav', '/content/extracted-data/outputs-mono/735.wav', '/content/extracted-data/outputs-mono/525.wav', '/content/extracted-data/outputs-mono/365.wav', '/content/extracted-data/outputs-mono/541.wav', '/content/extracted-data/outputs-mono/489.wav', '/content/extracted-data/outputs-mono/140.wav', '/content/extracted-data/outputs-mono/201.wav', '/content/extracted-data/outputs-mono/939.wav', '/content/extracted-data/outputs-mono/721.wav', '/content/extracted-data/outputs-mono/18.wav', '/content/extracted-data/outputs-mono/908.wav', '/content/extracted-data/outputs-mono/500.wav', '/content/extracted-data/outputs-mono/941.wav', '/content/extracted-data/outputs-mono/439.wav', '/content/extracted-data/outputs-mono/587.wav', '/content/extracted-data/outputs-mono/827.wav', '/content/extracted-data/outputs-mono/617.wav', '/content/extracted-data/outputs-mono/813.wav', '/content/extracted-data/outputs-mono/454.wav', '/content/extracted-data/outputs-mono/285.wav', '/content/extracted-data/outputs-mono/626.wav', '/content/extracted-data/outputs-mono/392.wav', '/content/extracted-data/outputs-mono/767.wav', '/content/extracted-data/outputs-mono/358.wav', '/content/extracted-data/outputs-mono/435.wav', '/content/extracted-data/outputs-mono/187.wav', '/content/extracted-data/outputs-mono/337.wav', '/content/extracted-data/outputs-mono/205.wav', '/content/extracted-data/outputs-mono/995.wav', '/content/extracted-data/outputs-mono/905.wav', '/content/extracted-data/outputs-mono/551.wav', '/content/extracted-data/outputs-mono/736.wav', '/content/extracted-data/outputs-mono/965.wav', '/content/extracted-data/outputs-mono/289.wav', '/content/extracted-data/outputs-mono/305.wav', '/content/extracted-data/outputs-mono/221.wav', '/content/extracted-data/outputs-mono/643.wav', '/content/extracted-data/outputs-mono/747.wav', '/content/extracted-data/outputs-mono/434.wav', '/content/extracted-data/outputs-mono/448.wav', '/content/extracted-data/outputs-mono/66.wav', '/content/extracted-data/outputs-mono/42.wav', '/content/extracted-data/outputs-mono/893.wav', '/content/extracted-data/outputs-mono/864.wav', '/content/extracted-data/outputs-mono/967.wav', '/content/extracted-data/outputs-mono/920.wav', '/content/extracted-data/outputs-mono/636.wav', '/content/extracted-data/outputs-mono/407.wav', '/content/extracted-data/outputs-mono/601.wav', '/content/extracted-data/outputs-mono/465.wav', '/content/extracted-data/outputs-mono/808.wav', '/content/extracted-data/outputs-mono/79.wav', '/content/extracted-data/outputs-mono/988.wav', '/content/extracted-data/outputs-mono/483.wav', '/content/extracted-data/outputs-mono/867.wav', '/content/extracted-data/outputs-mono/428.wav', '/content/extracted-data/outputs-mono/222.wav', '/content/extracted-data/outputs-mono/942.wav', '/content/extracted-data/outputs-mono/633.wav', '/content/extracted-data/outputs-mono/802.wav', '/content/extracted-data/outputs-mono/492.wav', '/content/extracted-data/outputs-mono/10.wav', '/content/extracted-data/outputs-mono/30.wav', '/content/extracted-data/outputs-mono/654.wav', '/content/extracted-data/outputs-mono/416.wav', '/content/extracted-data/outputs-mono/224.wav', '/content/extracted-data/outputs-mono/978.wav', '/content/extracted-data/outputs-mono/930.wav', '/content/extracted-data/outputs-mono/498.wav', '/content/extracted-data/outputs-mono/228.wav', '/content/extracted-data/outputs-mono/843.wav', '/content/extracted-data/outputs-mono/860.wav', '/content/extracted-data/outputs-mono/853.wav', '/content/extracted-data/outputs-mono/317.wav', '/content/extracted-data/outputs-mono/397.wav', '/content/extracted-data/outputs-mono/803.wav', '/content/extracted-data/outputs-mono/107.wav', '/content/extracted-data/outputs-mono/844.wav', '/content/extracted-data/outputs-mono/353.wav', '/content/extracted-data/outputs-mono/732.wav', '/content/extracted-data/outputs-mono/556.wav', '/content/extracted-data/outputs-mono/111.wav', '/content/extracted-data/outputs-mono/478.wav', '/content/extracted-data/outputs-mono/887.wav', '/content/extracted-data/outputs-mono/425.wav', '/content/extracted-data/outputs-mono/183.wav', '/content/extracted-data/outputs-mono/567.wav', '/content/extracted-data/outputs-mono/845.wav', '/content/extracted-data/outputs-mono/449.wav', '/content/extracted-data/outputs-mono/238.wav', '/content/extracted-data/outputs-mono/774.wav', '/content/extracted-data/outputs-mono/175.wav', '/content/extracted-data/outputs-mono/313.wav', '/content/extracted-data/outputs-mono/330.wav', '/content/extracted-data/outputs-mono/82.wav', '/content/extracted-data/outputs-mono/559.wav', '/content/extracted-data/outputs-mono/316.wav', '/content/extracted-data/outputs-mono/755.wav', '/content/extracted-data/outputs-mono/163.wav', '/content/extracted-data/outputs-mono/651.wav', '/content/extracted-data/outputs-mono/731.wav', '/content/extracted-data/outputs-mono/415.wav', '/content/extracted-data/outputs-mono/609.wav', '/content/extracted-data/outputs-mono/565.wav', '/content/extracted-data/outputs-mono/336.wav', '/content/extracted-data/outputs-mono/919.wav', '/content/extracted-data/outputs-mono/613.wav', '/content/extracted-data/outputs-mono/276.wav', '/content/extracted-data/outputs-mono/95.wav', '/content/extracted-data/outputs-mono/71.wav', '/content/extracted-data/outputs-mono/990.wav', '/content/extracted-data/outputs-mono/788.wav', '/content/extracted-data/outputs-mono/949.wav', '/content/extracted-data/outputs-mono/605.wav', '/content/extracted-data/outputs-mono/536.wav', '/content/extracted-data/outputs-mono/135.wav', '/content/extracted-data/outputs-mono/650.wav', '/content/extracted-data/outputs-mono/491.wav', '/content/extracted-data/outputs-mono/129.wav', '/content/extracted-data/outputs-mono/672.wav', '/content/extracted-data/outputs-mono/259.wav', '/content/extracted-data/outputs-mono/642.wav', '/content/extracted-data/outputs-mono/270.wav', '/content/extracted-data/outputs-mono/599.wav', '/content/extracted-data/outputs-mono/48.wav', '/content/extracted-data/outputs-mono/899.wav', '/content/extracted-data/outputs-mono/456.wav', '/content/extracted-data/outputs-mono/898.wav', '/content/extracted-data/outputs-mono/931.wav', '/content/extracted-data/outputs-mono/412.wav', '/content/extracted-data/outputs-mono/244.wav', '/content/extracted-data/outputs-mono/912.wav', '/content/extracted-data/outputs-mono/946.wav', '/content/extracted-data/outputs-mono/574.wav', '/content/extracted-data/outputs-mono/837.wav', '/content/extracted-data/outputs-mono/182.wav', '/content/extracted-data/outputs-mono/585.wav', '/content/extracted-data/outputs-mono/821.wav', '/content/extracted-data/outputs-mono/592.wav', '/content/extracted-data/outputs-mono/123.wav', '/content/extracted-data/outputs-mono/775.wav', '/content/extracted-data/outputs-mono/901.wav', '/content/extracted-data/outputs-mono/189.wav', '/content/extracted-data/outputs-mono/829.wav', '/content/extracted-data/outputs-mono/293.wav', '/content/extracted-data/outputs-mono/372.wav', '/content/extracted-data/outputs-mono/906.wav', '/content/extracted-data/outputs-mono/780.wav', '/content/extracted-data/outputs-mono/511.wav', '/content/extracted-data/outputs-mono/121.wav', '/content/extracted-data/outputs-mono/766.wav', '/content/extracted-data/outputs-mono/647.wav', '/content/extracted-data/outputs-mono/528.wav', '/content/extracted-data/outputs-mono/281.wav', '/content/extracted-data/outputs-mono/637.wav', '/content/extracted-data/outputs-mono/22.wav', '/content/extracted-data/outputs-mono/157.wav', '/content/extracted-data/outputs-mono/783.wav', '/content/extracted-data/outputs-mono/20.wav', '/content/extracted-data/outputs-mono/512.wav', '/content/extracted-data/outputs-mono/588.wav', '/content/extracted-data/outputs-mono/759.wav', '/content/extracted-data/outputs-mono/583.wav', '/content/extracted-data/outputs-mono/881.wav', '/content/extracted-data/outputs-mono/218.wav', '/content/extracted-data/outputs-mono/333.wav', '/content/extracted-data/outputs-mono/619.wav', '/content/extracted-data/outputs-mono/560.wav', '/content/extracted-data/outputs-mono/661.wav', '/content/extracted-data/outputs-mono/45.wav', '/content/extracted-data/outputs-mono/320.wav', '/content/extracted-data/outputs-mono/762.wav', '/content/extracted-data/outputs-mono/568.wav', '/content/extracted-data/outputs-mono/302.wav', '/content/extracted-data/outputs-mono/366.wav', '/content/extracted-data/outputs-mono/264.wav', '/content/extracted-data/outputs-mono/673.wav', '/content/extracted-data/outputs-mono/682.wav', '/content/extracted-data/outputs-mono/764.wav', '/content/extracted-data/outputs-mono/343.wav', '/content/extracted-data/outputs-mono/557.wav', '/content/extracted-data/outputs-mono/275.wav', '/content/extracted-data/outputs-mono/929.wav', '/content/extracted-data/outputs-mono/812.wav', '/content/extracted-data/outputs-mono/127.wav', '/content/extracted-data/outputs-mono/314.wav', '/content/extracted-data/outputs-mono/678.wav', '/content/extracted-data/outputs-mono/818.wav', '/content/extracted-data/outputs-mono/997.wav', '/content/extracted-data/outputs-mono/513.wav', '/content/extracted-data/outputs-mono/341.wav', '/content/extracted-data/outputs-mono/185.wav', '/content/extracted-data/outputs-mono/515.wav', '/content/extracted-data/outputs-mono/417.wav', '/content/extracted-data/outputs-mono/916.wav', '/content/extracted-data/outputs-mono/570.wav', '/content/extracted-data/outputs-mono/37.wav', '/content/extracted-data/outputs-mono/686.wav', '/content/extracted-data/outputs-mono/139.wav', '/content/extracted-data/outputs-mono/433.wav', '/content/extracted-data/outputs-mono/374.wav', '/content/extracted-data/outputs-mono/256.wav', '/content/extracted-data/outputs-mono/933.wav', '/content/extracted-data/outputs-mono/580.wav', '/content/extracted-data/outputs-mono/810.wav', '/content/extracted-data/outputs-mono/31.wav', '/content/extracted-data/outputs-mono/665.wav', '/content/extracted-data/outputs-mono/246.wav', '/content/extracted-data/outputs-mono/555.wav', '/content/extracted-data/outputs-mono/903.wav', '/content/extracted-data/outputs-mono/826.wav', '/content/extracted-data/outputs-mono/63.wav', '/content/extracted-data/outputs-mono/968.wav', '/content/extracted-data/outputs-mono/255.wav', '/content/extracted-data/outputs-mono/503.wav', '/content/extracted-data/outputs-mono/834.wav', '/content/extracted-data/outputs-mono/250.wav', '/content/extracted-data/outputs-mono/656.wav', '/content/extracted-data/outputs-mono/868.wav', '/content/extracted-data/outputs-mono/520.wav', '/content/extracted-data/outputs-mono/768.wav', '/content/extracted-data/outputs-mono/155.wav', '/content/extracted-data/outputs-mono/888.wav', '/content/extracted-data/outputs-mono/49.wav', '/content/extracted-data/outputs-mono/895.wav', '/content/extracted-data/outputs-mono/624.wav', '/content/extracted-data/outputs-mono/67.wav', '/content/extracted-data/outputs-mono/991.wav', '/content/extracted-data/outputs-mono/46.wav', '/content/extracted-data/outputs-mono/43.wav', '/content/extracted-data/outputs-mono/791.wav', '/content/extracted-data/outputs-mono/704.wav', '/content/extracted-data/outputs-mono/346.wav', '/content/extracted-data/outputs-mono/190.wav', '/content/extracted-data/outputs-mono/101.wav', '/content/extracted-data/outputs-mono/52.wav', '/content/extracted-data/outputs-mono/457.wav', '/content/extracted-data/outputs-mono/630.wav', '/content/extracted-data/outputs-mono/360.wav', '/content/extracted-data/outputs-mono/807.wav', '/content/extracted-data/outputs-mono/962.wav', '/content/extracted-data/outputs-mono/215.wav', '/content/extracted-data/outputs-mono/697.wav', '/content/extracted-data/outputs-mono/841.wav', '/content/extracted-data/outputs-mono/423.wav', '/content/extracted-data/outputs-mono/631.wav', '/content/extracted-data/outputs-mono/75.wav', '/content/extracted-data/outputs-mono/146.wav', '/content/extracted-data/outputs-mono/472.wav', '/content/extracted-data/outputs-mono/290.wav', '/content/extracted-data/outputs-mono/934.wav', '/content/extracted-data/outputs-mono/28.wav', '/content/extracted-data/outputs-mono/773.wav', '/content/extracted-data/outputs-mono/999.wav', '/content/extracted-data/outputs-mono/748.wav', '/content/extracted-data/outputs-mono/945.wav', '/content/extracted-data/outputs-mono/186.wav', '/content/extracted-data/outputs-mono/493.wav', '/content/extracted-data/outputs-mono/950.wav', '/content/extracted-data/outputs-mono/373.wav', '/content/extracted-data/outputs-mono/126.wav', '/content/extracted-data/outputs-mono/125.wav', '/content/extracted-data/outputs-mono/8.wav', '/content/extracted-data/outputs-mono/777.wav', '/content/extracted-data/outputs-mono/940.wav', '/content/extracted-data/outputs-mono/607.wav', '/content/extracted-data/outputs-mono/960.wav', '/content/extracted-data/outputs-mono/519.wav', '/content/extracted-data/outputs-mono/823.wav', '/content/extracted-data/outputs-mono/132.wav', '/content/extracted-data/outputs-mono/715.wav', '/content/extracted-data/outputs-mono/719.wav', '/content/extracted-data/outputs-mono/476.wav', '/content/extracted-data/outputs-mono/709.wav', '/content/extracted-data/outputs-mono/855.wav', '/content/extracted-data/outputs-mono/254.wav', '/content/extracted-data/outputs-mono/851.wav', '/content/extracted-data/outputs-mono/801.wav', '/content/extracted-data/outputs-mono/494.wav', '/content/extracted-data/outputs-mono/331.wav', '/content/extracted-data/outputs-mono/104.wav', '/content/extracted-data/outputs-mono/25.wav', '/content/extracted-data/outputs-mono/73.wav', '/content/extracted-data/outputs-mono/153.wav', '/content/extracted-data/outputs-mono/696.wav', '/content/extracted-data/outputs-mono/969.wav', '/content/extracted-data/outputs-mono/311.wav', '/content/extracted-data/outputs-mono/987.wav', '/content/extracted-data/outputs-mono/269.wav', '/content/extracted-data/outputs-mono/616.wav', '/content/extracted-data/outputs-mono/799.wav', '/content/extracted-data/outputs-mono/162.wav', '/content/extracted-data/outputs-mono/537.wav', '/content/extracted-data/outputs-mono/161.wav', '/content/extracted-data/outputs-mono/61.wav', '/content/extracted-data/outputs-mono/91.wav', '/content/extracted-data/outputs-mono/976.wav', '/content/extracted-data/outputs-mono/113.wav', '/content/extracted-data/outputs-mono/40.wav', '/content/extracted-data/outputs-mono/106.wav', '/content/extracted-data/outputs-mono/430.wav', '/content/extracted-data/outputs-mono/58.wav', '/content/extracted-data/outputs-mono/795.wav', '/content/extracted-data/outputs-mono/431.wav', '/content/extracted-data/outputs-mono/998.wav', '/content/extracted-data/outputs-mono/750.wav', '/content/extracted-data/outputs-mono/727.wav', '/content/extracted-data/outputs-mono/796.wav', '/content/extracted-data/outputs-mono/446.wav', '/content/extracted-data/outputs-mono/546.wav', '/content/extracted-data/outputs-mono/792.wav', '/content/extracted-data/outputs-mono/896.wav', '/content/extracted-data/outputs-mono/475.wav', '/content/extracted-data/outputs-mono/87.wav', '/content/extracted-data/outputs-mono/76.wav', '/content/extracted-data/outputs-mono/487.wav', '/content/extracted-data/outputs-mono/737.wav', '/content/extracted-data/outputs-mono/880.wav', '/content/extracted-data/outputs-mono/447.wav', '/content/extracted-data/outputs-mono/596.wav', '/content/extracted-data/outputs-mono/688.wav', '/content/extracted-data/outputs-mono/213.wav', '/content/extracted-data/outputs-mono/593.wav', '/content/extracted-data/outputs-mono/499.wav', '/content/extracted-data/outputs-mono/134.wav', '/content/extracted-data/outputs-mono/708.wav', '/content/extracted-data/outputs-mono/552.wav', '/content/extracted-data/outputs-mono/914.wav', '/content/extracted-data/outputs-mono/225.wav', '/content/extracted-data/outputs-mono/993.wav', '/content/extracted-data/outputs-mono/628.wav', '/content/extracted-data/outputs-mono/679.wav', '/content/extracted-data/outputs-mono/589.wav', '/content/extracted-data/outputs-mono/459.wav', '/content/extracted-data/outputs-mono/345.wav', '/content/extracted-data/outputs-mono/805.wav', '/content/extracted-data/outputs-mono/742.wav', '/content/extracted-data/outputs-mono/632.wav', '/content/extracted-data/outputs-mono/680.wav', '/content/extracted-data/outputs-mono/749.wav', '/content/extracted-data/outputs-mono/243.wav', '/content/extracted-data/outputs-mono/790.wav', '/content/extracted-data/outputs-mono/468.wav', '/content/extracted-data/outputs-mono/375.wav', '/content/extracted-data/outputs-mono/251.wav', '/content/extracted-data/outputs-mono/68.wav', '/content/extracted-data/outputs-mono/594.wav', '/content/extracted-data/outputs-mono/393.wav', '/content/extracted-data/outputs-mono/804.wav', '/content/extracted-data/outputs-mono/833.wav', '/content/extracted-data/outputs-mono/787.wav', '/content/extracted-data/outputs-mono/542.wav', '/content/extracted-data/outputs-mono/188.wav', '/content/extracted-data/outputs-mono/209.wav', '/content/extracted-data/outputs-mono/356.wav', '/content/extracted-data/outputs-mono/576.wav', '/content/extracted-data/outputs-mono/413.wav', '/content/extracted-data/outputs-mono/707.wav', '/content/extracted-data/outputs-mono/395.wav', '/content/extracted-data/outputs-mono/985.wav', '/content/extracted-data/outputs-mono/231.wav', '/content/extracted-data/outputs-mono/241.wav', '/content/extracted-data/outputs-mono/703.wav', '/content/extracted-data/outputs-mono/277.wav', '/content/extracted-data/outputs-mono/501.wav', '/content/extracted-data/outputs-mono/38.wav', '/content/extracted-data/outputs-mono/404.wav', '/content/extracted-data/outputs-mono/128.wav', '/content/extracted-data/outputs-mono/191.wav', '/content/extracted-data/outputs-mono/623.wav', '/content/extracted-data/outputs-mono/782.wav', '/content/extracted-data/outputs-mono/65.wav', '/content/extracted-data/outputs-mono/180.wav', '/content/extracted-data/outputs-mono/629.wav', '/content/extracted-data/outputs-mono/265.wav', '/content/extracted-data/outputs-mono/832.wav', '/content/extracted-data/outputs-mono/23.wav', '/content/extracted-data/outputs-mono/754.wav', '/content/extracted-data/outputs-mono/581.wav', '/content/extracted-data/outputs-mono/970.wav', '/content/extracted-data/outputs-mono/765.wav', '/content/extracted-data/outputs-mono/785.wav', '/content/extracted-data/outputs-mono/649.wav', '/content/extracted-data/outputs-mono/740.wav', '/content/extracted-data/outputs-mono/786.wav', '/content/extracted-data/outputs-mono/758.wav', '/content/extracted-data/outputs-mono/824.wav', '/content/extracted-data/outputs-mono/894.wav', '/content/extracted-data/outputs-mono/237.wav', '/content/extracted-data/outputs-mono/239.wav', '/content/extracted-data/outputs-mono/297.wav', '/content/extracted-data/outputs-mono/751.wav', '/content/extracted-data/outputs-mono/889.wav', '/content/extracted-data/outputs-mono/907.wav', '/content/extracted-data/outputs-mono/344.wav', '/content/extracted-data/outputs-mono/582.wav', '/content/extracted-data/outputs-mono/105.wav', '/content/extracted-data/outputs-mono/322.wav', '/content/extracted-data/outputs-mono/897.wav', '/content/extracted-data/outputs-mono/130.wav', '/content/extracted-data/outputs-mono/208.wav', '/content/extracted-data/outputs-mono/279.wav', '/content/extracted-data/outputs-mono/584.wav', '/content/extracted-data/outputs-mono/100.wav', '/content/extracted-data/outputs-mono/921.wav', '/content/extracted-data/outputs-mono/575.wav', '/content/extracted-data/outputs-mono/177.wav', '/content/extracted-data/outputs-mono/11.wav', '/content/extracted-data/outputs-mono/806.wav', '/content/extracted-data/outputs-mono/50.wav', '/content/extracted-data/outputs-mono/794.wav', '/content/extracted-data/outputs-mono/196.wav', '/content/extracted-data/outputs-mono/910.wav', '/content/extracted-data/outputs-mono/141.wav', '/content/extracted-data/outputs-mono/287.wav', '/content/extracted-data/outputs-mono/315.wav', '/content/extracted-data/outputs-mono/819.wav', '/content/extracted-data/outputs-mono/858.wav', '/content/extracted-data/outputs-mono/380.wav', '/content/extracted-data/outputs-mono/856.wav', '/content/extracted-data/outputs-mono/586.wav', '/content/extracted-data/outputs-mono/693.wav', '/content/extracted-data/outputs-mono/85.wav', '/content/extracted-data/outputs-mono/329.wav', '/content/extracted-data/outputs-mono/943.wav', '/content/extracted-data/outputs-mono/406.wav', '/content/extracted-data/outputs-mono/78.wav', '/content/extracted-data/outputs-mono/882.wav', '/content/extracted-data/outputs-mono/400.wav', '/content/extracted-data/outputs-mono/822.wav', '/content/extracted-data/outputs-mono/29.wav', '/content/extracted-data/outputs-mono/676.wav', '/content/extracted-data/outputs-mono/521.wav', '/content/extracted-data/outputs-mono/683.wav', '/content/extracted-data/outputs-mono/608.wav', '/content/extracted-data/outputs-mono/508.wav', '/content/extracted-data/outputs-mono/112.wav', '/content/extracted-data/outputs-mono/563.wav', '/content/extracted-data/outputs-mono/371.wav', '/content/extracted-data/outputs-mono/442.wav', '/content/extracted-data/outputs-mono/450.wav', '/content/extracted-data/outputs-mono/571.wav', '/content/extracted-data/outputs-mono/47.wav', '/content/extracted-data/outputs-mono/348.wav', '/content/extracted-data/outputs-mono/226.wav', '/content/extracted-data/outputs-mono/477.wav', '/content/extracted-data/outputs-mono/996.wav', '/content/extracted-data/outputs-mono/932.wav', '/content/extracted-data/outputs-mono/379.wav', '/content/extracted-data/outputs-mono/247.wav', '/content/extracted-data/outputs-mono/441.wav', '/content/extracted-data/outputs-mono/925.wav', '/content/extracted-data/outputs-mono/411.wav', '/content/extracted-data/outputs-mono/917.wav', '/content/extracted-data/outputs-mono/292.wav', '/content/extracted-data/outputs-mono/342.wav', '/content/extracted-data/outputs-mono/332.wav', '/content/extracted-data/outputs-mono/262.wav', '/content/extracted-data/outputs-mono/957.wav', '/content/extracted-data/outputs-mono/797.wav', '/content/extracted-data/outputs-mono/846.wav', '/content/extracted-data/outputs-mono/558.wav', '/content/extracted-data/outputs-mono/445.wav', '/content/extracted-data/outputs-mono/663.wav', '/content/extracted-data/outputs-mono/414.wav', '/content/extracted-data/outputs-mono/159.wav', '/content/extracted-data/outputs-mono/756.wav', '/content/extracted-data/outputs-mono/460.wav', '/content/extracted-data/outputs-mono/235.wav', '/content/extracted-data/outputs-mono/165.wav', '/content/extracted-data/outputs-mono/798.wav', '/content/extracted-data/outputs-mono/980.wav', '/content/extracted-data/outputs-mono/41.wav', '/content/extracted-data/outputs-mono/924.wav', '/content/extracted-data/outputs-mono/620.wav', '/content/extracted-data/outputs-mono/271.wav', '/content/extracted-data/outputs-mono/648.wav', '/content/extracted-data/outputs-mono/347.wav', '/content/extracted-data/outputs-mono/151.wav', '/content/extracted-data/outputs-mono/869.wav', '/content/extracted-data/outputs-mono/368.wav', '/content/extracted-data/outputs-mono/280.wav', '/content/extracted-data/outputs-mono/236.wav', '/content/extracted-data/outputs-mono/745.wav', '/content/extracted-data/outputs-mono/989.wav', '/content/extracted-data/outputs-mono/142.wav', '/content/extracted-data/outputs-mono/361.wav', '/content/extracted-data/outputs-mono/312.wav', '/content/extracted-data/outputs-mono/117.wav', '/content/extracted-data/outputs-mono/217.wav', '/content/extracted-data/outputs-mono/39.wav', '/content/extracted-data/outputs-mono/9.wav', '/content/extracted-data/outputs-mono/438.wav', '/content/extracted-data/outputs-mono/296.wav', '/content/extracted-data/outputs-mono/451.wav', '/content/extracted-data/outputs-mono/97.wav', '/content/extracted-data/outputs-mono/24.wav', '/content/extracted-data/outputs-mono/484.wav', '/content/extracted-data/outputs-mono/274.wav', '/content/extracted-data/outputs-mono/291.wav', '/content/extracted-data/outputs-mono/562.wav', '/content/extracted-data/outputs-mono/909.wav', '/content/extracted-data/outputs-mono/260.wav', '/content/extracted-data/outputs-mono/504.wav', '/content/extracted-data/outputs-mono/440.wav', '/content/extracted-data/outputs-mono/98.wav', '/content/extracted-data/outputs-mono/771.wav', '/content/extracted-data/outputs-mono/150.wav', '/content/extracted-data/outputs-mono/234.wav', '/content/extracted-data/outputs-mono/362.wav', '/content/extracted-data/outputs-mono/530.wav', '/content/extracted-data/outputs-mono/702.wav', '/content/extracted-data/outputs-mono/971.wav', '/content/extracted-data/outputs-mono/481.wav', '/content/extracted-data/outputs-mono/915.wav', '/content/extracted-data/outputs-mono/885.wav', '/content/extracted-data/outputs-mono/194.wav', '/content/extracted-data/outputs-mono/300.wav', '/content/extracted-data/outputs-mono/323.wav', '/content/extracted-data/outputs-mono/951.wav', '/content/extracted-data/outputs-mono/72.wav', '/content/extracted-data/outputs-mono/662.wav', '/content/extracted-data/outputs-mono/986.wav', '/content/extracted-data/outputs-mono/156.wav', '/content/extracted-data/outputs-mono/463.wav', '/content/extracted-data/outputs-mono/517.wav', '/content/extracted-data/outputs-mono/210.wav', '/content/extracted-data/outputs-mono/781.wav', '/content/extracted-data/outputs-mono/595.wav', '/content/extracted-data/outputs-mono/685.wav', '/content/extracted-data/outputs-mono/926.wav', '/content/extracted-data/outputs-mono/769.wav', '/content/extracted-data/outputs-mono/847.wav', '/content/extracted-data/outputs-mono/603.wav', '/content/extracted-data/outputs-mono/5.wav', '/content/extracted-data/outputs-mono/539.wav', '/content/extracted-data/outputs-mono/258.wav', '/content/extracted-data/outputs-mono/474.wav', '/content/extracted-data/outputs-mono/871.wav', '/content/extracted-data/outputs-mono/705.wav', '/content/extracted-data/outputs-mono/298.wav', '/content/extracted-data/outputs-mono/410.wav', '/content/extracted-data/outputs-mono/233.wav', '/content/extracted-data/outputs-mono/510.wav', '/content/extracted-data/outputs-mono/387.wav', '/content/extracted-data/outputs-mono/227.wav', '/content/extracted-data/outputs-mono/212.wav', '/content/extracted-data/outputs-mono/219.wav', '/content/extracted-data/outputs-mono/119.wav', '/content/extracted-data/outputs-mono/266.wav', '/content/extracted-data/outputs-mono/381.wav', '/content/extracted-data/outputs-mono/326.wav', '/content/extracted-data/outputs-mono/390.wav', '/content/extracted-data/outputs-mono/625.wav', '/content/extracted-data/outputs-mono/825.wav', '/content/extracted-data/outputs-mono/959.wav', '/content/extracted-data/outputs-mono/815.wav', '/content/extracted-data/outputs-mono/160.wav', '/content/extracted-data/outputs-mono/660.wav', '/content/extracted-data/outputs-mono/230.wav', '/content/extracted-data/outputs-mono/198.wav', '/content/extracted-data/outputs-mono/429.wav', '/content/extracted-data/outputs-mono/473.wav', '/content/extracted-data/outputs-mono/811.wav', '/content/extracted-data/outputs-mono/861.wav', '/content/extracted-data/outputs-mono/204.wav', '/content/extracted-data/outputs-mono/444.wav', '/content/extracted-data/outputs-mono/572.wav', '/content/extracted-data/outputs-mono/641.wav', '/content/extracted-data/outputs-mono/207.wav', '/content/extracted-data/outputs-mono/54.wav', '/content/extracted-data/outputs-mono/176.wav', '/content/extracted-data/outputs-mono/527.wav', '/content/extracted-data/outputs-mono/16.wav', '/content/extracted-data/outputs-mono/712.wav', '/content/extracted-data/outputs-mono/143.wav', '/content/extracted-data/outputs-mono/179.wav', '/content/extracted-data/outputs-mono/1.wav', '/content/extracted-data/outputs-mono/304.wav', '/content/extracted-data/outputs-mono/540.wav', '/content/extracted-data/outputs-mono/779.wav', '/content/extracted-data/outputs-mono/573.wav', '/content/extracted-data/outputs-mono/282.wav', '/content/extracted-data/outputs-mono/0.wav', '/content/extracted-data/outputs-mono/646.wav', '/content/extracted-data/outputs-mono/307.wav', '/content/extracted-data/outputs-mono/590.wav', '/content/extracted-data/outputs-mono/722.wav', '/content/extracted-data/outputs-mono/857.wav', '/content/extracted-data/outputs-mono/80.wav', '/content/extracted-data/outputs-mono/27.wav', '/content/extracted-data/outputs-mono/166.wav', '/content/extracted-data/outputs-mono/485.wav', '/content/extracted-data/outputs-mono/497.wav', '/content/extracted-data/outputs-mono/466.wav', '/content/extracted-data/outputs-mono/545.wav', '/content/extracted-data/outputs-mono/133.wav']\n"
          ]
        }
      ]
    },
    {
      "cell_type": "markdown",
      "metadata": {
        "id": "VElzHF_ss3T1"
      },
      "source": [
        "## Construct Dataset"
      ]
    },
    {
      "cell_type": "code",
      "execution_count": 28,
      "metadata": {
        "colab": {
          "base_uri": "https://localhost:8080/"
        },
        "id": "gk-V6K0SCNt4",
        "outputId": "f0dfe496-5c6f-4257-c568-b9150d2e3cb6"
      },
      "outputs": [
        {
          "output_type": "stream",
          "name": "stdout",
          "text": [
            "1000\n"
          ]
        }
      ],
      "source": [
        "fold1_train_files = []\n",
        "fold1_val_files = []\n",
        "fold1_test_files = []\n",
        "print(len(audio_files_mono))\n",
        "audio_files_mono = audio_files_mono[:100]\n",
        "i = 0\n",
        "for f in audio_files_mono:\n",
        "  if i < 70:\n",
        "    fold1_train_files.append(f)\n",
        "  elif i < 90:\n",
        "    fold1_val_files.append(f)\n",
        "  else:\n",
        "    fold1_test_files.append(f)\n",
        "  i += 1"
      ]
    },
    {
      "cell_type": "code",
      "execution_count": 29,
      "metadata": {
        "id": "rUElUf__xD3M"
      },
      "outputs": [],
      "source": [
        "def construct_examples(audio_path, win_len = 2.56, hop_len = 1.0, sr = 44100.0):\n",
        "  # here win_len is the window_length and hop_len is the hop_length between the examples.\n",
        "  # sr is the sampling rate\n",
        "\n",
        "  window_length_t = win_len\n",
        "  hop_length_t = hop_len\n",
        "\n",
        "  window_length = int(sr*window_length_t)\n",
        "  hop_length = int(sr*hop_length_t)\n",
        "\n",
        "  audio, sr = sf.read(audio_path)\n",
        "\n",
        "  # handle padding\n",
        "  if audio.shape[0] < window_length:\n",
        "    audio_padded = np.zeros((window_length, ))\n",
        "    audio_padded[0:audio.shape[0]] = audio \n",
        "\n",
        "  else:\n",
        "    no_of_hops = math.ceil((audio.shape[0] - window_length) / hop_length)\n",
        "    audio_padded = np.zeros((int(window_length + hop_length*no_of_hops), ))\n",
        "    audio_padded[0:audio.shape[0]] = audio  \n",
        "\n",
        "  audio_example = [audio_padded[i - window_length : i] for i in range(window_length, audio_padded.shape[0]+1, hop_length)]\n",
        "  win_ranges = [((i - window_length)/sr, i/sr) for i in range(window_length, audio_padded.shape[0]+1, hop_length)]\n",
        "\n",
        "  return audio_example, win_ranges"
      ]
    },
    {
      "cell_type": "code",
      "execution_count": 30,
      "metadata": {
        "id": "5LScHoJOTkc6"
      },
      "outputs": [],
      "source": [
        "def construct_labels(annotation_path, win_start, win_end, win_len):\n",
        "  # takes the annotation_path, window_start, window_end and window_length\n",
        "  events = convert_annotations_to_events(annotation_path)\n",
        "\n",
        "  annotation_vals = [[float(e[0]), float(e[1]), e[2]] for e in events]\n",
        "\n",
        "  curr_annotation = []\n",
        "\n",
        "  for annotation in annotation_vals:\n",
        "    if annotation[1] > win_start and annotation[0] <= win_end: \n",
        "      curr_start = max(annotation[0] - win_start, 0.0)\n",
        "      curr_end = min(annotation[1] - win_start, win_len)\n",
        "      curr_annotation.append([curr_start, curr_end, annotation[2]])    \n",
        "\n",
        "  # get current class set from annotations\n",
        "  class_set = set([c[2] for c in curr_annotation])\n",
        "  class_wise_events = {}\n",
        "\n",
        "  for c in list(class_set):\n",
        "    class_wise_events[c] = []\n",
        "\n",
        "\n",
        "  for c in curr_annotation:\n",
        "    class_wise_events[c[2]].append(c)\n",
        "    \n",
        "  max_event_silence = 0.0\n",
        "  all_events = []\n",
        "\n",
        "  for k in list(class_wise_events.keys()):\n",
        "    curr_events = class_wise_events[k]\n",
        "    count = 0\n",
        "\n",
        "    while count < len(curr_events) - 1:\n",
        "      if (curr_events[count][1] >= curr_events[count + 1][0]) or (curr_events[count + 1][0] - curr_events[count][1] <= max_event_silence):\n",
        "        curr_events[count][1] = max(curr_events[count + 1][1], curr_events[count][1])\n",
        "        del curr_events[count + 1]\n",
        "      else:\n",
        "        count += 1\n",
        "\n",
        "    all_events += curr_events\n",
        "\n",
        "  for i in range(len(all_events)):\n",
        "    # round all the values so that they are not arbitarily long\n",
        "    all_events[i][0] = round(all_events[i][0], 3)\n",
        "    all_events[i][1] = round(all_events[i][1], 3)\n",
        "\n",
        "  all_events.sort(key=lambda x: x[0])\n",
        "\n",
        "  return all_events"
      ]
    },
    {
      "cell_type": "code",
      "execution_count": 31,
      "metadata": {
        "id": "b32KeTkwsLEk"
      },
      "outputs": [],
      "source": [
        "def get_universal_labels(events, class_dict, ex_length = 10.0, no_of_div = 32):\n",
        "  # returns all labels from events\n",
        "  win_length = ex_length/no_of_div\n",
        "  labels = np.zeros((no_of_div, len(class_dict.keys()) * 3))\n",
        "  \n",
        "  for e in events:\n",
        "\n",
        "    start_time = float(e[0])\n",
        "    stop_time = float(e[1])\n",
        "    if (float(e[0]) == 2.56):\n",
        "      start_time = float(e[0] - 0.00001)\n",
        "    if (float(e[1] == 2.56)):\n",
        "      stop_time = float(e[1]- 0.000001)\n",
        "     \n",
        "\n",
        "    start_bin = int(start_time // win_length)\n",
        "    stop_bin = int(stop_time // win_length)\n",
        "\n",
        "    start_time_2 = start_time - start_bin * win_length\n",
        "    stop_time_2 = stop_time - stop_bin * win_length\n",
        "\n",
        "    n_bins = stop_bin - start_bin\n",
        "\n",
        "    if n_bins == 0:\n",
        "      labels[start_bin, class_dict[e[2]] * 3:class_dict[e[2]] * 3 + 3] = [1, start_time_2, stop_time_2]    \n",
        "\n",
        "    elif n_bins == 1:\n",
        "      labels[start_bin, class_dict[e[2]] * 3:class_dict[e[2]] * 3 + 3] = [1, start_time_2, win_length]\n",
        "\n",
        "      if stop_time_2 > 0.0:\n",
        "        labels[stop_bin, class_dict[e[2]] * 3:class_dict[e[2]] * 3 + 3] = [1, 0.0, stop_time_2]\n",
        "\n",
        "    elif n_bins > 1:\n",
        "      labels[start_bin, class_dict[e[2]] * 3:class_dict[e[2]] * 3 + 3] = [1, start_time_2, win_length]\n",
        "\n",
        "      for i in range(1, n_bins):\n",
        "        labels[start_bin + i, class_dict[e[2]] * 3:class_dict[e[2]] * 3 + 3] = [1, 0.0, win_length]\n",
        "\n",
        "      if stop_time_2 > 0.0:\n",
        "        labels[stop_bin, class_dict[e[2]] * 3:class_dict[e[2]] * 3 + 3] = [1, 0.0, stop_time_2]\n",
        "\n",
        "  # divide all time values by window_length\n",
        "  for labelIndex in range(len(labels)):\n",
        "    for valIndex in range(len(labels[labelIndex])):\n",
        "      if valIndex % 3 != 0:\n",
        "        labels[labelIndex][valIndex] /= win_length\n",
        "\n",
        "  return labels"
      ]
    },
    {
      "cell_type": "code",
      "execution_count": 32,
      "metadata": {
        "id": "eh8YoqFVNhVf"
      },
      "outputs": [],
      "source": [
        "CLASS_ENCODING = {\"car\": 0, \"aircraft\": 1, \"crowds\": 2, \"footsteps\": 3, \"clocks\": 4, \"rainforest\": 5}"
      ]
    },
    {
      "cell_type": "code",
      "execution_count": 33,
      "metadata": {
        "id": "5mLnGwjXvm_P"
      },
      "outputs": [],
      "source": [
        "def construct_data_set(fold_files, path):\n",
        "  shutil.rmtree(path, ignore_errors=True)\n",
        "  os.mkdir(path)\n",
        "\n",
        "  window_length = 2.56\n",
        "  hop_length = 1.0\n",
        "  a_examples_train = []\n",
        "  a_labels_train = []\n",
        "\n",
        "\n",
        "  for i, audio in enumerate(fold_files):\n",
        "    a, window_ranges = construct_examples(audio,win_len=window_length, hop_len=hop_length)\n",
        "    a_examples_train += a\n",
        "\n",
        "    for w in window_ranges:\n",
        "      labels_t = construct_labels(audio.replace(\".wav\", \".txt\").replace('outputs-mono', 'outputs'), w[0], w[1], win_len=window_length)\n",
        "      ll = get_universal_labels(labels_t, CLASS_ENCODING, ex_length=window_length, no_of_div = 9)\n",
        "      a_labels_train.append(ll)\n",
        "  return a_examples_train, a_labels_train"
      ]
    },
    {
      "cell_type": "code",
      "execution_count": 34,
      "metadata": {
        "id": "iUBSH4RDQ6_G"
      },
      "outputs": [],
      "source": [
        "examples_train, labels_train = construct_data_set(fold1_train_files, '/content/train-data')\n",
        "examples_val, labels_val = construct_data_set(fold1_val_files, '/content/val-data')\n",
        "examples_test, labels_test = construct_data_set(fold1_test_files, '/content/test-data')"
      ]
    },
    {
      "cell_type": "markdown",
      "metadata": {
        "id": "6Ru11Of8RMzq"
      },
      "source": [
        "## Extract MelSpectrogram"
      ]
    },
    {
      "cell_type": "code",
      "execution_count": 35,
      "metadata": {
        "id": "Tz6t6EslAhsJ"
      },
      "outputs": [],
      "source": [
        "def get_log_melspectrogram(audio, sr = 44100, hop_length = 441, win_length = 1764, n_fft = 2048, n_mels = 40, fmin = 0, fmax = 22050):\n",
        "    \"\"\"Return the log-scaled Mel bands of an audio signal.\"\"\"\n",
        "    audio_2 = librosa.util.normalize(audio)\n",
        "    bands = librosa.feature.melspectrogram(\n",
        "        y=audio_2, sr=sr, hop_length=hop_length, win_length = win_length, n_fft=n_fft, n_mels=n_mels)\n",
        "    return librosa.core.power_to_db(bands)"
      ]
    },
    {
      "cell_type": "code",
      "execution_count": 44,
      "metadata": {
        "id": "-mSPzyS1-Q9-"
      },
      "outputs": [],
      "source": [
        "# save melspectrograms for entire set\n",
        "def save_example_mel(example_set, save_path):\n",
        "  for i, audio in tqdm(enumerate(example_set), total=len(example_set)):\n",
        "    M = get_log_melspectrogram(audio).T\n",
        "    # print(M.shape)\n",
        "    np.save(save_path + str(i) + \".npy\", M)\n",
        "\n",
        "# save labels in numpy format\n",
        "def save_labels_np(label_set, save_path):\n",
        "  for i, audio in tqdm(enumerate(label_set), total=len(label_set)):\n",
        "    np.save(save_path + str(i) + \".npy\", audio)"
      ]
    },
    {
      "cell_type": "code",
      "execution_count": 45,
      "metadata": {
        "id": "9R7pthk1-jjJ",
        "colab": {
          "base_uri": "https://localhost:8080/"
        },
        "outputId": "b44481a8-c50d-4753-c678-c1bf1ceb8312"
      },
      "outputs": [
        {
          "output_type": "stream",
          "name": "stderr",
          "text": [
            "100%|██████████| 4926/4926 [01:15<00:00, 65.17it/s]\n",
            "100%|██████████| 4926/4926 [00:00<00:00, 7872.61it/s]\n",
            "100%|██████████| 1356/1356 [00:19<00:00, 70.28it/s]\n",
            "100%|██████████| 1356/1356 [00:00<00:00, 7959.70it/s]\n",
            "100%|██████████| 698/698 [00:09<00:00, 70.00it/s]\n",
            "100%|██████████| 698/698 [00:00<00:00, 8353.40it/s]\n"
          ]
        }
      ],
      "source": [
        "# save labels for entire train set\n",
        "train_path_ex = '/content/train-data/ex-'\n",
        "train_path_labels = '/content/train-data/label-'\n",
        "val_path_ex = '/content/val-data/ex-'\n",
        "val_path_labels = '/content/val-data/label-'\n",
        "test_path_ex = '/content/test-data/ex-'\n",
        "test_path_labels = '/content/test-data/label-'\n",
        "\n",
        "save_example_mel(examples_train, train_path_ex)\n",
        "\n",
        "save_labels_np(labels_train, train_path_labels)\n",
        "save_example_mel(examples_val, val_path_ex)\n",
        "save_labels_np(labels_val, val_path_labels)\n",
        "save_example_mel(examples_test, test_path_ex)\n",
        "save_labels_np(labels_test, test_path_labels)"
      ]
    },
    {
      "cell_type": "markdown",
      "metadata": {
        "id": "RvOuMznFRd09"
      },
      "source": [
        "## Sort and Partition Datasets\n"
      ]
    },
    {
      "cell_type": "code",
      "execution_count": 46,
      "metadata": {
        "id": "uvMbxJLj9x5n"
      },
      "outputs": [],
      "source": [
        "def intOrVal(s):\n",
        "    try:\n",
        "        return int(s)\n",
        "    except ValueError:\n",
        "        return s\n",
        "    \n",
        "def alphanum_key(init_string):\n",
        "    \"\"\" Turn a string into a list of string and number chunks.\n",
        "        \"z23a\" -> [\"z\", 23, \"a\"]\n",
        "    \"\"\"\n",
        "    return [intOrVal(c) for c in re.split('([0-9]+)', init_string)]\n",
        "\n",
        "def sort_nicely(l):\n",
        "    \"\"\" Sort the given list in the way that humans expect.\n",
        "    \"\"\"\n",
        "    l.sort(key=alphanum_key)"
      ]
    },
    {
      "cell_type": "code",
      "execution_count": 47,
      "metadata": {
        "id": "fjtncXqB91qu"
      },
      "outputs": [],
      "source": [
        "def get_sorted_data(regex_path):\n",
        "  data = glob.glob(regex_path) \n",
        "  sort_nicely(data)\n",
        "  return data\n",
        "\n",
        "\"\"\"\n",
        "Load the individual numpy arrays into partition\n",
        "\"\"\"\n",
        "train_data_examples_regex_path = \"/content/train-data/ex-*.npy\"\n",
        "train_data_labels_regex_path = \"/content/train-data/label-*.npy\"\n",
        "val_data_examples_regex_path = \"/content/val-data/ex-*.npy\"\n",
        "val_data_labels_regex_path = \"/content/val-data/label-*.npy\"\n",
        "test_data_examples_regex_path = \"/content/test-data/ex-*.npy\"\n",
        "test_data_labels_regex_path = \"/content/test-data/label-*.npy\"\n",
        "\n",
        "train_data = get_sorted_data(train_data_examples_regex_path)\n",
        "train_labels = get_sorted_data(train_data_labels_regex_path)\n",
        "\n",
        "val_data = get_sorted_data(val_data_examples_regex_path)\n",
        "val_labels = get_sorted_data(val_data_labels_regex_path)\n",
        "\n",
        "test_data = get_sorted_data(test_data_examples_regex_path)\n",
        "test_labels = get_sorted_data(test_data_labels_regex_path)\n",
        "\n",
        "training_examples = [(train_data[i], train_labels[i]) for i in range(len(train_data))]\n",
        "validation_examples = [(val_data[i], val_labels[i]) for i in range(len(val_data))]\n",
        "test_examples = [(test_data[i], test_labels[i]) for i in range(len(test_data))]\n",
        "\n",
        "# shuffle all training examples\n",
        "random.seed(7)\n",
        "random.shuffle(training_examples)\n",
        "random.shuffle(validation_examples)\n",
        "random.shuffle(test_examples)\n",
        "partition = {}\n",
        "partition['train'] = training_examples\n",
        "partition['validation'] = validation_examples\n",
        "partition['test'] = test_examples"
      ]
    },
    {
      "cell_type": "markdown",
      "metadata": {
        "id": "jJfMrLr0Tuxg"
      },
      "source": [
        "## Setup Data Generators"
      ]
    },
    {
      "cell_type": "code",
      "execution_count": 48,
      "metadata": {
        "id": "-I5anQDD4b9b"
      },
      "outputs": [],
      "source": [
        "class DataGenerator(tf.keras.utils.Sequence):\n",
        "    def __init__(self, list_examples, batch_size=128, shuffle=True):\n",
        "        # self.dim = (1,)\n",
        "        self.batch_size = batch_size\n",
        "        self.list_examples = list_examples\n",
        "        self.shuffle = shuffle\n",
        "\n",
        "        # initial shuffle\n",
        "        self.on_epoch_end()\n",
        "\n",
        "    def __len__(self):\n",
        "        '''Denotes the number of batches per epoch'''\n",
        "        return int(np.floor(len(self.list_examples) / self.batch_size))\n",
        "\n",
        "    def __getitem__(self, index):\n",
        "        '''Generate one batch of data'''\n",
        "        indexes = self.indexes[index*self.batch_size:(index+1)*self.batch_size]\n",
        "\n",
        "        # Find list of IDs\n",
        "        list_IDs_temp = [self.list_examples[k] for k in indexes]\n",
        "\n",
        "        # Generate data\n",
        "        X, Y = self.generate_data(list_IDs_temp)\n",
        "\n",
        "        return X, Y\n",
        "        \n",
        "    def on_epoch_end(self):\n",
        "      self.indexes = np.arange(len(self.list_examples))\n",
        "\n",
        "      # shuffle indexes at end of epoch\n",
        "      if self.shuffle == True:\n",
        "          np.random.shuffle(self.indexes)\n",
        "\n",
        "    def generate_data(self, list_IDs_temp):\n",
        "        # 'Generates data containing batch_size samples' # X : (n_samples, *dim, n_channels)\n",
        "        X = np.empty([self.batch_size, 257, 40, 1], dtype=np.float64)\n",
        "        Y = np.empty([self.batch_size, 9, 18], dtype=np.float64)\n",
        "\n",
        "        # Generate data\n",
        "        for i, ID in enumerate(list_IDs_temp):\n",
        "          # Store sample\n",
        "          # load npy array\n",
        "          np_x = np.load(ID[0])\n",
        "\n",
        "          X[i, :, :, 0] = np_x\n",
        "\n",
        "          # load class label\n",
        "          np_y = np.load(ID[1])\n",
        "          Y[i, :, :] = np_y\n",
        "\n",
        "        tau = X.shape[1]          \n",
        "        v = X.shape[2]\n",
        "\n",
        "        # frequency and time masking of X values\n",
        "        warped_frequency_spectrogram = spec_augment_tensorflow.frequency_masking(X, v=v,  frequency_masking_para=8, frequency_mask_num=1)\n",
        "        warped_frequency_time_spectrogram = spec_augment_tensorflow.time_masking(warped_frequency_spectrogram, tau=tau, time_masking_para=25, time_mask_num=2)\n",
        "\n",
        "        X = warped_frequency_time_spectrogram\n",
        "\n",
        "        return X, Y"
      ]
    },
    {
      "cell_type": "code",
      "execution_count": 49,
      "metadata": {
        "id": "ylXiTH1Q_0vY"
      },
      "outputs": [],
      "source": [
        "# Parametersa\n",
        "params = {'batch_size': 128, 'shuffle': True}\n",
        "\n",
        "# Generators\n",
        "training_generator = DataGenerator(partition['train'], **params)\n",
        "validation_generator = DataGenerator(partition['validation'], **params)\n",
        "test_generator = DataGenerator(partition['test'], **params)"
      ]
    },
    {
      "cell_type": "markdown",
      "source": [
        "# Model Setup"
      ],
      "metadata": {
        "id": "2j2xCxG9W7NV"
      }
    },
    {
      "cell_type": "markdown",
      "metadata": {
        "id": "Wp6_rpxJ-5FA"
      },
      "source": [
        "## Loss function"
      ]
    },
    {
      "cell_type": "code",
      "execution_count": 52,
      "metadata": {
        "id": "kAHsOD5v-6no"
      },
      "outputs": [],
      "source": [
        "def square_difference_loss(y_true, y_pred):\n",
        "  squared_difference = tf.square(y_true - y_pred)\n",
        "\n",
        "  ss_True = squared_difference[:, :, 0] * 0 + 1\n",
        "\n",
        "  # get every 3 value of y_true\n",
        "  ss_0 = y_true[:, :, 0]\n",
        "  ss_1 = y_true[:, :, 3]\n",
        "  ss_2 = y_true[:, :, 6]\n",
        "  ss_3 = y_true[:, :, 9]\n",
        "  ss_4 = y_true[:, :, 12]\n",
        "  ss_5 = y_true[:, :, 15]\n",
        "\n",
        "  # stack values\n",
        "  stacked_ss = tf.stack((ss_True, ss_0, ss_0,\n",
        "                         ss_True, ss_1, ss_1,\n",
        "                         ss_True, ss_2, ss_2,\n",
        "                         ss_True, ss_3, ss_3,\n",
        "                         ss_True, ss_4, ss_4,\n",
        "                         ss_True, ss_5, ss_5), axis = 2)\n",
        "  \n",
        "  squared_difference =  tf.multiply(squared_difference, stacked_ss)\n",
        "\n",
        "  return tf.reduce_sum(squared_difference, axis=[-1, -2])"
      ]
    },
    {
      "cell_type": "markdown",
      "source": [
        "## Training/Inference"
      ],
      "metadata": {
        "id": "fTsJWUicXD1b"
      }
    },
    {
      "cell_type": "code",
      "execution_count": 53,
      "metadata": {
        "id": "c6sEYWpa2zKd"
      },
      "outputs": [],
      "source": [
        "# Creates mel spctrograms for validation fold for training\n",
        "def create_train_melspectrograms():\n",
        "  win_length = 2.56\n",
        "  hop_size = 1.96\n",
        "  mss_ins = []\n",
        "  win_ranges_list = []\n",
        "\n",
        "\n",
        "  for ii, audio in enumerate(fold1_val_files): # why val?\n",
        "    a, win_ranges = construct_examples(audio, win_len=win_length,hop_len=hop_size)\n",
        "\n",
        "    mss_in = np.zeros((len(a), 257, 40))\n",
        "\n",
        "    preds = np.zeros((len(a), 9, 18))\n",
        "\n",
        "    for i in range(len(a)):\n",
        "      M = get_log_melspectrogram(a[i])\n",
        "      mss_in[i, :, :] = M.T\n",
        "    mss_ins.append(mss_in)\n",
        "    win_ranges_list.append(win_ranges)\n",
        "  return mss_ins,win_ranges_list\n",
        "\n",
        "\n",
        "BASE_MSS_INS, BASE_WIN_RANGE = create_train_melspectrograms()\n",
        "\n",
        "def mk_preds_YOHO_mel(model, ind, window_range_list=BASE_WIN_RANGE, mss_ins=BASE_MSS_INS, no_of_div = 9, hop_size = 1.96, discard = 0.3, win_length = 2.56, max_event_silence = 0.3, sampling_rate = 44100):\n",
        "  preds = model.predict(mss_ins[ind])\n",
        "  events = []\n",
        "\n",
        "  for i in range(len(preds)):\n",
        "    p = preds[i, :, :]\n",
        "    events_curr = []\n",
        "    win_width = win_length / no_of_div\n",
        "    for j in range(len(p)):\n",
        "      for jjj in range(0, 6):\n",
        "        if p[j][jjj*3] >= 0.5:\n",
        "          start = win_width * j + win_width * p[j][jjj*3+1] + window_range_list[ind][i][0]\n",
        "          end = p[j][jjj*3+2] * win_width + start\n",
        "          events_curr.append([start, end, rev_class_list[jjj]])\n",
        "\n",
        "    events += events_curr\n",
        "\n",
        "\n",
        "  class_set = set([c[2] for c in events])\n",
        "  class_wise_events = {}\n",
        "\n",
        "  for c in list(class_set):\n",
        "    class_wise_events[c] = []\n",
        "\n",
        "\n",
        "  for c in events:\n",
        "    class_wise_events[c[2]].append(c)\n",
        "    \n",
        "  \n",
        "  all_events = []\n",
        "\n",
        "  for k in list(class_wise_events.keys()):\n",
        "    curr_events = class_wise_events[k]\n",
        "    count = 0\n",
        "\n",
        "    while count < len(curr_events) - 1:\n",
        "      if (curr_events[count][1] >= curr_events[count + 1][0]) or (curr_events[count + 1][0] - curr_events[count][1] <= max_event_silence):\n",
        "        curr_events[count][1] = max(curr_events[count + 1][1], curr_events[count][1])\n",
        "        del curr_events[count + 1]\n",
        "      else:\n",
        "        count += 1\n",
        "\n",
        "    all_events += curr_events\n",
        "\n",
        "  for i in range(len(all_events)):\n",
        "    all_events[i][0] = round(all_events[i][0], 3)\n",
        "    all_events[i][1] = round(all_events[i][1], 3)\n",
        "\n",
        "  all_events.sort(key=lambda x: x[0])\n",
        "\n",
        "  return all_events"
      ]
    },
    {
      "cell_type": "code",
      "execution_count": 54,
      "metadata": {
        "id": "RF3BfLy9Rt0Q",
        "colab": {
          "base_uri": "https://localhost:8080/"
        },
        "outputId": "6b7ed1ba-f210-486a-9460-a2f2e68da3bf"
      },
      "outputs": [
        {
          "output_type": "stream",
          "name": "stdout",
          "text": [
            "['car', 'aircraft', 'crowds', 'footsteps', 'clocks', 'rainforest']\n"
          ]
        }
      ],
      "source": [
        "rev_class_list = list(CLASS_ENCODING.keys())\n",
        "print(rev_class_list)"
      ]
    },
    {
      "cell_type": "code",
      "execution_count": 55,
      "metadata": {
        "id": "xteY8W6XlaR_"
      },
      "outputs": [],
      "source": [
        "def frames_to_time(f, sr = 44100.0, hop_size = 441):\n",
        "  return f * hop_size / sr\n",
        "\n",
        "def preds_to_se(p, win_start, audio_clip_length = 2.56):\n",
        "  start_dicts = [-100, -100, -100, -100, -100, -100]\n",
        "  stop_dicts = [-100, -100, -100, -100, -100, -100]\n",
        "\n",
        "\n",
        "  start_speech = -100\n",
        "  start_music = -100\n",
        "  stop_speech = -100\n",
        "  stop_music = -100\n",
        "\n",
        "  audio_events = []\n",
        "\n",
        "  n_frames = p.shape[0]\n",
        "\n",
        "  for j in range(p.shape[1]):\n",
        "    if p[0, j] >= 0.5:\n",
        "      start_dicts[j] = 0\n",
        "\n",
        "  for j in range(p.shape[1]):\n",
        "    for i in range(n_frames - 1):\n",
        "      if p[i, j] < 0.5 and p[i+1, j] >= 0.5:\n",
        "        start_dicts[j] = i+1\n",
        "\n",
        "      elif p[i, j] >= 0.5 and p[i + 1, j] < 0.5:\n",
        "        stop_dicts[j] = i\n",
        "        start_time = frames_to_time(start_dicts[j])\n",
        "        stop_time = frames_to_time(stop_dicts[j])\n",
        "\n",
        "        audio_events.append([start_time+win_start, stop_time+win_start, rev_class_list[j]])\n",
        "        start_dicts[j] = -100\n",
        "        stop_dicts[j] = -100\n",
        "\n",
        "    if start_dicts[j] != -100:\n",
        "      start_time = frames_to_time(start_dicts[j])\n",
        "      stop_time = audio_clip_length\n",
        "      audio_events.append([start_time+win_start, stop_time+win_start, rev_class_list[j]])\n",
        "      start_dicts[j] = -100\n",
        "      stop_dicts[j] = -100\n",
        "\n",
        "  audio_events.sort(key = lambda x: x[0]) \n",
        "  return audio_events"
      ]
    },
    {
      "cell_type": "code",
      "execution_count": 56,
      "metadata": {
        "id": "-lhO-or3cxJm"
      },
      "outputs": [],
      "source": [
        "def extract_eval_labels_2(annotation_path):\n",
        "  events = convert_annotations_to_events(annotation_path)\n",
        "\n",
        "  ann = [[float(e[0]), float(e[1]), e[2]] for e in events]\n",
        "  \n",
        "  n_label = \"/content/eval-files-2/\" + os.path.basename(annotation_path)\n",
        "\n",
        "  with open(n_label, 'w') as fp:\n",
        "    fp.write('\\n'.join('{},{},{}'.format(round(x[0], 5), round(x[1], 5), x[2]) for x in ann))"
      ]
    },
    {
      "cell_type": "code",
      "execution_count": 57,
      "metadata": {
        "id": "i2pIA6vCcxJm"
      },
      "outputs": [],
      "source": [
        "shutil.rmtree('/content/eval-files-2/', ignore_errors=True)\n",
        "os.mkdir(\"/content/eval-files-2/\")"
      ]
    },
    {
      "cell_type": "code",
      "execution_count": 58,
      "metadata": {
        "id": "HTXX7tItcxJn"
      },
      "outputs": [],
      "source": [
        "for audio in fold1_val_files:\n",
        "  extract_eval_labels_2(audio.replace(\".wav\", \".txt\").replace(\"outputs-mono\", \"outputs\"))"
      ]
    },
    {
      "cell_type": "markdown",
      "source": [
        "## YOHO Model"
      ],
      "metadata": {
        "id": "V2BMYrO2Xac1"
      }
    },
    {
      "cell_type": "code",
      "execution_count": 50,
      "metadata": {
        "id": "ujnpubM3Blr-"
      },
      "outputs": [],
      "source": [
        "class YOHOBlock:\n",
        "  def __init__(self, stride, num_filters, index, input):\n",
        "      X = tf.keras.layers.DepthwiseConv2D(kernel_size = [3,3], \n",
        "                                          strides = stride, \n",
        "                                          depth_multiplier = 1, \n",
        "                                          padding = 'same', \n",
        "                                          use_bias = False,\n",
        "                                          activation = None, \n",
        "                                          name = \"layer\" + str(index + 2) + \"/depthwise_conv\")(input)\n",
        "\n",
        "      X = tf.keras.layers.BatchNormalization(center = True, \n",
        "                                             scale = False, \n",
        "                                             epsilon = 1e-4, \n",
        "                                             name = \"layer\" + str(index + 2) + \"/depthwise_conv/bn\")(X)\n",
        "\n",
        "      X = tf.keras.layers.ReLU(name = \"layer\" + str(index + 2) + \"/depthwise_conv/relu\")(X)\n",
        "\n",
        "      X = tf.keras.layers.Conv2D(filters = num_filters, \n",
        "                                 kernel_size = [1, 1], \n",
        "                                 strides = 1, \n",
        "                                 padding = 'same', \n",
        "                                 use_bias = False, \n",
        "                                 activation = None,\n",
        "                                 name = \"layer\" + str(index + 2) + \"/pointwise_conv\",\n",
        "                                 kernel_regularizer = l2(0.01), \n",
        "                                 bias_regularizer = l2(0.01))(X)\n",
        "                                 \n",
        "      X = tf.keras.layers.BatchNormalization(center = True, \n",
        "                                             scale = False, \n",
        "                                             epsilon = 1e-4, \n",
        "                                             name = \"layer\" + str(index + 2) + \"/pointwise_conv/bn\")(X)\n",
        "\n",
        "      self.output = tf.keras.layers.ReLU(name = \"layer\" + str(index + 2) + \"/pointwise_conv/relu\")(X)\n",
        "\n",
        "class Network:\n",
        "  def __init__(self) -> None:\n",
        "    self.NETWORK_BLOCK_LAYERS = [\n",
        "      # (stride, num_filters)\n",
        "      (1,   64),\n",
        "      (2,  128),\n",
        "      (1,  128),\n",
        "      (2,  256),\n",
        "      (1,  256),\n",
        "      (2,  512),\n",
        "      (1,  512),\n",
        "      (1,  512),\n",
        "      (1,  512),\n",
        "      (1,  512),\n",
        "      (1,  512),\n",
        "      (2, 1024),\n",
        "      (1, 1024),\n",
        "      (1, 512),\n",
        "      (1, 256),\n",
        "      (1, 128),\n",
        "    ]\n",
        "\n",
        "    self.m_features = tf.keras.Input(shape = (257, 40), \n",
        "                                     name = \"mel_input\")\n",
        "    X = self.m_features\n",
        "    X = tf.keras.layers.Reshape((257, 40, 1))(X)\n",
        "    X = tf.keras.layers.Conv2D(filters = 32, \n",
        "                               kernel_size = [3, 3], \n",
        "                               strides = 2, \n",
        "                               padding = 'same', \n",
        "                               use_bias = False,\n",
        "                               activation = None, \n",
        "                               name = \"layer1/conv\",\n",
        "                               kernel_regularizer = l2(1e-3), \n",
        "                               bias_regularizer = l2(1e-3))(X)\n",
        "    X = tf.keras.layers.BatchNormalization(center = True, \n",
        "                                           scale = False, \n",
        "                                           epsilon = 1e-4, \n",
        "                                           name = \"layer1/bn\")(X)\n",
        "    X = tf.keras.layers.ReLU(name = \"layer1/relu\")(X)\n",
        "\n",
        "    X = tf.keras.layers.SpatialDropout2D(0.1)(X)\n",
        "    \n",
        "    for index in range(len(self.NETWORK_BLOCK_LAYERS)):\n",
        "      X = YOHOBlock(stride = self.NETWORK_BLOCK_LAYERS[index][0], \n",
        "                    num_filters = self.NETWORK_BLOCK_LAYERS[index][1], \n",
        "                    index = index, \n",
        "                    input = X).output\n",
        "\n",
        "    _, _, sx, sy = X.shape\n",
        "    X = tf.keras.layers.Reshape((-1, int(sx * sy)))(X)\n",
        "    self.pred = tf.keras.layers.Conv1D(18, \n",
        "                                       kernel_size = 1, \n",
        "                                       activation = \"sigmoid\")(X)\n",
        "\n",
        "\n",
        "model_arch = Network()\n",
        "model = tf.keras.Model(name = 'YOHO', \n",
        "                       inputs = model_arch.m_features, \n",
        "                       outputs = [model_arch.pred])"
      ]
    },
    {
      "cell_type": "code",
      "execution_count": null,
      "metadata": {
        "id": "tQsXSvgyBoZM"
      },
      "outputs": [],
      "source": [
        "# model.summary()"
      ]
    },
    {
      "cell_type": "code",
      "execution_count": 59,
      "metadata": {
        "id": "i9RIHH_49zOE"
      },
      "outputs": [],
      "source": [
        "class KerasFinalCallback(tf.keras.callbacks.Callback):\n",
        "  def __init__(self):\n",
        "    super(KerasFinalCallback, self).__init__()\n",
        "    self.best_f1 = 0.0\n",
        "    self.best_error = np.inf\n",
        "    self.best_accuracy = 0.0\n",
        "    \n",
        "  def on_train_begin(self, logs=None):\n",
        "    pass\n",
        "\n",
        "  def on_train_end(self, logs=None):\n",
        "    pass\n",
        "\n",
        "  def on_epoch_end(self, epoch, logs=None):\n",
        "    if epoch > 1:\n",
        "      for ii, audio in enumerate(fold1_val_files):\n",
        "        audio_file_path = audio\n",
        "        see = mk_preds_YOHO_mel(self.model, ii)\n",
        "        n_label = \"/content/eval-files-2/\" + os.path.basename(audio_file_path).replace(\".wav\" ,\"\") + \"-se-prediction.txt\"\n",
        "\n",
        "        with open(n_label, 'w') as fp:\n",
        "          fp.write('\\n'.join('{},{},{}'.format(round(x[0], 5), round(x[1], 5), x[2]) for x in see))\n",
        "\n",
        "      destination = \"/content/eval-files-2/\"\n",
        "      test_set = glob.glob(destination + \"*[0-9].txt\")\n",
        "\n",
        "      eval_path = \"/content/\"\n",
        "\n",
        "      file_list = [{'reference_file': tt,\n",
        "                    'estimated_file': tt.replace(\".txt\",\"-se-prediction.txt\")}\n",
        "                   for tt in test_set]\n",
        "\n",
        "      data = []\n",
        "\n",
        "      # Get used event labels\n",
        "      all_data = dcase_util.containers.MetaDataContainer()\n",
        "      for file_pair in file_list:\n",
        "          reference_event_list = sed_eval.io.load_event_list(filename=file_pair['reference_file'])\n",
        "          estimated_event_list = sed_eval.io.load_event_list(filename=file_pair['estimated_file'])\n",
        "\n",
        "          data.append({'reference_event_list': reference_event_list,\n",
        "                       'estimated_event_list': estimated_event_list})\n",
        "\n",
        "          all_data += reference_event_list\n",
        "\n",
        "      event_labels = all_data.unique_event_labels\n",
        "\n",
        "      # Start evaluating\n",
        "\n",
        "      # Create metrics classes, define parameters\n",
        "      segment_based_metrics = sed_eval.sound_event.SegmentBasedMetrics(event_label_list=event_labels,\n",
        "                                                                       time_resolution=1.0)\n",
        "\n",
        "      event_based_metrics = sed_eval.sound_event.EventBasedMetrics(event_label_list=event_labels,\n",
        "                                                                   t_collar=1.0)\n",
        "\n",
        "      # Go through files\n",
        "      for file_pair in data:\n",
        "          segment_based_metrics.evaluate(reference_event_list=file_pair['reference_event_list'],\n",
        "                                         estimated_event_list=file_pair['estimated_event_list'])\n",
        "\n",
        "          event_based_metrics.evaluate(reference_event_list=file_pair['reference_event_list'],\n",
        "                                       estimated_event_list=file_pair['estimated_event_list'])\n",
        "          \n",
        "\n",
        "      # Get only certain metrics\n",
        "      overall_segment_based_metrics = segment_based_metrics.results_overall_metrics()\n",
        "      curr_f1 = overall_segment_based_metrics['f_measure']['f_measure']\n",
        "      curr_error = overall_segment_based_metrics['error_rate']['error_rate']\n",
        "      curr_accuracy = overall_segment_based_metrics['accuracy']['accuracy']\n",
        "      \n",
        "      if curr_f1 > self.best_f1:\n",
        "          self.best_f1 = curr_f1\n",
        "          self.model.save_weights(\"/content/model-best-f1.h5\")\n",
        "\n",
        "      if curr_error < self.best_error:\n",
        "          self.best_error = curr_error\n",
        "          self.model.save_weights(\"/content/model-best-error.h5\")\n",
        "\n",
        "      if curr_accuracy > self.best_accuracy:\n",
        "          self.best_accuracy = curr_accuracy\n",
        "          self.model.save_weights(\"/content/model-best-accuracy.h5\")\n",
        "\n",
        "      print(\"F-measure: {:.3f} vs {:.3f}\".format(curr_f1, self.best_f1))\n",
        "      print(\"Error rate: {:.3f} vs {:.3f}\".format(curr_error, self.best_error))\n",
        "      print(\"Accuracy: {:.3f}\".format(curr_accuracy))\n",
        "\n",
        "      wandb.log({\n",
        "        'curr_f1': curr_f1,  \n",
        "        'curr_error': curr_error,\n",
        "        'curr_accuracy': curr_accuracy\n",
        "      })\n"
      ]
    },
    {
      "cell_type": "markdown",
      "metadata": {
        "id": "b7xQxmcmNUi6"
      },
      "source": [
        "# Train Network"
      ]
    },
    {
      "cell_type": "markdown",
      "source": [
        "## Config"
      ],
      "metadata": {
        "id": "pSqpJ7JDbfZk"
      }
    },
    {
      "cell_type": "code",
      "source": [
        "config = {}\n",
        "config['experiment_name'] = 'yoho_new_data'\n",
        "config['learning_rate'] = 1e-3"
      ],
      "metadata": {
        "id": "S5gD_GNNbhBK"
      },
      "execution_count": null,
      "outputs": []
    },
    {
      "cell_type": "markdown",
      "source": [
        "## WandB Setup"
      ],
      "metadata": {
        "id": "Sh-hzp88XusK"
      }
    },
    {
      "cell_type": "code",
      "source": [
        "wandb.login(key=\"16d33cba1aa49db8432f676f71a538c59af40964\")"
      ],
      "metadata": {
        "colab": {
          "base_uri": "https://localhost:8080/"
        },
        "id": "u4ATGwtNhH7j",
        "outputId": "24bc892c-f6a2-432f-cf53-120dc7940108"
      },
      "execution_count": 60,
      "outputs": [
        {
          "output_type": "stream",
          "name": "stderr",
          "text": [
            "\u001b[34m\u001b[1mwandb\u001b[0m: Currently logged in as: \u001b[33mmarlies-goes\u001b[0m (\u001b[33meshetty-11785\u001b[0m). Use \u001b[1m`wandb login --relogin`\u001b[0m to force relogin\n",
            "\u001b[34m\u001b[1mwandb\u001b[0m: \u001b[33mWARNING\u001b[0m If you're specifying your api key in code, ensure this code is not shared publicly.\n",
            "\u001b[34m\u001b[1mwandb\u001b[0m: \u001b[33mWARNING\u001b[0m Consider setting the WANDB_API_KEY environment variable, or running `wandb login` from the command line.\n",
            "\u001b[34m\u001b[1mwandb\u001b[0m: Appending key for api.wandb.ai to your netrc file: /root/.netrc\n"
          ]
        },
        {
          "output_type": "execute_result",
          "data": {
            "text/plain": [
              "True"
            ]
          },
          "metadata": {},
          "execution_count": 60
        }
      ]
    },
    {
      "cell_type": "code",
      "source": [
        "run = wandb.init(\n",
        "    name = config['experiment_name'], ## Wandb creates random run names if you skip this field\n",
        "    reinit = True, ### Allows reinitalizing runs when you re-run this cell\n",
        "    # run_id = ### Insert specific run id here if you want to resume a previous run\n",
        "    # resume = 'must' ### You need this to resume previous runs, but comment out reinit = True when using this\n",
        "    project = 'project-runs', ### Project should be created in your wandb account \n",
        "    config = config, ### Wandb Config for your run\n",
        ")"
      ],
      "metadata": {
        "colab": {
          "base_uri": "https://localhost:8080/",
          "height": 104
        },
        "id": "dzGJHtULhJLe",
        "outputId": "12a3f1b8-7cf2-45bd-bbd0-e70789fe6dea"
      },
      "execution_count": 61,
      "outputs": [
        {
          "output_type": "display_data",
          "data": {
            "text/plain": [
              "<IPython.core.display.HTML object>"
            ],
            "text/html": [
              "Tracking run with wandb version 0.15.0"
            ]
          },
          "metadata": {}
        },
        {
          "output_type": "display_data",
          "data": {
            "text/plain": [
              "<IPython.core.display.HTML object>"
            ],
            "text/html": [
              "Run data is saved locally in <code>/content/wandb/run-20230427_154946-94fy0dg3</code>"
            ]
          },
          "metadata": {}
        },
        {
          "output_type": "display_data",
          "data": {
            "text/plain": [
              "<IPython.core.display.HTML object>"
            ],
            "text/html": [
              "Syncing run <strong><a href='https://wandb.ai/eshetty-11785/project-runs/runs/94fy0dg3' target=\"_blank\">yoho_new_data</a></strong> to <a href='https://wandb.ai/eshetty-11785/project-runs' target=\"_blank\">Weights & Biases</a> (<a href='https://wandb.me/run' target=\"_blank\">docs</a>)<br/>"
            ]
          },
          "metadata": {}
        },
        {
          "output_type": "display_data",
          "data": {
            "text/plain": [
              "<IPython.core.display.HTML object>"
            ],
            "text/html": [
              " View project at <a href='https://wandb.ai/eshetty-11785/project-runs' target=\"_blank\">https://wandb.ai/eshetty-11785/project-runs</a>"
            ]
          },
          "metadata": {}
        },
        {
          "output_type": "display_data",
          "data": {
            "text/plain": [
              "<IPython.core.display.HTML object>"
            ],
            "text/html": [
              " View run at <a href='https://wandb.ai/eshetty-11785/project-runs/runs/94fy0dg3' target=\"_blank\">https://wandb.ai/eshetty-11785/project-runs/runs/94fy0dg3</a>"
            ]
          },
          "metadata": {}
        }
      ]
    },
    {
      "cell_type": "markdown",
      "source": [
        "## Training"
      ],
      "metadata": {
        "id": "88SrNQDlX-7x"
      }
    },
    {
      "cell_type": "code",
      "execution_count": 62,
      "metadata": {
        "id": "hSJFYjO4BqBQ"
      },
      "outputs": [],
      "source": [
        "model.compile(optimizer=tf.keras.optimizers.Adam(learning_rate=config['learning_rate']), \n",
        "              loss=square_difference_loss)"
      ]
    },
    {
      "cell_type": "code",
      "execution_count": null,
      "metadata": {
        "colab": {
          "base_uri": "https://localhost:8080/"
        },
        "id": "6FQFJ5yiB1OY",
        "outputId": "deac17bd-4b04-444d-a2ba-032f03670ece"
      },
      "outputs": [
        {
          "output_type": "stream",
          "name": "stdout",
          "text": [
            "Epoch 1/1000\n"
          ]
        },
        {
          "output_type": "stream",
          "name": "stderr",
          "text": [
            "WARNING:tensorflow:Model was constructed with shape (None, 257, 40) for input KerasTensor(type_spec=TensorSpec(shape=(None, 257, 40), dtype=tf.float32, name='mel_input'), name='mel_input', description=\"created by layer 'mel_input'\"), but it was called on an input with incompatible shape (None, None, None, None).\n",
            "WARNING:tensorflow:Model was constructed with shape (None, 257, 40) for input KerasTensor(type_spec=TensorSpec(shape=(None, 257, 40), dtype=tf.float32, name='mel_input'), name='mel_input', description=\"created by layer 'mel_input'\"), but it was called on an input with incompatible shape (None, None, None, None).\n"
          ]
        },
        {
          "output_type": "stream",
          "name": "stdout",
          "text": [
            " 6/38 [===>..........................] - ETA: 6s - loss: 77.7045"
          ]
        },
        {
          "output_type": "stream",
          "name": "stderr",
          "text": [
            "WARNING:tensorflow:Callback method `on_train_batch_end` is slow compared to the batch time (batch time: 0.0585s vs `on_train_batch_end` time: 0.1235s). Check your callbacks.\n"
          ]
        },
        {
          "output_type": "stream",
          "name": "stdout",
          "text": [
            "38/38 [==============================] - ETA: 0s - loss: 70.5347"
          ]
        },
        {
          "output_type": "stream",
          "name": "stderr",
          "text": [
            "WARNING:tensorflow:Model was constructed with shape (None, 257, 40) for input KerasTensor(type_spec=TensorSpec(shape=(None, 257, 40), dtype=tf.float32, name='mel_input'), name='mel_input', description=\"created by layer 'mel_input'\"), but it was called on an input with incompatible shape (None, None, None, None).\n"
          ]
        },
        {
          "output_type": "stream",
          "name": "stdout",
          "text": [
            "\b\b\b\b\b\b\b\b\b\b\b\b\b\b\b\b\b\b\b\b\b\b\b\b\b\b\b\b\b\b\b\b\b\b\b\b\b\b\b\b\b\b\b\b\b\b\b\b\b\b\b\b\b\b\b\b\b\b\b\b\b\b\b\b\r38/38 [==============================] - 23s 249ms/step - loss: 70.5347 - val_loss: 71.4634\n",
            "Epoch 2/1000\n",
            "38/38 [==============================] - 9s 232ms/step - loss: 57.8989 - val_loss: 58.2465\n",
            "Epoch 3/1000\n",
            "38/38 [==============================] - ETA: 0s - loss: 46.7662F-measure: nan vs 0.000\n",
            "Error rate: 1.000 vs 1.000\n",
            "Accuracy: 0.810\n",
            "38/38 [==============================] - 18s 482ms/step - loss: 46.7662 - val_loss: 48.5879\n",
            "Epoch 4/1000\n",
            "38/38 [==============================] - ETA: 0s - loss: 38.6706F-measure: nan vs 0.000\n",
            "Error rate: 1.000 vs 1.000\n",
            "Accuracy: 0.810\n",
            "38/38 [==============================] - 10s 262ms/step - loss: 38.6706 - val_loss: 41.7301\n",
            "Epoch 5/1000\n",
            "38/38 [==============================] - ETA: 0s - loss: 32.8139F-measure: nan vs 0.000\n",
            "Error rate: 1.000 vs 1.000\n",
            "Accuracy: 0.810\n",
            "38/38 [==============================] - 10s 266ms/step - loss: 32.8139 - val_loss: 36.7563\n",
            "Epoch 6/1000\n",
            "38/38 [==============================] - ETA: 0s - loss: 28.2817F-measure: nan vs 0.000\n",
            "Error rate: 1.000 vs 1.000\n",
            "Accuracy: 0.810\n",
            "38/38 [==============================] - 10s 264ms/step - loss: 28.2817 - val_loss: 33.0574\n",
            "Epoch 7/1000\n",
            "38/38 [==============================] - ETA: 0s - loss: 24.8155F-measure: nan vs 0.000\n",
            "Error rate: 1.000 vs 1.000\n",
            "Accuracy: 0.810\n",
            "38/38 [==============================] - 10s 265ms/step - loss: 24.8155 - val_loss: 30.1299\n",
            "Epoch 8/1000\n",
            "38/38 [==============================] - ETA: 0s - loss: 22.3172F-measure: nan vs 0.000\n",
            "Error rate: 1.000 vs 1.000\n",
            "Accuracy: 0.810\n",
            "38/38 [==============================] - 10s 264ms/step - loss: 22.3172 - val_loss: 27.7733\n",
            "Epoch 9/1000\n",
            "38/38 [==============================] - ETA: 0s - loss: 20.0734F-measure: nan vs 0.000\n",
            "Error rate: 1.000 vs 1.000\n",
            "Accuracy: 0.810\n",
            "38/38 [==============================] - 11s 280ms/step - loss: 20.0734 - val_loss: 25.7086\n",
            "Epoch 10/1000\n",
            "38/38 [==============================] - ETA: 0s - loss: 18.1296F-measure: nan vs 0.000\n",
            "Error rate: 1.000 vs 1.000\n",
            "Accuracy: 0.810\n",
            "38/38 [==============================] - 11s 297ms/step - loss: 18.1296 - val_loss: 23.8508\n",
            "Epoch 11/1000\n",
            "38/38 [==============================] - ETA: 0s - loss: 16.9414F-measure: nan vs 0.000\n",
            "Error rate: 1.000 vs 1.000\n",
            "Accuracy: 0.810\n",
            "38/38 [==============================] - 10s 267ms/step - loss: 16.9414 - val_loss: 22.0179\n",
            "Epoch 12/1000\n",
            "38/38 [==============================] - ETA: 0s - loss: 15.5875F-measure: nan vs 0.000\n",
            "Error rate: 1.000 vs 1.000\n",
            "Accuracy: 0.810\n",
            "38/38 [==============================] - 11s 294ms/step - loss: 15.5875 - val_loss: 20.4375\n",
            "Epoch 13/1000\n",
            "38/38 [==============================] - ETA: 0s - loss: 14.4311F-measure: nan vs 0.000\n",
            "Error rate: 1.000 vs 1.000\n",
            "Accuracy: 0.810\n",
            "38/38 [==============================] - 10s 265ms/step - loss: 14.4311 - val_loss: 18.9676\n",
            "Epoch 14/1000\n",
            "38/38 [==============================] - ETA: 0s - loss: 13.5087F-measure: nan vs 0.000\n",
            "Error rate: 1.000 vs 1.000\n",
            "Accuracy: 0.810\n",
            "38/38 [==============================] - 11s 276ms/step - loss: 13.5087 - val_loss: 17.9857\n",
            "Epoch 15/1000\n",
            "38/38 [==============================] - ETA: 0s - loss: 12.6675F-measure: nan vs 0.000\n",
            "Error rate: 1.000 vs 1.000\n",
            "Accuracy: 0.810\n",
            "38/38 [==============================] - 11s 281ms/step - loss: 12.6675 - val_loss: 17.2342\n",
            "Epoch 16/1000\n",
            "38/38 [==============================] - ETA: 0s - loss: 12.0280F-measure: nan vs 0.000\n",
            "Error rate: 1.000 vs 1.000\n",
            "Accuracy: 0.810\n",
            "38/38 [==============================] - 11s 286ms/step - loss: 12.0280 - val_loss: 16.6434\n",
            "Epoch 17/1000\n",
            "38/38 [==============================] - ETA: 0s - loss: 11.3920F-measure: 0.068 vs 0.068\n",
            "Error rate: 0.960 vs 0.960\n",
            "Accuracy: 0.790\n",
            "38/38 [==============================] - 11s 276ms/step - loss: 11.3920 - val_loss: 15.9959\n",
            "Epoch 18/1000\n",
            "38/38 [==============================] - ETA: 0s - loss: 10.7562F-measure: 0.140 vs 0.140\n",
            "Error rate: 0.900 vs 0.900\n",
            "Accuracy: 0.765\n",
            "38/38 [==============================] - 10s 274ms/step - loss: 10.7562 - val_loss: 15.8692\n",
            "Epoch 19/1000\n",
            "38/38 [==============================] - ETA: 0s - loss: 10.2606F-measure: 0.288 vs 0.288\n",
            "Error rate: 0.815 vs 0.815\n",
            "Accuracy: 0.823\n",
            "38/38 [==============================] - 11s 279ms/step - loss: 10.2606 - val_loss: 14.0022\n",
            "Epoch 20/1000\n",
            "38/38 [==============================] - ETA: 0s - loss: 9.6816F-measure: 0.467 vs 0.467\n",
            "Error rate: 0.672 vs 0.672\n",
            "Accuracy: 0.854\n",
            "38/38 [==============================] - 11s 278ms/step - loss: 9.6816 - val_loss: 13.0810\n",
            "Epoch 21/1000\n",
            "38/38 [==============================] - ETA: 0s - loss: 9.3127F-measure: 0.597 vs 0.597\n",
            "Error rate: 0.555 vs 0.555\n",
            "Accuracy: 0.882\n",
            "38/38 [==============================] - 12s 301ms/step - loss: 9.3127 - val_loss: 11.9151\n",
            "Epoch 22/1000\n",
            "38/38 [==============================] - ETA: 0s - loss: 9.0947F-measure: 0.667 vs 0.667\n",
            "Error rate: 0.451 vs 0.451\n",
            "Accuracy: 0.887\n",
            "38/38 [==============================] - 11s 283ms/step - loss: 9.0947 - val_loss: 11.4231\n",
            "Epoch 23/1000\n",
            "38/38 [==============================] - ETA: 0s - loss: 8.8084F-measure: 0.750 vs 0.750\n",
            "Error rate: 0.354 vs 0.354\n",
            "Accuracy: 0.914\n",
            "38/38 [==============================] - 11s 282ms/step - loss: 8.8084 - val_loss: 9.6369\n",
            "Epoch 24/1000\n",
            "38/38 [==============================] - ETA: 0s - loss: 8.2611F-measure: 0.729 vs 0.750\n",
            "Error rate: 0.369 vs 0.354\n",
            "Accuracy: 0.901\n",
            "38/38 [==============================] - 10s 271ms/step - loss: 8.2611 - val_loss: 10.8071\n",
            "Epoch 25/1000\n",
            "38/38 [==============================] - ETA: 0s - loss: 7.9295F-measure: 0.749 vs 0.750\n",
            "Error rate: 0.353 vs 0.353\n",
            "Accuracy: 0.912\n",
            "38/38 [==============================] - 10s 269ms/step - loss: 7.9295 - val_loss: 9.3900\n",
            "Epoch 26/1000\n",
            "38/38 [==============================] - ETA: 0s - loss: 7.8408F-measure: 0.767 vs 0.767\n",
            "Error rate: 0.356 vs 0.353\n",
            "Accuracy: 0.919\n",
            "38/38 [==============================] - 11s 277ms/step - loss: 7.8408 - val_loss: 9.0813\n",
            "Epoch 27/1000\n",
            "38/38 [==============================] - ETA: 0s - loss: 7.7600F-measure: 0.749 vs 0.767\n",
            "Error rate: 0.351 vs 0.351\n",
            "Accuracy: 0.910\n",
            "38/38 [==============================] - 10s 273ms/step - loss: 7.7600 - val_loss: 9.2481\n",
            "Epoch 28/1000\n",
            "38/38 [==============================] - ETA: 0s - loss: 7.5430F-measure: 0.790 vs 0.790\n",
            "Error rate: 0.303 vs 0.303\n",
            "Accuracy: 0.923\n",
            "38/38 [==============================] - 11s 283ms/step - loss: 7.5430 - val_loss: 8.4303\n",
            "Epoch 29/1000\n",
            "38/38 [==============================] - ETA: 0s - loss: 7.3845F-measure: 0.774 vs 0.790\n",
            "Error rate: 0.336 vs 0.303\n",
            "Accuracy: 0.917\n",
            "38/38 [==============================] - 10s 267ms/step - loss: 7.3845 - val_loss: 8.4372\n",
            "Epoch 30/1000\n",
            "38/38 [==============================] - ETA: 0s - loss: 7.3084F-measure: 0.749 vs 0.790\n",
            "Error rate: 0.347 vs 0.303\n",
            "Accuracy: 0.906\n",
            "38/38 [==============================] - 10s 268ms/step - loss: 7.3084 - val_loss: 8.6949\n",
            "Epoch 31/1000\n",
            "38/38 [==============================] - ETA: 0s - loss: 6.9700F-measure: 0.756 vs 0.790\n",
            "Error rate: 0.346 vs 0.303\n",
            "Accuracy: 0.914\n",
            "38/38 [==============================] - 10s 266ms/step - loss: 6.9700 - val_loss: 8.2911\n",
            "Epoch 32/1000\n",
            "38/38 [==============================] - ETA: 0s - loss: 6.6271F-measure: 0.755 vs 0.790\n",
            "Error rate: 0.348 vs 0.303\n",
            "Accuracy: 0.912\n",
            "38/38 [==============================] - 10s 266ms/step - loss: 6.6271 - val_loss: 7.7191\n",
            "Epoch 33/1000\n",
            "38/38 [==============================] - ETA: 0s - loss: 6.4671F-measure: 0.757 vs 0.790\n",
            "Error rate: 0.351 vs 0.303\n",
            "Accuracy: 0.911\n",
            "38/38 [==============================] - 10s 272ms/step - loss: 6.4671 - val_loss: 8.6197\n",
            "Epoch 34/1000\n",
            "38/38 [==============================] - ETA: 0s - loss: 6.3812F-measure: 0.810 vs 0.810\n",
            "Error rate: 0.281 vs 0.281\n",
            "Accuracy: 0.932\n",
            "38/38 [==============================] - 11s 282ms/step - loss: 6.3812 - val_loss: 7.4498\n",
            "Epoch 35/1000\n",
            "38/38 [==============================] - ETA: 0s - loss: 6.2963F-measure: 0.752 vs 0.810\n",
            "Error rate: 0.337 vs 0.281\n",
            "Accuracy: 0.907\n",
            "38/38 [==============================] - 14s 364ms/step - loss: 6.2963 - val_loss: 7.5937\n",
            "Epoch 36/1000\n",
            "38/38 [==============================] - ETA: 0s - loss: 6.2724F-measure: 0.796 vs 0.810\n",
            "Error rate: 0.313 vs 0.281\n",
            "Accuracy: 0.928\n",
            "38/38 [==============================] - 12s 306ms/step - loss: 6.2724 - val_loss: 7.2741\n",
            "Epoch 37/1000\n",
            "38/38 [==============================] - ETA: 0s - loss: 6.1628F-measure: 0.785 vs 0.810\n",
            "Error rate: 0.314 vs 0.281\n",
            "Accuracy: 0.918\n",
            "38/38 [==============================] - 12s 307ms/step - loss: 6.1628 - val_loss: 7.5416\n",
            "Epoch 38/1000\n",
            "38/38 [==============================] - ETA: 0s - loss: 5.9991F-measure: 0.721 vs 0.810\n",
            "Error rate: 0.397 vs 0.281\n",
            "Accuracy: 0.893\n",
            "38/38 [==============================] - 12s 315ms/step - loss: 5.9991 - val_loss: 8.4065\n",
            "Epoch 39/1000\n",
            "38/38 [==============================] - ETA: 0s - loss: 5.9743F-measure: 0.783 vs 0.810\n",
            "Error rate: 0.316 vs 0.281\n",
            "Accuracy: 0.919\n",
            "38/38 [==============================] - 12s 321ms/step - loss: 5.9743 - val_loss: 6.9380\n",
            "Epoch 40/1000\n",
            "38/38 [==============================] - ETA: 0s - loss: 5.7902F-measure: 0.770 vs 0.810\n",
            "Error rate: 0.322 vs 0.281\n",
            "Accuracy: 0.916\n",
            "38/38 [==============================] - 11s 298ms/step - loss: 5.7902 - val_loss: 7.2962\n",
            "Epoch 41/1000\n",
            "38/38 [==============================] - ETA: 0s - loss: 5.8276F-measure: 0.759 vs 0.810\n",
            "Error rate: 0.340 vs 0.281\n",
            "Accuracy: 0.912\n",
            "38/38 [==============================] - 11s 293ms/step - loss: 5.8276 - val_loss: 7.2955\n",
            "Epoch 42/1000\n",
            "38/38 [==============================] - ETA: 0s - loss: 5.6312F-measure: 0.773 vs 0.810\n",
            "Error rate: 0.314 vs 0.281\n",
            "Accuracy: 0.915\n",
            "38/38 [==============================] - 10s 270ms/step - loss: 5.6312 - val_loss: 7.2340\n",
            "Epoch 43/1000\n",
            "38/38 [==============================] - ETA: 0s - loss: 5.5872F-measure: 0.765 vs 0.810\n",
            "Error rate: 0.326 vs 0.281\n",
            "Accuracy: 0.913\n",
            "38/38 [==============================] - 10s 272ms/step - loss: 5.5872 - val_loss: 6.9170\n",
            "Epoch 44/1000\n",
            "38/38 [==============================] - ETA: 0s - loss: 5.5003F-measure: 0.791 vs 0.810\n",
            "Error rate: 0.303 vs 0.281\n",
            "Accuracy: 0.922\n",
            "38/38 [==============================] - 10s 268ms/step - loss: 5.5003 - val_loss: 6.7360\n",
            "Epoch 45/1000\n",
            "11/38 [=======>......................] - ETA: 5s - loss: 5.2974"
          ]
        }
      ],
      "source": [
        "model.fit(training_generator, validation_data=validation_generator, epochs=1000, callbacks=[KerasFinalCallback()], verbose=1)"
      ]
    },
    {
      "cell_type": "markdown",
      "source": [
        "## Evaluation"
      ],
      "metadata": {
        "id": "FFMMWWnQYBmH"
      }
    },
    {
      "cell_type": "code",
      "execution_count": null,
      "metadata": {
        "id": "DW9yg4UgEqP5"
      },
      "outputs": [],
      "source": [
        "loss = model.evaluate(test_generator)\n",
        "print('loss:', loss)"
      ]
    },
    {
      "cell_type": "code",
      "source": [],
      "metadata": {
        "id": "UDcq48araob_"
      },
      "execution_count": null,
      "outputs": []
    }
  ],
  "metadata": {
    "colab": {
      "provenance": [],
      "collapsed_sections": [
        "Brz0EadJPB3x",
        "FifsHloPPIAw",
        "bkRc04QOHwA3"
      ],
      "toc_visible": true
    },
    "gpuClass": "standard",
    "kernelspec": {
      "display_name": "Python 3 (ipykernel)",
      "language": "python",
      "name": "python3"
    },
    "language_info": {
      "codemirror_mode": {
        "name": "ipython",
        "version": 3
      },
      "file_extension": ".py",
      "mimetype": "text/x-python",
      "name": "python",
      "nbconvert_exporter": "python",
      "pygments_lexer": "ipython3",
      "version": "3.9.12"
    }
  },
  "nbformat": 4,
  "nbformat_minor": 0
}