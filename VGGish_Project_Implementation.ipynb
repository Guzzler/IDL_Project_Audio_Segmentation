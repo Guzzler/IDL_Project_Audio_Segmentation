{
  "cells": [
    {
      "cell_type": "markdown",
      "metadata": {
        "id": "iB1i1GWBHMtA"
      },
      "source": [
        "# Installs\n"
      ]
    },
    {
      "cell_type": "code",
      "source": [
        "!git clone https://github.com/DemisEom/SpecAugment.git\n",
        "!pip install /content/SpecAugment/ --quiet\n",
        "!pip install tensorflow-addons --quiet\n",
        "!pip install sed_eval --quiet"
      ],
      "metadata": {
        "colab": {
          "base_uri": "https://localhost:8080/"
        },
        "id": "qUWVyTy1Z2AW",
        "outputId": "97e1fcc2-84bd-4a83-b875-ba8244cca9ea"
      },
      "execution_count": 66,
      "outputs": [
        {
          "output_type": "stream",
          "name": "stdout",
          "text": [
            "Cloning into 'SpecAugment'...\n",
            "remote: Enumerating objects: 271, done.\u001b[K\n",
            "remote: Total 271 (delta 0), reused 0 (delta 0), pack-reused 271\u001b[K\n",
            "Receiving objects: 100% (271/271), 429.45 KiB | 1.43 MiB/s, done.\n",
            "Resolving deltas: 100% (150/150), done.\n",
            "  Preparing metadata (setup.py) ... \u001b[?25l\u001b[?25hdone\n",
            "  Building wheel for SpecAugment (setup.py) ... \u001b[?25l\u001b[?25hdone\n",
            "\u001b[31mERROR: Operation cancelled by user\u001b[0m\u001b[31m\n",
            "\u001b[0m"
          ]
        }
      ]
    },
    {
      "cell_type": "code",
      "source": [
        "# install VGGish\n",
        "!pip install numpy==1.21.6 resampy==0.2.2 tensorflow==2.8.2 tf_slim==1.1.0 six soundfile --quiet\n",
        "\n",
        "# Clone TensorFlow models repo into a 'models' directory.\n",
        "!git clone https://github.com/tensorflow/models.git\n",
        "\n",
        "# Download data files into same directory as code.\n",
        "!curl -O https://storage.googleapis.com/audioset/vggish_model.ckpt\n",
        "!curl -O https://storage.googleapis.com/audioset/vggish_pca_params.npz"
      ],
      "metadata": {
        "colab": {
          "base_uri": "https://localhost:8080/",
          "height": 268
        },
        "id": "VoAIh6IotKF-",
        "outputId": "4d76421f-7afa-413a-bd5a-a4f567e8c636"
      },
      "execution_count": 70,
      "outputs": [
        {
          "output_type": "stream",
          "name": "stdout",
          "text": [
            "\u001b[2K     \u001b[90m━━━━━━━━━━━━━━━━━━━━━━━━━━━━━━━━━━━━━━━━\u001b[0m \u001b[32m15.7/15.7 MB\u001b[0m \u001b[31m27.3 MB/s\u001b[0m eta \u001b[36m0:00:00\u001b[0m\n",
            "\u001b[2K     \u001b[90m━━━━━━━━━━━━━━━━━━━━━━━━━━━━━━━━━━━━━━\u001b[0m \u001b[32m323.4/323.4 kB\u001b[0m \u001b[31m23.8 MB/s\u001b[0m eta \u001b[36m0:00:00\u001b[0m\n",
            "\u001b[?25h  Preparing metadata (setup.py) ... \u001b[?25l\u001b[?25hdone\n",
            "\u001b[2K     \u001b[90m━━━━━━━━━━━━━━━━━━━━━━━━━━━━━━━━━━━━━━━\u001b[0m \u001b[32m498.0/498.0 MB\u001b[0m \u001b[31m2.9 MB/s\u001b[0m eta \u001b[36m0:00:00\u001b[0m\n",
            "\u001b[2K     \u001b[90m━━━━━━━━━━━━━━━━━━━━━━━━━━━━━━━━━━━━━━━━\u001b[0m \u001b[32m42.6/42.6 kB\u001b[0m \u001b[31m5.1 MB/s\u001b[0m eta \u001b[36m0:00:00\u001b[0m\n",
            "\u001b[2K     \u001b[90m━━━━━━━━━━━━━━━━━━━━━━━━━━━━━━━━━━━━━━━━\u001b[0m \u001b[32m5.8/5.8 MB\u001b[0m \u001b[31m58.3 MB/s\u001b[0m eta \u001b[36m0:00:00\u001b[0m\n",
            "\u001b[2K     \u001b[90m━━━━━━━━━━━━━━━━━━━━━━━━━━━━━━━━━━━━━━━━\u001b[0m \u001b[32m1.1/1.1 MB\u001b[0m \u001b[31m56.3 MB/s\u001b[0m eta \u001b[36m0:00:00\u001b[0m\n",
            "\u001b[2K     \u001b[90m━━━━━━━━━━━━━━━━━━━━━━━━━━━━━━━━━━━━━━━━\u001b[0m \u001b[32m1.4/1.4 MB\u001b[0m \u001b[31m75.1 MB/s\u001b[0m eta \u001b[36m0:00:00\u001b[0m\n",
            "\u001b[2K     \u001b[90m━━━━━━━━━━━━━━━━━━━━━━━━━━━━━━━━━━━━━━\u001b[0m \u001b[32m462.3/462.3 kB\u001b[0m \u001b[31m41.2 MB/s\u001b[0m eta \u001b[36m0:00:00\u001b[0m\n",
            "\u001b[2K     \u001b[90m━━━━━━━━━━━━━━━━━━━━━━━━━━━━━━━━━━━━━━━━\u001b[0m \u001b[32m4.9/4.9 MB\u001b[0m \u001b[31m71.5 MB/s\u001b[0m eta \u001b[36m0:00:00\u001b[0m\n",
            "\u001b[?25h  Building wheel for resampy (setup.py) ... \u001b[?25l\u001b[?25hdone\n"
          ]
        },
        {
          "output_type": "execute_result",
          "data": {
            "text/plain": [
              "\"\\n# Clone TensorFlow models repo into a 'models' directory.\\n!git clone https://github.com/tensorflow/models.git\\n\\n# Download data files into same directory as code.\\n!curl -O https://storage.googleapis.com/audioset/vggish_model.ckpt\\n!curl -O https://storage.googleapis.com/audioset/vggish_pca_params.npz\\n\""
            ],
            "application/vnd.google.colaboratory.intrinsic+json": {
              "type": "string"
            }
          },
          "metadata": {},
          "execution_count": 70
        }
      ]
    },
    {
      "cell_type": "code",
      "source": [
        "!mv /content/vggish_model.ckpt /content/models/research/audioset/vggish\n",
        "!mv /content/vggish_pca_params.npz /content/models/research/audioset/vggish"
      ],
      "metadata": {
        "id": "I6CirVNuuGmk"
      },
      "execution_count": 64,
      "outputs": []
    },
    {
      "cell_type": "code",
      "source": [
        "%cd /content/models/research/audioset/vggish\n",
        "!python vggish_smoke_test.py\n",
        "# If we see \"Looks Good To Me\", then we're all set."
      ],
      "metadata": {
        "colab": {
          "base_uri": "https://localhost:8080/"
        },
        "id": "YlR75Je6ty9S",
        "outputId": "2ffc3e1e-5905-45ff-db84-4fa451097c6f"
      },
      "execution_count": 4,
      "outputs": [
        {
          "output_type": "stream",
          "name": "stdout",
          "text": [
            "/content/models/research/audioset/vggish\n",
            "\n",
            "Testing your install of VGGish\n",
            "\n",
            "Log Mel Spectrogram example:  [[-4.47303259 -4.29463765 -4.14939193 ... -3.97474254 -3.94778045\n",
            "  -3.78685566]\n",
            " [-4.48592983 -4.28831745 -4.13994942 ... -3.98374974 -3.94981089\n",
            "  -3.79512755]\n",
            " [-4.46165595 -4.29335712 -4.14907932 ... -3.96438562 -3.9489109\n",
            "  -3.78621325]\n",
            " ...\n",
            " [-4.46165595 -4.29335712 -4.14907932 ... -3.96438562 -3.9489109\n",
            "  -3.78621325]\n",
            " [-4.46165595 -4.29335712 -4.14907932 ... -3.96438562 -3.9489109\n",
            "  -3.78621325]\n",
            " [-4.46165595 -4.29335712 -4.14907932 ... -3.96438562 -3.9489109\n",
            "  -3.78621325]]\n",
            "2023-04-23 22:32:39.713971: W tensorflow/core/common_runtime/gpu/gpu_bfc_allocator.cc:39] Overriding allow_growth setting because the TF_FORCE_GPU_ALLOW_GROWTH environment variable is set. Original config value was 0.\n",
            "/usr/local/lib/python3.9/dist-packages/tensorflow/python/keras/engine/base_layer_v1.py:1694: UserWarning: `layer.apply` is deprecated and will be removed in a future version. Please use `layer.__call__` method instead.\n",
            "  warnings.warn('`layer.apply` is deprecated and '\n",
            "/usr/local/lib/python3.9/dist-packages/tensorflow/python/keras/legacy_tf_layers/core.py:332: UserWarning: `tf.layers.flatten` is deprecated and will be removed in a future version. Please use `tf.keras.layers.Flatten` instead.\n",
            "  warnings.warn('`tf.layers.flatten` is deprecated and '\n",
            "VGGish embedding:  [-0.43252084 -0.25330463 -0.03891954 -0.16376004 -0.34991807 -0.5993689\n",
            " -0.0565807   0.16280343 -0.75551784 -0.08260293 -0.03138596 -0.8314716\n",
            " -0.1058163  -0.01420277 -0.1107801  -0.06599124 -0.22666332  0.8060125\n",
            " -0.5645981  -0.07349268 -0.06056769 -0.11864096 -0.2629041  -0.41551593\n",
            " -0.02423161  0.36676133  0.03564942 -0.5499781  -0.00279109 -0.2898171\n",
            " -0.57134557  0.38107818  0.13668767  0.9188572   0.8064257  -0.05767347\n",
            " -0.13229492 -0.0504444  -0.2270283   0.04124296  0.70887053 -0.7266148\n",
            "  0.49566674  0.24034095  0.21580237  0.8838593   1.1954081   0.6688215\n",
            "  0.209196    0.01531449  0.17449138 -0.6544128  -0.1578797   0.25017896\n",
            " -0.26469636 -0.39900056  0.14588445 -0.18502565  0.39927047  0.30416995\n",
            "  0.12948155 -0.11220907 -0.40236872 -0.53743976 -0.3615227  -0.2129158\n",
            "  0.53718185 -0.30606103 -0.08813708  0.04871805  0.4251451   0.1866916\n",
            " -0.17835318 -0.06931384  0.14701052 -0.27585867 -0.25766486  0.69777274\n",
            "  0.45499587  0.05118275 -0.05679256  0.01915723 -0.37350497 -0.19476977\n",
            "  0.51677555  0.5659666   0.657493   -0.00181245 -0.01737322  0.40861195\n",
            " -0.19848603 -0.69805133 -0.26430026  0.25720766  0.23190142  0.23873919\n",
            " -0.12784655 -0.29127088 -0.4353106  -0.12760895 -0.3013383   0.26585343\n",
            " -0.30033347  0.48453063 -0.53912866 -0.38032633  0.19335563 -0.23140971\n",
            "  0.20179833 -0.01323922  0.0310285  -0.6103567  -0.7164682  -0.12141901\n",
            " -0.5206783   0.17772076  0.025388    0.07066452 -0.01675138 -0.1934233\n",
            " -0.13498707  0.08212728 -0.07045813 -0.10655662 -0.44430783 -0.33278295\n",
            " -0.11444893 -0.25910544]\n",
            "Postprocessed VGGish embedding:  [152  67 116 137 136 122 125  76 160 193 111  13 155  83  59   1  44 110\n",
            " 166 162 162 255 255  94  47 192 119 163 182  27  23  33 153  42 153 255\n",
            "  10  57 255   2 133 164 232 186 255 134  84  75 107 255   0 255 113   0\n",
            " 169 212  85 255  43   0 255   0   1 255 180   0  46 255  26  86  49 161\n",
            "  86 255 129 121 255 167 212 174  19   0 255 175  57 255   0 255   0 103\n",
            "   0  11 220  40 255 245   0 255  49   0 255  53 215 255  84   0  49 214\n",
            " 209   0 255   0   0   9 207   0 255   0 160 232   0 255   0 129   0 255\n",
            "   0 192]\n",
            "\n",
            "Looks Good To Me!\n",
            "\n"
          ]
        }
      ]
    },
    {
      "cell_type": "markdown",
      "source": [
        "# Imports"
      ],
      "metadata": {
        "id": "oZR-JKJRITsU"
      }
    },
    {
      "cell_type": "code",
      "execution_count": 6,
      "metadata": {
        "id": "HJjOWmynluge",
        "colab": {
          "base_uri": "https://localhost:8080/"
        },
        "outputId": "21324849-a3fe-4195-a9df-aa2d7c8984c4"
      },
      "outputs": [
        {
          "output_type": "stream",
          "name": "stdout",
          "text": [
            "/content/models/research/audioset/vggish\n"
          ]
        }
      ],
      "source": [
        "import glob\n",
        "from zipfile import ZipFile\n",
        "from tqdm import tqdm\n",
        "import csv\n",
        "import os\n",
        "import random\n",
        "import pandas as pd\n",
        "import numpy as np\n",
        "import tensorflow as tf\n",
        "%cd /content/models/research/audioset/vggish\n",
        "from vggish_input import wavfile_to_examples"
      ]
    },
    {
      "cell_type": "markdown",
      "source": [
        "# Downloads"
      ],
      "metadata": {
        "id": "v_30P2gyIWX8"
      }
    },
    {
      "cell_type": "markdown",
      "metadata": {
        "id": "5mXIf6EgcMSx"
      },
      "source": [
        "## Download Development Dataset (Train/Val) "
      ]
    },
    {
      "cell_type": "code",
      "execution_count": null,
      "metadata": {
        "id": "jFHINytpE1cf"
      },
      "outputs": [],
      "source": [
        "def download_train_data():\n",
        "  download_path = \"/content/datasetZipped/\"\n",
        "  !mkdir $download_path\n",
        "  # get first both audio set zips\n",
        "  !wget https://zenodo.org/record/814831/files/TUT-sound-events-2017-development.audio.1.zip?download=1 -O {download_path}TUT-sound-events-2017-development.audio.1.zip\n",
        "  !wget https://zenodo.org/record/814831/files/TUT-sound-events-2017-development.audio.2.zip?download=1 -O {download_path}TUT-sound-events-2017-development.audio.2.zip\n",
        "  # download labels and related metadata\n",
        "  !wget https://zenodo.org/record/814831/files/TUT-sound-events-2017-development.doc.zip?download=1 -O {download_path}TUT-sound-events-2017-development.doc.zip\n",
        "  !wget https://zenodo.org/record/814831/files/TUT-sound-events-2017-development.meta.zip?download=1 -O {download_path}TUT-sound-events-2017-development.meta.zip\n"
      ]
    },
    {
      "cell_type": "code",
      "execution_count": null,
      "metadata": {
        "colab": {
          "base_uri": "https://localhost:8080/"
        },
        "id": "E3mBEERNe24G",
        "outputId": "00cbc144-7fb4-4644-c334-9793aa828a64"
      },
      "outputs": [
        {
          "output_type": "stream",
          "name": "stdout",
          "text": [
            "mkdir: cannot create directory ‘/content/datasetZipped/’: File exists\n",
            "--2023-04-23 18:40:36--  https://zenodo.org/record/814831/files/TUT-sound-events-2017-development.audio.1.zip?download=1\n",
            "Resolving zenodo.org (zenodo.org)... 188.185.124.72\n",
            "Connecting to zenodo.org (zenodo.org)|188.185.124.72|:443... connected.\n",
            "HTTP request sent, awaiting response... 200 OK\n",
            "Length: 1062653169 (1013M) [application/octet-stream]\n",
            "Saving to: ‘/content/datasetZipped/TUT-sound-events-2017-development.audio.1.zip’\n",
            "\n",
            "/content/datasetZip 100%[===================>]   1013M  6.34MB/s    in 11m 29s \n",
            "\n",
            "2023-04-23 18:52:07 (1.47 MB/s) - ‘/content/datasetZipped/TUT-sound-events-2017-development.audio.1.zip’ saved [1062653169/1062653169]\n",
            "\n",
            "--2023-04-23 18:52:07--  https://zenodo.org/record/814831/files/TUT-sound-events-2017-development.audio.2.zip?download=1\n",
            "Resolving zenodo.org (zenodo.org)... 188.185.124.72\n",
            "Connecting to zenodo.org (zenodo.org)|188.185.124.72|:443... connected.\n",
            "HTTP request sent, awaiting response... 200 OK\n",
            "Length: 213232458 (203M) [application/octet-stream]\n",
            "Saving to: ‘/content/datasetZipped/TUT-sound-events-2017-development.audio.2.zip’\n",
            "\n",
            "/content/datasetZip 100%[===================>] 203.35M  14.5MB/s    in 3m 29s  \n",
            "\n",
            "2023-04-23 18:55:38 (996 KB/s) - ‘/content/datasetZipped/TUT-sound-events-2017-development.audio.2.zip’ saved [213232458/213232458]\n",
            "\n",
            "--2023-04-23 18:55:38--  https://zenodo.org/record/814831/files/TUT-sound-events-2017-development.doc.zip?download=1\n",
            "Resolving zenodo.org (zenodo.org)... 188.185.124.72\n",
            "Connecting to zenodo.org (zenodo.org)|188.185.124.72|:443... connected.\n",
            "HTTP request sent, awaiting response... 200 OK\n",
            "Length: 56150 (55K) [application/octet-stream]\n",
            "Saving to: ‘/content/datasetZipped/TUT-sound-events-2017-development.doc.zip’\n",
            "\n",
            "/content/datasetZip 100%[===================>]  54.83K   351KB/s    in 0.2s    \n",
            "\n",
            "2023-04-23 18:55:39 (351 KB/s) - ‘/content/datasetZipped/TUT-sound-events-2017-development.doc.zip’ saved [56150/56150]\n",
            "\n",
            "--2023-04-23 18:55:39--  https://zenodo.org/record/814831/files/TUT-sound-events-2017-development.meta.zip?download=1\n",
            "Resolving zenodo.org (zenodo.org)... 188.185.124.72\n",
            "Connecting to zenodo.org (zenodo.org)|188.185.124.72|:443... connected.\n",
            "HTTP request sent, awaiting response... 200 OK\n",
            "Length: 140684 (137K) [application/octet-stream]\n",
            "Saving to: ‘/content/datasetZipped/TUT-sound-events-2017-development.meta.zip’\n",
            "\n",
            "/content/datasetZip 100%[===================>] 137.39K   440KB/s    in 0.3s    \n",
            "\n",
            "2023-04-23 18:55:41 (440 KB/s) - ‘/content/datasetZipped/TUT-sound-events-2017-development.meta.zip’ saved [140684/140684]\n",
            "\n"
          ]
        }
      ],
      "source": [
        "# Download the actual data\n",
        "download_train_data()"
      ]
    },
    {
      "cell_type": "code",
      "execution_count": null,
      "metadata": {
        "id": "5Ow94fBufkFj"
      },
      "outputs": [],
      "source": [
        "def download_test_data():\n",
        "  download_path = \"/content/EvaluationZipped/\"\n",
        "  !mkdir $download_path\n",
        "  # get the audio set zip\n",
        "  !wget https://zenodo.org/record/1040179/files/TUT-sound-events-2017-evaluation.audio.zip?download=1 -O {download_path}TUT-sound-events-2017-evaluation.audio.zip  \n",
        "  # download labels and related metadata\n",
        "  !wget https://zenodo.org/record/1040179/files/TUT-sound-events-2017-evaluation.doc.zip?download=1 -O {download_path}TUT-sound-events-2017-evaluation.doc.zip\n",
        "  !wget https://zenodo.org/record/1040179/files/TUT-sound-events-2017-evaluation.meta.zip?download=1 -O {download_path}TUT-sound-events-2017-evaluation.meta.zip"
      ]
    },
    {
      "cell_type": "code",
      "execution_count": null,
      "metadata": {
        "colab": {
          "base_uri": "https://localhost:8080/"
        },
        "id": "rJ9L2HqAfkFj",
        "outputId": "0ae72fb9-0dac-4e27-d5d7-11c85f673d53"
      },
      "outputs": [
        {
          "output_type": "stream",
          "name": "stdout",
          "text": [
            "--2023-04-23 19:03:51--  https://zenodo.org/record/1040179/files/TUT-sound-events-2017-evaluation.audio.zip?download=1\n",
            "Resolving zenodo.org (zenodo.org)... 188.185.124.72\n",
            "Connecting to zenodo.org (zenodo.org)|188.185.124.72|:443... connected.\n",
            "HTTP request sent, awaiting response... 200 OK\n",
            "Length: 388173790 (370M) [application/octet-stream]\n",
            "Saving to: ‘/content/EvaluationZipped/TUT-sound-events-2017-evaluation.audio.zip’\n",
            "\n",
            "/content/Evaluation 100%[===================>] 370.19M  19.0MB/s    in 21s     \n",
            "\n",
            "2023-04-23 19:04:13 (17.3 MB/s) - ‘/content/EvaluationZipped/TUT-sound-events-2017-evaluation.audio.zip’ saved [388173790/388173790]\n",
            "\n",
            "--2023-04-23 19:04:14--  https://zenodo.org/record/1040179/files/TUT-sound-events-2017-evaluation.doc.zip?download=1\n",
            "Resolving zenodo.org (zenodo.org)... 188.185.124.72\n",
            "Connecting to zenodo.org (zenodo.org)|188.185.124.72|:443... connected.\n",
            "HTTP request sent, awaiting response... 200 OK\n",
            "Length: 55462 (54K) [application/octet-stream]\n",
            "Saving to: ‘/content/EvaluationZipped/TUT-sound-events-2017-evaluation.doc.zip’\n",
            "\n",
            "/content/Evaluation 100%[===================>]  54.16K   343KB/s    in 0.2s    \n",
            "\n",
            "2023-04-23 19:04:15 (343 KB/s) - ‘/content/EvaluationZipped/TUT-sound-events-2017-evaluation.doc.zip’ saved [55462/55462]\n",
            "\n",
            "--2023-04-23 19:04:15--  https://zenodo.org/record/1040179/files/TUT-sound-events-2017-evaluation.meta.zip?download=1\n",
            "Resolving zenodo.org (zenodo.org)... 188.185.124.72\n",
            "Connecting to zenodo.org (zenodo.org)|188.185.124.72|:443... connected.\n",
            "HTTP request sent, awaiting response... 200 OK\n",
            "Length: 14147 (14K) [application/octet-stream]\n",
            "Saving to: ‘/content/EvaluationZipped/TUT-sound-events-2017-evaluation.meta.zip’\n",
            "\n",
            "/content/Evaluation 100%[===================>]  13.82K  --.-KB/s    in 0s      \n",
            "\n",
            "2023-04-23 19:04:17 (185 MB/s) - ‘/content/EvaluationZipped/TUT-sound-events-2017-evaluation.meta.zip’ saved [14147/14147]\n",
            "\n"
          ]
        }
      ],
      "source": [
        "download_test_data()"
      ]
    },
    {
      "cell_type": "markdown",
      "metadata": {
        "id": "EIQ63r_RfkFj"
      },
      "source": [
        "# Preprocessing"
      ]
    },
    {
      "cell_type": "markdown",
      "metadata": {
        "id": "A_p7z3-QHotX"
      },
      "source": [
        "## Unzip data\n"
      ]
    },
    {
      "cell_type": "code",
      "execution_count": null,
      "metadata": {
        "id": "4af7CjopKs0E"
      },
      "outputs": [],
      "source": [
        "def unzip_data(download_path, extract_path):\n",
        "  # create glob\n",
        "  final_glob = glob.glob(f\"{download_path}*.zip\")\n",
        "\n",
        "  for zip_name in tqdm(final_glob):\n",
        "    with ZipFile(zip_name, 'r') as zip:\n",
        "      zip.extractall(extract_path)"
      ]
    },
    {
      "cell_type": "code",
      "execution_count": null,
      "metadata": {
        "id": "pLu4m-Q1Hnd0",
        "colab": {
          "base_uri": "https://localhost:8080/"
        },
        "outputId": "c4c54d9d-1330-48d5-8528-8992adbbabcd"
      },
      "outputs": [
        {
          "output_type": "stream",
          "name": "stderr",
          "text": [
            "100%|██████████| 4/4 [00:11<00:00,  2.77s/it]\n",
            "100%|██████████| 3/3 [00:03<00:00,  1.18s/it]\n"
          ]
        }
      ],
      "source": [
        "download_development_path = '/content/datasetZipped/'\n",
        "extract_development_path = '/content/train'\n",
        "download_test_path = '/content/EvaluationZipped/'\n",
        "extract_test_path = '/content/test'\n",
        "\n",
        "unzip_data(download_development_path, extract_development_path)\n",
        "unzip_data(download_test_path, extract_test_path)"
      ]
    },
    {
      "cell_type": "code",
      "source": [
        "# clean up folders\n",
        "\n",
        "!mv /content/train/TUT-sound-events-2017-development /content/train/train\n",
        "!mv /content/test/TUT-sound-events-2017-evaluation /content/test/test\n",
        "!mkdir /content/data\n",
        "!mv /content/train/train /content/data/train\n",
        "!mv /content/test/test /content/data/test\n",
        "!rm -r /content/test\n",
        "!rm -r /content/train"
      ],
      "metadata": {
        "id": "9Tv9CDfugnrf",
        "colab": {
          "base_uri": "https://localhost:8080/"
        },
        "outputId": "919721a0-23ad-4836-e6d9-270b2c9fc08d"
      },
      "execution_count": null,
      "outputs": [
        {
          "output_type": "stream",
          "name": "stdout",
          "text": [
            "mkdir: cannot create directory ‘/content/data’: File exists\n"
          ]
        }
      ]
    },
    {
      "cell_type": "markdown",
      "source": [
        "## Parse all annotations"
      ],
      "metadata": {
        "id": "q-G_5ltaH_B8"
      }
    },
    {
      "cell_type": "code",
      "source": [
        "path = '/content/data/train/meta/street'\n",
        "column_names = ['path', 'category', 'start_time', 'end_time', 'class', 'mixture', 'name']\n",
        "dfs = []\n",
        "\n",
        "for filename in os.listdir(path):\n",
        "    file_path = os.path.join(path, filename)\n",
        "    with open(file_path, 'r') as f:\n",
        "        lines = f.readlines()\n",
        "        data = [line.strip().split('\\t') for line in lines]\n",
        "        df = pd.DataFrame(data, columns=column_names)\n",
        "        dfs.append(df)\n",
        "\n",
        "df = pd.concat(dfs, ignore_index=True)\n",
        "wav_files = df['path'].unique()\n",
        "print(wav_files)\n",
        "\n",
        "print(df.info())\n",
        "print(df['class'].value_counts())"
      ],
      "metadata": {
        "colab": {
          "base_uri": "https://localhost:8080/"
        },
        "id": "OIKfIiMRlPXn",
        "outputId": "7d46189d-6404-4286-dae2-1c74db98d728"
      },
      "execution_count": 7,
      "outputs": [
        {
          "output_type": "stream",
          "name": "stdout",
          "text": [
            "['audio/street/a008.wav' 'audio/street/b009.wav' 'audio/street/b007.wav'\n",
            " 'audio/street/a013.wav' 'audio/street/b006.wav' 'audio/street/b008.wav'\n",
            " 'audio/street/a131.wav' 'audio/street/b094.wav' 'audio/street/a010.wav'\n",
            " 'audio/street/b098.wav' 'audio/street/a124.wav' 'audio/street/a129.wav'\n",
            " 'audio/street/b003.wav' 'audio/street/a003.wav' 'audio/street/a128.wav'\n",
            " 'audio/street/b005.wav' 'audio/street/b100.wav' 'audio/street/b093.wav'\n",
            " 'audio/street/b099.wav' 'audio/street/b095.wav' 'audio/street/a001.wav'\n",
            " 'audio/street/b091.wav' 'audio/street/a012.wav' 'audio/street/a127.wav']\n",
            "<class 'pandas.core.frame.DataFrame'>\n",
            "RangeIndex: 729 entries, 0 to 728\n",
            "Data columns (total 7 columns):\n",
            " #   Column      Non-Null Count  Dtype \n",
            "---  ------      --------------  ----- \n",
            " 0   path        729 non-null    object\n",
            " 1   category    729 non-null    object\n",
            " 2   start_time  729 non-null    object\n",
            " 3   end_time    729 non-null    object\n",
            " 4   class       729 non-null    object\n",
            " 5   mixture     729 non-null    object\n",
            " 6   name        729 non-null    object\n",
            "dtypes: object(7)\n",
            "memory usage: 40.0+ KB\n",
            "None\n",
            "car                 304\n",
            "people walking      130\n",
            "people speaking     117\n",
            "large vehicle        61\n",
            "brakes squeaking     59\n",
            "children             58\n",
            "Name: class, dtype: int64\n"
          ]
        }
      ]
    },
    {
      "cell_type": "code",
      "source": [
        "print(df.head())"
      ],
      "metadata": {
        "colab": {
          "base_uri": "https://localhost:8080/"
        },
        "id": "MKl7d4VI2dmR",
        "outputId": "4f08657e-8aa6-442a-f68c-341db0bef977"
      },
      "execution_count": 8,
      "outputs": [
        {
          "output_type": "stream",
          "name": "stdout",
          "text": [
            "                    path category start_time    end_time            class  \\\n",
            "0  audio/street/a008.wav   street   0.184586    0.469855  people speaking   \n",
            "1  audio/street/a008.wav   street  61.735534   64.957394   people walking   \n",
            "2  audio/street/a008.wav   street  63.044415   63.514269  people speaking   \n",
            "3  audio/street/a008.wav   street  86.201532  109.325089  people speaking   \n",
            "4  audio/street/a008.wav   street  148.70897  152.182538              car   \n",
            "\n",
            "   mixture  name  \n",
            "0  mixture  a008  \n",
            "1  mixture  a008  \n",
            "2  mixture  a008  \n",
            "3  mixture  a008  \n",
            "4  mixture  a008  \n"
          ]
        }
      ]
    },
    {
      "cell_type": "markdown",
      "source": [
        "Each sample in the mfcc represents 0.96 seconds of the input wav."
      ],
      "metadata": {
        "id": "1Gkvst_k0vD0"
      }
    },
    {
      "cell_type": "code",
      "source": [
        "classes = df['class'].unique()\n",
        "print('classes:', classes)"
      ],
      "metadata": {
        "colab": {
          "base_uri": "https://localhost:8080/"
        },
        "id": "hAzgqm24DBzJ",
        "outputId": "c9dc6ee4-6e28-4651-ea44-7cd271b8c0c0"
      },
      "execution_count": 9,
      "outputs": [
        {
          "output_type": "stream",
          "name": "stdout",
          "text": [
            "classes: ['people speaking' 'people walking' 'car' 'large vehicle' 'children'\n",
            " 'brakes squeaking']\n"
          ]
        }
      ]
    },
    {
      "cell_type": "markdown",
      "source": [
        "## Build dataset"
      ],
      "metadata": {
        "id": "pSiJOVZZICeP"
      }
    },
    {
      "cell_type": "code",
      "source": [
        "def get_label_vector(start_frame, end_frame, wavfile):\n",
        "  label_vector = [0] * len(classes)\n",
        "  wavfile_rows = df[df['path'] == wavfile]\n",
        "\n",
        "  # iterate over label sections in wav file\n",
        "  for index, row in wavfile_rows.iterrows():\n",
        "    start_label = float(row['start_time'])\n",
        "    end_label = float(row['end_time'])\n",
        "    class_label = row['class']\n",
        "    if end_frame >= start_label and start_frame <= end_label:\n",
        "      class_index = np.where(classes == class_label)[0][0]\n",
        "      label_vector[class_index] = 1\n",
        "  return label_vector"
      ],
      "metadata": {
        "id": "hsLirhQUEy-H"
      },
      "execution_count": 10,
      "outputs": []
    },
    {
      "cell_type": "code",
      "source": [
        "base_path = '/content/data/train/'\n",
        "STEP_SIZE = 0.96 # seconds\n",
        "examples = [] # list of (features, label) pairs\n",
        "for wavfile in tqdm(wav_files):\n",
        "  mfcc = wavfile_to_examples(base_path + wavfile)\n",
        "  timestamp = 0.0\n",
        "  frames = []\n",
        "  for frame in mfcc:\n",
        "    # add timestamps\n",
        "    start_frame = timestamp\n",
        "    end_frame = timestamp + STEP_SIZE\n",
        "    row = [frame, get_label_vector(start_frame, end_frame, wavfile)] # will be populated later\n",
        "    examples.append(row)\n",
        "    timestamp += STEP_SIZE"
      ],
      "metadata": {
        "colab": {
          "base_uri": "https://localhost:8080/"
        },
        "id": "hplfKc9Fst2a",
        "outputId": "341b9c6e-20eb-4d48-f348-9caa285c19ab"
      },
      "execution_count": 11,
      "outputs": [
        {
          "output_type": "stream",
          "name": "stderr",
          "text": [
            "100%|██████████| 24/24 [03:23<00:00,  8.47s/it]\n"
          ]
        }
      ]
    },
    {
      "cell_type": "code",
      "source": [
        "print(len(examples[0][0]), len(examples[0][0][0]))"
      ],
      "metadata": {
        "colab": {
          "base_uri": "https://localhost:8080/"
        },
        "id": "U3HMqzuK91CT",
        "outputId": "e9047bc7-d0a4-4e17-a585-ad30233aaf66"
      },
      "execution_count": 12,
      "outputs": [
        {
          "output_type": "stream",
          "name": "stdout",
          "text": [
            "96 64\n"
          ]
        }
      ]
    },
    {
      "cell_type": "markdown",
      "source": [
        "## Prepare Train, Test, Val"
      ],
      "metadata": {
        "id": "YkK9WLYKIubB"
      }
    },
    {
      "cell_type": "code",
      "source": [
        "def split_train_test(data, split=0.8):\n",
        "    num_train = int(len(data) * split)\n",
        "    train_data = data[:num_train]\n",
        "    test_data = data[num_train:]\n",
        "    return train_data, test_data"
      ],
      "metadata": {
        "id": "sDda2HRFLm1c"
      },
      "execution_count": 13,
      "outputs": []
    },
    {
      "cell_type": "code",
      "source": [
        "random.shuffle(examples)\n",
        "\n",
        "train, test = split_train_test(examples, 0.8)\n",
        "train, val = split_train_test(train, 0.8)\n",
        "X_train = [d[0] for d in train]\n",
        "y_train = [d[1] for d in train]\n",
        "X_val = [d[0] for d in val]\n",
        "y_val = [d[1] for d in val]\n",
        "X_test = [d[0] for d in test]\n",
        "y_test = [d[1] for d in test]"
      ],
      "metadata": {
        "id": "QOVVqz54It7O"
      },
      "execution_count": 20,
      "outputs": []
    },
    {
      "cell_type": "markdown",
      "source": [
        "# Training"
      ],
      "metadata": {
        "id": "rYwKfO_tNScp"
      }
    },
    {
      "cell_type": "markdown",
      "source": [
        "### Training Imports"
      ],
      "metadata": {
        "id": "JMrN8fyDNbjd"
      }
    },
    {
      "cell_type": "code",
      "source": [
        "import tensorflow.compat.v1 as tf\n",
        "import tf_slim as slim\n",
        "import matplotlib.pyplot as plt\n",
        "\n",
        "import vggish_input\n",
        "import vggish_params\n",
        "import vggish_slim\n",
        "\n",
        "from sklearn.metrics import accuracy_score, precision_score, recall_score, f1_score"
      ],
      "metadata": {
        "id": "DS3LLCyXNayA"
      },
      "execution_count": 29,
      "outputs": []
    },
    {
      "cell_type": "code",
      "source": [
        "len(X_train)"
      ],
      "metadata": {
        "colab": {
          "base_uri": "https://localhost:8080/"
        },
        "id": "3bJxj3HnO5lM",
        "outputId": "9f76b7cc-6fff-4674-906c-9ce57506bfc5"
      },
      "execution_count": 22,
      "outputs": [
        {
          "output_type": "execute_result",
          "data": {
            "text/plain": [
              "3677"
            ]
          },
          "metadata": {},
          "execution_count": 22
        }
      ]
    },
    {
      "cell_type": "code",
      "source": [
        "NUM_EPOCHS = 20\n",
        "BATCH_SIZE = 32\n",
        "NUM_BATCHES = len(X_train) // BATCH_SIZE\n",
        "CHECKPOINT_PATH = '/content/models/research/audioset/vggish/vggish_model.ckpt'"
      ],
      "metadata": {
        "id": "0595YWzLOqAi"
      },
      "execution_count": 58,
      "outputs": []
    },
    {
      "cell_type": "code",
      "source": [
        "def get_batch(i):\n",
        "  start_index = i * BATCH_SIZE\n",
        "  end_index = start_index + BATCH_SIZE\n",
        "  return X_train[start_index:end_index], y_train[start_index:end_index]"
      ],
      "metadata": {
        "id": "d80gOH7BNawL"
      },
      "execution_count": 59,
      "outputs": []
    },
    {
      "cell_type": "markdown",
      "source": [
        "Mostly copied from https://github.com/tensorflow/models/blob/ae2cf40897f19199166244397e384ca71104c5fd/research/audioset/vggish/vggish_train_demo.py (04/29/23)"
      ],
      "metadata": {
        "id": "gGxvt2X2Wd2B"
      }
    },
    {
      "cell_type": "code",
      "source": [
        "with tf.Graph().as_default(), tf.Session() as sess:\n",
        "    # Define VGGish.\n",
        "    embeddings = vggish_slim.define_vggish_slim(training=True)\n",
        "\n",
        "    # Define a shallow classification model and associated training ops on top\n",
        "    # of VGGish.\n",
        "    with tf.variable_scope('mymodel'):\n",
        "      # Add a fully connected layer with 100 units. Add an activation function\n",
        "      # to the embeddings since they are pre-activation.\n",
        "      num_units = 100\n",
        "      fc = slim.fully_connected(tf.nn.relu(embeddings), num_units)\n",
        "\n",
        "      # Add a classifier layer at the end, consisting of parallel logistic\n",
        "      # classifiers, one per class. This allows for multi-class tasks.\n",
        "      logits = slim.fully_connected(\n",
        "          fc, len(classes), activation_fn=None, scope='logits')\n",
        "      tf.sigmoid(logits, name='prediction')\n",
        "\n",
        "      # Add training ops.\n",
        "      with tf.variable_scope('train'):\n",
        "        global_step = tf.train.create_global_step()\n",
        "\n",
        "        # Labels are assumed to be fed as a batch multi-hot vectors, with\n",
        "        # a 1 in the position of each positive class label, and 0 elsewhere.\n",
        "        labels_input = tf.placeholder(\n",
        "            tf.float32, shape=(None, len(classes)), name='labels')\n",
        "\n",
        "        # Cross-entropy label loss.\n",
        "        xent = tf.nn.sigmoid_cross_entropy_with_logits(\n",
        "            logits=logits, labels=labels_input, name='xent')\n",
        "        loss = tf.reduce_mean(xent, name='loss_op')\n",
        "        tf.summary.scalar('loss', loss)\n",
        "\n",
        "        # We use the same optimizer and hyperparameters as used to train VGGish.\n",
        "        optimizer = tf.train.AdamOptimizer(\n",
        "            learning_rate=vggish_params.LEARNING_RATE,\n",
        "            epsilon=vggish_params.ADAM_EPSILON)\n",
        "        train_op = optimizer.minimize(loss, global_step=global_step)\n",
        "\n",
        "    # Initialize all variables in the model, and then load the pre-trained\n",
        "    # VGGish checkpoint.\n",
        "    sess.run(tf.global_variables_initializer())\n",
        "    vggish_slim.load_vggish_slim_checkpoint(sess, CHECKPOINT_PATH)\n",
        "\n",
        "    train_losses = []\n",
        "    val_losses = []\n",
        "    metrics_val = {'accuracy': [],\n",
        "                  'precision': [],\n",
        "                  'recall': [],\n",
        "                  'f1': []}\n",
        "    for epoch in range(NUM_EPOCHS):\n",
        "      # The training loop.\n",
        "      features_input = sess.graph.get_tensor_by_name(\n",
        "          vggish_params.INPUT_TENSOR_NAME)\n",
        "      \n",
        "      for i in range(NUM_BATCHES):\n",
        "        features, labels = get_batch(i)\n",
        "        num_steps, train_loss, _ = sess.run([global_step, loss, train_op], \n",
        "                                            feed_dict={features_input: features, \n",
        "                                                      labels_input: labels})\n",
        "        print(f'\\r[TRAIN]\\tEpoch {epoch+1}, Step {num_steps}: loss {train_loss}', end='')\n",
        "\n",
        "      print()\n",
        "      # Compute metrics on validation set\n",
        "      val_logits, val_loss = sess.run([logits, loss], \n",
        "                                      feed_dict={features_input: X_val,\n",
        "                                                labels_input: y_val})\n",
        "      val_predictions = tf.nn.sigmoid(val_logits)\n",
        "      val_predictions = sess.run(val_predictions)\n",
        "      val_predictions = np.round(val_predictions)\n",
        "      accuracy = accuracy_score(y_val, val_predictions)\n",
        "      precision = precision_score(y_val, val_predictions, average='micro')\n",
        "      recall = recall_score(y_val, val_predictions, average='micro')\n",
        "      f1 = f1_score(y_val, val_predictions, average='micro')\n",
        "\n",
        "      train_losses.append(train_loss)\n",
        "      val_losses.append(val_loss)\n",
        "      metrics_val['accuracy'].append(accuracy)\n",
        "      metrics_val['precision'].append(precision)\n",
        "      metrics_val['recall'].append(recall)\n",
        "      metrics_val['f1'].append(f1)\n",
        "      print('[VAL]\\tEpoch %d, Step %d: loss %g, accuracy %g, precision %g, recall %g, F1 %g' %\n",
        "            (epoch+1, num_steps, val_loss, accuracy, precision, recall, f1))\n"
      ],
      "metadata": {
        "colab": {
          "base_uri": "https://localhost:8080/"
        },
        "id": "dRO2-lDh0yX1",
        "outputId": "b1a1a4e8-25e6-4c79-f503-2bfb22932bf3"
      },
      "execution_count": 62,
      "outputs": [
        {
          "output_type": "stream",
          "name": "stderr",
          "text": [
            "/usr/local/lib/python3.9/dist-packages/tensorflow/python/keras/engine/base_layer_v1.py:1694: UserWarning: `layer.apply` is deprecated and will be removed in a future version. Please use `layer.__call__` method instead.\n",
            "  warnings.warn('`layer.apply` is deprecated and '\n",
            "/usr/local/lib/python3.9/dist-packages/tensorflow/python/keras/legacy_tf_layers/core.py:332: UserWarning: `tf.layers.flatten` is deprecated and will be removed in a future version. Please use `tf.keras.layers.Flatten` instead.\n",
            "  warnings.warn('`tf.layers.flatten` is deprecated and '\n"
          ]
        },
        {
          "output_type": "stream",
          "name": "stdout",
          "text": [
            "[TRAIN]\tEpoch 1, Step 113: loss 0.25791457295417786\n",
            "[VAL]\tEpoch 1, Step 113: loss 0.333063, accuracy 0.465217, precision 0.677233, recall 0.46169, F1 0.549065\n",
            "[TRAIN]\tEpoch 2, Step 227: loss 0.19232462346553802\n",
            "[VAL]\tEpoch 2, Step 227: loss 0.30183, accuracy 0.479348, precision 0.668546, recall 0.582515, F1 0.622572\n",
            "[TRAIN]\tEpoch 3, Step 341: loss 0.17144690454006195\n",
            "[VAL]\tEpoch 3, Step 341: loss 0.289397, accuracy 0.495652, precision 0.670576, recall 0.617878, F1 0.643149\n",
            "[TRAIN]\tEpoch 4, Step 455: loss 0.14823924005031586\n",
            "[VAL]\tEpoch 4, Step 455: loss 0.279646, accuracy 0.513043, precision 0.674442, recall 0.653242, F1 0.663673\n",
            "[TRAIN]\tEpoch 5, Step 569: loss 0.12406153231859207\n",
            "[VAL]\tEpoch 5, Step 569: loss 0.274502, accuracy 0.522826, precision 0.681043, recall 0.666994, F1 0.673945\n",
            "[TRAIN]\tEpoch 6, Step 683: loss 0.11233233660459518\n",
            "[VAL]\tEpoch 6, Step 683: loss 0.276091, accuracy 0.534783, precision 0.699492, recall 0.676817, F1 0.687968\n",
            "[TRAIN]\tEpoch 7, Step 797: loss 0.09443388134241104\n",
            "[VAL]\tEpoch 7, Step 797: loss 0.285257, accuracy 0.546739, precision 0.701082, recall 0.700393, F1 0.700737\n",
            "[TRAIN]\tEpoch 8, Step 911: loss 0.09548098593950272\n",
            "[VAL]\tEpoch 8, Step 911: loss 0.317577, accuracy 0.506522, precision 0.662879, recall 0.687623, F1 0.675024\n",
            "[TRAIN]\tEpoch 9, Step 1025: loss 0.06022229418158531\n",
            "[VAL]\tEpoch 9, Step 1025: loss 0.307863, accuracy 0.557609, precision 0.702335, recall 0.709234, F1 0.705767\n",
            "[TRAIN]\tEpoch 10, Step 1139: loss 0.05653220787644386\n",
            "[VAL]\tEpoch 10, Step 1139: loss 0.329648, accuracy 0.548913, precision 0.699616, recall 0.71611, F1 0.707767\n",
            "[TRAIN]\tEpoch 11, Step 1253: loss 0.033070679754018784\n",
            "[VAL]\tEpoch 11, Step 1253: loss 0.345526, accuracy 0.519565, precision 0.692458, recall 0.694499, F1 0.693477\n",
            "[TRAIN]\tEpoch 12, Step 1367: loss 0.02745278924703598\n",
            "[VAL]\tEpoch 12, Step 1367: loss 0.391116, accuracy 0.494565, precision 0.644748, recall 0.74165, F1 0.689813\n",
            "[TRAIN]\tEpoch 13, Step 1481: loss 0.03832085803151131\n",
            "[VAL]\tEpoch 13, Step 1481: loss 0.384102, accuracy 0.591304, precision 0.754478, recall 0.70334, F1 0.728012\n",
            "[TRAIN]\tEpoch 14, Step 1595: loss 0.011514480225741863\n",
            "[VAL]\tEpoch 14, Step 1595: loss 0.413847, accuracy 0.548913, precision 0.691606, recall 0.744597, F1 0.717124\n",
            "[TRAIN]\tEpoch 15, Step 1709: loss 0.01347006019204855\n",
            "[VAL]\tEpoch 15, Step 1709: loss 0.484059, accuracy 0.493478, precision 0.623108, recall 0.768173, F1 0.688077\n",
            "[TRAIN]\tEpoch 16, Step 1823: loss 0.00453942222520709\n",
            "[VAL]\tEpoch 16, Step 1823: loss 0.433012, accuracy 0.55, precision 0.711462, recall 0.707269, F1 0.70936\n",
            "[TRAIN]\tEpoch 17, Step 1937: loss 0.03308194503188133\n",
            "[VAL]\tEpoch 17, Step 1937: loss 0.451658, accuracy 0.591304, precision 0.783063, recall 0.663065, F1 0.718085\n",
            "[TRAIN]\tEpoch 18, Step 2051: loss 0.028410589322447777\n",
            "[VAL]\tEpoch 18, Step 2051: loss 0.487505, accuracy 0.580435, precision 0.778689, recall 0.653242, F1 0.71047\n",
            "[TRAIN]\tEpoch 19, Step 2165: loss 0.0014781620120629668\n",
            "[VAL]\tEpoch 19, Step 2165: loss 0.52943, accuracy 0.579348, precision 0.746187, recall 0.672888, F1 0.707645\n",
            "[TRAIN]\tEpoch 20, Step 2279: loss 0.001464826986193657\n",
            "[VAL]\tEpoch 20, Step 2279: loss 0.527346, accuracy 0.565217, precision 0.752222, recall 0.665029, F1 0.705944\n"
          ]
        }
      ]
    },
    {
      "cell_type": "code",
      "source": [
        "# Plot the training and validation losses\n",
        "plt.plot(train_losses, label='Training loss')\n",
        "plt.plot(val_losses, label='Validation loss')\n",
        "plt.legend()\n",
        "plt.title('Training and Validation Loss')\n",
        "plt.xlabel('Epoch')\n",
        "plt.ylabel('Loss')\n",
        "plt.show()\n",
        "\n",
        "# Plot the validation metrics\n",
        "plt.plot(metrics_val['accuracy'], label='Accuracy')\n",
        "plt.plot(metrics_val['precision'], label='Precision')\n",
        "plt.plot(metrics_val['recall'], label='Recall')\n",
        "plt.plot(metrics_val['f1'], label='F1 score')\n",
        "plt.legend()\n",
        "plt.title('Validation Metrics')\n",
        "plt.xlabel('Epoch')\n",
        "plt.ylabel('Score')\n",
        "plt.show()\n"
      ],
      "metadata": {
        "colab": {
          "base_uri": "https://localhost:8080/",
          "height": 927
        },
        "id": "s8NCa9wq8-1m",
        "outputId": "518edb65-1889-4c56-e4e0-48c7108d014a"
      },
      "execution_count": 63,
      "outputs": [
        {
          "output_type": "display_data",
          "data": {
            "text/plain": [
              "<Figure size 640x480 with 1 Axes>"
            ],
            "image/png": "[encoded data removed]"
          },
          "metadata": {}
        },
        {
          "output_type": "display_data",
          "data": {
            "text/plain": [
              "<Figure size 640x480 with 1 Axes>"
            ],
            "image/png": "[encoded data removed]"
          },
          "metadata": {}
        }
      ]
    },
    {
      "cell_type": "code",
      "source": [],
      "metadata": {
        "id": "XJTLgIkHaqlp"
      },
      "execution_count": null,
      "outputs": []
    }
  ],
  "metadata": {
    "colab": {
      "provenance": [],
      "collapsed_sections": [
        "iB1i1GWBHMtA",
        "5mXIf6EgcMSx",
        "A_p7z3-QHotX"
      ]
    },
    "gpuClass": "standard",
    "kernelspec": {
      "display_name": "Python 3 (ipykernel)",
      "language": "python",
      "name": "python3"
    },
    "language_info": {
      "codemirror_mode": {
        "name": "ipython",
        "version": 3
      },
      "file_extension": ".py",
      "mimetype": "text/x-python",
      "name": "python",
      "nbconvert_exporter": "python",
      "pygments_lexer": "ipython3",
      "version": "3.9.12"
    },
    "accelerator": "GPU"
  },
  "nbformat": 4,
  "nbformat_minor": 0
}