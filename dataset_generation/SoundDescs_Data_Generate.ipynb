{
  "nbformat": 4,
  "nbformat_minor": 0,
  "metadata": {
    "colab": {
      "provenance": [],
      "mount_file_id": "1UFFCcIu64oH-AsvfINLesyMHLSEBdsa6",
      "authorship_tag": "ABX9TyPBVNf9YmtPrqKaMTHwxhkS",
      "include_colab_link": true
    },
    "kernelspec": {
      "name": "python3",
      "display_name": "Python 3"
    },
    "language_info": {
      "name": "python"
    }
  },
  "cells": [
    {
      "cell_type": "markdown",
      "metadata": {
        "id": "view-in-github",
        "colab_type": "text"
      },
      "source": [
        "<a href=\"https://colab.research.google.com/github/Guzzler/IDL_Project_Audio_Segmentation/blob/main/SoundDescs_Data_Generate.ipynb\" target=\"_parent\"><img src=\"https://colab.research.google.com/assets/colab-badge.svg\" alt=\"Open In Colab\"/></a>"
      ]
    },
    {
      "cell_type": "markdown",
      "source": [
        "## Downloading the BBC Sound Effects Dataset\n",
        "Follow instructions at https://github.com/akoepke/audio-retrieval-benchmark"
      ],
      "metadata": {
        "id": "skn0QT6tEekZ"
      }
    },
    {
      "cell_type": "markdown",
      "source": [
        "## Clip Audios"
      ],
      "metadata": {
        "id": "wk-255XBEndY"
      }
    },
    {
      "cell_type": "code",
      "source": [
        "# Requirements\n",
        "!pip install wget zsvision pydub"
      ],
      "metadata": {
        "id": "i0QjeMSQuVO1"
      },
      "execution_count": null,
      "outputs": []
    },
    {
      "cell_type": "code",
      "source": [
        "%cd \"/content/drive/MyDrive/Spring2023/11-785 IDL\"\n",
        "# import required libraries\n",
        "from pydub import AudioSegment\n",
        "import pickle\n",
        "import os\n",
        "\n",
        "catpath = \"/content/audio-retrieval-benchmark/sounddescs_data/categories.pkl\"\n",
        "descpath = \"/content/audio-retrieval-benchmark/sounddescs_data/descriptions.pkl\"\n",
        "\n",
        "with open(catpath, \"rb\") as f:\n",
        "    categories = pickle.load(f)\n",
        "\n",
        "with open(descpath, \"rb\") as f:\n",
        "    descriptions = pickle.load(f)\n",
        "\n",
        "root = \"/content/drive/MyDrive/Spring2023/11-785 IDL/soundescdata/audios\"\n",
        "out = \"/content/drive/MyDrive/Spring2023/11-785 IDL/soundescdata/soundescs_clipped\"\n",
        "\n",
        "if not os.path.isdir(out):\n",
        "    os.mkdir(out)\n",
        "\n",
        "total_count = 0\n",
        "\n",
        "cats = dict()\n",
        "for clip_id in os.listdir(root):\n",
        "    \n",
        "    desc = descriptions[clip_id]\n",
        "    audiopath = os.path.join(root, clip_id, f'{clip_id}.wav')\n",
        "\n",
        "    for category in categories[clip_id]:\n",
        "        if \"Transport\" == category:\n",
        "            label = \"\"\n",
        "            if \"car\" in desc.lower():\n",
        "                label = \"car\"\n",
        "            elif \"aircraft\" in desc.lower():\n",
        "                label = \"aircraft\"\n",
        "            elif \"traffic\" in desc.lower():\n",
        "                label = \"traffic\"\n",
        "            elif \"tram\" in desc.lower():\n",
        "                label = \"tram\"\n",
        "            elif \"motorcycle\" in desc.lower():\n",
        "                label = \"motorcycle\"\n",
        "            elif \"train\" in desc.lower():\n",
        "                label = \"train\"\n",
        "            elif \"bus\" in desc.lower():\n",
        "                label = \"bus\"\n",
        "            else:\n",
        "                label = \"transport\"\n",
        "\n",
        "        elif \"Nature\" == category:\n",
        "            if \"Rainforest\" in desc:\n",
        "                label = \"rainforest\"\n",
        "            elif \"Frog\" in desc:\n",
        "                label = \"frog\"\n",
        "            elif \"Mallard\" in desc:\n",
        "                label = \"mallard\"\n",
        "            elif \"Honey Bee\" in desc:\n",
        "                label = \"honey bee\"\n",
        "            elif \"Horse\" in desc:\n",
        "                label = \"horse\"\n",
        "            elif \"Waterfall\" in desc:\n",
        "                label = \"waterfall\"\n",
        "            elif \"Elephant\" in desc:\n",
        "                label = \"elephant\"\n",
        "            else:\n",
        "                label = \"nature\"\n",
        "        else:\n",
        "            label = category.lower()\n",
        "\n",
        "        if label not in cats:\n",
        "            cats[label] = 0\n",
        "        cats[label] += 1\n",
        "\n",
        "        audio = AudioSegment.from_wav(audiopath)\n",
        "\n",
        "        for i in range (0, int(audio.duration_seconds), 10):\n",
        "            t = i * 1000\n",
        "            clip = audio[t: t + (10 * 1000)]\n",
        "            outdir = os.path.join(out, label)\n",
        "\n",
        "            if not os.path.isdir(outdir):\n",
        "                os.mkdir(outdir)\n",
        "\n",
        "            newpath = os.path.join(outdir, f\"{category}_{cats[label]}.wav\")\n",
        "            print(f\"Saved clip {clip_id} {i}:{i + 10} at {newpath}\")\n",
        "            clip.export(newpath, format=\"wav\") \n",
        "            total_count += 1\n",
        "\n",
        "print(cats)\n",
        "print(sum(cats.values()), total_count)"
      ],
      "metadata": {
        "id": "FXyWJp-v_tyu"
      },
      "execution_count": null,
      "outputs": []
    },
    {
      "cell_type": "code",
      "source": [
        "categories = [\"car\", \"aircraft\", \"crowds\", \"footsteps\", \"clocks\", \"rainforest\"]"
      ],
      "metadata": {
        "id": "x91z32CuPDdn"
      },
      "execution_count": null,
      "outputs": []
    },
    {
      "cell_type": "markdown",
      "source": [
        "## Create Dataset"
      ],
      "metadata": {
        "id": "HMLSPjOzEy_C"
      }
    },
    {
      "cell_type": "code",
      "source": [
        "# Combine Files\n",
        "\n",
        "import os\n",
        "import random\n",
        "from pydub import AudioSegment\n",
        "\n",
        "# Define the directory where your dataset is located\n",
        "dataset_dir = '/content/drive/MyDrive/Spring2023/11-785 IDL/soundescdata/soundescs_clipped'\n",
        "output_dir = '/content/drive/MyDrive/Spring2023/11-785 IDL/soundescdata/outputs'\n",
        "\n",
        "if not os.path.isdir(output_dir):\n",
        "  os.mkdir(output_dir)\n",
        "\n",
        "# Define the list of classes in your dataset\n",
        "classes = [\"car\", \"aircraft\", \"crowds\", \"footsteps\", \"clocks\", \"rainforest\"]  # Add more class names as needed\n",
        "print(classes)\n",
        "# Define the duration of each 10s clip in milliseconds\n",
        "clip_duration_ms = 10000\n",
        "\n",
        "# Define the duration of each 2-minute clip in milliseconds\n",
        "output_duration_ms = 120000\n",
        "\n",
        "class_dirs = [os.path.join(dataset_dir, class_name) for class_name in classes]\n",
        "audio_files = [[f for f in os.listdir(class_dir) if f.endswith('.wav')] for class_dir in class_dirs]\n",
        "\n",
        "num_generate_clips = 1000\n",
        "# Create x number of clipss\n",
        "for j in range(num_generate_clips):\n",
        "    # Create a list to store the class information\n",
        "    class_info = []\n",
        "    # Create an empty AudioSegment object to hold the combined clips from all classes\n",
        "    combined_clip = AudioSegment.silent(duration=0)\n",
        "\n",
        "    # Randomly select clips and combine them to the given clip\n",
        "    for i in range(int(output_duration_ms/clip_duration_ms)):\n",
        "        # Randomly select an audio file from the current class\n",
        "\n",
        "        class_idx = random.randint(0, len(classes)-1)\n",
        "        audio_file_idx = random.randint(0, len(audio_files[class_idx])-1)\n",
        "\n",
        "        audio_file = audio_files[class_idx][audio_file_idx]\n",
        "\n",
        "\n",
        "\n",
        "        # Load the selected audio file as an AudioSegment\n",
        "        clip = AudioSegment.from_file(os.path.join(class_dirs[class_idx], audio_file))\n",
        "\n",
        "        # Append the selected clip to the combined clip\n",
        "        combined_clip = combined_clip + clip\n",
        "\n",
        "        # Calculate the start and end times of the current class segment in milliseconds\n",
        "        segment_start_time_ms = len(combined_clip) - len(clip)\n",
        "        segment_end_time_ms = len(combined_clip)\n",
        "\n",
        "        # Add the class information to the list\n",
        "        class_info.append(f'{classes[class_idx]}\\t{segment_start_time_ms}\\t{segment_end_time_ms}')\n",
        "        # Export the combined clip to a new audio file\n",
        "    output_file = os.path.join(output_dir, f'{j}.wav')\n",
        "    combined_clip.export(output_file, format='wav')\n",
        "    print(f\"Created {j}.wav!\")\n",
        "    # Write the class information to a text file\n",
        "    output_txt_file = os.path.join(output_dir, f'{j}.txt')\n",
        "    with open(output_txt_file, 'w') as f:\n",
        "        f.write('\\n'.join(class_info))\n",
        "    print(f\"Created {j}.txt!\")\n",
        "\n",
        "\n",
        "print(f'Successfully combined clips from different classes')\n",
        "print(f'Successfully wrote class information')"
      ],
      "metadata": {
        "id": "cJrMMqWnPQyu"
      },
      "execution_count": null,
      "outputs": []
    }
  ]
}